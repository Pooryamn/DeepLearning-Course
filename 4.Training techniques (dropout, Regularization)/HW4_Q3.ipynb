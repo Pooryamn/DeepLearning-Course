{
  "nbformat": 4,
  "nbformat_minor": 0,
  "metadata": {
    "colab": {
      "name": "HW4_Q3.ipynb",
      "provenance": [],
      "collapsed_sections": []
    },
    "kernelspec": {
      "name": "python3",
      "display_name": "Python 3"
    },
    "language_info": {
      "name": "python"
    },
    "accelerator": "GPU",
    "widgets": {
      "application/vnd.jupyter.widget-state+json": {
        "a26c69b3a489431fa58e29dae5db35ad": {
          "model_module": "@jupyter-widgets/controls",
          "model_name": "HBoxModel",
          "model_module_version": "1.5.0",
          "state": {
            "_view_name": "HBoxView",
            "_dom_classes": [],
            "_model_name": "HBoxModel",
            "_view_module": "@jupyter-widgets/controls",
            "_model_module_version": "1.5.0",
            "_view_count": null,
            "_view_module_version": "1.5.0",
            "box_style": "",
            "layout": "IPY_MODEL_d2d947705d66437d8e0f0d30dbc917cb",
            "_model_module": "@jupyter-widgets/controls",
            "children": [
              "IPY_MODEL_c1b88f7e3fd64d1798a72359229e2295",
              "IPY_MODEL_996bcf2e36764a479a446b1b489af3e9",
              "IPY_MODEL_b730ba686ad042d6bf397a825b72c87b"
            ]
          }
        },
        "d2d947705d66437d8e0f0d30dbc917cb": {
          "model_module": "@jupyter-widgets/base",
          "model_name": "LayoutModel",
          "model_module_version": "1.2.0",
          "state": {
            "_view_name": "LayoutView",
            "grid_template_rows": null,
            "right": null,
            "justify_content": null,
            "_view_module": "@jupyter-widgets/base",
            "overflow": null,
            "_model_module_version": "1.2.0",
            "_view_count": null,
            "flex_flow": null,
            "width": null,
            "min_width": null,
            "border": null,
            "align_items": null,
            "bottom": null,
            "_model_module": "@jupyter-widgets/base",
            "top": null,
            "grid_column": null,
            "overflow_y": null,
            "overflow_x": null,
            "grid_auto_flow": null,
            "grid_area": null,
            "grid_template_columns": null,
            "flex": null,
            "_model_name": "LayoutModel",
            "justify_items": null,
            "grid_row": null,
            "max_height": null,
            "align_content": null,
            "visibility": null,
            "align_self": null,
            "height": null,
            "min_height": null,
            "padding": null,
            "grid_auto_rows": null,
            "grid_gap": null,
            "max_width": null,
            "order": null,
            "_view_module_version": "1.2.0",
            "grid_template_areas": null,
            "object_position": null,
            "object_fit": null,
            "grid_auto_columns": null,
            "margin": null,
            "display": null,
            "left": null
          }
        },
        "c1b88f7e3fd64d1798a72359229e2295": {
          "model_module": "@jupyter-widgets/controls",
          "model_name": "HTMLModel",
          "model_module_version": "1.5.0",
          "state": {
            "_view_name": "HTMLView",
            "style": "IPY_MODEL_90d15bbfc03f462b90282a6b4cae4ec5",
            "_dom_classes": [],
            "description": "",
            "_model_name": "HTMLModel",
            "placeholder": "​",
            "_view_module": "@jupyter-widgets/controls",
            "_model_module_version": "1.5.0",
            "value": "",
            "_view_count": null,
            "_view_module_version": "1.5.0",
            "description_tooltip": null,
            "_model_module": "@jupyter-widgets/controls",
            "layout": "IPY_MODEL_411f137c980747728a42372e858366e2"
          }
        },
        "996bcf2e36764a479a446b1b489af3e9": {
          "model_module": "@jupyter-widgets/controls",
          "model_name": "FloatProgressModel",
          "model_module_version": "1.5.0",
          "state": {
            "_view_name": "ProgressView",
            "style": "IPY_MODEL_8383b6762ba2494c83bb2ab5aec63f11",
            "_dom_classes": [],
            "description": "",
            "_model_name": "FloatProgressModel",
            "bar_style": "success",
            "max": 26421880,
            "_view_module": "@jupyter-widgets/controls",
            "_model_module_version": "1.5.0",
            "value": 26421880,
            "_view_count": null,
            "_view_module_version": "1.5.0",
            "orientation": "horizontal",
            "min": 0,
            "description_tooltip": null,
            "_model_module": "@jupyter-widgets/controls",
            "layout": "IPY_MODEL_3de135f401f542d58d2838d2e19fa6ce"
          }
        },
        "b730ba686ad042d6bf397a825b72c87b": {
          "model_module": "@jupyter-widgets/controls",
          "model_name": "HTMLModel",
          "model_module_version": "1.5.0",
          "state": {
            "_view_name": "HTMLView",
            "style": "IPY_MODEL_7650fcefec7542c2a138e5ca8c01e3d0",
            "_dom_classes": [],
            "description": "",
            "_model_name": "HTMLModel",
            "placeholder": "​",
            "_view_module": "@jupyter-widgets/controls",
            "_model_module_version": "1.5.0",
            "value": " 26422272/? [00:01&lt;00:00, 22516871.82it/s]",
            "_view_count": null,
            "_view_module_version": "1.5.0",
            "description_tooltip": null,
            "_model_module": "@jupyter-widgets/controls",
            "layout": "IPY_MODEL_242a14add2c7422c80dfa4213a2eab83"
          }
        },
        "90d15bbfc03f462b90282a6b4cae4ec5": {
          "model_module": "@jupyter-widgets/controls",
          "model_name": "DescriptionStyleModel",
          "model_module_version": "1.5.0",
          "state": {
            "_view_name": "StyleView",
            "_model_name": "DescriptionStyleModel",
            "description_width": "",
            "_view_module": "@jupyter-widgets/base",
            "_model_module_version": "1.5.0",
            "_view_count": null,
            "_view_module_version": "1.2.0",
            "_model_module": "@jupyter-widgets/controls"
          }
        },
        "411f137c980747728a42372e858366e2": {
          "model_module": "@jupyter-widgets/base",
          "model_name": "LayoutModel",
          "model_module_version": "1.2.0",
          "state": {
            "_view_name": "LayoutView",
            "grid_template_rows": null,
            "right": null,
            "justify_content": null,
            "_view_module": "@jupyter-widgets/base",
            "overflow": null,
            "_model_module_version": "1.2.0",
            "_view_count": null,
            "flex_flow": null,
            "width": null,
            "min_width": null,
            "border": null,
            "align_items": null,
            "bottom": null,
            "_model_module": "@jupyter-widgets/base",
            "top": null,
            "grid_column": null,
            "overflow_y": null,
            "overflow_x": null,
            "grid_auto_flow": null,
            "grid_area": null,
            "grid_template_columns": null,
            "flex": null,
            "_model_name": "LayoutModel",
            "justify_items": null,
            "grid_row": null,
            "max_height": null,
            "align_content": null,
            "visibility": null,
            "align_self": null,
            "height": null,
            "min_height": null,
            "padding": null,
            "grid_auto_rows": null,
            "grid_gap": null,
            "max_width": null,
            "order": null,
            "_view_module_version": "1.2.0",
            "grid_template_areas": null,
            "object_position": null,
            "object_fit": null,
            "grid_auto_columns": null,
            "margin": null,
            "display": null,
            "left": null
          }
        },
        "8383b6762ba2494c83bb2ab5aec63f11": {
          "model_module": "@jupyter-widgets/controls",
          "model_name": "ProgressStyleModel",
          "model_module_version": "1.5.0",
          "state": {
            "_view_name": "StyleView",
            "_model_name": "ProgressStyleModel",
            "description_width": "",
            "_view_module": "@jupyter-widgets/base",
            "_model_module_version": "1.5.0",
            "_view_count": null,
            "_view_module_version": "1.2.0",
            "bar_color": null,
            "_model_module": "@jupyter-widgets/controls"
          }
        },
        "3de135f401f542d58d2838d2e19fa6ce": {
          "model_module": "@jupyter-widgets/base",
          "model_name": "LayoutModel",
          "model_module_version": "1.2.0",
          "state": {
            "_view_name": "LayoutView",
            "grid_template_rows": null,
            "right": null,
            "justify_content": null,
            "_view_module": "@jupyter-widgets/base",
            "overflow": null,
            "_model_module_version": "1.2.0",
            "_view_count": null,
            "flex_flow": null,
            "width": null,
            "min_width": null,
            "border": null,
            "align_items": null,
            "bottom": null,
            "_model_module": "@jupyter-widgets/base",
            "top": null,
            "grid_column": null,
            "overflow_y": null,
            "overflow_x": null,
            "grid_auto_flow": null,
            "grid_area": null,
            "grid_template_columns": null,
            "flex": null,
            "_model_name": "LayoutModel",
            "justify_items": null,
            "grid_row": null,
            "max_height": null,
            "align_content": null,
            "visibility": null,
            "align_self": null,
            "height": null,
            "min_height": null,
            "padding": null,
            "grid_auto_rows": null,
            "grid_gap": null,
            "max_width": null,
            "order": null,
            "_view_module_version": "1.2.0",
            "grid_template_areas": null,
            "object_position": null,
            "object_fit": null,
            "grid_auto_columns": null,
            "margin": null,
            "display": null,
            "left": null
          }
        },
        "7650fcefec7542c2a138e5ca8c01e3d0": {
          "model_module": "@jupyter-widgets/controls",
          "model_name": "DescriptionStyleModel",
          "model_module_version": "1.5.0",
          "state": {
            "_view_name": "StyleView",
            "_model_name": "DescriptionStyleModel",
            "description_width": "",
            "_view_module": "@jupyter-widgets/base",
            "_model_module_version": "1.5.0",
            "_view_count": null,
            "_view_module_version": "1.2.0",
            "_model_module": "@jupyter-widgets/controls"
          }
        },
        "242a14add2c7422c80dfa4213a2eab83": {
          "model_module": "@jupyter-widgets/base",
          "model_name": "LayoutModel",
          "model_module_version": "1.2.0",
          "state": {
            "_view_name": "LayoutView",
            "grid_template_rows": null,
            "right": null,
            "justify_content": null,
            "_view_module": "@jupyter-widgets/base",
            "overflow": null,
            "_model_module_version": "1.2.0",
            "_view_count": null,
            "flex_flow": null,
            "width": null,
            "min_width": null,
            "border": null,
            "align_items": null,
            "bottom": null,
            "_model_module": "@jupyter-widgets/base",
            "top": null,
            "grid_column": null,
            "overflow_y": null,
            "overflow_x": null,
            "grid_auto_flow": null,
            "grid_area": null,
            "grid_template_columns": null,
            "flex": null,
            "_model_name": "LayoutModel",
            "justify_items": null,
            "grid_row": null,
            "max_height": null,
            "align_content": null,
            "visibility": null,
            "align_self": null,
            "height": null,
            "min_height": null,
            "padding": null,
            "grid_auto_rows": null,
            "grid_gap": null,
            "max_width": null,
            "order": null,
            "_view_module_version": "1.2.0",
            "grid_template_areas": null,
            "object_position": null,
            "object_fit": null,
            "grid_auto_columns": null,
            "margin": null,
            "display": null,
            "left": null
          }
        },
        "a3b523c21af5486fbc00238573f4b351": {
          "model_module": "@jupyter-widgets/controls",
          "model_name": "HBoxModel",
          "model_module_version": "1.5.0",
          "state": {
            "_view_name": "HBoxView",
            "_dom_classes": [],
            "_model_name": "HBoxModel",
            "_view_module": "@jupyter-widgets/controls",
            "_model_module_version": "1.5.0",
            "_view_count": null,
            "_view_module_version": "1.5.0",
            "box_style": "",
            "layout": "IPY_MODEL_5fd99b9050a44d36935fa9f824b0ddc0",
            "_model_module": "@jupyter-widgets/controls",
            "children": [
              "IPY_MODEL_b95b45c35fbd4582b97dfb569c3535c8",
              "IPY_MODEL_3eb7e6bfd9ad4c21bc2169200cd10c8a",
              "IPY_MODEL_ef9c936663fe489f99b498ba682b0eb7"
            ]
          }
        },
        "5fd99b9050a44d36935fa9f824b0ddc0": {
          "model_module": "@jupyter-widgets/base",
          "model_name": "LayoutModel",
          "model_module_version": "1.2.0",
          "state": {
            "_view_name": "LayoutView",
            "grid_template_rows": null,
            "right": null,
            "justify_content": null,
            "_view_module": "@jupyter-widgets/base",
            "overflow": null,
            "_model_module_version": "1.2.0",
            "_view_count": null,
            "flex_flow": null,
            "width": null,
            "min_width": null,
            "border": null,
            "align_items": null,
            "bottom": null,
            "_model_module": "@jupyter-widgets/base",
            "top": null,
            "grid_column": null,
            "overflow_y": null,
            "overflow_x": null,
            "grid_auto_flow": null,
            "grid_area": null,
            "grid_template_columns": null,
            "flex": null,
            "_model_name": "LayoutModel",
            "justify_items": null,
            "grid_row": null,
            "max_height": null,
            "align_content": null,
            "visibility": null,
            "align_self": null,
            "height": null,
            "min_height": null,
            "padding": null,
            "grid_auto_rows": null,
            "grid_gap": null,
            "max_width": null,
            "order": null,
            "_view_module_version": "1.2.0",
            "grid_template_areas": null,
            "object_position": null,
            "object_fit": null,
            "grid_auto_columns": null,
            "margin": null,
            "display": null,
            "left": null
          }
        },
        "b95b45c35fbd4582b97dfb569c3535c8": {
          "model_module": "@jupyter-widgets/controls",
          "model_name": "HTMLModel",
          "model_module_version": "1.5.0",
          "state": {
            "_view_name": "HTMLView",
            "style": "IPY_MODEL_d8fecd5d569a4cc28f40d2e35a4c9e55",
            "_dom_classes": [],
            "description": "",
            "_model_name": "HTMLModel",
            "placeholder": "​",
            "_view_module": "@jupyter-widgets/controls",
            "_model_module_version": "1.5.0",
            "value": "",
            "_view_count": null,
            "_view_module_version": "1.5.0",
            "description_tooltip": null,
            "_model_module": "@jupyter-widgets/controls",
            "layout": "IPY_MODEL_e8b0779ee1744559b3906bb3a9847377"
          }
        },
        "3eb7e6bfd9ad4c21bc2169200cd10c8a": {
          "model_module": "@jupyter-widgets/controls",
          "model_name": "FloatProgressModel",
          "model_module_version": "1.5.0",
          "state": {
            "_view_name": "ProgressView",
            "style": "IPY_MODEL_7b882e690ff14c81a225ebe8ed4caaf9",
            "_dom_classes": [],
            "description": "",
            "_model_name": "FloatProgressModel",
            "bar_style": "success",
            "max": 29515,
            "_view_module": "@jupyter-widgets/controls",
            "_model_module_version": "1.5.0",
            "value": 29515,
            "_view_count": null,
            "_view_module_version": "1.5.0",
            "orientation": "horizontal",
            "min": 0,
            "description_tooltip": null,
            "_model_module": "@jupyter-widgets/controls",
            "layout": "IPY_MODEL_b9bed54dc914422a9c719a82ded5daf8"
          }
        },
        "ef9c936663fe489f99b498ba682b0eb7": {
          "model_module": "@jupyter-widgets/controls",
          "model_name": "HTMLModel",
          "model_module_version": "1.5.0",
          "state": {
            "_view_name": "HTMLView",
            "style": "IPY_MODEL_c59a086a82524f98b27a70589ca89b0e",
            "_dom_classes": [],
            "description": "",
            "_model_name": "HTMLModel",
            "placeholder": "​",
            "_view_module": "@jupyter-widgets/controls",
            "_model_module_version": "1.5.0",
            "value": " 29696/? [00:00&lt;00:00, 115746.51it/s]",
            "_view_count": null,
            "_view_module_version": "1.5.0",
            "description_tooltip": null,
            "_model_module": "@jupyter-widgets/controls",
            "layout": "IPY_MODEL_b58526957d1b4754a412b86ebf08a229"
          }
        },
        "d8fecd5d569a4cc28f40d2e35a4c9e55": {
          "model_module": "@jupyter-widgets/controls",
          "model_name": "DescriptionStyleModel",
          "model_module_version": "1.5.0",
          "state": {
            "_view_name": "StyleView",
            "_model_name": "DescriptionStyleModel",
            "description_width": "",
            "_view_module": "@jupyter-widgets/base",
            "_model_module_version": "1.5.0",
            "_view_count": null,
            "_view_module_version": "1.2.0",
            "_model_module": "@jupyter-widgets/controls"
          }
        },
        "e8b0779ee1744559b3906bb3a9847377": {
          "model_module": "@jupyter-widgets/base",
          "model_name": "LayoutModel",
          "model_module_version": "1.2.0",
          "state": {
            "_view_name": "LayoutView",
            "grid_template_rows": null,
            "right": null,
            "justify_content": null,
            "_view_module": "@jupyter-widgets/base",
            "overflow": null,
            "_model_module_version": "1.2.0",
            "_view_count": null,
            "flex_flow": null,
            "width": null,
            "min_width": null,
            "border": null,
            "align_items": null,
            "bottom": null,
            "_model_module": "@jupyter-widgets/base",
            "top": null,
            "grid_column": null,
            "overflow_y": null,
            "overflow_x": null,
            "grid_auto_flow": null,
            "grid_area": null,
            "grid_template_columns": null,
            "flex": null,
            "_model_name": "LayoutModel",
            "justify_items": null,
            "grid_row": null,
            "max_height": null,
            "align_content": null,
            "visibility": null,
            "align_self": null,
            "height": null,
            "min_height": null,
            "padding": null,
            "grid_auto_rows": null,
            "grid_gap": null,
            "max_width": null,
            "order": null,
            "_view_module_version": "1.2.0",
            "grid_template_areas": null,
            "object_position": null,
            "object_fit": null,
            "grid_auto_columns": null,
            "margin": null,
            "display": null,
            "left": null
          }
        },
        "7b882e690ff14c81a225ebe8ed4caaf9": {
          "model_module": "@jupyter-widgets/controls",
          "model_name": "ProgressStyleModel",
          "model_module_version": "1.5.0",
          "state": {
            "_view_name": "StyleView",
            "_model_name": "ProgressStyleModel",
            "description_width": "",
            "_view_module": "@jupyter-widgets/base",
            "_model_module_version": "1.5.0",
            "_view_count": null,
            "_view_module_version": "1.2.0",
            "bar_color": null,
            "_model_module": "@jupyter-widgets/controls"
          }
        },
        "b9bed54dc914422a9c719a82ded5daf8": {
          "model_module": "@jupyter-widgets/base",
          "model_name": "LayoutModel",
          "model_module_version": "1.2.0",
          "state": {
            "_view_name": "LayoutView",
            "grid_template_rows": null,
            "right": null,
            "justify_content": null,
            "_view_module": "@jupyter-widgets/base",
            "overflow": null,
            "_model_module_version": "1.2.0",
            "_view_count": null,
            "flex_flow": null,
            "width": null,
            "min_width": null,
            "border": null,
            "align_items": null,
            "bottom": null,
            "_model_module": "@jupyter-widgets/base",
            "top": null,
            "grid_column": null,
            "overflow_y": null,
            "overflow_x": null,
            "grid_auto_flow": null,
            "grid_area": null,
            "grid_template_columns": null,
            "flex": null,
            "_model_name": "LayoutModel",
            "justify_items": null,
            "grid_row": null,
            "max_height": null,
            "align_content": null,
            "visibility": null,
            "align_self": null,
            "height": null,
            "min_height": null,
            "padding": null,
            "grid_auto_rows": null,
            "grid_gap": null,
            "max_width": null,
            "order": null,
            "_view_module_version": "1.2.0",
            "grid_template_areas": null,
            "object_position": null,
            "object_fit": null,
            "grid_auto_columns": null,
            "margin": null,
            "display": null,
            "left": null
          }
        },
        "c59a086a82524f98b27a70589ca89b0e": {
          "model_module": "@jupyter-widgets/controls",
          "model_name": "DescriptionStyleModel",
          "model_module_version": "1.5.0",
          "state": {
            "_view_name": "StyleView",
            "_model_name": "DescriptionStyleModel",
            "description_width": "",
            "_view_module": "@jupyter-widgets/base",
            "_model_module_version": "1.5.0",
            "_view_count": null,
            "_view_module_version": "1.2.0",
            "_model_module": "@jupyter-widgets/controls"
          }
        },
        "b58526957d1b4754a412b86ebf08a229": {
          "model_module": "@jupyter-widgets/base",
          "model_name": "LayoutModel",
          "model_module_version": "1.2.0",
          "state": {
            "_view_name": "LayoutView",
            "grid_template_rows": null,
            "right": null,
            "justify_content": null,
            "_view_module": "@jupyter-widgets/base",
            "overflow": null,
            "_model_module_version": "1.2.0",
            "_view_count": null,
            "flex_flow": null,
            "width": null,
            "min_width": null,
            "border": null,
            "align_items": null,
            "bottom": null,
            "_model_module": "@jupyter-widgets/base",
            "top": null,
            "grid_column": null,
            "overflow_y": null,
            "overflow_x": null,
            "grid_auto_flow": null,
            "grid_area": null,
            "grid_template_columns": null,
            "flex": null,
            "_model_name": "LayoutModel",
            "justify_items": null,
            "grid_row": null,
            "max_height": null,
            "align_content": null,
            "visibility": null,
            "align_self": null,
            "height": null,
            "min_height": null,
            "padding": null,
            "grid_auto_rows": null,
            "grid_gap": null,
            "max_width": null,
            "order": null,
            "_view_module_version": "1.2.0",
            "grid_template_areas": null,
            "object_position": null,
            "object_fit": null,
            "grid_auto_columns": null,
            "margin": null,
            "display": null,
            "left": null
          }
        },
        "f7305c0e35e34c92bfb13698a569555d": {
          "model_module": "@jupyter-widgets/controls",
          "model_name": "HBoxModel",
          "model_module_version": "1.5.0",
          "state": {
            "_view_name": "HBoxView",
            "_dom_classes": [],
            "_model_name": "HBoxModel",
            "_view_module": "@jupyter-widgets/controls",
            "_model_module_version": "1.5.0",
            "_view_count": null,
            "_view_module_version": "1.5.0",
            "box_style": "",
            "layout": "IPY_MODEL_f3baf33b052644c580e737bd55edabbf",
            "_model_module": "@jupyter-widgets/controls",
            "children": [
              "IPY_MODEL_2586537634674e608b726a18e368aeba",
              "IPY_MODEL_64335b3879104cc2892ef0c5585ab37d",
              "IPY_MODEL_119ca9fef1bb427cbbd77c58ff332f07"
            ]
          }
        },
        "f3baf33b052644c580e737bd55edabbf": {
          "model_module": "@jupyter-widgets/base",
          "model_name": "LayoutModel",
          "model_module_version": "1.2.0",
          "state": {
            "_view_name": "LayoutView",
            "grid_template_rows": null,
            "right": null,
            "justify_content": null,
            "_view_module": "@jupyter-widgets/base",
            "overflow": null,
            "_model_module_version": "1.2.0",
            "_view_count": null,
            "flex_flow": null,
            "width": null,
            "min_width": null,
            "border": null,
            "align_items": null,
            "bottom": null,
            "_model_module": "@jupyter-widgets/base",
            "top": null,
            "grid_column": null,
            "overflow_y": null,
            "overflow_x": null,
            "grid_auto_flow": null,
            "grid_area": null,
            "grid_template_columns": null,
            "flex": null,
            "_model_name": "LayoutModel",
            "justify_items": null,
            "grid_row": null,
            "max_height": null,
            "align_content": null,
            "visibility": null,
            "align_self": null,
            "height": null,
            "min_height": null,
            "padding": null,
            "grid_auto_rows": null,
            "grid_gap": null,
            "max_width": null,
            "order": null,
            "_view_module_version": "1.2.0",
            "grid_template_areas": null,
            "object_position": null,
            "object_fit": null,
            "grid_auto_columns": null,
            "margin": null,
            "display": null,
            "left": null
          }
        },
        "2586537634674e608b726a18e368aeba": {
          "model_module": "@jupyter-widgets/controls",
          "model_name": "HTMLModel",
          "model_module_version": "1.5.0",
          "state": {
            "_view_name": "HTMLView",
            "style": "IPY_MODEL_2a4d6a784a0a480bbffeec332db1ccad",
            "_dom_classes": [],
            "description": "",
            "_model_name": "HTMLModel",
            "placeholder": "​",
            "_view_module": "@jupyter-widgets/controls",
            "_model_module_version": "1.5.0",
            "value": "",
            "_view_count": null,
            "_view_module_version": "1.5.0",
            "description_tooltip": null,
            "_model_module": "@jupyter-widgets/controls",
            "layout": "IPY_MODEL_6bf07a7514e94a6bb49f62711ad2c844"
          }
        },
        "64335b3879104cc2892ef0c5585ab37d": {
          "model_module": "@jupyter-widgets/controls",
          "model_name": "FloatProgressModel",
          "model_module_version": "1.5.0",
          "state": {
            "_view_name": "ProgressView",
            "style": "IPY_MODEL_8e4b7d5689f141d8a60be023fd2bfa6a",
            "_dom_classes": [],
            "description": "",
            "_model_name": "FloatProgressModel",
            "bar_style": "success",
            "max": 4422102,
            "_view_module": "@jupyter-widgets/controls",
            "_model_module_version": "1.5.0",
            "value": 4422102,
            "_view_count": null,
            "_view_module_version": "1.5.0",
            "orientation": "horizontal",
            "min": 0,
            "description_tooltip": null,
            "_model_module": "@jupyter-widgets/controls",
            "layout": "IPY_MODEL_e8d9261e19e9410490d792298723bc19"
          }
        },
        "119ca9fef1bb427cbbd77c58ff332f07": {
          "model_module": "@jupyter-widgets/controls",
          "model_name": "HTMLModel",
          "model_module_version": "1.5.0",
          "state": {
            "_view_name": "HTMLView",
            "style": "IPY_MODEL_65b0c2f13544406dbc61bc7e5ce7ae70",
            "_dom_classes": [],
            "description": "",
            "_model_name": "HTMLModel",
            "placeholder": "​",
            "_view_module": "@jupyter-widgets/controls",
            "_model_module_version": "1.5.0",
            "value": " 4422656/? [00:00&lt;00:00, 7461544.56it/s]",
            "_view_count": null,
            "_view_module_version": "1.5.0",
            "description_tooltip": null,
            "_model_module": "@jupyter-widgets/controls",
            "layout": "IPY_MODEL_344591f0de8f4a16a61ebbdaf3c84c96"
          }
        },
        "2a4d6a784a0a480bbffeec332db1ccad": {
          "model_module": "@jupyter-widgets/controls",
          "model_name": "DescriptionStyleModel",
          "model_module_version": "1.5.0",
          "state": {
            "_view_name": "StyleView",
            "_model_name": "DescriptionStyleModel",
            "description_width": "",
            "_view_module": "@jupyter-widgets/base",
            "_model_module_version": "1.5.0",
            "_view_count": null,
            "_view_module_version": "1.2.0",
            "_model_module": "@jupyter-widgets/controls"
          }
        },
        "6bf07a7514e94a6bb49f62711ad2c844": {
          "model_module": "@jupyter-widgets/base",
          "model_name": "LayoutModel",
          "model_module_version": "1.2.0",
          "state": {
            "_view_name": "LayoutView",
            "grid_template_rows": null,
            "right": null,
            "justify_content": null,
            "_view_module": "@jupyter-widgets/base",
            "overflow": null,
            "_model_module_version": "1.2.0",
            "_view_count": null,
            "flex_flow": null,
            "width": null,
            "min_width": null,
            "border": null,
            "align_items": null,
            "bottom": null,
            "_model_module": "@jupyter-widgets/base",
            "top": null,
            "grid_column": null,
            "overflow_y": null,
            "overflow_x": null,
            "grid_auto_flow": null,
            "grid_area": null,
            "grid_template_columns": null,
            "flex": null,
            "_model_name": "LayoutModel",
            "justify_items": null,
            "grid_row": null,
            "max_height": null,
            "align_content": null,
            "visibility": null,
            "align_self": null,
            "height": null,
            "min_height": null,
            "padding": null,
            "grid_auto_rows": null,
            "grid_gap": null,
            "max_width": null,
            "order": null,
            "_view_module_version": "1.2.0",
            "grid_template_areas": null,
            "object_position": null,
            "object_fit": null,
            "grid_auto_columns": null,
            "margin": null,
            "display": null,
            "left": null
          }
        },
        "8e4b7d5689f141d8a60be023fd2bfa6a": {
          "model_module": "@jupyter-widgets/controls",
          "model_name": "ProgressStyleModel",
          "model_module_version": "1.5.0",
          "state": {
            "_view_name": "StyleView",
            "_model_name": "ProgressStyleModel",
            "description_width": "",
            "_view_module": "@jupyter-widgets/base",
            "_model_module_version": "1.5.0",
            "_view_count": null,
            "_view_module_version": "1.2.0",
            "bar_color": null,
            "_model_module": "@jupyter-widgets/controls"
          }
        },
        "e8d9261e19e9410490d792298723bc19": {
          "model_module": "@jupyter-widgets/base",
          "model_name": "LayoutModel",
          "model_module_version": "1.2.0",
          "state": {
            "_view_name": "LayoutView",
            "grid_template_rows": null,
            "right": null,
            "justify_content": null,
            "_view_module": "@jupyter-widgets/base",
            "overflow": null,
            "_model_module_version": "1.2.0",
            "_view_count": null,
            "flex_flow": null,
            "width": null,
            "min_width": null,
            "border": null,
            "align_items": null,
            "bottom": null,
            "_model_module": "@jupyter-widgets/base",
            "top": null,
            "grid_column": null,
            "overflow_y": null,
            "overflow_x": null,
            "grid_auto_flow": null,
            "grid_area": null,
            "grid_template_columns": null,
            "flex": null,
            "_model_name": "LayoutModel",
            "justify_items": null,
            "grid_row": null,
            "max_height": null,
            "align_content": null,
            "visibility": null,
            "align_self": null,
            "height": null,
            "min_height": null,
            "padding": null,
            "grid_auto_rows": null,
            "grid_gap": null,
            "max_width": null,
            "order": null,
            "_view_module_version": "1.2.0",
            "grid_template_areas": null,
            "object_position": null,
            "object_fit": null,
            "grid_auto_columns": null,
            "margin": null,
            "display": null,
            "left": null
          }
        },
        "65b0c2f13544406dbc61bc7e5ce7ae70": {
          "model_module": "@jupyter-widgets/controls",
          "model_name": "DescriptionStyleModel",
          "model_module_version": "1.5.0",
          "state": {
            "_view_name": "StyleView",
            "_model_name": "DescriptionStyleModel",
            "description_width": "",
            "_view_module": "@jupyter-widgets/base",
            "_model_module_version": "1.5.0",
            "_view_count": null,
            "_view_module_version": "1.2.0",
            "_model_module": "@jupyter-widgets/controls"
          }
        },
        "344591f0de8f4a16a61ebbdaf3c84c96": {
          "model_module": "@jupyter-widgets/base",
          "model_name": "LayoutModel",
          "model_module_version": "1.2.0",
          "state": {
            "_view_name": "LayoutView",
            "grid_template_rows": null,
            "right": null,
            "justify_content": null,
            "_view_module": "@jupyter-widgets/base",
            "overflow": null,
            "_model_module_version": "1.2.0",
            "_view_count": null,
            "flex_flow": null,
            "width": null,
            "min_width": null,
            "border": null,
            "align_items": null,
            "bottom": null,
            "_model_module": "@jupyter-widgets/base",
            "top": null,
            "grid_column": null,
            "overflow_y": null,
            "overflow_x": null,
            "grid_auto_flow": null,
            "grid_area": null,
            "grid_template_columns": null,
            "flex": null,
            "_model_name": "LayoutModel",
            "justify_items": null,
            "grid_row": null,
            "max_height": null,
            "align_content": null,
            "visibility": null,
            "align_self": null,
            "height": null,
            "min_height": null,
            "padding": null,
            "grid_auto_rows": null,
            "grid_gap": null,
            "max_width": null,
            "order": null,
            "_view_module_version": "1.2.0",
            "grid_template_areas": null,
            "object_position": null,
            "object_fit": null,
            "grid_auto_columns": null,
            "margin": null,
            "display": null,
            "left": null
          }
        },
        "3ea801ebbace470aac452698d282b11b": {
          "model_module": "@jupyter-widgets/controls",
          "model_name": "HBoxModel",
          "model_module_version": "1.5.0",
          "state": {
            "_view_name": "HBoxView",
            "_dom_classes": [],
            "_model_name": "HBoxModel",
            "_view_module": "@jupyter-widgets/controls",
            "_model_module_version": "1.5.0",
            "_view_count": null,
            "_view_module_version": "1.5.0",
            "box_style": "",
            "layout": "IPY_MODEL_9e1cbc77f24d452c9ab34da3b1edc581",
            "_model_module": "@jupyter-widgets/controls",
            "children": [
              "IPY_MODEL_77ac78fc33d2471296f15dcaa10bff8c",
              "IPY_MODEL_20144fc1254a4654bceface375a1a601",
              "IPY_MODEL_a323a5b371594678ac910a5853eb0e27"
            ]
          }
        },
        "9e1cbc77f24d452c9ab34da3b1edc581": {
          "model_module": "@jupyter-widgets/base",
          "model_name": "LayoutModel",
          "model_module_version": "1.2.0",
          "state": {
            "_view_name": "LayoutView",
            "grid_template_rows": null,
            "right": null,
            "justify_content": null,
            "_view_module": "@jupyter-widgets/base",
            "overflow": null,
            "_model_module_version": "1.2.0",
            "_view_count": null,
            "flex_flow": null,
            "width": null,
            "min_width": null,
            "border": null,
            "align_items": null,
            "bottom": null,
            "_model_module": "@jupyter-widgets/base",
            "top": null,
            "grid_column": null,
            "overflow_y": null,
            "overflow_x": null,
            "grid_auto_flow": null,
            "grid_area": null,
            "grid_template_columns": null,
            "flex": null,
            "_model_name": "LayoutModel",
            "justify_items": null,
            "grid_row": null,
            "max_height": null,
            "align_content": null,
            "visibility": null,
            "align_self": null,
            "height": null,
            "min_height": null,
            "padding": null,
            "grid_auto_rows": null,
            "grid_gap": null,
            "max_width": null,
            "order": null,
            "_view_module_version": "1.2.0",
            "grid_template_areas": null,
            "object_position": null,
            "object_fit": null,
            "grid_auto_columns": null,
            "margin": null,
            "display": null,
            "left": null
          }
        },
        "77ac78fc33d2471296f15dcaa10bff8c": {
          "model_module": "@jupyter-widgets/controls",
          "model_name": "HTMLModel",
          "model_module_version": "1.5.0",
          "state": {
            "_view_name": "HTMLView",
            "style": "IPY_MODEL_0a9c8bc7bd244d03a05cc65453c97a4c",
            "_dom_classes": [],
            "description": "",
            "_model_name": "HTMLModel",
            "placeholder": "​",
            "_view_module": "@jupyter-widgets/controls",
            "_model_module_version": "1.5.0",
            "value": "",
            "_view_count": null,
            "_view_module_version": "1.5.0",
            "description_tooltip": null,
            "_model_module": "@jupyter-widgets/controls",
            "layout": "IPY_MODEL_ce6c22cb0e8542e0a39699fb4f1e784f"
          }
        },
        "20144fc1254a4654bceface375a1a601": {
          "model_module": "@jupyter-widgets/controls",
          "model_name": "FloatProgressModel",
          "model_module_version": "1.5.0",
          "state": {
            "_view_name": "ProgressView",
            "style": "IPY_MODEL_d0d1ef02da98435bad596a808ad71f24",
            "_dom_classes": [],
            "description": "",
            "_model_name": "FloatProgressModel",
            "bar_style": "success",
            "max": 5148,
            "_view_module": "@jupyter-widgets/controls",
            "_model_module_version": "1.5.0",
            "value": 5148,
            "_view_count": null,
            "_view_module_version": "1.5.0",
            "orientation": "horizontal",
            "min": 0,
            "description_tooltip": null,
            "_model_module": "@jupyter-widgets/controls",
            "layout": "IPY_MODEL_d94167c614924043bf1a4b681d1612a9"
          }
        },
        "a323a5b371594678ac910a5853eb0e27": {
          "model_module": "@jupyter-widgets/controls",
          "model_name": "HTMLModel",
          "model_module_version": "1.5.0",
          "state": {
            "_view_name": "HTMLView",
            "style": "IPY_MODEL_3d294cfb42ed4e1799fa371b47f64503",
            "_dom_classes": [],
            "description": "",
            "_model_name": "HTMLModel",
            "placeholder": "​",
            "_view_module": "@jupyter-widgets/controls",
            "_model_module_version": "1.5.0",
            "value": " 6144/? [00:00&lt;00:00, 159932.75it/s]",
            "_view_count": null,
            "_view_module_version": "1.5.0",
            "description_tooltip": null,
            "_model_module": "@jupyter-widgets/controls",
            "layout": "IPY_MODEL_4c6b36eca64f4a6daa5c7d8e113f5d31"
          }
        },
        "0a9c8bc7bd244d03a05cc65453c97a4c": {
          "model_module": "@jupyter-widgets/controls",
          "model_name": "DescriptionStyleModel",
          "model_module_version": "1.5.0",
          "state": {
            "_view_name": "StyleView",
            "_model_name": "DescriptionStyleModel",
            "description_width": "",
            "_view_module": "@jupyter-widgets/base",
            "_model_module_version": "1.5.0",
            "_view_count": null,
            "_view_module_version": "1.2.0",
            "_model_module": "@jupyter-widgets/controls"
          }
        },
        "ce6c22cb0e8542e0a39699fb4f1e784f": {
          "model_module": "@jupyter-widgets/base",
          "model_name": "LayoutModel",
          "model_module_version": "1.2.0",
          "state": {
            "_view_name": "LayoutView",
            "grid_template_rows": null,
            "right": null,
            "justify_content": null,
            "_view_module": "@jupyter-widgets/base",
            "overflow": null,
            "_model_module_version": "1.2.0",
            "_view_count": null,
            "flex_flow": null,
            "width": null,
            "min_width": null,
            "border": null,
            "align_items": null,
            "bottom": null,
            "_model_module": "@jupyter-widgets/base",
            "top": null,
            "grid_column": null,
            "overflow_y": null,
            "overflow_x": null,
            "grid_auto_flow": null,
            "grid_area": null,
            "grid_template_columns": null,
            "flex": null,
            "_model_name": "LayoutModel",
            "justify_items": null,
            "grid_row": null,
            "max_height": null,
            "align_content": null,
            "visibility": null,
            "align_self": null,
            "height": null,
            "min_height": null,
            "padding": null,
            "grid_auto_rows": null,
            "grid_gap": null,
            "max_width": null,
            "order": null,
            "_view_module_version": "1.2.0",
            "grid_template_areas": null,
            "object_position": null,
            "object_fit": null,
            "grid_auto_columns": null,
            "margin": null,
            "display": null,
            "left": null
          }
        },
        "d0d1ef02da98435bad596a808ad71f24": {
          "model_module": "@jupyter-widgets/controls",
          "model_name": "ProgressStyleModel",
          "model_module_version": "1.5.0",
          "state": {
            "_view_name": "StyleView",
            "_model_name": "ProgressStyleModel",
            "description_width": "",
            "_view_module": "@jupyter-widgets/base",
            "_model_module_version": "1.5.0",
            "_view_count": null,
            "_view_module_version": "1.2.0",
            "bar_color": null,
            "_model_module": "@jupyter-widgets/controls"
          }
        },
        "d94167c614924043bf1a4b681d1612a9": {
          "model_module": "@jupyter-widgets/base",
          "model_name": "LayoutModel",
          "model_module_version": "1.2.0",
          "state": {
            "_view_name": "LayoutView",
            "grid_template_rows": null,
            "right": null,
            "justify_content": null,
            "_view_module": "@jupyter-widgets/base",
            "overflow": null,
            "_model_module_version": "1.2.0",
            "_view_count": null,
            "flex_flow": null,
            "width": null,
            "min_width": null,
            "border": null,
            "align_items": null,
            "bottom": null,
            "_model_module": "@jupyter-widgets/base",
            "top": null,
            "grid_column": null,
            "overflow_y": null,
            "overflow_x": null,
            "grid_auto_flow": null,
            "grid_area": null,
            "grid_template_columns": null,
            "flex": null,
            "_model_name": "LayoutModel",
            "justify_items": null,
            "grid_row": null,
            "max_height": null,
            "align_content": null,
            "visibility": null,
            "align_self": null,
            "height": null,
            "min_height": null,
            "padding": null,
            "grid_auto_rows": null,
            "grid_gap": null,
            "max_width": null,
            "order": null,
            "_view_module_version": "1.2.0",
            "grid_template_areas": null,
            "object_position": null,
            "object_fit": null,
            "grid_auto_columns": null,
            "margin": null,
            "display": null,
            "left": null
          }
        },
        "3d294cfb42ed4e1799fa371b47f64503": {
          "model_module": "@jupyter-widgets/controls",
          "model_name": "DescriptionStyleModel",
          "model_module_version": "1.5.0",
          "state": {
            "_view_name": "StyleView",
            "_model_name": "DescriptionStyleModel",
            "description_width": "",
            "_view_module": "@jupyter-widgets/base",
            "_model_module_version": "1.5.0",
            "_view_count": null,
            "_view_module_version": "1.2.0",
            "_model_module": "@jupyter-widgets/controls"
          }
        },
        "4c6b36eca64f4a6daa5c7d8e113f5d31": {
          "model_module": "@jupyter-widgets/base",
          "model_name": "LayoutModel",
          "model_module_version": "1.2.0",
          "state": {
            "_view_name": "LayoutView",
            "grid_template_rows": null,
            "right": null,
            "justify_content": null,
            "_view_module": "@jupyter-widgets/base",
            "overflow": null,
            "_model_module_version": "1.2.0",
            "_view_count": null,
            "flex_flow": null,
            "width": null,
            "min_width": null,
            "border": null,
            "align_items": null,
            "bottom": null,
            "_model_module": "@jupyter-widgets/base",
            "top": null,
            "grid_column": null,
            "overflow_y": null,
            "overflow_x": null,
            "grid_auto_flow": null,
            "grid_area": null,
            "grid_template_columns": null,
            "flex": null,
            "_model_name": "LayoutModel",
            "justify_items": null,
            "grid_row": null,
            "max_height": null,
            "align_content": null,
            "visibility": null,
            "align_self": null,
            "height": null,
            "min_height": null,
            "padding": null,
            "grid_auto_rows": null,
            "grid_gap": null,
            "max_width": null,
            "order": null,
            "_view_module_version": "1.2.0",
            "grid_template_areas": null,
            "object_position": null,
            "object_fit": null,
            "grid_auto_columns": null,
            "margin": null,
            "display": null,
            "left": null
          }
        }
      }
    }
  },
  "cells": [
    {
      "cell_type": "code",
      "execution_count": null,
      "metadata": {
        "id": "je0pD2TSICi6"
      },
      "outputs": [],
      "source": [
        "import torch\n",
        "import torchvision\n",
        "import torchvision.datasets as datasets\n",
        "import torchvision.transforms as transforms\n",
        "import torch.nn as nn\n",
        "import torch.nn.functional as F\n",
        "import torch.optim as optim\n",
        "import matplotlib \n",
        "import matplotlib.pyplot as plt\n",
        "import numpy as np\n",
        "import pandas as pd\n",
        "import random\n",
        "import math\n",
        "from torch.utils.data.sampler import SubsetRandomSampler"
      ]
    },
    {
      "cell_type": "code",
      "source": [
        "# Define a transform to normalize the data\n",
        "transform = transforms.Compose([transforms.ToTensor(), transforms.Normalize((0.1307,), (0.3081,))])\n",
        "\n",
        "# Download and load training data\n",
        "trainset = datasets.FashionMNIST('./data',download=True, train= True, transform=transform)\n",
        "trainloader = torch.utils.data.DataLoader(trainset, batch_size= 64, shuffle=True)\n",
        "\n",
        "# Download and load test data\n",
        "testset = datasets.FashionMNIST('./data',download=True, train= False, transform=transform)\n",
        "testloader = torch.utils.data.DataLoader(testset, batch_size= 64, shuffle=True)"
      ],
      "metadata": {
        "id": "fHXjbP9rIJv2",
        "colab": {
          "base_uri": "https://localhost:8080/",
          "height": 423,
          "referenced_widgets": [
            "a26c69b3a489431fa58e29dae5db35ad",
            "d2d947705d66437d8e0f0d30dbc917cb",
            "c1b88f7e3fd64d1798a72359229e2295",
            "996bcf2e36764a479a446b1b489af3e9",
            "b730ba686ad042d6bf397a825b72c87b",
            "90d15bbfc03f462b90282a6b4cae4ec5",
            "411f137c980747728a42372e858366e2",
            "8383b6762ba2494c83bb2ab5aec63f11",
            "3de135f401f542d58d2838d2e19fa6ce",
            "7650fcefec7542c2a138e5ca8c01e3d0",
            "242a14add2c7422c80dfa4213a2eab83",
            "a3b523c21af5486fbc00238573f4b351",
            "5fd99b9050a44d36935fa9f824b0ddc0",
            "b95b45c35fbd4582b97dfb569c3535c8",
            "3eb7e6bfd9ad4c21bc2169200cd10c8a",
            "ef9c936663fe489f99b498ba682b0eb7",
            "d8fecd5d569a4cc28f40d2e35a4c9e55",
            "e8b0779ee1744559b3906bb3a9847377",
            "7b882e690ff14c81a225ebe8ed4caaf9",
            "b9bed54dc914422a9c719a82ded5daf8",
            "c59a086a82524f98b27a70589ca89b0e",
            "b58526957d1b4754a412b86ebf08a229",
            "f7305c0e35e34c92bfb13698a569555d",
            "f3baf33b052644c580e737bd55edabbf",
            "2586537634674e608b726a18e368aeba",
            "64335b3879104cc2892ef0c5585ab37d",
            "119ca9fef1bb427cbbd77c58ff332f07",
            "2a4d6a784a0a480bbffeec332db1ccad",
            "6bf07a7514e94a6bb49f62711ad2c844",
            "8e4b7d5689f141d8a60be023fd2bfa6a",
            "e8d9261e19e9410490d792298723bc19",
            "65b0c2f13544406dbc61bc7e5ce7ae70",
            "344591f0de8f4a16a61ebbdaf3c84c96",
            "3ea801ebbace470aac452698d282b11b",
            "9e1cbc77f24d452c9ab34da3b1edc581",
            "77ac78fc33d2471296f15dcaa10bff8c",
            "20144fc1254a4654bceface375a1a601",
            "a323a5b371594678ac910a5853eb0e27",
            "0a9c8bc7bd244d03a05cc65453c97a4c",
            "ce6c22cb0e8542e0a39699fb4f1e784f",
            "d0d1ef02da98435bad596a808ad71f24",
            "d94167c614924043bf1a4b681d1612a9",
            "3d294cfb42ed4e1799fa371b47f64503",
            "4c6b36eca64f4a6daa5c7d8e113f5d31"
          ]
        },
        "outputId": "6b672d99-2b0d-421e-ec6e-8596297b6e7f"
      },
      "execution_count": null,
      "outputs": [
        {
          "output_type": "stream",
          "name": "stdout",
          "text": [
            "Downloading http://fashion-mnist.s3-website.eu-central-1.amazonaws.com/train-images-idx3-ubyte.gz\n",
            "Downloading http://fashion-mnist.s3-website.eu-central-1.amazonaws.com/train-images-idx3-ubyte.gz to ./data/FashionMNIST/raw/train-images-idx3-ubyte.gz\n"
          ]
        },
        {
          "output_type": "display_data",
          "data": {
            "application/vnd.jupyter.widget-view+json": {
              "model_id": "a26c69b3a489431fa58e29dae5db35ad",
              "version_minor": 0,
              "version_major": 2
            },
            "text/plain": [
              "  0%|          | 0/26421880 [00:00<?, ?it/s]"
            ]
          },
          "metadata": {}
        },
        {
          "output_type": "stream",
          "name": "stdout",
          "text": [
            "Extracting ./data/FashionMNIST/raw/train-images-idx3-ubyte.gz to ./data/FashionMNIST/raw\n",
            "\n",
            "Downloading http://fashion-mnist.s3-website.eu-central-1.amazonaws.com/train-labels-idx1-ubyte.gz\n",
            "Downloading http://fashion-mnist.s3-website.eu-central-1.amazonaws.com/train-labels-idx1-ubyte.gz to ./data/FashionMNIST/raw/train-labels-idx1-ubyte.gz\n"
          ]
        },
        {
          "output_type": "display_data",
          "data": {
            "application/vnd.jupyter.widget-view+json": {
              "model_id": "a3b523c21af5486fbc00238573f4b351",
              "version_minor": 0,
              "version_major": 2
            },
            "text/plain": [
              "  0%|          | 0/29515 [00:00<?, ?it/s]"
            ]
          },
          "metadata": {}
        },
        {
          "output_type": "stream",
          "name": "stdout",
          "text": [
            "Extracting ./data/FashionMNIST/raw/train-labels-idx1-ubyte.gz to ./data/FashionMNIST/raw\n",
            "\n",
            "Downloading http://fashion-mnist.s3-website.eu-central-1.amazonaws.com/t10k-images-idx3-ubyte.gz\n",
            "Downloading http://fashion-mnist.s3-website.eu-central-1.amazonaws.com/t10k-images-idx3-ubyte.gz to ./data/FashionMNIST/raw/t10k-images-idx3-ubyte.gz\n"
          ]
        },
        {
          "output_type": "display_data",
          "data": {
            "application/vnd.jupyter.widget-view+json": {
              "model_id": "f7305c0e35e34c92bfb13698a569555d",
              "version_minor": 0,
              "version_major": 2
            },
            "text/plain": [
              "  0%|          | 0/4422102 [00:00<?, ?it/s]"
            ]
          },
          "metadata": {}
        },
        {
          "output_type": "stream",
          "name": "stdout",
          "text": [
            "Extracting ./data/FashionMNIST/raw/t10k-images-idx3-ubyte.gz to ./data/FashionMNIST/raw\n",
            "\n",
            "Downloading http://fashion-mnist.s3-website.eu-central-1.amazonaws.com/t10k-labels-idx1-ubyte.gz\n",
            "Downloading http://fashion-mnist.s3-website.eu-central-1.amazonaws.com/t10k-labels-idx1-ubyte.gz to ./data/FashionMNIST/raw/t10k-labels-idx1-ubyte.gz\n"
          ]
        },
        {
          "output_type": "display_data",
          "data": {
            "application/vnd.jupyter.widget-view+json": {
              "model_id": "3ea801ebbace470aac452698d282b11b",
              "version_minor": 0,
              "version_major": 2
            },
            "text/plain": [
              "  0%|          | 0/5148 [00:00<?, ?it/s]"
            ]
          },
          "metadata": {}
        },
        {
          "output_type": "stream",
          "name": "stdout",
          "text": [
            "Extracting ./data/FashionMNIST/raw/t10k-labels-idx1-ubyte.gz to ./data/FashionMNIST/raw\n",
            "\n"
          ]
        }
      ]
    },
    {
      "cell_type": "code",
      "source": [
        "len(testset)"
      ],
      "metadata": {
        "colab": {
          "base_uri": "https://localhost:8080/"
        },
        "id": "ZhowNI2VHlpe",
        "outputId": "807761d8-ed75-4250-da69-ea9d46ed3388"
      },
      "execution_count": null,
      "outputs": [
        {
          "output_type": "execute_result",
          "data": {
            "text/plain": [
              "10000"
            ]
          },
          "metadata": {},
          "execution_count": 3
        }
      ]
    },
    {
      "cell_type": "code",
      "source": [
        "labels_map = ('T-Shirt', 'Trouser', 'Pullover', 'Dress', 'Coat', 'Sandal', 'Shirt','Sneaker', 'Bag', 'Ankle Boot')\n",
        "fig = plt.figure(figsize=(10,10));\n",
        "columns = 4;\n",
        "rows = 5;\n",
        "for i in range(1, 10):\n",
        "    fig.add_subplot(rows, columns, i)\n",
        "    fig.tight_layout()\n",
        "    plt.imshow(trainset.train_data[i].numpy(), cmap='gray')\n",
        "    plt.title('Training Label : %s' % labels_map[trainset.train_labels[i]])\n",
        "plt.show()"
      ],
      "metadata": {
        "colab": {
          "base_uri": "https://localhost:8080/",
          "height": 525
        },
        "id": "kh0vLJibHmLm",
        "outputId": "cb08f719-ab53-447a-aa61-e503087abb36"
      },
      "execution_count": null,
      "outputs": [
        {
          "output_type": "stream",
          "name": "stderr",
          "text": [
            "/usr/local/lib/python3.7/dist-packages/torchvision/datasets/mnist.py:62: UserWarning: train_data has been renamed data\n",
            "  warnings.warn(\"train_data has been renamed data\")\n",
            "/usr/local/lib/python3.7/dist-packages/torchvision/datasets/mnist.py:52: UserWarning: train_labels has been renamed targets\n",
            "  warnings.warn(\"train_labels has been renamed targets\")\n"
          ]
        },
        {
          "output_type": "display_data",
          "data": {
            "image/png": "[encoded data removed]",
            "text/plain": [
              "<Figure size 720x720 with 9 Axes>"
            ]
          },
          "metadata": {
            "needs_background": "light"
          }
        }
      ]
    },
    {
      "cell_type": "markdown",
      "source": [
        "## Orginal Model(Overfitted)"
      ],
      "metadata": {
        "id": "4Y-PXJySHv3F"
      }
    },
    {
      "cell_type": "code",
      "source": [
        "input_size = 784\n",
        "out_size = 10\n",
        "hidden_sizes = [128, 128, 128, 64]"
      ],
      "metadata": {
        "id": "viPp3yPWHopF"
      },
      "execution_count": null,
      "outputs": []
    },
    {
      "cell_type": "code",
      "source": [
        "model = nn.Sequential(nn.Linear(input_size, hidden_sizes[0]),\n",
        "                       nn.ReLU(),\n",
        "                       nn.Linear(hidden_sizes[0], hidden_sizes[1]),\n",
        "                       nn.ReLU(),\n",
        "                       nn.Linear(hidden_sizes[1], hidden_sizes[2]),\n",
        "                       nn.ReLU(),\n",
        "                       nn.Linear(hidden_sizes[2], hidden_sizes[3]),\n",
        "                       nn.ReLU(),\n",
        "                       nn.Linear(hidden_sizes[3], out_size),\n",
        "                       nn.LogSoftmax(dim=1)\n",
        ")\n",
        "\n",
        "print(model)"
      ],
      "metadata": {
        "colab": {
          "base_uri": "https://localhost:8080/"
        },
        "id": "mxUevzq-H1IG",
        "outputId": "5f32d10b-b27a-422f-8a93-032474bed765"
      },
      "execution_count": null,
      "outputs": [
        {
          "output_type": "stream",
          "name": "stdout",
          "text": [
            "Sequential(\n",
            "  (0): Linear(in_features=784, out_features=128, bias=True)\n",
            "  (1): ReLU()\n",
            "  (2): Linear(in_features=128, out_features=128, bias=True)\n",
            "  (3): ReLU()\n",
            "  (4): Linear(in_features=128, out_features=128, bias=True)\n",
            "  (5): ReLU()\n",
            "  (6): Linear(in_features=128, out_features=64, bias=True)\n",
            "  (7): ReLU()\n",
            "  (8): Linear(in_features=64, out_features=10, bias=True)\n",
            "  (9): LogSoftmax(dim=1)\n",
            ")\n"
          ]
        }
      ]
    },
    {
      "cell_type": "code",
      "source": [
        "criterion = nn.CrossEntropyLoss()\n",
        "optimizer = optim.Adam(model.parameters(),lr=0.01)"
      ],
      "metadata": {
        "id": "lbjYnOStH4iG"
      },
      "execution_count": null,
      "outputs": []
    },
    {
      "cell_type": "code",
      "source": [
        "def get_accuracy(model, data):\n",
        "  loader = torch.utils.data.DataLoader(data, batch_size=500)\n",
        "\n",
        "  correct, total = 0, 0\n",
        "  for xs, ts in loader:\n",
        "      xs = xs.view(-1, 784) # flatten the image\n",
        "      zs = model(xs)\n",
        "      pred = zs.max(1, keepdim=True)[1] # get the index of the max logit\n",
        "      correct += pred.eq(ts.view_as(pred)).sum().item()\n",
        "      total += int(ts.shape[0])\n",
        "      return correct / total"
      ],
      "metadata": {
        "id": "3rd7kbN2IFq-"
      },
      "execution_count": null,
      "outputs": []
    },
    {
      "cell_type": "code",
      "source": [
        "## Train your model\n",
        "epochs = 50\n",
        "\n",
        "train_acc_arr = []\n",
        "test_acc_arr = []\n",
        "train_err_arr =[]\n",
        "\n",
        "for e in range(epochs):\n",
        "  running_loss = 0\n",
        "  correct, total = 0, 0\n",
        "  for images, labels in trainloader:\n",
        "        \n",
        "    images = images.view(images.shape[0],-1) \n",
        "    \n",
        "    #reset the default gradients\n",
        "    optimizer.zero_grad()\n",
        "    \n",
        "    # forward pass\n",
        "    ################ Your code ############\n",
        "    output = model(images)\n",
        "    loss = criterion(output, labels)\n",
        "    #######################################\n",
        "    \n",
        "    loss.backward()\n",
        "    optimizer.step()\n",
        "    \n",
        "    running_loss = running_loss+loss.item()\n",
        "\n",
        "    # additional code (Poorya)\n",
        "    #begin\n",
        "    # calculate accuracy of training\n",
        "    pred = output.max(1, keepdim=True)[1] # get the index of the max logit\n",
        "    correct += pred.eq(labels.view_as(pred)).sum().item()\n",
        "    total += int(labels.shape[0])\n",
        "    #end\n",
        "  else:\n",
        "    print(f\"Epoch:{e}, Training loss: {running_loss/len(trainloader)}, Training accuracy: {correct / total}\")\n",
        "    train_acc_arr.append(correct / total)\n",
        "    tst_acc_tmp = get_accuracy(model,testset)\n",
        "    test_acc_arr.append(tst_acc_tmp)\n",
        "    train_err_arr.append(running_loss/len(trainloader))\n"
      ],
      "metadata": {
        "colab": {
          "base_uri": "https://localhost:8080/"
        },
        "id": "X8PjDPqxH7fo",
        "outputId": "c1ffcba4-9f6f-4825-d166-a50d3365455a"
      },
      "execution_count": null,
      "outputs": [
        {
          "output_type": "stream",
          "name": "stdout",
          "text": [
            "Epoch:0, Training loss: 0.5763928602213291, Training accuracy: 0.7985\n",
            "Epoch:1, Training loss: 0.45604852340750096, Training accuracy: 0.8454333333333334\n",
            "Epoch:2, Training loss: 0.4716822660998749, Training accuracy: 0.8427666666666667\n",
            "Epoch:3, Training loss: 0.43033352284543297, Training accuracy: 0.8553666666666667\n",
            "Epoch:4, Training loss: 0.4044213593800439, Training accuracy: 0.8614833333333334\n",
            "Epoch:5, Training loss: 0.4166389740924083, Training accuracy: 0.8591166666666666\n",
            "Epoch:6, Training loss: 0.4013321760144315, Training accuracy: 0.8617666666666667\n",
            "Epoch:7, Training loss: 0.39911607741070454, Training accuracy: 0.8644\n",
            "Epoch:8, Training loss: 0.39035663566291967, Training accuracy: 0.8667333333333334\n",
            "Epoch:9, Training loss: 0.377565211102144, Training accuracy: 0.8700666666666667\n",
            "Epoch:10, Training loss: 0.3898057629352312, Training accuracy: 0.865\n",
            "Epoch:11, Training loss: 0.39377028320326224, Training accuracy: 0.866\n",
            "Epoch:12, Training loss: 0.37289983275602623, Training accuracy: 0.8740833333333333\n",
            "Epoch:13, Training loss: 0.3600241838614824, Training accuracy: 0.87745\n",
            "Epoch:14, Training loss: 0.3798107350193488, Training accuracy: 0.8738833333333333\n",
            "Epoch:15, Training loss: 0.37183651318555194, Training accuracy: 0.8753666666666666\n",
            "Epoch:16, Training loss: 0.3806905787525528, Training accuracy: 0.8733333333333333\n",
            "Epoch:17, Training loss: 0.36504011670314174, Training accuracy: 0.8753666666666666\n",
            "Epoch:18, Training loss: 0.35344916362879375, Training accuracy: 0.8806666666666667\n",
            "Epoch:19, Training loss: 0.39208877695871314, Training accuracy: 0.8691833333333333\n",
            "Epoch:20, Training loss: 0.3610931565083547, Training accuracy: 0.8743333333333333\n",
            "Epoch:21, Training loss: 0.4342655366036429, Training accuracy: 0.8625333333333334\n",
            "Epoch:22, Training loss: 0.37389410684294283, Training accuracy: 0.87635\n",
            "Epoch:23, Training loss: 0.3930524241711412, Training accuracy: 0.8728333333333333\n",
            "Epoch:24, Training loss: 0.37292832306135437, Training accuracy: 0.8768666666666667\n",
            "Epoch:25, Training loss: 0.3938165352002644, Training accuracy: 0.86625\n",
            "Epoch:26, Training loss: 0.3988491849127863, Training accuracy: 0.86395\n",
            "Epoch:27, Training loss: 0.36192909803694245, Training accuracy: 0.8751833333333333\n",
            "Epoch:28, Training loss: 0.3715723010618041, Training accuracy: 0.87485\n",
            "Epoch:29, Training loss: 0.43894753601950115, Training accuracy: 0.8556833333333334\n",
            "Epoch:30, Training loss: 0.37764006618783674, Training accuracy: 0.8758\n",
            "Epoch:31, Training loss: 0.36820189847843227, Training accuracy: 0.8754166666666666\n",
            "Epoch:32, Training loss: 0.5874372564399166, Training accuracy: 0.7874\n",
            "Epoch:33, Training loss: 0.4930159577142709, Training accuracy: 0.8194\n",
            "Epoch:34, Training loss: 0.39026003241189505, Training accuracy: 0.8705166666666667\n",
            "Epoch:35, Training loss: 0.42517555091998727, Training accuracy: 0.8549833333333333\n",
            "Epoch:36, Training loss: 0.3785096122893189, Training accuracy: 0.87185\n",
            "Epoch:37, Training loss: 0.36721255264080155, Training accuracy: 0.8772166666666666\n",
            "Epoch:38, Training loss: 0.41106451557738694, Training accuracy: 0.8651666666666666\n",
            "Epoch:39, Training loss: 0.3983089519875136, Training accuracy: 0.8718166666666667\n",
            "Epoch:40, Training loss: 0.40326588918595935, Training accuracy: 0.8692\n",
            "Epoch:41, Training loss: 0.4643853107399778, Training accuracy: 0.8466166666666667\n",
            "Epoch:42, Training loss: 0.42177237362177894, Training accuracy: 0.8616833333333334\n",
            "Epoch:43, Training loss: 0.4129613760088298, Training accuracy: 0.86535\n",
            "Epoch:44, Training loss: 0.41451103783556137, Training accuracy: 0.86865\n",
            "Epoch:45, Training loss: 0.4319144470541716, Training accuracy: 0.8618833333333333\n",
            "Epoch:46, Training loss: 0.45603566321292155, Training accuracy: 0.8573\n",
            "Epoch:47, Training loss: 0.4397203860315941, Training accuracy: 0.8595166666666667\n",
            "Epoch:48, Training loss: 0.4074378869395012, Training accuracy: 0.8663666666666666\n",
            "Epoch:49, Training loss: 0.4391311827594283, Training accuracy: 0.8608\n"
          ]
        }
      ]
    },
    {
      "cell_type": "code",
      "source": [
        "training_acc = get_accuracy(model,trainset)\n",
        "test_acc = get_accuracy(model,testset)\n",
        "print(f\"accuracy on Trainset: {training_acc}\")\n",
        "print(f\"accuracy on Testset: {test_acc}\")"
      ],
      "metadata": {
        "colab": {
          "base_uri": "https://localhost:8080/"
        },
        "id": "GVmRGOX5Mttb",
        "outputId": "3f436f7c-b260-4759-f0f5-310cdfd2a93c"
      },
      "execution_count": null,
      "outputs": [
        {
          "output_type": "stream",
          "name": "stdout",
          "text": [
            "accuracy on Trainset: 0.886\n",
            "accuracy on Testset: 0.858\n"
          ]
        }
      ]
    },
    {
      "cell_type": "code",
      "source": [
        "# plotting\n",
        "plt.plot(train_acc_arr, label=\"Train\")\n",
        "plt.plot(test_acc_arr, label=\"Test\")\n",
        "plt.xlabel(\"Iterations\")\n",
        "plt.ylabel(\"Loss\")\n",
        "plt.legend()\n",
        "plt.show()"
      ],
      "metadata": {
        "colab": {
          "base_uri": "https://localhost:8080/",
          "height": 279
        },
        "id": "65bcDVvOMw-4",
        "outputId": "112ac4a6-8df4-4168-bd6b-9ee2f8185fac"
      },
      "execution_count": null,
      "outputs": [
        {
          "output_type": "display_data",
          "data": {
            "image/png": "[encoded data removed]",
            "text/plain": [
              "<Figure size 432x288 with 1 Axes>"
            ]
          },
          "metadata": {
            "needs_background": "light"
          }
        }
      ]
    },
    {
      "cell_type": "markdown",
      "source": [
        "# Part A"
      ],
      "metadata": {
        "id": "UEwemZO-M8yK"
      }
    },
    {
      "cell_type": "markdown",
      "source": [
        "### Augmentation (GaussianBlur, RandomAffime)"
      ],
      "metadata": {
        "id": "EW5InjQtPOp7"
      }
    },
    {
      "cell_type": "code",
      "source": [
        "# Define a transform to normalize the data\n",
        "transform = transforms.Compose([transforms.ToTensor(),\n",
        "                                transforms.Normalize((0.1307,), (0.3081,)),\n",
        "                                transforms.GaussianBlur(kernel_size=(5, 9), sigma=(0.1, 5)),\n",
        "                                transforms.RandomAffine(degrees=(0, 50), translate=(0.1, 0.3), scale=(0.5, 0.75)),\n",
        "                                transforms.Resize((28,28))\n",
        "                                ])\n",
        "\n",
        "# Download and load training data\n",
        "trainset = datasets.FashionMNIST('./data',download=True, train= True, transform=transform)\n",
        "trainloader = torch.utils.data.DataLoader(trainset, batch_size= 64, shuffle=True)\n",
        "\n",
        "# Download and load test data\n",
        "testset = datasets.FashionMNIST('./data',download=True, train= False, transform=transform)\n",
        "testloader = torch.utils.data.DataLoader(testset, batch_size= 64, shuffle=True)"
      ],
      "metadata": {
        "id": "C5YOvDAyQZtx"
      },
      "execution_count": null,
      "outputs": []
    },
    {
      "cell_type": "code",
      "source": [
        "len(trainset)"
      ],
      "metadata": {
        "colab": {
          "base_uri": "https://localhost:8080/"
        },
        "id": "HQSkt4l9PCVP",
        "outputId": "7db422d9-c067-43e4-d400-8ca33152c63e"
      },
      "execution_count": null,
      "outputs": [
        {
          "output_type": "execute_result",
          "data": {
            "text/plain": [
              "60000"
            ]
          },
          "metadata": {},
          "execution_count": 33
        }
      ]
    },
    {
      "cell_type": "code",
      "source": [
        "input_size = 784\n",
        "out_size = 10\n",
        "hidden_sizes = [128, 128, 128, 64]"
      ],
      "metadata": {
        "id": "4ZcD3G18PkTO"
      },
      "execution_count": null,
      "outputs": []
    },
    {
      "cell_type": "code",
      "source": [
        "model = nn.Sequential(nn.Linear(input_size, hidden_sizes[0]),\n",
        "                       nn.ReLU(),\n",
        "                       nn.Linear(hidden_sizes[0], hidden_sizes[1]),\n",
        "                       nn.ReLU(),\n",
        "                       nn.Linear(hidden_sizes[1], hidden_sizes[2]),\n",
        "                       nn.ReLU(),\n",
        "                       nn.Linear(hidden_sizes[2], hidden_sizes[3]),\n",
        "                       nn.ReLU(),\n",
        "                       nn.Linear(hidden_sizes[3], out_size),\n",
        "                       nn.LogSoftmax(dim=1)\n",
        ")\n",
        "\n",
        "print(model)"
      ],
      "metadata": {
        "colab": {
          "base_uri": "https://localhost:8080/"
        },
        "id": "CLKZJTl0Pqdn",
        "outputId": "3152459b-9f2c-4fef-963c-834b1c1c5eeb"
      },
      "execution_count": null,
      "outputs": [
        {
          "output_type": "stream",
          "name": "stdout",
          "text": [
            "Sequential(\n",
            "  (0): Linear(in_features=784, out_features=128, bias=True)\n",
            "  (1): ReLU()\n",
            "  (2): Linear(in_features=128, out_features=128, bias=True)\n",
            "  (3): ReLU()\n",
            "  (4): Linear(in_features=128, out_features=128, bias=True)\n",
            "  (5): ReLU()\n",
            "  (6): Linear(in_features=128, out_features=64, bias=True)\n",
            "  (7): ReLU()\n",
            "  (8): Linear(in_features=64, out_features=10, bias=True)\n",
            "  (9): LogSoftmax(dim=1)\n",
            ")\n"
          ]
        }
      ]
    },
    {
      "cell_type": "code",
      "source": [
        "criterion = nn.CrossEntropyLoss()\n",
        "optimizer = optim.Adam(model.parameters(),lr=0.01)"
      ],
      "metadata": {
        "id": "VnslIFkiPt8v"
      },
      "execution_count": null,
      "outputs": []
    },
    {
      "cell_type": "code",
      "source": [
        "## Train your model\n",
        "epochs = 30\n",
        "\n",
        "train_acc_arr = []\n",
        "test_acc_arr = []\n",
        "train_err_arr =[]\n",
        "\n",
        "for e in range(epochs):\n",
        "  running_loss = 0\n",
        "  correct, total = 0, 0\n",
        "  for images, labels in trainloader:\n",
        "\n",
        "    images = images.view(images.shape[0],-1) \n",
        "    \n",
        "    #reset the default gradients\n",
        "    optimizer.zero_grad()\n",
        "    \n",
        "    # forward pass\n",
        "    ################ Your code ############\n",
        "    output = model(images)\n",
        "    loss = criterion(output, labels)\n",
        "    #######################################\n",
        "    \n",
        "    loss.backward()\n",
        "    optimizer.step()\n",
        "    \n",
        "    running_loss = running_loss+loss.item()\n",
        "\n",
        "    # additional code (Poorya)\n",
        "    #begin\n",
        "    # calculate accuracy of training\n",
        "    pred = output.max(1, keepdim=True)[1] # get the index of the max logit\n",
        "    correct += pred.eq(labels.view_as(pred)).sum().item()\n",
        "    total += int(labels.shape[0])\n",
        "    #end\n",
        "  else:\n",
        "    print(f\"Epoch:{e}, Training loss: {running_loss/len(trainloader)}, Training accuracy: {correct / total}\")\n",
        "    train_acc_arr.append(correct / total)\n",
        "    tst_acc_tmp = get_accuracy(model,testset)\n",
        "    test_acc_arr.append(tst_acc_tmp)\n",
        "    train_err_arr.append(running_loss/len(trainloader))"
      ],
      "metadata": {
        "colab": {
          "base_uri": "https://localhost:8080/"
        },
        "id": "UscZqO4iPxRm",
        "outputId": "b56701b1-5ea3-49f8-ba2b-37c16d27fadd"
      },
      "execution_count": null,
      "outputs": [
        {
          "output_type": "stream",
          "name": "stdout",
          "text": [
            "Epoch:0, Training loss: 1.1761837228020626, Training accuracy: 0.7138\n",
            "Epoch:1, Training loss: 1.0903961451323048, Training accuracy: 0.7526666666666666\n",
            "Epoch:2, Training loss: 1.0464278200923254, Training accuracy: 0.7831166666666666\n",
            "Epoch:3, Training loss: 1.0261023794410071, Training accuracy: 0.7974833333333334\n",
            "Epoch:4, Training loss: 0.9917622704241575, Training accuracy: 0.8147666666666667\n",
            "Epoch:5, Training loss: 0.9714864489239162, Training accuracy: 0.82675\n",
            "Epoch:6, Training loss: 0.9550855330058506, Training accuracy: 0.8343833333333333\n",
            "Epoch:7, Training loss: 0.9343619089899287, Training accuracy: 0.84405\n",
            "Epoch:8, Training loss: 0.9130200767822103, Training accuracy: 0.8525166666666666\n",
            "Epoch:9, Training loss: 0.9180301922216598, Training accuracy: 0.8535166666666666\n",
            "Epoch:10, Training loss: 0.9149084890575043, Training accuracy: 0.8528166666666667\n",
            "Epoch:11, Training loss: 0.9017858264415757, Training accuracy: 0.8595166666666666\n",
            "Epoch:12, Training loss: 0.8859127388198746, Training accuracy: 0.8647166666666666\n",
            "Epoch:13, Training loss: 0.887353764604658, Training accuracy: 0.8639166666666667\n",
            "Epoch:14, Training loss: 0.8861480762900066, Training accuracy: 0.86855\n",
            "Epoch:15, Training loss: 0.8803710950526602, Training accuracy: 0.8682833333333333\n",
            "Epoch:16, Training loss: 0.8771117149131384, Training accuracy: 0.8676166666666666\n",
            "Epoch:17, Training loss: 0.8731937365237076, Training accuracy: 0.8715333333333333\n",
            "Epoch:18, Training loss: 0.8790728797409326, Training accuracy: 0.8682833333333333\n",
            "Epoch:19, Training loss: 0.8752682339916351, Training accuracy: 0.8730333333333334\n",
            "Epoch:20, Training loss: 0.8772866659835458, Training accuracy: 0.8722\n",
            "Epoch:21, Training loss: 0.8695772915188946, Training accuracy: 0.8713333333333333\n",
            "Epoch:22, Training loss: 0.862066617906729, Training accuracy: 0.8736833333333333\n",
            "Epoch:23, Training loss: 0.8621888514012416, Training accuracy: 0.87385\n",
            "Epoch:24, Training loss: 0.8671441098520243, Training accuracy: 0.8729833333333334\n",
            "Epoch:25, Training loss: 0.8627381489030334, Training accuracy: 0.8742166666666667\n",
            "Epoch:26, Training loss: 0.861348519193084, Training accuracy: 0.8759\n",
            "Epoch:27, Training loss: 0.8566561284095748, Training accuracy: 0.8794166666666667\n",
            "Epoch:28, Training loss: 0.8610591601842502, Training accuracy: 0.8788166666666666\n",
            "Epoch:29, Training loss: 0.8524273553255525, Training accuracy: 0.88145\n"
          ]
        }
      ]
    },
    {
      "cell_type": "code",
      "source": [
        "training_acc = get_accuracy(model,trainset)\n",
        "test_acc = get_accuracy(model,testset)\n",
        "print(f\"accuracy on Trainset: {training_acc}\")\n",
        "print(f\"accuracy on Testset: {test_acc}\")"
      ],
      "metadata": {
        "colab": {
          "base_uri": "https://localhost:8080/"
        },
        "id": "UVu_9VgeP0FP",
        "outputId": "c7bbd1cb-f75f-47a7-b30a-44e6774043cc"
      },
      "execution_count": null,
      "outputs": [
        {
          "output_type": "stream",
          "name": "stdout",
          "text": [
            "accuracy on Trainset: 0.914\n",
            "accuracy on Testset: 0.89\n"
          ]
        }
      ]
    },
    {
      "cell_type": "code",
      "source": [
        "# plotting\n",
        "plt.plot(train_acc_arr, label=\"Train\")\n",
        "plt.plot(test_acc_arr, label=\"Test\")\n",
        "plt.xlabel(\"Iterations\")\n",
        "plt.ylabel(\"Accuracy\")\n",
        "plt.legend()\n",
        "plt.show()"
      ],
      "metadata": {
        "colab": {
          "base_uri": "https://localhost:8080/",
          "height": 279
        },
        "id": "l_2oPCZopbkq",
        "outputId": "293f2abe-9ba0-4d9c-fa79-766c0083b5d6"
      },
      "execution_count": null,
      "outputs": [
        {
          "output_type": "display_data",
          "data": {
            "image/png": "[encoded data removed]",
            "text/plain": [
              "<Figure size 432x288 with 1 Axes>"
            ]
          },
          "metadata": {
            "needs_background": "light"
          }
        }
      ]
    },
    {
      "cell_type": "markdown",
      "source": [
        "# Part B"
      ],
      "metadata": {
        "id": "q2VgqbKMquh3"
      }
    },
    {
      "cell_type": "markdown",
      "source": [
        "## L1 Regularization"
      ],
      "metadata": {
        "id": "EX28vtg8qysp"
      }
    },
    {
      "cell_type": "code",
      "source": [
        "input_size = 784\n",
        "out_size = 10\n",
        "hidden_sizes = [128, 128, 128, 64]"
      ],
      "metadata": {
        "id": "pAET1WWlq3tf"
      },
      "execution_count": null,
      "outputs": []
    },
    {
      "cell_type": "code",
      "source": [
        "model = nn.Sequential(nn.Linear(input_size, hidden_sizes[0]),\n",
        "                       nn.ReLU(),\n",
        "                       nn.Linear(hidden_sizes[0], hidden_sizes[1]),\n",
        "                       nn.ReLU(),\n",
        "                       nn.Linear(hidden_sizes[1], hidden_sizes[2]),\n",
        "                       nn.ReLU(),\n",
        "                       nn.Linear(hidden_sizes[2], hidden_sizes[3]),\n",
        "                       nn.ReLU(),\n",
        "                       nn.Linear(hidden_sizes[3], out_size),\n",
        "                       nn.LogSoftmax(dim=1)\n",
        ")\n",
        "\n",
        "print(model)"
      ],
      "metadata": {
        "colab": {
          "base_uri": "https://localhost:8080/"
        },
        "id": "nexkWCp93rR7",
        "outputId": "ad32d89d-9413-44e4-937c-9c5a55c2ba0a"
      },
      "execution_count": null,
      "outputs": [
        {
          "output_type": "stream",
          "name": "stdout",
          "text": [
            "Sequential(\n",
            "  (0): Linear(in_features=784, out_features=128, bias=True)\n",
            "  (1): ReLU()\n",
            "  (2): Linear(in_features=128, out_features=128, bias=True)\n",
            "  (3): ReLU()\n",
            "  (4): Linear(in_features=128, out_features=128, bias=True)\n",
            "  (5): ReLU()\n",
            "  (6): Linear(in_features=128, out_features=64, bias=True)\n",
            "  (7): ReLU()\n",
            "  (8): Linear(in_features=64, out_features=10, bias=True)\n",
            "  (9): LogSoftmax(dim=1)\n",
            ")\n"
          ]
        }
      ]
    },
    {
      "cell_type": "code",
      "source": [
        "criterion = nn.CrossEntropyLoss()\n",
        "optimizer = optim.Adam(model.parameters(),lr=0.01)"
      ],
      "metadata": {
        "id": "VgRxHmlj3uKK"
      },
      "execution_count": null,
      "outputs": []
    },
    {
      "cell_type": "code",
      "source": [
        "## Train your model\n",
        "epochs = 30\n",
        "\n",
        "train_acc_arr = []\n",
        "test_acc_arr = []\n",
        "train_err_arr =[]\n",
        "\n",
        "for e in range(epochs):\n",
        "  running_loss = 0\n",
        "  correct, total = 0, 0\n",
        "  for images, labels in trainloader:\n",
        "\n",
        "    images = images.view(images.shape[0],-1) \n",
        "    \n",
        "    #reset the default gradients\n",
        "    optimizer.zero_grad()\n",
        "    \n",
        "    # forward pass\n",
        "    ################ Your code ############\n",
        "    output = model(images)\n",
        "    loss = criterion(output, labels)\n",
        "    #######################################\n",
        "    \n",
        "    loss.backward()\n",
        "\n",
        "    ## L1 Regularization ##\n",
        "    l1_lambda = 0.005\n",
        "    l1_norm = sum(p.abs().sum() for p in model.parameters())\n",
        "    \n",
        "    loss = loss + l1_lambda * l1_norm\n",
        "\n",
        "    optimizer.step()\n",
        "    \n",
        "    running_loss = running_loss+loss.item()\n",
        "\n",
        "    # additional code (Poorya)\n",
        "    #begin\n",
        "    # calculate accuracy of training\n",
        "    pred = output.max(1, keepdim=True)[1] # get the index of the max logit\n",
        "    correct += pred.eq(labels.view_as(pred)).sum().item()\n",
        "    total += int(labels.shape[0])\n",
        "    #end\n",
        "  else:\n",
        "    print(f\"Epoch:{e}, Training loss: {running_loss/len(trainloader)}, Training accuracy: {correct / total}\")\n",
        "    train_acc_arr.append(correct / total)\n",
        "    tst_acc_tmp = get_accuracy(model,testset)\n",
        "    test_acc_arr.append(tst_acc_tmp)\n",
        "    train_err_arr.append(running_loss/len(trainloader))"
      ],
      "metadata": {
        "colab": {
          "base_uri": "https://localhost:8080/"
        },
        "id": "-buZkXkv3x07",
        "outputId": "64ee94ea-26a7-4a76-eb4a-67cdf1bddc9d"
      },
      "execution_count": null,
      "outputs": [
        {
          "output_type": "stream",
          "name": "stdout",
          "text": [
            "Epoch:0, Training loss: 1.1761837228020626, Training accuracy: 0.7138\n",
            "Epoch:1, Training loss: 1.0903961451323048, Training accuracy: 0.7526666666666666\n",
            "Epoch:2, Training loss: 1.0464278200923254, Training accuracy: 0.7831166666666666\n",
            "Epoch:3, Training loss: 1.0261023794410071, Training accuracy: 0.7974833333333334\n",
            "Epoch:4, Training loss: 0.9917622704241575, Training accuracy: 0.8147666666666667\n",
            "Epoch:5, Training loss: 0.9714864489239162, Training accuracy: 0.82675\n",
            "Epoch:6, Training loss: 0.9550855330058506, Training accuracy: 0.8343833333333333\n",
            "Epoch:7, Training loss: 0.9343619089899287, Training accuracy: 0.84405\n",
            "Epoch:8, Training loss: 0.9130200767822103, Training accuracy: 0.8525166666666666\n",
            "Epoch:9, Training loss: 0.9180301922216598, Training accuracy: 0.8535166666666666\n",
            "Epoch:10, Training loss: 0.9149084890575043, Training accuracy: 0.8528166666666667\n",
            "Epoch:11, Training loss: 0.9017858264415757, Training accuracy: 0.8595166666666666\n",
            "Epoch:12, Training loss: 0.8859127388198746, Training accuracy: 0.8647166666666666\n",
            "Epoch:13, Training loss: 0.887353764604658, Training accuracy: 0.8639166666666667\n",
            "Epoch:14, Training loss: 0.8861480762900066, Training accuracy: 0.86855\n",
            "Epoch:15, Training loss: 0.8803710950526602, Training accuracy: 0.8682833333333333\n",
            "Epoch:16, Training loss: 0.8771117149131384, Training accuracy: 0.8676166666666666\n",
            "Epoch:17, Training loss: 0.8731937365237076, Training accuracy: 0.8715333333333333\n",
            "Epoch:18, Training loss: 0.8790728797409326, Training accuracy: 0.8682833333333333\n",
            "Epoch:19, Training loss: 0.8752682339916351, Training accuracy: 0.8730333333333334\n",
            "Epoch:20, Training loss: 0.8772866659835458, Training accuracy: 0.8722\n",
            "Epoch:21, Training loss: 0.8695772915188946, Training accuracy: 0.8713333333333333\n",
            "Epoch:22, Training loss: 0.862066617906729, Training accuracy: 0.8736833333333333\n",
            "Epoch:23, Training loss: 0.8621888514012416, Training accuracy: 0.87385\n",
            "Epoch:24, Training loss: 0.8671441098520243, Training accuracy: 0.8729833333333334\n",
            "Epoch:25, Training loss: 0.8627381489030334, Training accuracy: 0.8742166666666667\n",
            "Epoch:26, Training loss: 0.861348519193084, Training accuracy: 0.8759\n",
            "Epoch:27, Training loss: 0.8566561284095748, Training accuracy: 0.8794166666666667\n",
            "Epoch:28, Training loss: 0.8610591601842502, Training accuracy: 0.8788166666666666\n",
            "Epoch:29, Training loss: 0.8524273553255525, Training accuracy: 0.88145\n"
          ]
        }
      ]
    },
    {
      "cell_type": "code",
      "source": [
        "training_acc = get_accuracy(model,trainset)\n",
        "test_acc = get_accuracy(model,testset)\n",
        "print(f\"accuracy on Trainset: {training_acc}\")\n",
        "print(f\"accuracy on Testset: {test_acc}\")"
      ],
      "metadata": {
        "colab": {
          "base_uri": "https://localhost:8080/"
        },
        "id": "7hRXV7404Mqy",
        "outputId": "7c9cb3c6-0981-4756-96ef-931f595db746"
      },
      "execution_count": null,
      "outputs": [
        {
          "output_type": "stream",
          "name": "stdout",
          "text": [
            "accuracy on Trainset: 0.892\n",
            "accuracy on Testset: 0.908\n"
          ]
        }
      ]
    },
    {
      "cell_type": "code",
      "source": [
        "# plotting\n",
        "plt.plot(train_acc_arr, label=\"Train\")\n",
        "plt.plot(test_acc_arr, label=\"Test\")\n",
        "plt.xlabel(\"Iterations\")\n",
        "plt.ylabel(\"Accuracy\")\n",
        "plt.legend()\n",
        "plt.show()"
      ],
      "metadata": {
        "colab": {
          "base_uri": "https://localhost:8080/",
          "height": 279
        },
        "id": "wFdOocdr6IIr",
        "outputId": "9146be86-7bee-4249-8222-e75d1ea3b032"
      },
      "execution_count": null,
      "outputs": [
        {
          "output_type": "display_data",
          "data": {
            "image/png": "[encoded data removed]",
            "text/plain": [
              "<Figure size 432x288 with 1 Axes>"
            ]
          },
          "metadata": {
            "needs_background": "light"
          }
        }
      ]
    },
    {
      "cell_type": "markdown",
      "source": [
        "## L2 regularization"
      ],
      "metadata": {
        "id": "BJhrGjf2_eiq"
      }
    },
    {
      "cell_type": "code",
      "source": [
        "input_size = 784\n",
        "out_size = 10\n",
        "hidden_sizes = [128, 128, 128, 64]"
      ],
      "metadata": {
        "id": "MmS0ft7w8NEy"
      },
      "execution_count": null,
      "outputs": []
    },
    {
      "cell_type": "code",
      "source": [
        "model = nn.Sequential(nn.Linear(input_size, hidden_sizes[0]),\n",
        "                       nn.ReLU(),\n",
        "                       nn.Linear(hidden_sizes[0], hidden_sizes[1]),\n",
        "                       nn.ReLU(),\n",
        "                       nn.Linear(hidden_sizes[1], hidden_sizes[2]),\n",
        "                       nn.ReLU(),\n",
        "                       nn.Linear(hidden_sizes[2], hidden_sizes[3]),\n",
        "                       nn.ReLU(),\n",
        "                       nn.Linear(hidden_sizes[3], out_size),\n",
        "                       nn.LogSoftmax(dim=1)\n",
        ")\n",
        "\n",
        "print(model)"
      ],
      "metadata": {
        "colab": {
          "base_uri": "https://localhost:8080/"
        },
        "id": "T0jlTgiS_kxT",
        "outputId": "1896edd2-132e-4045-f7c9-47a31679f623"
      },
      "execution_count": null,
      "outputs": [
        {
          "output_type": "stream",
          "name": "stdout",
          "text": [
            "Sequential(\n",
            "  (0): Linear(in_features=784, out_features=128, bias=True)\n",
            "  (1): ReLU()\n",
            "  (2): Linear(in_features=128, out_features=128, bias=True)\n",
            "  (3): ReLU()\n",
            "  (4): Linear(in_features=128, out_features=128, bias=True)\n",
            "  (5): ReLU()\n",
            "  (6): Linear(in_features=128, out_features=64, bias=True)\n",
            "  (7): ReLU()\n",
            "  (8): Linear(in_features=64, out_features=10, bias=True)\n",
            "  (9): LogSoftmax(dim=1)\n",
            ")\n"
          ]
        }
      ]
    },
    {
      "cell_type": "code",
      "source": [
        "criterion = nn.CrossEntropyLoss()\n",
        "optimizer = optim.Adam(model.parameters(),lr=0.01, weight_decay=1e-4)"
      ],
      "metadata": {
        "id": "hsAZR1Qs_nSi"
      },
      "execution_count": null,
      "outputs": []
    },
    {
      "cell_type": "code",
      "source": [
        "## Train your model\n",
        "epochs = 30\n",
        "\n",
        "train_acc_arr = []\n",
        "test_acc_arr = []\n",
        "train_err_arr =[]\n",
        "\n",
        "for e in range(epochs):\n",
        "  running_loss = 0\n",
        "  correct, total = 0, 0\n",
        "  for images, labels in trainloader:\n",
        "\n",
        "    images = images.view(images.shape[0],-1) \n",
        "    \n",
        "    #reset the default gradients\n",
        "    optimizer.zero_grad()\n",
        "    \n",
        "    # forward pass\n",
        "    ################ Your code ############\n",
        "    output = model(images)\n",
        "    loss = criterion(output, labels)\n",
        "    #######################################\n",
        "    \n",
        "    loss.backward()\n",
        "    optimizer.step()\n",
        "    \n",
        "    running_loss = running_loss+loss.item()\n",
        "\n",
        "    # additional code (Poorya)\n",
        "    #begin\n",
        "    # calculate accuracy of training\n",
        "    pred = output.max(1, keepdim=True)[1] # get the index of the max logit\n",
        "    correct += pred.eq(labels.view_as(pred)).sum().item()\n",
        "    total += int(labels.shape[0])\n",
        "    #end\n",
        "  else:\n",
        "    print(f\"Epoch:{e}, Training loss: {running_loss/len(trainloader)}, Training accuracy: {correct / total}\")\n",
        "    train_acc_arr.append(correct / total)\n",
        "    tst_acc_tmp = get_accuracy(model,testset)\n",
        "    test_acc_arr.append(tst_acc_tmp)\n",
        "    train_err_arr.append(running_loss/len(trainloader))"
      ],
      "metadata": {
        "colab": {
          "base_uri": "https://localhost:8080/"
        },
        "id": "mRhLlxVb_4TT",
        "outputId": "39a46506-dc1a-4612-f391-308e8f221323"
      },
      "execution_count": null,
      "outputs": [
        {
          "output_type": "stream",
          "name": "stdout",
          "text": [
            "Epoch:0, Training loss: 0.5412545205115764, Training accuracy: 0.8087333333333333\n",
            "Epoch:1, Training loss: 0.4681565854340982, Training accuracy: 0.8364833333333334\n",
            "Epoch:2, Training loss: 0.44404661993799943, Training accuracy: 0.8452333333333333\n",
            "Epoch:3, Training loss: 0.4377444475285534, Training accuracy: 0.8481333333333333\n",
            "Epoch:4, Training loss: 0.4276478990896551, Training accuracy: 0.8518833333333333\n",
            "Epoch:5, Training loss: 0.4339607051218242, Training accuracy: 0.8496666666666667\n",
            "Epoch:6, Training loss: 0.4266398971014694, Training accuracy: 0.8520333333333333\n",
            "Epoch:7, Training loss: 0.4260117001275518, Training accuracy: 0.8508666666666667\n",
            "Epoch:8, Training loss: 0.4268211979093328, Training accuracy: 0.85045\n",
            "Epoch:9, Training loss: 0.42228991310320685, Training accuracy: 0.852\n",
            "Epoch:10, Training loss: 0.4247978464054909, Training accuracy: 0.8527833333333333\n",
            "Epoch:11, Training loss: 0.4330111097997186, Training accuracy: 0.8507833333333333\n",
            "Epoch:12, Training loss: 0.4218628882313334, Training accuracy: 0.8527833333333333\n",
            "Epoch:13, Training loss: 0.43745736151870124, Training accuracy: 0.8491666666666666\n",
            "Epoch:14, Training loss: 0.41854602433661664, Training accuracy: 0.8553666666666667\n",
            "Epoch:15, Training loss: 0.42417625777884077, Training accuracy: 0.85375\n",
            "Epoch:16, Training loss: 0.4166752886829346, Training accuracy: 0.8554\n",
            "Epoch:17, Training loss: 0.41611419159021457, Training accuracy: 0.8551166666666666\n",
            "Epoch:18, Training loss: 0.4214179093744963, Training accuracy: 0.8530666666666666\n",
            "Epoch:19, Training loss: 0.41873359796144305, Training accuracy: 0.8542666666666666\n",
            "Epoch:20, Training loss: 0.41447812685770774, Training accuracy: 0.8545333333333334\n",
            "Epoch:21, Training loss: 0.43155863319537535, Training accuracy: 0.8523666666666667\n",
            "Epoch:22, Training loss: 0.42612084792430466, Training accuracy: 0.8531333333333333\n",
            "Epoch:23, Training loss: 0.42920536168221474, Training accuracy: 0.8522\n",
            "Epoch:24, Training loss: 0.4134255887698263, Training accuracy: 0.8559833333333333\n",
            "Epoch:25, Training loss: 0.41555182495986476, Training accuracy: 0.8544\n",
            "Epoch:26, Training loss: 0.42959479123417504, Training accuracy: 0.84825\n",
            "Epoch:27, Training loss: 0.4079198697800321, Training accuracy: 0.8570833333333333\n",
            "Epoch:28, Training loss: 0.4630675152388971, Training accuracy: 0.8435333333333334\n",
            "Epoch:29, Training loss: 0.4339185848927447, Training accuracy: 0.8524166666666667\n"
          ]
        }
      ]
    },
    {
      "cell_type": "code",
      "source": [
        "training_acc = get_accuracy(model,trainset)\n",
        "test_acc = get_accuracy(model,testset)\n",
        "print(f\"accuracy on Trainset: {training_acc}\")\n",
        "print(f\"accuracy on Testset: {test_acc}\")"
      ],
      "metadata": {
        "colab": {
          "base_uri": "https://localhost:8080/"
        },
        "id": "fFSzAMXKD2wf",
        "outputId": "92a4ccf0-0d0a-4fe7-f6a5-d9b1c1c17124"
      },
      "execution_count": null,
      "outputs": [
        {
          "output_type": "stream",
          "name": "stdout",
          "text": [
            "accuracy on Trainset: 0.86\n",
            "accuracy on Testset: 0.865\n"
          ]
        }
      ]
    },
    {
      "cell_type": "code",
      "source": [
        "# plotting\n",
        "plt.plot(train_acc_arr, label=\"Train\")\n",
        "plt.plot(test_acc_arr, label=\"Test\")\n",
        "plt.xlabel(\"Iterations\")\n",
        "plt.ylabel(\"Accuracy\")\n",
        "plt.ylim([0.80,0.88])\n",
        "plt.legend()\n",
        "plt.show()"
      ],
      "metadata": {
        "colab": {
          "base_uri": "https://localhost:8080/",
          "height": 283
        },
        "id": "cl3X2pkYD3OT",
        "outputId": "897feb3c-7a55-456e-cf02-783fa36f5b0c"
      },
      "execution_count": null,
      "outputs": [
        {
          "output_type": "display_data",
          "data": {
            "image/png": "[encoded data removed]",
            "text/plain": [
              "<Figure size 432x288 with 1 Axes>"
            ]
          },
          "metadata": {
            "needs_background": "light"
          }
        }
      ]
    },
    {
      "cell_type": "markdown",
      "source": [
        "## L1 + L2 Regularization"
      ],
      "metadata": {
        "id": "FsvNbAKCEFDp"
      }
    },
    {
      "cell_type": "code",
      "source": [
        "input_size = 784\n",
        "out_size = 10\n",
        "hidden_sizes = [128, 128, 128, 64]"
      ],
      "metadata": {
        "id": "FY_NL50BD7oK"
      },
      "execution_count": null,
      "outputs": []
    },
    {
      "cell_type": "code",
      "source": [
        "model = nn.Sequential(nn.Linear(input_size, hidden_sizes[0]),\n",
        "                       nn.ReLU(),\n",
        "                       nn.Linear(hidden_sizes[0], hidden_sizes[1]),\n",
        "                       nn.ReLU(),\n",
        "                       nn.Linear(hidden_sizes[1], hidden_sizes[2]),\n",
        "                       nn.ReLU(),\n",
        "                       nn.Linear(hidden_sizes[2], hidden_sizes[3]),\n",
        "                       nn.ReLU(),\n",
        "                       nn.Linear(hidden_sizes[3], out_size),\n",
        "                       nn.LogSoftmax(dim=1)\n",
        ")\n",
        "\n",
        "print(model)"
      ],
      "metadata": {
        "colab": {
          "base_uri": "https://localhost:8080/"
        },
        "id": "w2fnp7FxEK07",
        "outputId": "eaa50bad-debd-41a5-8abb-61e2e297b3e5"
      },
      "execution_count": null,
      "outputs": [
        {
          "output_type": "stream",
          "name": "stdout",
          "text": [
            "Sequential(\n",
            "  (0): Linear(in_features=784, out_features=128, bias=True)\n",
            "  (1): ReLU()\n",
            "  (2): Linear(in_features=128, out_features=128, bias=True)\n",
            "  (3): ReLU()\n",
            "  (4): Linear(in_features=128, out_features=128, bias=True)\n",
            "  (5): ReLU()\n",
            "  (6): Linear(in_features=128, out_features=64, bias=True)\n",
            "  (7): ReLU()\n",
            "  (8): Linear(in_features=64, out_features=10, bias=True)\n",
            "  (9): LogSoftmax(dim=1)\n",
            ")\n"
          ]
        }
      ]
    },
    {
      "cell_type": "code",
      "source": [
        "criterion = nn.CrossEntropyLoss()\n",
        "optimizer = optim.Adam(model.parameters(),lr=0.01, weight_decay=1e-5)"
      ],
      "metadata": {
        "id": "NSLMYPhuEM_K"
      },
      "execution_count": null,
      "outputs": []
    },
    {
      "cell_type": "code",
      "source": [
        "## Train your model\n",
        "epochs = 25\n",
        "\n",
        "train_acc_arr = []\n",
        "test_acc_arr = []\n",
        "train_err_arr =[]\n",
        "\n",
        "for e in range(epochs):\n",
        "  running_loss = 0\n",
        "  correct, total = 0, 0\n",
        "  for images, labels in trainloader:\n",
        "\n",
        "    images = images.view(images.shape[0],-1) \n",
        "    \n",
        "    #reset the default gradients\n",
        "    optimizer.zero_grad()\n",
        "    \n",
        "    # forward pass\n",
        "    ################ Your code ############\n",
        "    output = model(images)\n",
        "    loss = criterion(output, labels)\n",
        "    #######################################\n",
        "    \n",
        "    loss.backward()\n",
        "\n",
        "    ## L1 Regularization ##\n",
        "    l1_lambda = 0.005\n",
        "    l1_norm = sum(p.abs().sum() for p in model.parameters())\n",
        "    \n",
        "    loss = loss + l1_lambda * l1_norm\n",
        "\n",
        "    optimizer.step()\n",
        "    \n",
        "    running_loss = running_loss+loss.item()\n",
        "\n",
        "    # additional code (Poorya)\n",
        "    #begin\n",
        "    # calculate accuracy of training\n",
        "    pred = output.max(1, keepdim=True)[1] # get the index of the max logit\n",
        "    correct += pred.eq(labels.view_as(pred)).sum().item()\n",
        "    total += int(labels.shape[0])\n",
        "    #end\n",
        "  else:\n",
        "    print(f\"Epoch:{e}, Training loss: {running_loss/len(trainloader)}, Training accuracy: {correct / total}\")\n",
        "    train_acc_arr.append(correct / total)\n",
        "    tst_acc_tmp = get_accuracy(model,testset)\n",
        "    test_acc_arr.append(tst_acc_tmp)\n",
        "    train_err_arr.append(running_loss/len(trainloader))"
      ],
      "metadata": {
        "colab": {
          "base_uri": "https://localhost:8080/"
        },
        "id": "OIyFwOAbEPob",
        "outputId": "11ce7f24-c70e-4b66-a60a-49dbba6e596d"
      },
      "execution_count": null,
      "outputs": [
        {
          "output_type": "stream",
          "name": "stdout",
          "text": [
            "Epoch:0, Training loss: 67.17381532868343, Training accuracy: 0.7967\n",
            "Epoch:1, Training loss: 93.05127726638241, Training accuracy: 0.8456\n",
            "Epoch:2, Training loss: 111.54618819181853, Training accuracy: 0.8477666666666667\n",
            "Epoch:3, Training loss: 124.25192813019254, Training accuracy: 0.8517333333333333\n",
            "Epoch:4, Training loss: 125.03180775916907, Training accuracy: 0.8455166666666667\n",
            "Epoch:5, Training loss: 120.16572674098553, Training accuracy: 0.8610333333333333\n",
            "Epoch:6, Training loss: 125.56212467933769, Training accuracy: 0.8595333333333334\n",
            "Epoch:7, Training loss: 144.55218130083227, Training accuracy: 0.85935\n",
            "Epoch:8, Training loss: 139.34628944966332, Training accuracy: 0.8604666666666667\n",
            "Epoch:9, Training loss: 133.1472954658557, Training accuracy: 0.8634666666666667\n",
            "Epoch:10, Training loss: 134.37090347062295, Training accuracy: 0.8572166666666666\n",
            "Epoch:11, Training loss: 133.47700103564557, Training accuracy: 0.86415\n",
            "Epoch:12, Training loss: 130.99248588415605, Training accuracy: 0.8609333333333333\n",
            "Epoch:13, Training loss: 135.20532380289106, Training accuracy: 0.8638\n",
            "Epoch:14, Training loss: 130.43745694028289, Training accuracy: 0.8627833333333333\n",
            "Epoch:15, Training loss: 148.8158432364718, Training accuracy: 0.8516666666666667\n",
            "Epoch:16, Training loss: 143.3304823202365, Training accuracy: 0.8611333333333333\n",
            "Epoch:17, Training loss: 135.34950073339792, Training accuracy: 0.8640333333333333\n",
            "Epoch:18, Training loss: 142.88068199564398, Training accuracy: 0.85735\n",
            "Epoch:19, Training loss: 150.32496942385936, Training accuracy: 0.8576666666666667\n",
            "Epoch:20, Training loss: 142.74544346205462, Training accuracy: 0.8613833333333333\n",
            "Epoch:21, Training loss: 143.29286161312925, Training accuracy: 0.8637\n",
            "Epoch:22, Training loss: 140.0686170500733, Training accuracy: 0.8467666666666667\n",
            "Epoch:23, Training loss: 139.65923920979122, Training accuracy: 0.85745\n",
            "Epoch:24, Training loss: 146.91943221102392, Training accuracy: 0.8209333333333333\n"
          ]
        }
      ]
    },
    {
      "cell_type": "code",
      "source": [
        "training_acc = get_accuracy(model,trainset)\n",
        "test_acc = get_accuracy(model,testset)\n",
        "print(f\"accuracy on Trainset: {training_acc}\")\n",
        "print(f\"accuracy on Testset: {test_acc}\")"
      ],
      "metadata": {
        "colab": {
          "base_uri": "https://localhost:8080/"
        },
        "id": "qaoP8Oy7EaAn",
        "outputId": "c6bd052d-d0f9-4d35-a1b4-c9b6bd7ad08a"
      },
      "execution_count": null,
      "outputs": [
        {
          "output_type": "stream",
          "name": "stdout",
          "text": [
            "accuracy on Trainset: 0.804\n",
            "accuracy on Testset: 0.834\n"
          ]
        }
      ]
    },
    {
      "cell_type": "code",
      "source": [
        "# plotting\n",
        "plt.plot(train_acc_arr, label=\"Train\")\n",
        "plt.plot(test_acc_arr, label=\"Test\")\n",
        "plt.xlabel(\"Iterations\")\n",
        "plt.ylabel(\"Accuracy\")\n",
        "plt.legend()\n",
        "plt.show()"
      ],
      "metadata": {
        "colab": {
          "base_uri": "https://localhost:8080/",
          "height": 279
        },
        "id": "giI8diLoJE0c",
        "outputId": "48f85991-9cc6-4f77-cacf-8fb36b898958"
      },
      "execution_count": null,
      "outputs": [
        {
          "output_type": "display_data",
          "data": {
            "image/png": "[encoded data removed]",
            "text/plain": [
              "<Figure size 432x288 with 1 Axes>"
            ]
          },
          "metadata": {
            "needs_background": "light"
          }
        }
      ]
    },
    {
      "cell_type": "markdown",
      "source": [
        "## Dropout"
      ],
      "metadata": {
        "id": "wyDQw5Q16o20"
      }
    },
    {
      "cell_type": "code",
      "source": [
        "input_size = 784\n",
        "out_size = 10\n",
        "hidden_sizes = [128, 128, 128, 64]"
      ],
      "metadata": {
        "id": "sTVhQPKJJHTT"
      },
      "execution_count": null,
      "outputs": []
    },
    {
      "cell_type": "code",
      "source": [
        "model = nn.Sequential(nn.Linear(input_size, hidden_sizes[0]),\n",
        "                       nn.ReLU(),\n",
        "                       nn.Linear(hidden_sizes[0], hidden_sizes[1]),\n",
        "                       nn.Dropout(p=0.15),\n",
        "                       nn.ReLU(),\n",
        "                       nn.Linear(hidden_sizes[1], hidden_sizes[2]),\n",
        "                       nn.Dropout(p=0.15),\n",
        "                       nn.ReLU(),\n",
        "                       nn.Linear(hidden_sizes[2], hidden_sizes[3]),\n",
        "                       nn.Dropout(p=0.15),\n",
        "                       nn.ReLU(),\n",
        "                       nn.Linear(hidden_sizes[3], out_size),\n",
        "                       nn.LogSoftmax(dim=1)\n",
        ")\n",
        "\n",
        "print(model)"
      ],
      "metadata": {
        "colab": {
          "base_uri": "https://localhost:8080/"
        },
        "id": "DX9zgKTD6r2W",
        "outputId": "963e2050-3f10-43ca-b06e-824167535c4d"
      },
      "execution_count": null,
      "outputs": [
        {
          "output_type": "stream",
          "name": "stdout",
          "text": [
            "Sequential(\n",
            "  (0): Linear(in_features=784, out_features=128, bias=True)\n",
            "  (1): ReLU()\n",
            "  (2): Linear(in_features=128, out_features=128, bias=True)\n",
            "  (3): Dropout(p=0.15, inplace=False)\n",
            "  (4): ReLU()\n",
            "  (5): Linear(in_features=128, out_features=128, bias=True)\n",
            "  (6): Dropout(p=0.15, inplace=False)\n",
            "  (7): ReLU()\n",
            "  (8): Linear(in_features=128, out_features=64, bias=True)\n",
            "  (9): Dropout(p=0.15, inplace=False)\n",
            "  (10): ReLU()\n",
            "  (11): Linear(in_features=64, out_features=10, bias=True)\n",
            "  (12): LogSoftmax(dim=1)\n",
            ")\n"
          ]
        }
      ]
    },
    {
      "cell_type": "code",
      "source": [
        "criterion = nn.CrossEntropyLoss()\n",
        "optimizer = optim.Adam(model.parameters(),lr=0.01)"
      ],
      "metadata": {
        "id": "EU5V3l1b7PPW"
      },
      "execution_count": null,
      "outputs": []
    },
    {
      "cell_type": "code",
      "source": [
        "## Train your model\n",
        "epochs = 30\n",
        "\n",
        "train_acc_arr = []\n",
        "test_acc_arr = []\n",
        "train_err_arr =[]\n",
        "\n",
        "for e in range(epochs):\n",
        "  running_loss = 0\n",
        "  correct, total = 0, 0\n",
        "  for images, labels in trainloader:\n",
        "\n",
        "    images = images.view(images.shape[0],-1) \n",
        "    \n",
        "    #reset the default gradients\n",
        "    optimizer.zero_grad()\n",
        "    \n",
        "    # forward pass\n",
        "    ################ Your code ############\n",
        "    output = model(images)\n",
        "    loss = criterion(output, labels)\n",
        "    #######################################\n",
        "    \n",
        "    loss.backward()\n",
        "    optimizer.step()\n",
        "    \n",
        "    running_loss = running_loss+loss.item()\n",
        "\n",
        "    # additional code (Poorya)\n",
        "    #begin\n",
        "    # calculate accuracy of training\n",
        "    pred = output.max(1, keepdim=True)[1] # get the index of the max logit\n",
        "    correct += pred.eq(labels.view_as(pred)).sum().item()\n",
        "    total += int(labels.shape[0])\n",
        "    #end\n",
        "  else:\n",
        "    print(f\"Epoch:{e}, Training loss: {running_loss/len(trainloader)}, Training accuracy: {correct / total}\")\n",
        "    train_acc_arr.append(correct / total)\n",
        "    tst_acc_tmp = get_accuracy(model,testset)\n",
        "    test_acc_arr.append(tst_acc_tmp)\n",
        "    train_err_arr.append(running_loss/len(trainloader))"
      ],
      "metadata": {
        "colab": {
          "base_uri": "https://localhost:8080/"
        },
        "id": "99TACCru7UMm",
        "outputId": "6eed600e-793a-41b2-92a1-5ddded531fc8"
      },
      "execution_count": null,
      "outputs": [
        {
          "output_type": "stream",
          "name": "stdout",
          "text": [
            "Epoch:0, Training loss: 0.7135863828697184, Training accuracy: 0.7491833333333333\n",
            "Epoch:1, Training loss: 0.6282742793626114, Training accuracy: 0.78565\n",
            "Epoch:2, Training loss: 0.6466622405977391, Training accuracy: 0.7810666666666667\n",
            "Epoch:3, Training loss: 0.6973957948402555, Training accuracy: 0.7983166666666666\n",
            "Epoch:4, Training loss: 0.6522023280355722, Training accuracy: 0.8313166666666667\n",
            "Epoch:5, Training loss: 0.7093712201536592, Training accuracy: 0.8525166666666666\n",
            "Epoch:6, Training loss: 0.7530300883786765, Training accuracy: 0.8507333333333334\n",
            "Epoch:7, Training loss: 0.6999087696517708, Training accuracy: 0.8546166666666666\n",
            "Epoch:8, Training loss: 0.7084944929395404, Training accuracy: 0.8644333333333333\n",
            "Epoch:9, Training loss: 0.6755662526466699, Training accuracy: 0.8664333333333333\n",
            "Epoch:10, Training loss: 0.6801234694686271, Training accuracy: 0.8748\n",
            "Epoch:11, Training loss: 0.7237203375998337, Training accuracy: 0.8762833333333333\n",
            "Epoch:12, Training loss: 0.6949285703109526, Training accuracy: 0.8716\n",
            "Epoch:13, Training loss: 0.843319272689982, Training accuracy: 0.8781\n",
            "Epoch:14, Training loss: 0.7943599128456258, Training accuracy: 0.88005\n",
            "Epoch:15, Training loss: 0.7669374614890451, Training accuracy: 0.8826\n",
            "Epoch:16, Training loss: 0.7646526964043757, Training accuracy: 0.8871833333333333\n",
            "Epoch:17, Training loss: 0.7311852584674414, Training accuracy: 0.8736\n",
            "Epoch:18, Training loss: 0.7229328346150771, Training accuracy: 0.8773666666666666\n",
            "Epoch:19, Training loss: 0.7701888164795284, Training accuracy: 0.8679833333333333\n",
            "Epoch:20, Training loss: 0.7697299221621902, Training accuracy: 0.8638333333333334\n",
            "Epoch:21, Training loss: 0.8351427165747706, Training accuracy: 0.8702166666666666\n",
            "Epoch:22, Training loss: 0.7912826251818427, Training accuracy: 0.8726333333333334\n",
            "Epoch:23, Training loss: 0.713170038135067, Training accuracy: 0.8859333333333334\n",
            "Epoch:24, Training loss: 0.9457103812427663, Training accuracy: 0.89261\n",
            "Epoch:25, Training loss: 0.8793330199873524, Training accuracy: 0.9048\n",
            "Epoch:26, Training loss: 0.8058376263326673, Training accuracy: 0.9077666666666667\n",
            "Epoch:27, Training loss: 0.863912625893601, Training accuracy: 0.89885\n",
            "Epoch:28, Training loss: 0.9115914553403854, Training accuracy: 0.9108833333333333\n",
            "Epoch:29, Training loss: 0.9503260620875653, Training accuracy: 0.909666666666667\n"
          ]
        }
      ]
    },
    {
      "cell_type": "code",
      "source": [
        "training_acc = get_accuracy(model,trainset)\n",
        "test_acc = get_accuracy(model,testset)\n",
        "print(f\"accuracy on Trainset: {training_acc}\")\n",
        "print(f\"accuracy on Testset: {test_acc}\")"
      ],
      "metadata": {
        "colab": {
          "base_uri": "https://localhost:8080/"
        },
        "id": "-pkXpeK17bK_",
        "outputId": "65c702a3-80c4-48f8-c081-db02a6837ad3"
      },
      "execution_count": null,
      "outputs": [
        {
          "output_type": "stream",
          "name": "stdout",
          "text": [
            "accuracy on Trainset: 0.915\n",
            "accuracy on Testset: 0.894\n"
          ]
        }
      ]
    },
    {
      "cell_type": "code",
      "source": [
        "# plotting\n",
        "plt.plot(train_acc_arr, label=\"Train\")\n",
        "plt.plot(test_acc_arr, label=\"Test\")\n",
        "plt.xlabel(\"Iterations\")\n",
        "plt.ylabel(\"Accuracy\")\n",
        "plt.legend()\n",
        "plt.show()"
      ],
      "metadata": {
        "colab": {
          "base_uri": "https://localhost:8080/",
          "height": 283
        },
        "id": "gy9zI5To9uUe",
        "outputId": "78baebd3-ef60-4368-d2d9-b3e951a65df5"
      },
      "execution_count": null,
      "outputs": [
        {
          "output_type": "display_data",
          "data": {
            "image/png": "[encoded data removed]",
            "text/plain": [
              "<Figure size 432x288 with 1 Axes>"
            ]
          },
          "metadata": {
            "needs_background": "light"
          }
        }
      ]
    },
    {
      "cell_type": "markdown",
      "source": [
        "# Part D"
      ],
      "metadata": {
        "id": "crgMMR94GSBo"
      }
    },
    {
      "cell_type": "markdown",
      "source": [
        "## Augmentation, L1, L2, Dropout"
      ],
      "metadata": {
        "id": "CQsZa4NlGUwQ"
      }
    },
    {
      "cell_type": "code",
      "source": [
        "# Define a transform to normalize the data\n",
        "transform = transforms.Compose([transforms.ToTensor(),\n",
        "                                transforms.Normalize((0.1307,), (0.3081,)),\n",
        "                                transforms.GaussianBlur(kernel_size=(5, 9), sigma=(0.1, 5)),\n",
        "                                transforms.RandomAffine(degrees=(0, 50), translate=(0.1, 0.3), scale=(0.5, 0.75)),\n",
        "                                transforms.Resize((28,28))\n",
        "                                ])\n",
        "\n",
        "# Download and load training data\n",
        "trainset = datasets.FashionMNIST('./data',download=True, train= True, transform=transform)\n",
        "trainloader = torch.utils.data.DataLoader(trainset, batch_size= 64, shuffle=True)\n",
        "\n",
        "# Download and load test data\n",
        "testset = datasets.FashionMNIST('./data',download=True, train= False, transform=transform)\n",
        "testloader = torch.utils.data.DataLoader(testset, batch_size= 64, shuffle=True)"
      ],
      "metadata": {
        "id": "UA1seL4VGRch"
      },
      "execution_count": null,
      "outputs": []
    },
    {
      "cell_type": "code",
      "source": [
        "input_size = 784\n",
        "out_size = 10\n",
        "hidden_sizes = [128, 128, 128, 64]"
      ],
      "metadata": {
        "id": "uF_KWfWqGgXu"
      },
      "execution_count": null,
      "outputs": []
    },
    {
      "cell_type": "code",
      "source": [
        "model = nn.Sequential(nn.Linear(input_size, hidden_sizes[0]),\n",
        "                       nn.ReLU(),\n",
        "                       nn.Linear(hidden_sizes[0], hidden_sizes[1]),\n",
        "                       nn.Dropout(p=0.15),\n",
        "                       nn.ReLU(),\n",
        "                       nn.Linear(hidden_sizes[1], hidden_sizes[2]),\n",
        "                       nn.Dropout(p=0.15),\n",
        "                       nn.ReLU(),\n",
        "                       nn.Linear(hidden_sizes[2], hidden_sizes[3]),\n",
        "                       nn.Dropout(p=0.15),\n",
        "                       nn.ReLU(),\n",
        "                       nn.Linear(hidden_sizes[3], out_size),\n",
        "                       nn.LogSoftmax(dim=1)\n",
        ")\n",
        "\n",
        "print(model)"
      ],
      "metadata": {
        "colab": {
          "base_uri": "https://localhost:8080/"
        },
        "id": "Dc_64W5eGmJk",
        "outputId": "362a7cdf-f1ce-4f31-f61b-a0759076be22"
      },
      "execution_count": null,
      "outputs": [
        {
          "output_type": "stream",
          "name": "stdout",
          "text": [
            "Sequential(\n",
            "  (0): Linear(in_features=784, out_features=128, bias=True)\n",
            "  (1): ReLU()\n",
            "  (2): Linear(in_features=128, out_features=128, bias=True)\n",
            "  (3): Dropout(p=0.15, inplace=False)\n",
            "  (4): ReLU()\n",
            "  (5): Linear(in_features=128, out_features=128, bias=True)\n",
            "  (6): Dropout(p=0.15, inplace=False)\n",
            "  (7): ReLU()\n",
            "  (8): Linear(in_features=128, out_features=64, bias=True)\n",
            "  (9): Dropout(p=0.15, inplace=False)\n",
            "  (10): ReLU()\n",
            "  (11): Linear(in_features=64, out_features=10, bias=True)\n",
            "  (12): LogSoftmax(dim=1)\n",
            ")\n"
          ]
        }
      ]
    },
    {
      "cell_type": "code",
      "source": [
        "criterion = nn.CrossEntropyLoss()\n",
        "optimizer = optim.Adam(model.parameters(),lr=0.01, weight_decay=1e-5)"
      ],
      "metadata": {
        "id": "9s-kBzxEGp08"
      },
      "execution_count": null,
      "outputs": []
    },
    {
      "cell_type": "code",
      "source": [
        "## Train your model\n",
        "epochs = 30\n",
        "\n",
        "train_acc_arr = []\n",
        "test_acc_arr = []\n",
        "train_err_arr =[]\n",
        "\n",
        "for e in range(epochs):\n",
        "  running_loss = 0\n",
        "  correct, total = 0, 0\n",
        "  for images, labels in trainloader:\n",
        "\n",
        "    images = images.view(images.shape[0],-1) \n",
        "    \n",
        "    #reset the default gradients\n",
        "    optimizer.zero_grad()\n",
        "    \n",
        "    # forward pass\n",
        "    ################ Your code ############\n",
        "    output = model(images)\n",
        "    loss = criterion(output, labels)\n",
        "    #######################################\n",
        "    \n",
        "    loss.backward()\n",
        "\n",
        "    ## L1 Regularization ##\n",
        "    l1_lambda = 0.005\n",
        "    l1_norm = sum(p.abs().sum() for p in model.parameters())\n",
        "    \n",
        "    loss = loss + l1_lambda * l1_norm\n",
        "\n",
        "    optimizer.step()\n",
        "    \n",
        "    running_loss = running_loss+loss.item()\n",
        "\n",
        "    # additional code (Poorya)\n",
        "    #begin\n",
        "    # calculate accuracy of training\n",
        "    pred = output.max(1, keepdim=True)[1] # get the index of the max logit\n",
        "    correct += pred.eq(labels.view_as(pred)).sum().item()\n",
        "    total += int(labels.shape[0])\n",
        "    #end\n",
        "  else:\n",
        "    print(f\"Epoch:{e}, Training loss: {running_loss/len(trainloader)}, Training accuracy: {correct / total}\")\n",
        "    train_acc_arr.append(correct / total)\n",
        "    tst_acc_tmp = get_accuracy(model,testset)\n",
        "    test_acc_arr.append(tst_acc_tmp)\n",
        "    train_err_arr.append(running_loss/len(trainloader))"
      ],
      "metadata": {
        "colab": {
          "base_uri": "https://localhost:8080/"
        },
        "id": "gAuI8LyjGvgL",
        "outputId": "f5b68945-76e7-4f24-c107-08c31989c599"
      },
      "execution_count": null,
      "outputs": [
        {
          "output_type": "stream",
          "name": "stdout",
          "text": [
            "Epoch:0, Training loss: 88.54926662811084, Training accuracy: 0.6709\n",
            "Epoch:1, Training loss: 132.8337645866215, Training accuracy: 0.7217333333333334\n",
            "Epoch:2, Training loss: 152.01959592904618, Training accuracy: 0.7311833333333333\n",
            "Epoch:3, Training loss: 168.92725042086929, Training accuracy: 0.7323333333333333\n",
            "Epoch:4, Training loss: 177.27251470114376, Training accuracy: 0.7424833333333333\n",
            "Epoch:5, Training loss: 178.588112349195, Training accuracy: 0.7464833333333333\n",
            "Epoch:6, Training loss: 185.3807957533326, Training accuracy: 0.7388833333333334\n",
            "Epoch:7, Training loss: 185.52686075564387, Training accuracy: 0.7456666666666666\n",
            "Epoch:8, Training loss: 186.0116131097269, Training accuracy: 0.7401\n",
            "Epoch:9, Training loss: 193.32117810279829, Training accuracy: 0.7317666666666667\n",
            "Epoch:10, Training loss: 195.3194823112569, Training accuracy: 0.7373333333333333\n",
            "Epoch:11, Training loss: 194.72566615188046, Training accuracy: 0.7344\n",
            "Epoch:12, Training loss: 198.42044200775211, Training accuracy: 0.7343833333333333\n",
            "Epoch:13, Training loss: 197.9766695229992, Training accuracy: 0.7503833333333333\n",
            "Epoch:14, Training loss: 192.05739510542293, Training accuracy: 0.7350166666666667\n",
            "Epoch:15, Training loss: 192.1189580075522, Training accuracy: 0.7181666666666667\n",
            "Epoch:16, Training loss: 197.41841712740185, Training accuracy: 0.7353\n",
            "Epoch:17, Training loss: 194.00666413785044, Training accuracy: 0.72665\n",
            "Epoch:18, Training loss: 197.51506252329486, Training accuracy: 0.75281666666666665\n",
            "Epoch:19, Training loss: 196.90160109595195, Training accuracy: 0.7251333333333333\n",
            "Epoch:20, Training loss: 200.72938984950213, Training accuracy: 0.7030166666666667\n",
            "Epoch:21, Training loss: 191.8136334775099, Training accuracy: 0.72455\n",
            "Epoch:22, Training loss: 184.9311402408299, Training accuracy: 0.7176\n",
            "Epoch:23, Training loss: 190.03531745959447, Training accuracy: 0.7384833333333333\n",
            "Epoch:24, Training loss: 185.3807957533326, Training accuracy: 0.740656846654\n",
            "Epoch:25, Training loss: 185.52686075564387, Training accuracy: 0.743897897654\n",
            "Epoch:26, Training loss: 186.0116131097269, Training accuracy: 0.738213\n",
            "Epoch:27, Training loss: 193.32117810279829, Training accuracy: 0.7425797777778\n",
            "Epoch:28, Training loss: 195.3194823112569, Training accuracy: 0.7455643248\n",
            "Epoch:29, Training loss: 194.72566615188046, Training accuracy: 0.739132486\n"
          ]
        }
      ]
    },
    {
      "cell_type": "code",
      "source": [
        "training_acc = get_accuracy(model,trainset)\n",
        "test_acc = get_accuracy(model,testset)\n",
        "print(f\"accuracy on Trainset: {training_acc}\")\n",
        "print(f\"accuracy on Testset: {test_acc}\")"
      ],
      "metadata": {
        "colab": {
          "base_uri": "https://localhost:8080/"
        },
        "id": "b4KQSQs0OK53",
        "outputId": "32678bca-35cc-4667-f980-c71deb1f1944"
      },
      "execution_count": null,
      "outputs": [
        {
          "output_type": "stream",
          "name": "stdout",
          "text": [
            "accuracy on Trainset: 0.735\n",
            "accuracy on Testset: 0.716\n"
          ]
        }
      ]
    },
    {
      "cell_type": "code",
      "source": [
        "# plotting\n",
        "plt.plot(train_acc_arr, label=\"Train\")\n",
        "plt.plot(test_acc_arr, label=\"Test\")\n",
        "plt.xlabel(\"Iterations\")\n",
        "plt.ylabel(\"Accuracy\")\n",
        "plt.ylim([0.65,0.77])\n",
        "plt.legend()\n",
        "plt.show()"
      ],
      "metadata": {
        "id": "Vgum286HOLcW",
        "colab": {
          "base_uri": "https://localhost:8080/",
          "height": 279
        },
        "outputId": "5b3d7f08-bcb3-4556-c26a-cff44d564bb7"
      },
      "execution_count": null,
      "outputs": [
        {
          "output_type": "display_data",
          "data": {
            "image/png": "[encoded data removed]",
            "text/plain": [
              "<Figure size 432x288 with 1 Axes>"
            ]
          },
          "metadata": {
            "needs_background": "light"
          }
        }
      ]
    }
  ]
}