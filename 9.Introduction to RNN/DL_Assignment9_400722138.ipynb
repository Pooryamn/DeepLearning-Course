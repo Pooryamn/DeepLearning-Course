{
  "cells": [
    {
      "cell_type": "markdown",
      "metadata": {
        "id": "lsLT3Ld-1iAl"
      },
      "source": [
        "Imports"
      ]
    },
    {
      "cell_type": "code",
      "execution_count": 1,
      "metadata": {
        "id": "jCwGY5Uw0r_V"
      },
      "outputs": [],
      "source": [
        "import numpy as np\n",
        "\n",
        "from keras.datasets import imdb\n",
        "from keras.preprocessing.sequence import pad_sequences\n",
        "from sklearn.model_selection import train_test_split\n",
        "\n",
        "import torch\n",
        "import torch.autograd as autograd\n",
        "import torch.nn as nn\n",
        "import torch.nn.functional as F\n",
        "import torch.optim as optim\n",
        "import os\n",
        "import random\n",
        "from torch.autograd import Variable"
      ]
    },
    {
      "cell_type": "markdown",
      "metadata": {
        "id": "bG02ldK81-7X"
      },
      "source": [
        "**Load and prepare data**"
      ]
    },
    {
      "cell_type": "markdown",
      "metadata": {
        "id": "LdycLUWi2Tme"
      },
      "source": [
        "The IMDB sentiment classification dataset consists of 50,000 movie reviews from IMDB users that are labeled as either positive (1) or negative (0). The reviews are preprocessed and each one is encoded as a sequence of word indexes in the form of integers. The words within the reviews are indexed by their overall frequency within the dataset. For example, the integer “2” encodes the second most frequent word in the data. The 50,000 reviews are split into 25,000 for training and 25,000 for testing.\n",
        "\n",
        "Fortunately, the IMDB dataset has already been built in Keras. Since we want to avoid a 50/50 train test split, we will immediately merge the data into data and targets after downloading so we can do an 80/20 split later on.\n"
      ]
    },
    {
      "cell_type": "code",
      "execution_count": 2,
      "metadata": {
        "colab": {
          "base_uri": "https://localhost:8080/"
        },
        "id": "7Dpp17FK2uVe",
        "outputId": "c607f898-1224-4a71-8c93-738702d35e77"
      },
      "outputs": [
        {
          "output_type": "stream",
          "name": "stdout",
          "text": [
            "Loading data...\n",
            "Downloading data from https://storage.googleapis.com/tensorflow/tf-keras-datasets/imdb.npz\n",
            "17465344/17464789 [==============================] - 0s 0us/step\n",
            "17473536/17464789 [==============================] - 0s 0us/step\n",
            "x_train shape: (40000, 100)\n",
            "x_test shape: (10000, 100)\n"
          ]
        }
      ],
      "source": [
        "print('Loading data...')\n",
        "\n",
        "#Maximum number of words\n",
        "max_features = 20000\n",
        "\n",
        "(train_data, train_label), (test_data, test_label) = imdb.load_data(num_words=max_features)\n",
        "data = np.concatenate((train_data, test_data), axis=0)\n",
        "targets = np.concatenate((train_label, test_label), axis=0)\n",
        "maxlen = 100\n",
        "\n",
        "# The data must be the same length to enter as the input of our recursive neural network.\n",
        "X = pad_sequences(data, maxlen=maxlen)\n",
        "\n",
        "# split data to train and test\n",
        "X_train, X_test, y_train, y_test = train_test_split(X, targets, test_size=0.2)\n",
        "\n",
        "print('x_train shape:', X_train.shape)\n",
        "print('x_test shape:', X_test.shape)"
      ]
    },
    {
      "cell_type": "markdown",
      "metadata": {
        "id": "7FOgp0Ql673y"
      },
      "source": [
        "Now it is time to build a very simple recursive model. Use the embedding layer as the first layer.You can see more information about this layers in the following link. You are not allowed to use LSTM in this exercise."
      ]
    },
    {
      "cell_type": "markdown",
      "metadata": {
        "id": "Fb1pl-BjCc48"
      },
      "source": [
        "https://pytorch.org/docs/stable/generated/torch.nn.RNN.html\n",
        "\n",
        "https://pytorch.org/docs/stable/generated/torch.nn.Embedding.html"
      ]
    },
    {
      "cell_type": "markdown",
      "metadata": {
        "id": "RO4AyGqgzGaG"
      },
      "source": [
        "# Model"
      ]
    },
    {
      "cell_type": "code",
      "execution_count": 3,
      "metadata": {
        "id": "hIs6jWvozGaG"
      },
      "outputs": [],
      "source": [
        "class RNN_Model(nn.Module):\n",
        "    def __init__(self, input_dim, embedding_dim, hidden_dim, output_dim):\n",
        "        \n",
        "        super().__init__()\n",
        "        \n",
        "        self.embedding = nn.Embedding(input_dim, embedding_dim)\n",
        "        \n",
        "        self.rnn = nn.RNN(embedding_dim, hidden_dim)\n",
        "        \n",
        "        self.fc = nn.Linear(hidden_dim, output_dim)\n",
        "        \n",
        "        #self.fc2 = nn.Sigmoid()\n",
        "        \n",
        "    def forward(self, text):\n",
        "\n",
        "        #text = [sent len, batch size]\n",
        "        \n",
        "        embedded = self.embedding(text)\n",
        "        \n",
        "        #embedded = [sent len, batch size, emb dim]\n",
        "        \n",
        "        output, hidden = self.rnn(embedded)\n",
        "        \n",
        "        #output = [sent len, batch size, hid dim]\n",
        "        #hidden = [1, batch size, hid dim]\n",
        "        \n",
        "        assert torch.equal(output[-1,:,:], hidden.squeeze(0))\n",
        "        \n",
        "        #######\n",
        "        #tmp = self.fc(hidden.squeeze(0))\n",
        "        \n",
        "        return self.fc(hidden.squeeze(0))"
      ]
    },
    {
      "cell_type": "markdown",
      "metadata": {
        "id": "NGt9VTuQzGaH"
      },
      "source": [
        "## Hyper parameters"
      ]
    },
    {
      "cell_type": "code",
      "execution_count": 4,
      "metadata": {
        "id": "m1oCOnlhvDyt"
      },
      "outputs": [],
      "source": [
        "# Define hyperparameters\n",
        "n_epochs = 20\n",
        "lr = 0.001\n",
        "\n",
        "# make model\n",
        "INPUT_DIM = len(X_train)\n",
        "EMBEDDING_DIM = 100\n",
        "HIDDEN_DIM = 256\n",
        "OUTPUT_DIM = 1\n",
        "BATCH_SIZE = 100\n",
        "\n",
        "model = RNN_Model(INPUT_DIM, EMBEDDING_DIM, HIDDEN_DIM, OUTPUT_DIM)\n",
        "# Define Loss, Optimizer\n",
        "criterion = nn.BCEWithLogitsLoss()\n",
        "optimizer = optim.Adam(model.parameters(), lr = lr)"
      ]
    },
    {
      "cell_type": "markdown",
      "metadata": {
        "id": "DWvTOPk_zGaI"
      },
      "source": [
        "## Run faster on GPU"
      ]
    },
    {
      "cell_type": "code",
      "execution_count": 5,
      "metadata": {
        "colab": {
          "base_uri": "https://localhost:8080/"
        },
        "id": "WZ_YZ3owzGaJ",
        "outputId": "1f0140fa-e35c-4c72-bf5c-ac78b49f9e83"
      },
      "outputs": [
        {
          "output_type": "stream",
          "name": "stdout",
          "text": [
            "cuda\n"
          ]
        }
      ],
      "source": [
        "device = torch.device('cuda' if torch.cuda.is_available() else 'cpu')\n",
        "model = model.to(device)\n",
        "criterion = criterion.to(device)\n",
        "\n",
        "print(device)"
      ]
    },
    {
      "cell_type": "markdown",
      "metadata": {
        "id": "QhHDhYaMzGaJ"
      },
      "source": [
        "## Evaluate function"
      ]
    },
    {
      "cell_type": "code",
      "execution_count": 6,
      "metadata": {
        "id": "d483wqaVzGaJ"
      },
      "outputs": [],
      "source": [
        "def binary_accuracy(preds, y):\n",
        "    \"\"\"\n",
        "    Returns accuracy per batch, i.e. if you get 8/10 right, this returns 0.8, NOT 8\n",
        "    \"\"\"\n",
        "\n",
        "    #round predictions to the closest integer\n",
        "    rounded_preds = torch.round(torch.sigmoid(preds))\n",
        "    #rounded_preds = torch.round(preds)\n",
        "\n",
        "    correct = (rounded_preds == y).float() #convert into float for division \n",
        "    acc = correct.sum() / len(correct)\n",
        "    return acc"
      ]
    },
    {
      "cell_type": "code",
      "execution_count": 45,
      "metadata": {
        "id": "_ACI1lpRzGaK"
      },
      "outputs": [],
      "source": [
        "def evaluate(model, iterator, labels, criterion):\n",
        "    \n",
        "    epoch_loss = 0\n",
        "    epoch_acc = 0\n",
        "    \n",
        "    model.eval()\n",
        "    \n",
        "    with torch.no_grad():\n",
        "    \n",
        "        for batch in iterator:\n",
        "\n",
        "            predictions = model(iterator).squeeze(1)\n",
        "\n",
        "            loss = criterion(predictions, labels.float())\n",
        "\n",
        "            acc = binary_accuracy(predictions, labels.float())\n",
        "\n",
        "            epoch_loss += loss.item()\n",
        "            epoch_acc += acc.item()\n",
        "        \n",
        "    return epoch_loss / 100.0, epoch_acc / 100.0"
      ]
    },
    {
      "cell_type": "markdown",
      "metadata": {
        "id": "rN5AAGx1zTIx"
      },
      "source": [
        "Train your model with training data, then report the model result on the test data."
      ]
    },
    {
      "cell_type": "code",
      "execution_count": 9,
      "metadata": {
        "id": "sxF9iCcfzrsY"
      },
      "outputs": [],
      "source": [
        "# Train your model\n",
        "def train(model, iterator, labels, optimizer, criterion):\n",
        "    \n",
        "    epoch_loss = 0\n",
        "    epoch_acc = 0\n",
        "    \n",
        "    model.train()\n",
        "    \n",
        "    #for batch in iterator:\n",
        "        \n",
        "    optimizer.zero_grad()\n",
        "\n",
        "    predictions = model(iterator).squeeze(1)\n",
        "    \n",
        "    \n",
        "    loss = criterion(predictions, labels.float())\n",
        "\n",
        "    acc = binary_accuracy(predictions, labels)\n",
        "\n",
        "    loss.backward()\n",
        "\n",
        "    optimizer.step()\n",
        "\n",
        "    epoch_loss += loss.item()\n",
        "    epoch_acc += acc.item()\n",
        "        \n",
        "    return epoch_loss / 100 , epoch_acc / 100\n"
      ]
    },
    {
      "cell_type": "code",
      "source": [
        "import matplotlib.pyplot as plt"
      ],
      "metadata": {
        "id": "awXSCzqj5LUs"
      },
      "execution_count": 32,
      "outputs": []
    },
    {
      "cell_type": "markdown",
      "source": [
        "# RUN"
      ],
      "metadata": {
        "id": "Mm4UhjCf5Xpv"
      }
    },
    {
      "cell_type": "code",
      "source": [
        "# main\n",
        "\n",
        "best_valid_loss = float('inf')\n",
        "\n",
        "train_accuracy_history = []\n",
        "test_accuracy_history = []\n",
        "train_loss_history = []\n",
        "test_loss_history = []\n",
        "\n",
        "for epoch in range(n_epochs):\n",
        "\n",
        "    valid_loss_epoch = []\n",
        "    valid_acc_epoch = []\n",
        "\n",
        "    for i in range(1, X_train.shape[0]//BATCH_SIZE+1):\n",
        "        train_iterator = X_train[(i-1)*BATCH_SIZE:i*BATCH_SIZE]\n",
        "        train_labels = y_train[(i-1)*BATCH_SIZE:i*BATCH_SIZE]\n",
        "        \n",
        "        test_iterator = X_test[(i-1)*BATCH_SIZE:i*BATCH_SIZE]\n",
        "        test_labels = y_test[(i-1)*BATCH_SIZE:i*BATCH_SIZE]\n",
        "        \n",
        "        \n",
        "        # Casting\n",
        "        train_iterator = torch.from_numpy(train_iterator)\n",
        "        train_labels = torch.from_numpy(train_labels)\n",
        "        \n",
        "        test_iterator = torch.from_numpy(test_iterator)\n",
        "        test_labels = torch.from_numpy(test_labels)\n",
        "        \n",
        "        # to cuda\n",
        "        train_iterator = train_iterator.to(device)\n",
        "        train_labels = train_labels.to(device)\n",
        "        test_iterator = test_iterator.to(device)\n",
        "        test_labels = test_labels.to(device)\n",
        "\n",
        "        train_loss, train_acc = train(model, train_iterator , train_labels, optimizer, criterion)\n",
        "        valid_loss, valid_acc = evaluate(model, test_iterator, test_labels, criterion)\n",
        "        \n",
        "        \n",
        "    \n",
        "\n",
        "    \n",
        "    if valid_loss < best_valid_loss:\n",
        "        best_valid_loss = valid_loss\n",
        "        torch.save(model.state_dict(), 'tut1-model.pt')\n",
        "        \n",
        "\n",
        "    print(f'Epoch: {epoch+1:02}')\n",
        "    print(f'\\tTrain Loss: {train_loss:.5f} | Train Acc: {train_acc:.3f}%')\n",
        "    print(f'\\t Val. Loss: {valid_loss:.5f} |  Val. Acc: {valid_acc:.3f}%')\n",
        "    \n",
        "    # save results:\n",
        "    train_accuracy_history.append(train_acc)\n",
        "    test_accuracy_history.append(valid_acc)\n",
        "    train_loss_history.append(train_loss)\n",
        "    test_loss_history.append(valid_loss)"
      ],
      "metadata": {
        "colab": {
          "base_uri": "https://localhost:8080/"
        },
        "id": "d4eY59vr5XUF",
        "outputId": "8bbb1971-3e82-44e3-f85d-409aca31b21f"
      },
      "execution_count": 31,
      "outputs": [
        {
          "output_type": "stream",
          "name": "stdout",
          "text": [
            "Epoch: 01\n",
            "\tTrain Loss: 0.34900 | Train Acc: 0.840%\n",
            "\t Val. Loss: 0.72918 |  Val. Acc: 0.640%\n",
            "Epoch: 02\n",
            "\tTrain Loss: 0.33874 | Train Acc: 0.830%\n",
            "\t Val. Loss: 0.53442 |  Val. Acc: 0.715%\n",
            "Epoch: 03\n",
            "\tTrain Loss: 0.52163 | Train Acc: 0.740%\n",
            "\t Val. Loss: 0.51246 |  Val. Acc: 0.710%\n",
            "Epoch: 04\n",
            "\tTrain Loss: 0.56530 | Train Acc: 0.670%\n",
            "\t Val. Loss: 0.41860 |  Val. Acc: 0.685%\n",
            "Epoch: 05\n",
            "\tTrain Loss: 0.53509 | Train Acc: 0.750%\n",
            "\t Val. Loss: 0.40289 |  Val. Acc: 0.690%\n",
            "Epoch: 06\n",
            "\tTrain Loss: 0.48972 | Train Acc: 0.740%\n",
            "\t Val. Loss: 0.41182 |  Val. Acc: 0.715%\n",
            "Epoch: 07\n",
            "\tTrain Loss: 0.46880 | Train Acc: 0.760%\n",
            "\t Val. Loss: 0.38921 |  Val. Acc: 0.740%\n",
            "Epoch: 08\n",
            "\tTrain Loss: 0.45999 | Train Acc: 0.780%\n",
            "\t Val. Loss: 0.40929 |  Val. Acc: 0.765%\n",
            "Epoch: 09\n",
            "\tTrain Loss: 0.41135 | Train Acc: 0.810%\n",
            "\t Val. Loss: 0.38161 |  Val. Acc: 0.740%\n",
            "Epoch: 10\n",
            "\tTrain Loss: 0.39016 | Train Acc: 0.790%\n",
            "\t Val. Loss: 0.37974 |  Val. Acc: 0.775%\n",
            "Epoch: 11\n",
            "\tTrain Loss: 0.36108 | Train Acc: 0.830%\n",
            "\t Val. Loss: 0.37826 |  Val. Acc: 0.790%\n",
            "Epoch: 12\n",
            "\tTrain Loss: 0.33932 | Train Acc: 0.820%\n",
            "\t Val. Loss: 0.38038 |  Val. Acc: 0.805%\n",
            "Epoch: 13\n",
            "\tTrain Loss: 0.33601 | Train Acc: 0.830%\n",
            "\t Val. Loss: 0.40369 |  Val. Acc: 0.800%\n",
            "Epoch: 14\n",
            "\tTrain Loss: 0.32427 | Train Acc: 0.820%\n",
            "\t Val. Loss: 0.40918 |  Val. Acc: 0.835%\n",
            "Epoch: 15\n",
            "\tTrain Loss: 0.32395 | Train Acc: 0.830%\n",
            "\t Val. Loss: 0.40366 |  Val. Acc: 0.850%\n",
            "Epoch: 16\n",
            "\tTrain Loss: 0.31007 | Train Acc: 0.850%\n",
            "\t Val. Loss: 0.39803 |  Val. Acc: 0.865%\n",
            "Epoch: 17\n",
            "\tTrain Loss: 0.29051 | Train Acc: 0.860%\n",
            "\t Val. Loss: 0.39223 |  Val. Acc: 0.890%\n",
            "Epoch: 18\n",
            "\tTrain Loss: 0.31191 | Train Acc: 0.850%\n",
            "\t Val. Loss: 0.42600 |  Val. Acc: 0.915%\n",
            "Epoch: 19\n",
            "\tTrain Loss: 0.28702 | Train Acc: 0.860%\n",
            "\t Val. Loss: 0.45253 |  Val. Acc: 0.930%\n",
            "Epoch: 20\n",
            "\tTrain Loss: 0.30433 | Train Acc: 0.880%\n",
            "\t Val. Loss: 0.51759 |  Val. Acc: 0.935%\n"
          ]
        }
      ]
    },
    {
      "cell_type": "code",
      "source": [
        "# Plot\n",
        "# summarize history for accuracy\n",
        "plt.plot(train_accuracy_history)\n",
        "plt.plot(test_accuracy_history)\n",
        "plt.title('model accuracy')\n",
        "plt.ylabel('accuracy')\n",
        "plt.xlabel('epoch')\n",
        "plt.legend(['train', 'test'], loc='upper left')\n",
        "plt.show()\n",
        "# summarize history for loss\n",
        "plt.plot(train_loss_history)\n",
        "plt.plot(test_loss_history)\n",
        "plt.title('model loss')\n",
        "plt.ylabel('loss')\n",
        "plt.xlabel('epoch')\n",
        "plt.legend(['train', 'test'], loc='upper left')\n",
        "plt.show()"
      ],
      "metadata": {
        "colab": {
          "base_uri": "https://localhost:8080/",
          "height": 573
        },
        "id": "UtYghcSvcuhA",
        "outputId": "a8aa41da-f421-4f9a-c675-bb9cc09899d1"
      },
      "execution_count": 43,
      "outputs": [
        {
          "output_type": "display_data",
          "data": {
            "text/plain": [
              "<Figure size 432x288 with 1 Axes>"
            ],
            "image/png": "[encoded data removed]"
          },
          "metadata": {
            "needs_background": "light"
          }
        },
        {
          "output_type": "display_data",
          "data": {
            "text/plain": [
              "<Figure size 432x288 with 1 Axes>"
            ],
            "image/png": "[encoded data removed]"
          },
          "metadata": {
            "needs_background": "light"
          }
        }
      ]
    },
    {
      "cell_type": "markdown",
      "source": [
        "# Test Results"
      ],
      "metadata": {
        "id": "-oR6jBTpejYu"
      }
    },
    {
      "cell_type": "code",
      "execution_count": 44,
      "metadata": {
        "id": "4O7L9416z3Ua",
        "colab": {
          "base_uri": "https://localhost:8080/"
        },
        "outputId": "cc967a29-5e7a-4fa1-c586-c74b47233c54"
      },
      "outputs": [
        {
          "output_type": "stream",
          "name": "stdout",
          "text": [
            "Test Loss: 0.532 | Test Acc: 0.86%\n"
          ]
        }
      ],
      "source": [
        "# Predict your model on test data\n",
        "model.load_state_dict(torch.load('tut1-model.pt'))\n",
        "\n",
        "test_iterator = X_test[(2)*BATCH_SIZE:2*BATCH_SIZE]\n",
        "test_labels = y_test[(2)*BATCH_SIZE:2*BATCH_SIZE]\n",
        "\n",
        "test_loss, test_acc = evaluate(model, test_iterator, test_labels, criterion)\n",
        "\n",
        "print(f'Test Loss: {test_loss:.3f} | Test Acc: {test_acc:.2f}%')\n"
      ]
    }
  ],
  "metadata": {
    "colab": {
      "collapsed_sections": [],
      "name": "DL_Assignment9.ipynb",
      "provenance": []
    },
    "kernelspec": {
      "display_name": "Python 3 (ipykernel)",
      "language": "python",
      "name": "python3"
    },
    "language_info": {
      "codemirror_mode": {
        "name": "ipython",
        "version": 3
      },
      "file_extension": ".py",
      "mimetype": "text/x-python",
      "name": "python",
      "nbconvert_exporter": "python",
      "pygments_lexer": "ipython3",
      "version": "3.9.7"
    },
    "accelerator": "GPU"
  },
  "nbformat": 4,
  "nbformat_minor": 0
}