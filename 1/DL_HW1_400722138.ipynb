{
 "cells": [
  {
   "cell_type": "markdown",
   "id": "f45b013e-1981-42fb-8d27-8bd6d693cd30",
   "metadata": {
    "tags": []
   },
   "source": [
    "<h1 style=\"color: blue; text-align: center;\">Deep Learning</h1>\n",
    "<h2 style=\"color: blue; text-align: center;\">Homework 1</h2>\n",
    "<h2 style=\"color: green; text-align: center;\">Poorya MohammadiNasab</h2>\n",
    "<h2 style=\"color: green; text-align: center;\">400722138</h2>\n"
   ]
  },
  {
   "cell_type": "markdown",
   "id": "a3d957ab-4339-4831-9856-7ffbfb9b1b04",
   "metadata": {},
   "source": [
    "## 2.1.8. Exercises"
   ]
  },
  {
   "cell_type": "code",
   "execution_count": 1,
   "id": "19c7e4ea-37e0-40b6-ba43-7ce07e790f48",
   "metadata": {},
   "outputs": [],
   "source": [
    "import torch"
   ]
  },
  {
   "cell_type": "code",
   "execution_count": 2,
   "id": "224e4439-f686-4220-b5b8-4fec3305371e",
   "metadata": {},
   "outputs": [
    {
     "data": {
      "text/plain": [
       "tensor([ 0.,  1.,  2.,  3.,  4.,  5.,  6.,  7.,  8.,  9., 10., 11.])"
      ]
     },
     "execution_count": 2,
     "metadata": {},
     "output_type": "execute_result"
    }
   ],
   "source": [
    "x = torch.arange(12, dtype=torch.float32)\n",
    "x"
   ]
  },
  {
   "cell_type": "code",
   "execution_count": 3,
   "id": "2e997aad-4d2d-4f15-8e63-966f6e06ac20",
   "metadata": {},
   "outputs": [
    {
     "data": {
      "text/plain": [
       "torch.Size([12])"
      ]
     },
     "execution_count": 3,
     "metadata": {},
     "output_type": "execute_result"
    }
   ],
   "source": [
    "x.shape"
   ]
  },
  {
   "cell_type": "code",
   "execution_count": 4,
   "id": "74011061-05e6-45f4-8177-2510b001186e",
   "metadata": {},
   "outputs": [
    {
     "data": {
      "text/plain": [
       "12"
      ]
     },
     "execution_count": 4,
     "metadata": {},
     "output_type": "execute_result"
    }
   ],
   "source": [
    "x.numel()"
   ]
  },
  {
   "cell_type": "code",
   "execution_count": 5,
   "id": "b78bf889-fd63-434f-8ae0-67fbe2271176",
   "metadata": {},
   "outputs": [
    {
     "data": {
      "text/plain": [
       "tensor([[ 0.,  1.,  2.,  3.],\n",
       "        [ 4.,  5.,  6.,  7.],\n",
       "        [ 8.,  9., 10., 11.]])"
      ]
     },
     "execution_count": 5,
     "metadata": {},
     "output_type": "execute_result"
    }
   ],
   "source": [
    "X = x.reshape(3, 4)\n",
    "X"
   ]
  },
  {
   "cell_type": "code",
   "execution_count": 6,
   "id": "60179875-5c84-4786-95cc-aede6208c2bf",
   "metadata": {},
   "outputs": [
    {
     "data": {
      "text/plain": [
       "torch.Size([3, 4])"
      ]
     },
     "execution_count": 6,
     "metadata": {},
     "output_type": "execute_result"
    }
   ],
   "source": [
    "X.shape"
   ]
  },
  {
   "cell_type": "code",
   "execution_count": 7,
   "id": "c1b5578e-5f10-4134-8050-ecb44bf0068b",
   "metadata": {},
   "outputs": [
    {
     "data": {
      "text/plain": [
       "12"
      ]
     },
     "execution_count": 7,
     "metadata": {},
     "output_type": "execute_result"
    }
   ],
   "source": [
    "X.numel()"
   ]
  },
  {
   "cell_type": "code",
   "execution_count": 8,
   "id": "c7888d34-3063-4298-978c-13f893f87034",
   "metadata": {},
   "outputs": [
    {
     "data": {
      "text/plain": [
       "tensor([[[0., 0., 0., 0.],\n",
       "         [0., 0., 0., 0.],\n",
       "         [0., 0., 0., 0.]],\n",
       "\n",
       "        [[0., 0., 0., 0.],\n",
       "         [0., 0., 0., 0.],\n",
       "         [0., 0., 0., 0.]]])"
      ]
     },
     "execution_count": 8,
     "metadata": {},
     "output_type": "execute_result"
    }
   ],
   "source": [
    "torch.zeros((2, 3, 4))"
   ]
  },
  {
   "cell_type": "code",
   "execution_count": 9,
   "id": "95d67ff1-adcd-4d2e-9c29-8e492b47dd24",
   "metadata": {},
   "outputs": [
    {
     "data": {
      "text/plain": [
       "tensor([[1., 1., 1., 1.],\n",
       "        [1., 1., 1., 1.],\n",
       "        [1., 1., 1., 1.]])"
      ]
     },
     "execution_count": 9,
     "metadata": {},
     "output_type": "execute_result"
    }
   ],
   "source": [
    "torch.ones((3, 4))"
   ]
  },
  {
   "cell_type": "code",
   "execution_count": 10,
   "id": "8cd13f2c-e0bf-441e-bcbd-4ed0fafbfa8b",
   "metadata": {},
   "outputs": [
    {
     "data": {
      "text/plain": [
       "tensor([[-0.6059,  0.1687, -0.2701,  0.2875],\n",
       "        [ 0.4469, -1.3740, -0.1324,  0.8488],\n",
       "        [-0.9613,  0.7421,  0.5657,  1.5737]])"
      ]
     },
     "execution_count": 10,
     "metadata": {},
     "output_type": "execute_result"
    }
   ],
   "source": [
    "torch.randn(3, 4)"
   ]
  },
  {
   "cell_type": "code",
   "execution_count": 11,
   "id": "adda3dee-21c0-4b17-9810-44e0bdded062",
   "metadata": {},
   "outputs": [
    {
     "data": {
      "text/plain": [
       "tensor([[2, 1, 4, 3],\n",
       "        [1, 2, 3, 4],\n",
       "        [4, 3, 2, 1]])"
      ]
     },
     "execution_count": 11,
     "metadata": {},
     "output_type": "execute_result"
    }
   ],
   "source": [
    "torch.tensor([[2, 1, 4, 3], [1, 2, 3, 4], [4, 3, 2, 1]])"
   ]
  },
  {
   "cell_type": "code",
   "execution_count": 12,
   "id": "ea0b37a7-4854-4148-a0f9-de429fd66bfd",
   "metadata": {},
   "outputs": [
    {
     "data": {
      "text/plain": [
       "(tensor([ 3.,  4.,  6., 10.]),\n",
       " tensor([-1.,  0.,  2.,  6.]),\n",
       " tensor([ 2.,  4.,  8., 16.]),\n",
       " tensor([0.5000, 1.0000, 2.0000, 4.0000]),\n",
       " tensor([ 1.,  4., 16., 64.]))"
      ]
     },
     "execution_count": 12,
     "metadata": {},
     "output_type": "execute_result"
    }
   ],
   "source": [
    "x = torch.tensor([1.0, 2, 4, 8])\n",
    "y = torch.tensor([2, 2, 2, 2])\n",
    "x + y, x - y, x * y, x / y, x ** y  # The ** operator is exponentiation"
   ]
  },
  {
   "cell_type": "code",
   "execution_count": 13,
   "id": "a0baabb1-5c54-41a2-93f1-b528162590fe",
   "metadata": {},
   "outputs": [
    {
     "data": {
      "text/plain": [
       "tensor([2.7183e+00, 7.3891e+00, 5.4598e+01, 2.9810e+03])"
      ]
     },
     "execution_count": 13,
     "metadata": {},
     "output_type": "execute_result"
    }
   ],
   "source": [
    "torch.exp(x) # e^x"
   ]
  },
  {
   "cell_type": "code",
   "execution_count": 14,
   "id": "3832ad5f-5c37-4df3-862e-bf8bf753300d",
   "metadata": {},
   "outputs": [
    {
     "data": {
      "text/plain": [
       "(tensor([[ 0.,  1.,  2.,  3.],\n",
       "         [ 4.,  5.,  6.,  7.],\n",
       "         [ 8.,  9., 10., 11.],\n",
       "         [ 2.,  1.,  4.,  3.],\n",
       "         [ 1.,  2.,  3.,  4.],\n",
       "         [ 4.,  3.,  2.,  1.]]),\n",
       " tensor([[ 0.,  1.,  2.,  3.,  2.,  1.,  4.,  3.],\n",
       "         [ 4.,  5.,  6.,  7.,  1.,  2.,  3.,  4.],\n",
       "         [ 8.,  9., 10., 11.,  4.,  3.,  2.,  1.]]))"
      ]
     },
     "execution_count": 14,
     "metadata": {},
     "output_type": "execute_result"
    }
   ],
   "source": [
    "X = torch.arange(12, dtype=torch.float32).reshape((3,4))\n",
    "Y = torch.tensor([[2.0, 1, 4, 3], [1, 2, 3, 4], [4, 3, 2, 1]])\n",
    "torch.cat((X, Y), dim=0), torch.cat((X, Y), dim=1)"
   ]
  },
  {
   "cell_type": "code",
   "execution_count": 15,
   "id": "96b28488-b8c8-4f3c-b475-15bf993983fe",
   "metadata": {},
   "outputs": [
    {
     "data": {
      "text/plain": [
       "tensor([[False,  True, False,  True],\n",
       "        [False, False, False, False],\n",
       "        [False, False, False, False]])"
      ]
     },
     "execution_count": 15,
     "metadata": {},
     "output_type": "execute_result"
    }
   ],
   "source": [
    "X == Y"
   ]
  },
  {
   "cell_type": "code",
   "execution_count": 16,
   "id": "f965e316-17cc-4bf4-904c-75e0badf15c5",
   "metadata": {},
   "outputs": [
    {
     "data": {
      "text/plain": [
       "tensor([[False, False, False, False],\n",
       "        [ True,  True,  True,  True],\n",
       "        [ True,  True,  True,  True]])"
      ]
     },
     "execution_count": 16,
     "metadata": {},
     "output_type": "execute_result"
    }
   ],
   "source": [
    "X > Y"
   ]
  },
  {
   "cell_type": "code",
   "execution_count": 17,
   "id": "84878bef-eddb-4234-a35f-2a6de8792bb3",
   "metadata": {},
   "outputs": [
    {
     "data": {
      "text/plain": [
       "tensor([[ True, False,  True, False],\n",
       "        [False, False, False, False],\n",
       "        [False, False, False, False]])"
      ]
     },
     "execution_count": 17,
     "metadata": {},
     "output_type": "execute_result"
    }
   ],
   "source": [
    "X < Y"
   ]
  },
  {
   "cell_type": "code",
   "execution_count": 18,
   "id": "0598d845-6564-436a-8db8-5169d5914211",
   "metadata": {},
   "outputs": [
    {
     "data": {
      "text/plain": [
       "tensor(66.)"
      ]
     },
     "execution_count": 18,
     "metadata": {},
     "output_type": "execute_result"
    }
   ],
   "source": [
    "X.sum()"
   ]
  },
  {
   "cell_type": "code",
   "execution_count": 19,
   "id": "7256c3bb-40f0-4698-9cbb-afdd92bd73b3",
   "metadata": {},
   "outputs": [
    {
     "data": {
      "text/plain": [
       "(tensor([[0],\n",
       "         [1],\n",
       "         [2]]),\n",
       " tensor([[0, 1]]))"
      ]
     },
     "execution_count": 19,
     "metadata": {},
     "output_type": "execute_result"
    }
   ],
   "source": [
    "a = torch.arange(3).reshape((3, 1))\n",
    "b = torch.arange(2).reshape((1, 2))\n",
    "a, b"
   ]
  },
  {
   "cell_type": "code",
   "execution_count": 20,
   "id": "7bd36f19-2b46-4681-8825-036aca4ea3a0",
   "metadata": {},
   "outputs": [
    {
     "data": {
      "text/plain": [
       "tensor([[0, 1],\n",
       "        [1, 2],\n",
       "        [2, 3]])"
      ]
     },
     "execution_count": 20,
     "metadata": {},
     "output_type": "execute_result"
    }
   ],
   "source": [
    "a + b"
   ]
  },
  {
   "cell_type": "code",
   "execution_count": 21,
   "id": "7845aeda-1314-416b-b330-2d5b917af66a",
   "metadata": {},
   "outputs": [
    {
     "data": {
      "text/plain": [
       "(tensor([ 8.,  9., 10., 11.]),\n",
       " tensor([[ 4.,  5.,  6.,  7.],\n",
       "         [ 8.,  9., 10., 11.]]))"
      ]
     },
     "execution_count": 21,
     "metadata": {},
     "output_type": "execute_result"
    }
   ],
   "source": [
    "X[-1], X[1:4]"
   ]
  },
  {
   "cell_type": "code",
   "execution_count": 22,
   "id": "d2bea1e1-7aae-485f-bb3a-2bcac3d4a7f5",
   "metadata": {},
   "outputs": [
    {
     "data": {
      "text/plain": [
       "tensor([[ 0.,  1.,  2.,  3.],\n",
       "        [ 4.,  5.,  6.,  7.],\n",
       "        [ 8.,  9., 10., 11.]])"
      ]
     },
     "execution_count": 22,
     "metadata": {},
     "output_type": "execute_result"
    }
   ],
   "source": [
    "X"
   ]
  },
  {
   "cell_type": "code",
   "execution_count": 23,
   "id": "81b38aa4-05c2-4179-acfc-af3f7399e661",
   "metadata": {},
   "outputs": [
    {
     "data": {
      "text/plain": [
       "tensor([[ 0.,  1.,  2.,  3.],\n",
       "        [ 4.,  5.,  9.,  7.],\n",
       "        [ 8.,  9., 10., 11.]])"
      ]
     },
     "execution_count": 23,
     "metadata": {},
     "output_type": "execute_result"
    }
   ],
   "source": [
    "X[1, 2] = 9\n",
    "X"
   ]
  },
  {
   "cell_type": "code",
   "execution_count": 24,
   "id": "d1274a50-4817-4e22-aaa8-3c2ca3ac1eb6",
   "metadata": {},
   "outputs": [
    {
     "data": {
      "text/plain": [
       "tensor([[12., 12., 12., 12.],\n",
       "        [12., 12., 12., 12.],\n",
       "        [ 8.,  9., 10., 11.]])"
      ]
     },
     "execution_count": 24,
     "metadata": {},
     "output_type": "execute_result"
    }
   ],
   "source": [
    "X[0:2, :] = 12\n",
    "X"
   ]
  },
  {
   "cell_type": "code",
   "execution_count": 25,
   "id": "f5659b06-5808-40ca-9437-fc89580aeeac",
   "metadata": {},
   "outputs": [
    {
     "data": {
      "text/plain": [
       "False"
      ]
     },
     "execution_count": 25,
     "metadata": {},
     "output_type": "execute_result"
    }
   ],
   "source": [
    "before = id(Y)\n",
    "Y = Y + X\n",
    "id(Y) == before"
   ]
  },
  {
   "cell_type": "code",
   "execution_count": 26,
   "id": "d9e1a5f5-b32b-4b80-aea6-8e6b26dd1810",
   "metadata": {},
   "outputs": [
    {
     "name": "stdout",
     "output_type": "stream",
     "text": [
      "id(Z): 1734595123296\n",
      "id(Z): 1734595123296\n"
     ]
    }
   ],
   "source": [
    "Z = torch.zeros_like(Y)\n",
    "print('id(Z):', id(Z))\n",
    "Z[:] = X + Y\n",
    "print('id(Z):', id(Z))"
   ]
  },
  {
   "cell_type": "code",
   "execution_count": 27,
   "id": "d7debe29-7fe3-4113-927a-2ae23885dd45",
   "metadata": {},
   "outputs": [
    {
     "data": {
      "text/plain": [
       "True"
      ]
     },
     "execution_count": 27,
     "metadata": {},
     "output_type": "execute_result"
    }
   ],
   "source": [
    "before = id(X)\n",
    "X += Y\n",
    "id(X) == before"
   ]
  },
  {
   "cell_type": "code",
   "execution_count": 28,
   "id": "eb5fa57c-ff0f-4faa-bfc2-a345cef5faf5",
   "metadata": {},
   "outputs": [
    {
     "data": {
      "text/plain": [
       "(numpy.ndarray, torch.Tensor)"
      ]
     },
     "execution_count": 28,
     "metadata": {},
     "output_type": "execute_result"
    }
   ],
   "source": [
    "A = X.numpy()\n",
    "B = torch.from_numpy(A)\n",
    "type(A), type(B)"
   ]
  },
  {
   "cell_type": "code",
   "execution_count": 29,
   "id": "e35a4ec0-88c8-4688-86d6-d1bea4cc1741",
   "metadata": {},
   "outputs": [
    {
     "data": {
      "text/plain": [
       "(tensor([3.5000]), 3.5, 3.5, 3)"
      ]
     },
     "execution_count": 29,
     "metadata": {},
     "output_type": "execute_result"
    }
   ],
   "source": [
    "a = torch.tensor([3.5])\n",
    "a, a.item(), float(a), int(a)"
   ]
  },
  {
   "cell_type": "code",
   "execution_count": 45,
   "id": "3953a9d8-ea16-4116-bbc1-a2e7ed16d427",
   "metadata": {},
   "outputs": [
    {
     "name": "stdout",
     "output_type": "stream",
     "text": [
      "A\n",
      "tensor([[[1, 1, 6, 8],\n",
      "         [3, 3, 4, 4],\n",
      "         [9, 7, 1, 7]],\n",
      "\n",
      "        [[3, 1, 3, 6],\n",
      "         [9, 8, 9, 6],\n",
      "         [1, 9, 8, 3]]])\n",
      "B\n",
      "tensor([[[5, 7, 6, 2],\n",
      "         [0, 2, 4, 0],\n",
      "         [5, 3, 8, 2]],\n",
      "\n",
      "        [[4, 2, 3, 2],\n",
      "         [0, 7, 0, 1],\n",
      "         [9, 0, 0, 7]]])\n",
      "A + B\n",
      "tensor([[[ 6,  8, 12, 10],\n",
      "         [ 3,  5,  8,  4],\n",
      "         [14, 10,  9,  9]],\n",
      "\n",
      "        [[ 7,  3,  6,  8],\n",
      "         [ 9, 15,  9,  7],\n",
      "         [10,  9,  8, 10]]])\n"
     ]
    }
   ],
   "source": [
    "A = torch.randint(0,10,(2,3,4))\n",
    "B = torch.randint(0,10,(2,3,4))\n",
    "print('A')\n",
    "print(A)\n",
    "print('B')\n",
    "print(B)\n",
    "print('A + B') \n",
    "print(A + B)"
   ]
  },
  {
   "cell_type": "code",
   "execution_count": 46,
   "id": "e076ba61-f671-42e8-ae74-1dff53d507a5",
   "metadata": {},
   "outputs": [
    {
     "name": "stdout",
     "output_type": "stream",
     "text": [
      "A\n",
      "tensor([[[3, 0, 6, 8],\n",
      "         [3, 3, 5, 8],\n",
      "         [1, 4, 2, 2]]])\n",
      "B\n",
      "tensor([[[8, 9, 0, 7],\n",
      "         [8, 5, 4, 9],\n",
      "         [1, 9, 2, 8]],\n",
      "\n",
      "        [[2, 7, 4, 9],\n",
      "         [1, 1, 0, 5],\n",
      "         [7, 9, 2, 5]]])\n",
      "A + B\n",
      "tensor([[[11,  9,  6, 15],\n",
      "         [11,  8,  9, 17],\n",
      "         [ 2, 13,  4, 10]],\n",
      "\n",
      "        [[ 5,  7, 10, 17],\n",
      "         [ 4,  4,  5, 13],\n",
      "         [ 8, 13,  4,  7]]])\n"
     ]
    }
   ],
   "source": [
    "A = torch.randint(0,10,(1,3,4))\n",
    "B = torch.randint(0,10,(2,3,4))\n",
    "print('A')\n",
    "print(A)\n",
    "print('B')\n",
    "print(B)\n",
    "print('A + B') \n",
    "print(A + B)"
   ]
  },
  {
   "cell_type": "markdown",
   "id": "fafb35a8-8cc1-4c26-a4f1-482e1b38cef1",
   "metadata": {},
   "source": [
    "## 2.2.5. Exercises"
   ]
  },
  {
   "cell_type": "markdown",
   "id": "466aed0b-8c59-4d59-aa0a-ca3ead3573c0",
   "metadata": {},
   "source": [
    "#### Create a raw dataset with more rows and columns."
   ]
  },
  {
   "cell_type": "code",
   "execution_count": 47,
   "id": "0b595059-314c-4b20-9e2c-0faa7160ed24",
   "metadata": {},
   "outputs": [],
   "source": [
    "import pandas as pd"
   ]
  },
  {
   "cell_type": "code",
   "execution_count": 73,
   "id": "35dc1d05-42ce-42ce-99ba-8be473133950",
   "metadata": {},
   "outputs": [],
   "source": [
    "df = pd.read_csv('./Dataset/Sample_Data.csv',header=None)"
   ]
  },
  {
   "cell_type": "code",
   "execution_count": 74,
   "id": "7601c89d-ce68-40ca-a736-d0e18546c991",
   "metadata": {},
   "outputs": [
    {
     "data": {
      "text/html": [
       "<div>\n",
       "<style scoped>\n",
       "    .dataframe tbody tr th:only-of-type {\n",
       "        vertical-align: middle;\n",
       "    }\n",
       "\n",
       "    .dataframe tbody tr th {\n",
       "        vertical-align: top;\n",
       "    }\n",
       "\n",
       "    .dataframe thead th {\n",
       "        text-align: right;\n",
       "    }\n",
       "</style>\n",
       "<table border=\"1\" class=\"dataframe\">\n",
       "  <thead>\n",
       "    <tr style=\"text-align: right;\">\n",
       "      <th></th>\n",
       "      <th>0</th>\n",
       "      <th>1</th>\n",
       "      <th>2</th>\n",
       "      <th>3</th>\n",
       "      <th>4</th>\n",
       "      <th>5</th>\n",
       "      <th>6</th>\n",
       "    </tr>\n",
       "  </thead>\n",
       "  <tbody>\n",
       "    <tr>\n",
       "      <th>0</th>\n",
       "      <td>35.3</td>\n",
       "      <td>2.60</td>\n",
       "      <td>NaN</td>\n",
       "      <td>42.4</td>\n",
       "      <td>24.2</td>\n",
       "      <td>47.1</td>\n",
       "      <td>69</td>\n",
       "    </tr>\n",
       "    <tr>\n",
       "      <th>1</th>\n",
       "      <td>27.0</td>\n",
       "      <td>3.59</td>\n",
       "      <td>122.0</td>\n",
       "      <td>0.0</td>\n",
       "      <td>40.0</td>\n",
       "      <td>40.0</td>\n",
       "      <td>30</td>\n",
       "    </tr>\n",
       "    <tr>\n",
       "      <th>2</th>\n",
       "      <td>26.5</td>\n",
       "      <td>2.90</td>\n",
       "      <td>121.0</td>\n",
       "      <td>16.0</td>\n",
       "      <td>20.7</td>\n",
       "      <td>29.7</td>\n",
       "      <td>72</td>\n",
       "    </tr>\n",
       "    <tr>\n",
       "      <th>3</th>\n",
       "      <td>29.1</td>\n",
       "      <td>3.10</td>\n",
       "      <td>114.0</td>\n",
       "      <td>44.0</td>\n",
       "      <td>2.6</td>\n",
       "      <td>26.3</td>\n",
       "      <td>68</td>\n",
       "    </tr>\n",
       "    <tr>\n",
       "      <th>4</th>\n",
       "      <td>43.7</td>\n",
       "      <td>2.40</td>\n",
       "      <td>105.0</td>\n",
       "      <td>32.6</td>\n",
       "      <td>5.8</td>\n",
       "      <td>10.7</td>\n",
       "      <td>42</td>\n",
       "    </tr>\n",
       "  </tbody>\n",
       "</table>\n",
       "</div>"
      ],
      "text/plain": [
       "      0     1      2     3     4     5   6\n",
       "0  35.3  2.60    NaN  42.4  24.2  47.1  69\n",
       "1  27.0  3.59  122.0   0.0  40.0  40.0  30\n",
       "2  26.5  2.90  121.0  16.0  20.7  29.7  72\n",
       "3  29.1  3.10  114.0  44.0   2.6  26.3  68\n",
       "4  43.7  2.40  105.0  32.6   5.8  10.7  42"
      ]
     },
     "execution_count": 74,
     "metadata": {},
     "output_type": "execute_result"
    }
   ],
   "source": [
    "df.head()"
   ]
  },
  {
   "cell_type": "code",
   "execution_count": 75,
   "id": "3250b74e-79e9-4de8-8716-9340302db127",
   "metadata": {},
   "outputs": [
    {
     "data": {
      "text/plain": [
       "(79, 7)"
      ]
     },
     "execution_count": 75,
     "metadata": {},
     "output_type": "execute_result"
    }
   ],
   "source": [
    "df.shape"
   ]
  },
  {
   "cell_type": "markdown",
   "id": "ea629279-0bd5-4fb1-b0b4-66cda04b70ed",
   "metadata": {},
   "source": [
    "### 1. Delete the column with the most missing values."
   ]
  },
  {
   "cell_type": "code",
   "execution_count": 76,
   "id": "5dc1b2b1-1cd3-4b83-80ee-21fdd110eac7",
   "metadata": {},
   "outputs": [
    {
     "data": {
      "text/plain": [
       "0    0\n",
       "1    0\n",
       "2    4\n",
       "3    2\n",
       "4    2\n",
       "5    1\n",
       "6    0\n",
       "dtype: int64"
      ]
     },
     "execution_count": 76,
     "metadata": {},
     "output_type": "execute_result"
    }
   ],
   "source": [
    "df.isna().sum()"
   ]
  },
  {
   "cell_type": "code",
   "execution_count": 77,
   "id": "7f391712-7bb6-4c9d-96a4-4a454b46c9f9",
   "metadata": {},
   "outputs": [],
   "source": [
    "# drop column 2\n",
    "df.drop(columns=2,inplace=True)"
   ]
  },
  {
   "cell_type": "code",
   "execution_count": 78,
   "id": "1cb2a980-7862-4b5b-b693-31233510935a",
   "metadata": {},
   "outputs": [
    {
     "data": {
      "text/plain": [
       "0    0\n",
       "1    0\n",
       "3    2\n",
       "4    2\n",
       "5    1\n",
       "6    0\n",
       "dtype: int64"
      ]
     },
     "execution_count": 78,
     "metadata": {},
     "output_type": "execute_result"
    }
   ],
   "source": [
    "df.isna().sum()"
   ]
  },
  {
   "cell_type": "code",
   "execution_count": 79,
   "id": "2600b786-506a-4900-b016-06f244d32f8f",
   "metadata": {},
   "outputs": [],
   "source": [
    "df = df.fillna(df.mean())"
   ]
  },
  {
   "cell_type": "code",
   "execution_count": 80,
   "id": "7eded7f1-f2bb-46fe-89da-9e32673bae53",
   "metadata": {},
   "outputs": [
    {
     "data": {
      "text/plain": [
       "0    0\n",
       "1    0\n",
       "3    0\n",
       "4    0\n",
       "5    0\n",
       "6    0\n",
       "dtype: int64"
      ]
     },
     "execution_count": 80,
     "metadata": {},
     "output_type": "execute_result"
    }
   ],
   "source": [
    "df.isna().sum()"
   ]
  },
  {
   "cell_type": "markdown",
   "id": "bc531f23-6a0f-4a09-b84a-5792b4c4a1d5",
   "metadata": {},
   "source": [
    "### 2. Convert the preprocessed dataset to the tensor format."
   ]
  },
  {
   "cell_type": "code",
   "execution_count": 81,
   "id": "b2f28987-9b15-4964-acb5-55b81379f805",
   "metadata": {},
   "outputs": [],
   "source": [
    "features = df.iloc[:,:-1]"
   ]
  },
  {
   "cell_type": "code",
   "execution_count": 82,
   "id": "aa224eb3-d871-40ac-b195-88a5cfa1ae43",
   "metadata": {},
   "outputs": [
    {
     "data": {
      "text/plain": [
       "(79, 5)"
      ]
     },
     "execution_count": 82,
     "metadata": {},
     "output_type": "execute_result"
    }
   ],
   "source": [
    "features.shape"
   ]
  },
  {
   "cell_type": "code",
   "execution_count": 83,
   "id": "d5aa4fa7-15cd-4e8b-8808-4f657a003f7a",
   "metadata": {},
   "outputs": [
    {
     "data": {
      "text/plain": [
       "(79,)"
      ]
     },
     "execution_count": 83,
     "metadata": {},
     "output_type": "execute_result"
    }
   ],
   "source": [
    "targets = df.iloc[:,-1]\n",
    "targets.shape"
   ]
  },
  {
   "cell_type": "code",
   "execution_count": 84,
   "id": "f4abca8b-d496-45a2-bfd8-262364cdb1f1",
   "metadata": {},
   "outputs": [],
   "source": [
    "X, y = torch.tensor(features.values), torch.tensor(targets.values)"
   ]
  },
  {
   "cell_type": "code",
   "execution_count": 85,
   "id": "b8017a33-f5ee-40c3-890f-ef8e29f187b5",
   "metadata": {},
   "outputs": [
    {
     "data": {
      "text/plain": [
       "(tensor([[35.3000,  2.6000, 42.4000, 24.2000, 47.1000],\n",
       "         [27.0000,  3.5900,  0.0000, 40.0000, 40.0000],\n",
       "         [26.5000,  2.9000, 16.0000, 20.7000, 29.7000],\n",
       "         [29.1000,  3.1000, 44.0000,  2.6000, 26.3000],\n",
       "         [43.7000,  2.4000, 32.6000,  5.8000, 10.7000],\n",
       "         [29.5000,  2.7800, 14.0000,  0.0000, 50.0000],\n",
       "         [26.3000,  2.1000, 15.7000, 15.7000, 30.4000],\n",
       "         [27.6000,  3.5000, 16.8000, 23.0000, 35.2000],\n",
       "         [32.6000,  2.9000, 15.8000, 15.8000, 15.0000],\n",
       "         [29.5000,  2.5700, 22.0000,  2.0000, 18.0000],\n",
       "         [33.4000,  2.3000,  7.5000, 14.9000,  6.0000],\n",
       "         [27.6000,  2.8300, 27.9000,  6.7000, 31.7000],\n",
       "         [25.5000,  3.6000,  5.3000, 21.1000, 60.0000],\n",
       "         [27.7000,  3.4000, 37.4000,  9.9000, 39.9000],\n",
       "         [29.4000,  2.3000, 13.5000,  6.9000, 38.3000],\n",
       "         [35.1000,  3.5100, 67.2000,  2.5000,  5.9000],\n",
       "         [29.9000,  2.9000,  5.3000, 55.3000, 63.2000],\n",
       "         [27.9000,  3.0000,  3.5000, 23.7000, 64.8000],\n",
       "         [29.5000,  3.0000,  6.0000, 39.7000, 50.2000],\n",
       "         [29.0000,  2.9000,  8.0000, 24.0000, 60.0000],\n",
       "         [30.2000,  2.8000,  7.5000, 37.7000, 43.9000],\n",
       "         [31.6000,  2.4000,  0.0000, 33.3000, 58.7000],\n",
       "         [21.8000,  3.6000,  2.5000, 22.7000, 92.3000],\n",
       "         [34.2000,  2.6000, 46.3000,  0.0000, 63.6000],\n",
       "         [19.8000,  4.1500,  0.0000, 28.5000, 61.9000],\n",
       "         [19.5000,  3.8300, 14.0000, 14.0000, 57.0000],\n",
       "         [36.0000,  3.3600, 45.5000,  9.0000, 18.2000],\n",
       "         [31.5000,  2.5200, 18.9000, 15.8000, 21.1000],\n",
       "         [28.3000,  2.5000, 10.7000, 25.0000, 25.0000],\n",
       "         [23.8000,  3.2000, 25.5000, 15.5000, 26.8000],\n",
       "         [23.6000,  3.2000, 16.3000,  6.7000, 28.9000],\n",
       "         [19.4000,  3.7000,  5.6000, 21.5000, 72.2000],\n",
       "         [24.1000,  3.8000,  1.2000, 32.5000, 83.3000],\n",
       "         [23.3000,  3.9000,  1.6000, 35.5000, 94.1000],\n",
       "         [19.5000,  3.4400,  0.0000, 15.0000, 44.2154],\n",
       "         [16.5000,  3.9700,  1.2000, 50.0000, 75.6000],\n",
       "         [26.5000,  2.2800,  2.1000, 18.6000, 34.0000],\n",
       "         [27.2000,  3.0000, 17.0662, 17.7766, 25.1000],\n",
       "         [33.4000,  2.4600, 37.5000, 18.8000, 18.8000],\n",
       "         [29.4000,  3.1000, 28.6000, 12.7000, 15.9000],\n",
       "         [30.2000,  2.7000, 16.3000, 20.2000, 26.2000],\n",
       "         [33.6000,  3.6000, 35.7000,  0.0000, 14.3000],\n",
       "         [29.3000,  3.1200, 15.0000, 19.6000, 19.6000],\n",
       "         [29.8000,  2.6000, 12.7000, 20.1000, 23.6000],\n",
       "         [24.3000,  4.9000, 20.6000,  6.9000, 61.8000],\n",
       "         [27.7000,  4.1000,  6.9000, 22.5000, 63.7000],\n",
       "         [23.3000,  3.4000,  3.8000, 25.4000, 68.9000],\n",
       "         [23.1000,  3.7000,  5.8000, 13.9000, 80.6000],\n",
       "         [29.4000,  1.9900, 22.2000, 11.1000, 30.6000],\n",
       "         [27.5000,  2.4100, 31.7000, 20.2000, 24.0000],\n",
       "         [23.3000,  3.5000,  2.1000, 17.2000, 78.0000],\n",
       "         [22.9000,  3.8000,  3.8000, 26.2000, 76.3000],\n",
       "         [22.4000,  3.7000,  0.8000, 27.1000, 77.8000],\n",
       "         [26.9000,  2.8000,  2.4000, 22.0000, 78.0000],\n",
       "         [22.8800,  3.1300,  7.7000, 29.2000, 59.3000],\n",
       "         [23.4300,  3.0800, 10.1000, 27.8000, 53.3000],\n",
       "         [22.5800,  3.2400,  5.2000, 26.7000, 56.5000],\n",
       "         [31.8000,  3.8400, 59.2000,  2.9000,  9.7000],\n",
       "         [34.0000,  2.7000, 17.0662, 17.7766, 66.7000],\n",
       "         [27.0000,  3.2000,  4.1000, 21.5000, 73.9000],\n",
       "         [23.3000,  3.3000,  4.7000, 17.7000, 76.2000],\n",
       "         [23.0000,  3.8000,  5.7000, 32.2000, 60.8000],\n",
       "         [27.5000,  3.3000, 14.4000, 19.2000, 59.5000],\n",
       "         [31.0000,  3.4000, 23.1000, 19.2000, 55.2000],\n",
       "         [40.6000,  2.3000, 56.9000, 13.7000, 67.8000],\n",
       "         [27.2000,  3.1000, 10.8000, 27.0000, 76.2000],\n",
       "         [30.2000,  2.6000, 29.2000,  2.5000, 19.2000],\n",
       "         [38.6000,  2.5000, 41.1000,  0.5000, 16.8000],\n",
       "         [25.6000,  1.6600,  0.0000,  0.0000, 40.0000],\n",
       "         [31.8000,  3.1000, 11.4000, 12.1000, 52.1000],\n",
       "         [34.3000,  3.0000, 16.7000, 12.5000, 50.0000],\n",
       "         [36.0000,  3.0000, 36.4000, 10.2000,  9.4000],\n",
       "         [22.0000,  3.7200, 23.7000, 10.4000, 51.8000],\n",
       "         [38.1000,  2.2500,  8.5000,  7.0000, 23.0000],\n",
       "         [30.4000,  2.7000, 33.3000,  5.1000, 28.2000],\n",
       "         [31.9000,  2.0700, 15.0000, 10.0000,  5.0000],\n",
       "         [27.2000,  3.0000, 29.1000, 13.8000, 34.4000],\n",
       "         [38.0000,  2.2500,  9.5000,  6.4000, 13.0000],\n",
       "         [26.0000,  3.2200, 12.6000, 21.5000, 28.6000]], dtype=torch.float64),\n",
       " tensor([69, 30, 72, 68, 42, 78, 72, 69, 57, 63, 60, 67, 86, 71, 72, 46, 84, 85,\n",
       "         78, 87, 78, 82, 98, 82, 92, 86, 55, 58, 74, 72, 69, 91, 94, 95, 98, 90,\n",
       "         77, 61, 66, 62, 63, 36, 65, 64, 84, 85, 87, 92, 77, 62, 92, 91, 91, 92,\n",
       "         88, 86, 87, 52, 85, 90, 90, 83, 84, 72, 87, 88, 67, 50, 92, 80, 74, 53,\n",
       "         85, 90, 66, 47, 70, 88, 61]))"
      ]
     },
     "execution_count": 85,
     "metadata": {},
     "output_type": "execute_result"
    }
   ],
   "source": [
    "X,y"
   ]
  }
 ],
 "metadata": {
  "kernelspec": {
   "display_name": "Python 3 (ipykernel)",
   "language": "python",
   "name": "python3"
  },
  "language_info": {
   "codemirror_mode": {
    "name": "ipython",
    "version": 3
   },
   "file_extension": ".py",
   "mimetype": "text/x-python",
   "name": "python",
   "nbconvert_exporter": "python",
   "pygments_lexer": "ipython3",
   "version": "3.9.7"
  }
 },
 "nbformat": 4,
 "nbformat_minor": 5
}
