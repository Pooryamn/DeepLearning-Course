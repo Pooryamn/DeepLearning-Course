{
  "metadata": {
    "kernelspec": {
      "language": "python",
      "display_name": "Python 3",
      "name": "python3"
    },
    "language_info": {
      "name": "python",
      "version": "3.7.12",
      "mimetype": "text/x-python",
      "codemirror_mode": {
        "name": "ipython",
        "version": 3
      },
      "pygments_lexer": "ipython3",
      "nbconvert_exporter": "python",
      "file_extension": ".py"
    },
    "colab": {
      "name": "cifar100-optuna-pytorch_Q4_C.ipynb",
      "provenance": [],
      "collapsed_sections": []
    },
    "accelerator": "GPU",
    "gpuClass": "standard",
    "widgets": {
      "application/vnd.jupyter.widget-state+json": {
        "26040800785b463e8173a9f48b7f183a": {
          "model_module": "@jupyter-widgets/controls",
          "model_name": "HBoxModel",
          "model_module_version": "1.5.0",
          "state": {
            "_dom_classes": [],
            "_model_module": "@jupyter-widgets/controls",
            "_model_module_version": "1.5.0",
            "_model_name": "HBoxModel",
            "_view_count": null,
            "_view_module": "@jupyter-widgets/controls",
            "_view_module_version": "1.5.0",
            "_view_name": "HBoxView",
            "box_style": "",
            "children": [
              "IPY_MODEL_fe12c14f62c149609079eda464a7580a",
              "IPY_MODEL_9e4619b545b14a1f946d2b054dfef7c2",
              "IPY_MODEL_a6cdfc791e0942348b244d7752f44861"
            ],
            "layout": "IPY_MODEL_db1721bf5b514c1e9b750b7cb913dae4"
          }
        },
        "fe12c14f62c149609079eda464a7580a": {
          "model_module": "@jupyter-widgets/controls",
          "model_name": "HTMLModel",
          "model_module_version": "1.5.0",
          "state": {
            "_dom_classes": [],
            "_model_module": "@jupyter-widgets/controls",
            "_model_module_version": "1.5.0",
            "_model_name": "HTMLModel",
            "_view_count": null,
            "_view_module": "@jupyter-widgets/controls",
            "_view_module_version": "1.5.0",
            "_view_name": "HTMLView",
            "description": "",
            "description_tooltip": null,
            "layout": "IPY_MODEL_8ccf724159ec4f02aa1592d2a92db2a5",
            "placeholder": "​",
            "style": "IPY_MODEL_97cc597868b34c158828dbb269e3d50a",
            "value": ""
          }
        },
        "9e4619b545b14a1f946d2b054dfef7c2": {
          "model_module": "@jupyter-widgets/controls",
          "model_name": "FloatProgressModel",
          "model_module_version": "1.5.0",
          "state": {
            "_dom_classes": [],
            "_model_module": "@jupyter-widgets/controls",
            "_model_module_version": "1.5.0",
            "_model_name": "FloatProgressModel",
            "_view_count": null,
            "_view_module": "@jupyter-widgets/controls",
            "_view_module_version": "1.5.0",
            "_view_name": "ProgressView",
            "bar_style": "success",
            "description": "",
            "description_tooltip": null,
            "layout": "IPY_MODEL_09531b6ae1514f4086186b26c49952db",
            "max": 169001437,
            "min": 0,
            "orientation": "horizontal",
            "style": "IPY_MODEL_ba58883e35274491a78dc8cfbcf9dc32",
            "value": 169001437
          }
        },
        "a6cdfc791e0942348b244d7752f44861": {
          "model_module": "@jupyter-widgets/controls",
          "model_name": "HTMLModel",
          "model_module_version": "1.5.0",
          "state": {
            "_dom_classes": [],
            "_model_module": "@jupyter-widgets/controls",
            "_model_module_version": "1.5.0",
            "_model_name": "HTMLModel",
            "_view_count": null,
            "_view_module": "@jupyter-widgets/controls",
            "_view_module_version": "1.5.0",
            "_view_name": "HTMLView",
            "description": "",
            "description_tooltip": null,
            "layout": "IPY_MODEL_52348453631544c996641c5dbb1621ca",
            "placeholder": "​",
            "style": "IPY_MODEL_150932ec104a49bb8df5e3d48a6ebfe3",
            "value": " 169001984/? [00:02&lt;00:00, 85985573.26it/s]"
          }
        },
        "db1721bf5b514c1e9b750b7cb913dae4": {
          "model_module": "@jupyter-widgets/base",
          "model_name": "LayoutModel",
          "model_module_version": "1.2.0",
          "state": {
            "_model_module": "@jupyter-widgets/base",
            "_model_module_version": "1.2.0",
            "_model_name": "LayoutModel",
            "_view_count": null,
            "_view_module": "@jupyter-widgets/base",
            "_view_module_version": "1.2.0",
            "_view_name": "LayoutView",
            "align_content": null,
            "align_items": null,
            "align_self": null,
            "border": null,
            "bottom": null,
            "display": null,
            "flex": null,
            "flex_flow": null,
            "grid_area": null,
            "grid_auto_columns": null,
            "grid_auto_flow": null,
            "grid_auto_rows": null,
            "grid_column": null,
            "grid_gap": null,
            "grid_row": null,
            "grid_template_areas": null,
            "grid_template_columns": null,
            "grid_template_rows": null,
            "height": null,
            "justify_content": null,
            "justify_items": null,
            "left": null,
            "margin": null,
            "max_height": null,
            "max_width": null,
            "min_height": null,
            "min_width": null,
            "object_fit": null,
            "object_position": null,
            "order": null,
            "overflow": null,
            "overflow_x": null,
            "overflow_y": null,
            "padding": null,
            "right": null,
            "top": null,
            "visibility": null,
            "width": null
          }
        },
        "8ccf724159ec4f02aa1592d2a92db2a5": {
          "model_module": "@jupyter-widgets/base",
          "model_name": "LayoutModel",
          "model_module_version": "1.2.0",
          "state": {
            "_model_module": "@jupyter-widgets/base",
            "_model_module_version": "1.2.0",
            "_model_name": "LayoutModel",
            "_view_count": null,
            "_view_module": "@jupyter-widgets/base",
            "_view_module_version": "1.2.0",
            "_view_name": "LayoutView",
            "align_content": null,
            "align_items": null,
            "align_self": null,
            "border": null,
            "bottom": null,
            "display": null,
            "flex": null,
            "flex_flow": null,
            "grid_area": null,
            "grid_auto_columns": null,
            "grid_auto_flow": null,
            "grid_auto_rows": null,
            "grid_column": null,
            "grid_gap": null,
            "grid_row": null,
            "grid_template_areas": null,
            "grid_template_columns": null,
            "grid_template_rows": null,
            "height": null,
            "justify_content": null,
            "justify_items": null,
            "left": null,
            "margin": null,
            "max_height": null,
            "max_width": null,
            "min_height": null,
            "min_width": null,
            "object_fit": null,
            "object_position": null,
            "order": null,
            "overflow": null,
            "overflow_x": null,
            "overflow_y": null,
            "padding": null,
            "right": null,
            "top": null,
            "visibility": null,
            "width": null
          }
        },
        "97cc597868b34c158828dbb269e3d50a": {
          "model_module": "@jupyter-widgets/controls",
          "model_name": "DescriptionStyleModel",
          "model_module_version": "1.5.0",
          "state": {
            "_model_module": "@jupyter-widgets/controls",
            "_model_module_version": "1.5.0",
            "_model_name": "DescriptionStyleModel",
            "_view_count": null,
            "_view_module": "@jupyter-widgets/base",
            "_view_module_version": "1.2.0",
            "_view_name": "StyleView",
            "description_width": ""
          }
        },
        "09531b6ae1514f4086186b26c49952db": {
          "model_module": "@jupyter-widgets/base",
          "model_name": "LayoutModel",
          "model_module_version": "1.2.0",
          "state": {
            "_model_module": "@jupyter-widgets/base",
            "_model_module_version": "1.2.0",
            "_model_name": "LayoutModel",
            "_view_count": null,
            "_view_module": "@jupyter-widgets/base",
            "_view_module_version": "1.2.0",
            "_view_name": "LayoutView",
            "align_content": null,
            "align_items": null,
            "align_self": null,
            "border": null,
            "bottom": null,
            "display": null,
            "flex": null,
            "flex_flow": null,
            "grid_area": null,
            "grid_auto_columns": null,
            "grid_auto_flow": null,
            "grid_auto_rows": null,
            "grid_column": null,
            "grid_gap": null,
            "grid_row": null,
            "grid_template_areas": null,
            "grid_template_columns": null,
            "grid_template_rows": null,
            "height": null,
            "justify_content": null,
            "justify_items": null,
            "left": null,
            "margin": null,
            "max_height": null,
            "max_width": null,
            "min_height": null,
            "min_width": null,
            "object_fit": null,
            "object_position": null,
            "order": null,
            "overflow": null,
            "overflow_x": null,
            "overflow_y": null,
            "padding": null,
            "right": null,
            "top": null,
            "visibility": null,
            "width": null
          }
        },
        "ba58883e35274491a78dc8cfbcf9dc32": {
          "model_module": "@jupyter-widgets/controls",
          "model_name": "ProgressStyleModel",
          "model_module_version": "1.5.0",
          "state": {
            "_model_module": "@jupyter-widgets/controls",
            "_model_module_version": "1.5.0",
            "_model_name": "ProgressStyleModel",
            "_view_count": null,
            "_view_module": "@jupyter-widgets/base",
            "_view_module_version": "1.2.0",
            "_view_name": "StyleView",
            "bar_color": null,
            "description_width": ""
          }
        },
        "52348453631544c996641c5dbb1621ca": {
          "model_module": "@jupyter-widgets/base",
          "model_name": "LayoutModel",
          "model_module_version": "1.2.0",
          "state": {
            "_model_module": "@jupyter-widgets/base",
            "_model_module_version": "1.2.0",
            "_model_name": "LayoutModel",
            "_view_count": null,
            "_view_module": "@jupyter-widgets/base",
            "_view_module_version": "1.2.0",
            "_view_name": "LayoutView",
            "align_content": null,
            "align_items": null,
            "align_self": null,
            "border": null,
            "bottom": null,
            "display": null,
            "flex": null,
            "flex_flow": null,
            "grid_area": null,
            "grid_auto_columns": null,
            "grid_auto_flow": null,
            "grid_auto_rows": null,
            "grid_column": null,
            "grid_gap": null,
            "grid_row": null,
            "grid_template_areas": null,
            "grid_template_columns": null,
            "grid_template_rows": null,
            "height": null,
            "justify_content": null,
            "justify_items": null,
            "left": null,
            "margin": null,
            "max_height": null,
            "max_width": null,
            "min_height": null,
            "min_width": null,
            "object_fit": null,
            "object_position": null,
            "order": null,
            "overflow": null,
            "overflow_x": null,
            "overflow_y": null,
            "padding": null,
            "right": null,
            "top": null,
            "visibility": null,
            "width": null
          }
        },
        "150932ec104a49bb8df5e3d48a6ebfe3": {
          "model_module": "@jupyter-widgets/controls",
          "model_name": "DescriptionStyleModel",
          "model_module_version": "1.5.0",
          "state": {
            "_model_module": "@jupyter-widgets/controls",
            "_model_module_version": "1.5.0",
            "_model_name": "DescriptionStyleModel",
            "_view_count": null,
            "_view_module": "@jupyter-widgets/base",
            "_view_module_version": "1.2.0",
            "_view_name": "StyleView",
            "description_width": ""
          }
        }
      }
    }
  },
  "nbformat_minor": 0,
  "nbformat": 4,
  "cells": [
    {
      "cell_type": "code",
      "source": [
        "!pip install optuna"
      ],
      "metadata": {
        "_uuid": "8f2839f25d086af736a60e9eeb907d3b93b6e0e5",
        "_cell_guid": "b1076dfc-b9ad-4769-8c92-a6c4dae69d19",
        "execution": {
          "iopub.status.busy": "2022-06-16T14:35:41.297363Z",
          "iopub.execute_input": "2022-06-16T14:35:41.297747Z",
          "iopub.status.idle": "2022-06-16T14:35:50.480594Z",
          "shell.execute_reply.started": "2022-06-16T14:35:41.297709Z",
          "shell.execute_reply": "2022-06-16T14:35:50.479482Z"
        },
        "trusted": true,
        "colab": {
          "base_uri": "https://localhost:8080/"
        },
        "id": "LCADC6nsByLo",
        "outputId": "66be588e-9d26-463d-ff60-0b539e0bee98"
      },
      "execution_count": 1,
      "outputs": [
        {
          "output_type": "stream",
          "name": "stdout",
          "text": [
            "Looking in indexes: https://pypi.org/simple, https://us-python.pkg.dev/colab-wheels/public/simple/\n",
            "Collecting optuna\n",
            "  Downloading optuna-2.10.1-py3-none-any.whl (308 kB)\n",
            "\u001b[K     |████████████████████████████████| 308 kB 5.2 MB/s \n",
            "\u001b[?25hCollecting alembic\n",
            "  Downloading alembic-1.8.0-py3-none-any.whl (209 kB)\n",
            "\u001b[K     |████████████████████████████████| 209 kB 68.1 MB/s \n",
            "\u001b[?25hCollecting cliff\n",
            "  Downloading cliff-3.10.1-py3-none-any.whl (81 kB)\n",
            "\u001b[K     |████████████████████████████████| 81 kB 12.6 MB/s \n",
            "\u001b[?25hCollecting colorlog\n",
            "  Downloading colorlog-6.6.0-py2.py3-none-any.whl (11 kB)\n",
            "Requirement already satisfied: packaging>=20.0 in /usr/local/lib/python3.7/dist-packages (from optuna) (21.3)\n",
            "Requirement already satisfied: scipy!=1.4.0 in /usr/local/lib/python3.7/dist-packages (from optuna) (1.4.1)\n",
            "Requirement already satisfied: sqlalchemy>=1.1.0 in /usr/local/lib/python3.7/dist-packages (from optuna) (1.4.37)\n",
            "Requirement already satisfied: PyYAML in /usr/local/lib/python3.7/dist-packages (from optuna) (3.13)\n",
            "Requirement already satisfied: tqdm in /usr/local/lib/python3.7/dist-packages (from optuna) (4.64.0)\n",
            "Requirement already satisfied: numpy in /usr/local/lib/python3.7/dist-packages (from optuna) (1.21.6)\n",
            "Collecting cmaes>=0.8.2\n",
            "  Downloading cmaes-0.8.2-py3-none-any.whl (15 kB)\n",
            "Requirement already satisfied: pyparsing!=3.0.5,>=2.0.2 in /usr/local/lib/python3.7/dist-packages (from packaging>=20.0->optuna) (3.0.9)\n",
            "Requirement already satisfied: importlib-metadata in /usr/local/lib/python3.7/dist-packages (from sqlalchemy>=1.1.0->optuna) (4.11.4)\n",
            "Requirement already satisfied: greenlet!=0.4.17 in /usr/local/lib/python3.7/dist-packages (from sqlalchemy>=1.1.0->optuna) (1.1.2)\n",
            "Collecting Mako\n",
            "  Downloading Mako-1.2.0-py3-none-any.whl (78 kB)\n",
            "\u001b[K     |████████████████████████████████| 78 kB 9.1 MB/s \n",
            "\u001b[?25hRequirement already satisfied: importlib-resources in /usr/local/lib/python3.7/dist-packages (from alembic->optuna) (5.7.1)\n",
            "Collecting cmd2>=1.0.0\n",
            "  Downloading cmd2-2.4.1-py3-none-any.whl (146 kB)\n",
            "\u001b[K     |████████████████████████████████| 146 kB 76.1 MB/s \n",
            "\u001b[?25hRequirement already satisfied: PrettyTable>=0.7.2 in /usr/local/lib/python3.7/dist-packages (from cliff->optuna) (3.3.0)\n",
            "Collecting pbr!=2.1.0,>=2.0.0\n",
            "  Downloading pbr-5.9.0-py2.py3-none-any.whl (112 kB)\n",
            "\u001b[K     |████████████████████████████████| 112 kB 76.0 MB/s \n",
            "\u001b[?25hCollecting autopage>=0.4.0\n",
            "  Downloading autopage-0.5.1-py3-none-any.whl (29 kB)\n",
            "Collecting stevedore>=2.0.1\n",
            "  Downloading stevedore-3.5.0-py3-none-any.whl (49 kB)\n",
            "\u001b[K     |████████████████████████████████| 49 kB 7.7 MB/s \n",
            "\u001b[?25hRequirement already satisfied: wcwidth>=0.1.7 in /usr/local/lib/python3.7/dist-packages (from cmd2>=1.0.0->cliff->optuna) (0.2.5)\n",
            "Collecting pyperclip>=1.6\n",
            "  Downloading pyperclip-1.8.2.tar.gz (20 kB)\n",
            "Requirement already satisfied: typing-extensions in /usr/local/lib/python3.7/dist-packages (from cmd2>=1.0.0->cliff->optuna) (4.2.0)\n",
            "Requirement already satisfied: attrs>=16.3.0 in /usr/local/lib/python3.7/dist-packages (from cmd2>=1.0.0->cliff->optuna) (21.4.0)\n",
            "Requirement already satisfied: zipp>=0.5 in /usr/local/lib/python3.7/dist-packages (from importlib-metadata->sqlalchemy>=1.1.0->optuna) (3.8.0)\n",
            "Requirement already satisfied: MarkupSafe>=0.9.2 in /usr/local/lib/python3.7/dist-packages (from Mako->alembic->optuna) (2.0.1)\n",
            "Building wheels for collected packages: pyperclip\n",
            "  Building wheel for pyperclip (setup.py) ... \u001b[?25l\u001b[?25hdone\n",
            "  Created wheel for pyperclip: filename=pyperclip-1.8.2-py3-none-any.whl size=11137 sha256=f76e53d344903131aac8b8b46febc44a9bdfb18b96c7c927f0e37bc3c8850d5c\n",
            "  Stored in directory: /root/.cache/pip/wheels/9f/18/84/8f69f8b08169c7bae2dde6bd7daf0c19fca8c8e500ee620a28\n",
            "Successfully built pyperclip\n",
            "Installing collected packages: pyperclip, pbr, stevedore, Mako, cmd2, autopage, colorlog, cmaes, cliff, alembic, optuna\n",
            "Successfully installed Mako-1.2.0 alembic-1.8.0 autopage-0.5.1 cliff-3.10.1 cmaes-0.8.2 cmd2-2.4.1 colorlog-6.6.0 optuna-2.10.1 pbr-5.9.0 pyperclip-1.8.2 stevedore-3.5.0\n"
          ]
        }
      ]
    },
    {
      "cell_type": "code",
      "source": [
        "import os\n",
        "\n",
        "import optuna\n",
        "from optuna.trial import TrialState\n",
        "import torch\n",
        "import torch.nn as nn\n",
        "import torch.nn.functional as F\n",
        "import torch.optim as optim\n",
        "import torch.utils.data\n",
        "from torchvision import datasets\n",
        "from torchvision import transforms\n",
        "import numpy as np"
      ],
      "metadata": {
        "execution": {
          "iopub.status.busy": "2022-06-16T14:37:09.944038Z",
          "iopub.execute_input": "2022-06-16T14:37:09.944398Z",
          "iopub.status.idle": "2022-06-16T14:37:09.949307Z",
          "shell.execute_reply.started": "2022-06-16T14:37:09.944368Z",
          "shell.execute_reply": "2022-06-16T14:37:09.948551Z"
        },
        "trusted": true,
        "id": "qH6g791vByLs"
      },
      "execution_count": 2,
      "outputs": []
    },
    {
      "cell_type": "code",
      "source": [
        "DEVICE = torch.device(\"cuda\")\n",
        "BATCHSIZE = 128\n",
        "CLASSES = 100\n",
        "DIR = os.getcwd()\n",
        "EPOCHS = 10\n",
        "N_TRAIN_EXAMPLES = BATCHSIZE * 300\n",
        "N_VALID_EXAMPLES = BATCHSIZE * 100"
      ],
      "metadata": {
        "execution": {
          "iopub.status.busy": "2022-06-16T14:37:18.298702Z",
          "iopub.execute_input": "2022-06-16T14:37:18.299743Z",
          "iopub.status.idle": "2022-06-16T14:37:18.304360Z",
          "shell.execute_reply.started": "2022-06-16T14:37:18.299697Z",
          "shell.execute_reply": "2022-06-16T14:37:18.303652Z"
        },
        "trusted": true,
        "id": "-IKY39H-ByLt"
      },
      "execution_count": 3,
      "outputs": []
    },
    {
      "cell_type": "code",
      "source": [
        "def define_model(trial):\n",
        "    # We optimize the number of layers, hidden units and dropout ratio in each layer.\n",
        "    n_layers_Conv = trial.suggest_int(\"n_layers_conv\", 1, 4)\n",
        "    n_layers_Dense = trial.suggest_int(\"n_layers_dense\", 1, 3)\n",
        "    layers = []\n",
        "\n",
        "    #print(f\"{n_layers_Conv} layers Conv and {n_layers_Dense} Dense\")\n",
        "\n",
        "    in_channel = 3\n",
        "    width_height = 32\n",
        "\n",
        "    # convolution layers\n",
        "    for i in range(n_layers_Conv):\n",
        "      n_filters = trial.suggest_categorical(\"filters_{}\".format(i), [16, 32, 64, 128])\n",
        "      n_kernel_size = trial.suggest_categorical(\"kernel_size_{}\".format(i), [3, 5])\n",
        "      n_stride = trial.suggest_categorical(\"strides_{}\".format(i), [1, 2])\n",
        "\n",
        "      # for kernel > image\n",
        "      if (n_kernel_size > width_height):\n",
        "        continue\n",
        "\n",
        "      layers.append(nn.Conv2d(in_channels = in_channel, out_channels= n_filters, kernel_size= n_kernel_size, stride= n_stride,padding='valid'))\n",
        "      layers.append(nn.ReLU())\n",
        "\n",
        "      # get size of convs\n",
        "      TMP = ((width_height - n_kernel_size) // n_stride) + 1\n",
        "      out_shape = (TMP, TMP, n_filters)\n",
        "\n",
        "      #print(f\"in_channels = {in_channel}\\nout_channels = {n_filters}\\nkernel_size = {n_kernel_size}\\nstride = {n_stride}\\nOutput Shape = {out_shape}\")\n",
        "      #print('----------------------------------------------------------------')\n",
        "\n",
        "      width_height = TMP\n",
        "      in_channel = n_filters\n",
        "\n",
        "    # Flatten layer\n",
        "    layers.append(nn.Flatten())\n",
        "    \n",
        "\n",
        "    in_features = out_shape[0] * out_shape[1] * out_shape[2]\n",
        "    #in_features = out_shape[0]\n",
        "    for i in range(n_layers_Dense):\n",
        "        out_features = trial.suggest_int(\"n_units_{}\".format(i), 64, 128)\n",
        "        layers.append(nn.Linear(in_features, out_features))\n",
        "\n",
        "        #print(f\"in_features = {in_features}\\nout_features = {out_features}\")\n",
        "        #print('----------------------------------------------------------------')\n",
        "\n",
        "        layers.append(nn.ReLU())\n",
        "\n",
        "        in_features = out_features\n",
        "\n",
        "    # last Dense layer    \n",
        "    layers.append(nn.Linear(in_features, CLASSES))\n",
        "    #print(f\"in_features = {in_features}\\nout_features = {CLASSES}\")\n",
        "    #print('----------------------------------------------------------------')\n",
        "\n",
        "    #layers.append(nn.LogSoftmax(dim=1))\n",
        "    layers.append(nn.Softmax(dim = 1))\n",
        "\n",
        "    network = nn.Sequential(*layers)\n",
        "    #print('----------------------------------------------------------------')\n",
        "    #summary(network, (3, 32, 32))\n",
        "    #print('----------------------------------------------------------------')\n",
        "\n",
        "    return network"
      ],
      "metadata": {
        "execution": {
          "iopub.status.busy": "2022-06-16T14:51:27.713744Z",
          "iopub.execute_input": "2022-06-16T14:51:27.714098Z",
          "iopub.status.idle": "2022-06-16T14:51:27.726923Z",
          "shell.execute_reply.started": "2022-06-16T14:51:27.714070Z",
          "shell.execute_reply": "2022-06-16T14:51:27.726072Z"
        },
        "trusted": true,
        "id": "omQXhEBWByLu"
      },
      "execution_count": 4,
      "outputs": []
    },
    {
      "cell_type": "code",
      "source": [
        "def get_CIFAR100():\n",
        "    # Load FashionMNIST dataset.\n",
        "    train_loader = torch.utils.data.DataLoader(\n",
        "        datasets.CIFAR100(DIR, train=True, download=True, transform=transforms.ToTensor()),\n",
        "        batch_size=BATCHSIZE,\n",
        "        shuffle=True,\n",
        "    )\n",
        "    valid_loader = torch.utils.data.DataLoader(\n",
        "        datasets.CIFAR100(DIR, train=False, transform=transforms.ToTensor()),\n",
        "        batch_size=BATCHSIZE,\n",
        "        shuffle=True,\n",
        "    )\n",
        "\n",
        "    return train_loader, valid_loader"
      ],
      "metadata": {
        "execution": {
          "iopub.status.busy": "2022-06-16T14:37:29.579069Z",
          "iopub.execute_input": "2022-06-16T14:37:29.579426Z",
          "iopub.status.idle": "2022-06-16T14:37:29.585114Z",
          "shell.execute_reply.started": "2022-06-16T14:37:29.579390Z",
          "shell.execute_reply": "2022-06-16T14:37:29.584390Z"
        },
        "trusted": true,
        "id": "NQMSs3OtByLv"
      },
      "execution_count": 5,
      "outputs": []
    },
    {
      "cell_type": "code",
      "source": [
        "def objective(trial):\n",
        "\n",
        "    # Generate the model.\n",
        "    model = define_model(trial).to(DEVICE)\n",
        "\n",
        "    # Generate the optimizers.\n",
        "    optimizer_name = trial.suggest_categorical(\"optimizer\", [\"Adam\", \"RMSprop\", \"SGD\"])\n",
        "    lr = trial.suggest_float(\"lr\", 1e-5, 1e-1, log=True)\n",
        "    optimizer = getattr(optim, optimizer_name)(model.parameters(), lr=lr)\n",
        "\n",
        "    # Get the CIFAR100 dataset.\n",
        "    train_loader, valid_loader = get_CIFAR100()\n",
        "\n",
        "    # Training of the model.\n",
        "    for epoch in range(EPOCHS):\n",
        "        model.train()\n",
        "        for batch_idx, (data, target) in enumerate(train_loader):\n",
        "\n",
        "            # Limiting training data for faster epochs.\n",
        "            if batch_idx * BATCHSIZE >= N_TRAIN_EXAMPLES:\n",
        "                break\n",
        "            \n",
        "            data, target = data.to(DEVICE), target.to(DEVICE)\n",
        "\n",
        "            optimizer.zero_grad()\n",
        "            output = model(data)\n",
        "            loss = F.nll_loss(output, target)\n",
        "            loss.backward()\n",
        "            optimizer.step()\n",
        "\n",
        "        # Validation of the model.\n",
        "        model.eval()\n",
        "        correct = 0\n",
        "        with torch.no_grad():\n",
        "            for batch_idx, (data, target) in enumerate(valid_loader):\n",
        "                # Limiting validation data.\n",
        "                if batch_idx * BATCHSIZE >= N_VALID_EXAMPLES:\n",
        "                    break\n",
        "                data, target = data.to(DEVICE), target.to(DEVICE)\n",
        "                output = model(data)\n",
        "                # Get the index of the max log-probability.\n",
        "                pred = output.argmax(dim=1, keepdim=True)\n",
        "                correct += pred.eq(target.view_as(pred)).sum().item()\n",
        "\n",
        "        accuracy = correct / min(len(valid_loader.dataset), N_VALID_EXAMPLES)\n",
        "\n",
        "        trial.report(accuracy, epoch)\n",
        "\n",
        "        # Handle pruning based on the intermediate value.\n",
        "        if trial.should_prune():\n",
        "            raise optuna.exceptions.TrialPruned()\n",
        "\n",
        "    return accuracy"
      ],
      "metadata": {
        "execution": {
          "iopub.status.busy": "2022-06-16T14:57:28.801299Z",
          "iopub.execute_input": "2022-06-16T14:57:28.801661Z",
          "iopub.status.idle": "2022-06-16T14:57:28.813387Z",
          "shell.execute_reply.started": "2022-06-16T14:57:28.801631Z",
          "shell.execute_reply": "2022-06-16T14:57:28.812403Z"
        },
        "trusted": true,
        "id": "zXxVgXFnByLw"
      },
      "execution_count": 6,
      "outputs": []
    },
    {
      "cell_type": "markdown",
      "source": [
        "# Q4_C\n",
        "## Run 2 (without Timeout + Pruning)"
      ],
      "metadata": {
        "id": "C7YfD7kGByL0"
      }
    },
    {
      "cell_type": "code",
      "source": [
        "if __name__ == \"__main__\":\n",
        "    study = optuna.create_study(direction=\"maximize\", pruner=optuna.pruners.MedianPruner())\n",
        "    study.optimize(objective)\n",
        "\n",
        "    pruned_trials = study.get_trials(deepcopy=False, states=[TrialState.PRUNED])\n",
        "    complete_trials = study.get_trials(deepcopy=False, states=[TrialState.COMPLETE])\n",
        "\n",
        "    print(\"Study statistics: \")\n",
        "    print(\"  Number of finished trials: \", len(study.trials))\n",
        "    print(\"  Number of pruned trials: \", len(pruned_trials))\n",
        "    print(\"  Number of complete trials: \", len(complete_trials))\n",
        "\n",
        "    print(\"Best trial:\")\n",
        "    trial = study.best_trial\n",
        "\n",
        "    print(\"  Value: \", trial.value)\n",
        "\n",
        "    print(\"  Params: \")\n",
        "    for key, value in trial.params.items():\n",
        "        print(\"    {}: {}\".format(key, value))"
      ],
      "metadata": {
        "execution": {
          "iopub.status.busy": "2022-06-16T15:06:22.142193Z",
          "iopub.execute_input": "2022-06-16T15:06:22.142573Z"
        },
        "trusted": true,
        "colab": {
          "base_uri": "https://localhost:8080/",
          "height": 1000,
          "referenced_widgets": [
            "26040800785b463e8173a9f48b7f183a",
            "fe12c14f62c149609079eda464a7580a",
            "9e4619b545b14a1f946d2b054dfef7c2",
            "a6cdfc791e0942348b244d7752f44861",
            "db1721bf5b514c1e9b750b7cb913dae4",
            "8ccf724159ec4f02aa1592d2a92db2a5",
            "97cc597868b34c158828dbb269e3d50a",
            "09531b6ae1514f4086186b26c49952db",
            "ba58883e35274491a78dc8cfbcf9dc32",
            "52348453631544c996641c5dbb1621ca",
            "150932ec104a49bb8df5e3d48a6ebfe3"
          ]
        },
        "id": "yHKM7ZlmByL1",
        "outputId": "72a40135-3eda-4638-f877-db43c0a7c145"
      },
      "execution_count": null,
      "outputs": [
        {
          "output_type": "stream",
          "name": "stderr",
          "text": [
            "\u001b[32m[I 2022-06-17 04:59:51,625]\u001b[0m A new study created in memory with name: no-name-7c32cda2-350f-4293-8f68-586a92eae7cf\u001b[0m\n"
          ]
        },
        {
          "output_type": "stream",
          "name": "stdout",
          "text": [
            "Downloading https://www.cs.toronto.edu/~kriz/cifar-100-python.tar.gz to /content/cifar-100-python.tar.gz\n"
          ]
        },
        {
          "output_type": "display_data",
          "data": {
            "text/plain": [
              "  0%|          | 0/169001437 [00:00<?, ?it/s]"
            ],
            "application/vnd.jupyter.widget-view+json": {
              "version_major": 2,
              "version_minor": 0,
              "model_id": "26040800785b463e8173a9f48b7f183a"
            }
          },
          "metadata": {}
        },
        {
          "output_type": "stream",
          "name": "stdout",
          "text": [
            "Extracting /content/cifar-100-python.tar.gz to /content\n"
          ]
        },
        {
          "output_type": "stream",
          "name": "stderr",
          "text": [
            "\u001b[32m[I 2022-06-17 05:01:09,062]\u001b[0m Trial 0 finished with value: 0.01 and parameters: {'n_layers_conv': 1, 'n_layers_dense': 2, 'filters_0': 128, 'kernel_size_0': 3, 'strides_0': 1, 'n_units_0': 96, 'n_units_1': 126, 'optimizer': 'Adam', 'lr': 0.022409175113857975}. Best is trial 0 with value: 0.01.\u001b[0m\n"
          ]
        },
        {
          "output_type": "stream",
          "name": "stdout",
          "text": [
            "Files already downloaded and verified\n"
          ]
        },
        {
          "output_type": "stream",
          "name": "stderr",
          "text": [
            "\u001b[32m[I 2022-06-17 05:02:09,637]\u001b[0m Trial 1 finished with value: 0.01 and parameters: {'n_layers_conv': 2, 'n_layers_dense': 2, 'filters_0': 16, 'kernel_size_0': 3, 'strides_0': 1, 'filters_1': 32, 'kernel_size_1': 3, 'strides_1': 1, 'n_units_0': 111, 'n_units_1': 91, 'optimizer': 'Adam', 'lr': 0.0452207477285358}. Best is trial 0 with value: 0.01.\u001b[0m\n"
          ]
        },
        {
          "output_type": "stream",
          "name": "stdout",
          "text": [
            "Files already downloaded and verified\n"
          ]
        },
        {
          "output_type": "stream",
          "name": "stderr",
          "text": [
            "\u001b[32m[I 2022-06-17 05:03:12,202]\u001b[0m Trial 2 finished with value: 0.01 and parameters: {'n_layers_conv': 3, 'n_layers_dense': 2, 'filters_0': 128, 'kernel_size_0': 3, 'strides_0': 2, 'filters_1': 128, 'kernel_size_1': 5, 'strides_1': 2, 'filters_2': 64, 'kernel_size_2': 3, 'strides_2': 2, 'n_units_0': 72, 'n_units_1': 68, 'optimizer': 'Adam', 'lr': 0.0748888295958915}. Best is trial 0 with value: 0.01.\u001b[0m\n"
          ]
        },
        {
          "output_type": "stream",
          "name": "stdout",
          "text": [
            "Files already downloaded and verified\n"
          ]
        },
        {
          "output_type": "stream",
          "name": "stderr",
          "text": [
            "\u001b[32m[I 2022-06-17 05:04:11,963]\u001b[0m Trial 3 finished with value: 0.01 and parameters: {'n_layers_conv': 3, 'n_layers_dense': 3, 'filters_0': 16, 'kernel_size_0': 3, 'strides_0': 2, 'filters_1': 16, 'kernel_size_1': 3, 'strides_1': 2, 'filters_2': 128, 'kernel_size_2': 3, 'strides_2': 1, 'n_units_0': 103, 'n_units_1': 84, 'n_units_2': 109, 'optimizer': 'SGD', 'lr': 0.007236333616680593}. Best is trial 0 with value: 0.01.\u001b[0m\n"
          ]
        },
        {
          "output_type": "stream",
          "name": "stdout",
          "text": [
            "Files already downloaded and verified\n"
          ]
        },
        {
          "output_type": "stream",
          "name": "stderr",
          "text": [
            "\u001b[32m[I 2022-06-17 05:05:10,953]\u001b[0m Trial 4 finished with value: 0.01 and parameters: {'n_layers_conv': 1, 'n_layers_dense': 2, 'filters_0': 128, 'kernel_size_0': 5, 'strides_0': 1, 'n_units_0': 91, 'n_units_1': 122, 'optimizer': 'RMSprop', 'lr': 0.04023689965844097}. Best is trial 0 with value: 0.01.\u001b[0m\n"
          ]
        },
        {
          "output_type": "stream",
          "name": "stdout",
          "text": [
            "Files already downloaded and verified\n"
          ]
        },
        {
          "output_type": "stream",
          "name": "stderr",
          "text": [
            "\u001b[32m[I 2022-06-17 05:06:16,219]\u001b[0m Trial 5 finished with value: 0.0445 and parameters: {'n_layers_conv': 4, 'n_layers_dense': 3, 'filters_0': 64, 'kernel_size_0': 3, 'strides_0': 1, 'filters_1': 32, 'kernel_size_1': 5, 'strides_1': 1, 'filters_2': 32, 'kernel_size_2': 3, 'strides_2': 2, 'filters_3': 32, 'kernel_size_3': 3, 'strides_3': 2, 'n_units_0': 70, 'n_units_1': 85, 'n_units_2': 107, 'optimizer': 'Adam', 'lr': 0.00037478398712194067}. Best is trial 5 with value: 0.0445.\u001b[0m\n"
          ]
        },
        {
          "output_type": "stream",
          "name": "stdout",
          "text": [
            "Files already downloaded and verified\n"
          ]
        },
        {
          "output_type": "stream",
          "name": "stderr",
          "text": [
            "\u001b[32m[I 2022-06-17 05:07:20,702]\u001b[0m Trial 6 finished with value: 0.0119 and parameters: {'n_layers_conv': 3, 'n_layers_dense': 3, 'filters_0': 128, 'kernel_size_0': 5, 'strides_0': 2, 'filters_1': 64, 'kernel_size_1': 5, 'strides_1': 1, 'filters_2': 32, 'kernel_size_2': 3, 'strides_2': 1, 'n_units_0': 113, 'n_units_1': 89, 'n_units_2': 93, 'optimizer': 'Adam', 'lr': 0.0006674396569816305}. Best is trial 5 with value: 0.0445.\u001b[0m\n"
          ]
        },
        {
          "output_type": "stream",
          "name": "stdout",
          "text": [
            "Files already downloaded and verified\n"
          ]
        },
        {
          "output_type": "stream",
          "name": "stderr",
          "text": [
            "\u001b[32m[I 2022-06-17 05:08:20,202]\u001b[0m Trial 7 finished with value: 0.0618 and parameters: {'n_layers_conv': 1, 'n_layers_dense': 3, 'filters_0': 32, 'kernel_size_0': 5, 'strides_0': 1, 'n_units_0': 94, 'n_units_1': 100, 'n_units_2': 86, 'optimizer': 'Adam', 'lr': 2.3351537846959255e-05}. Best is trial 7 with value: 0.0618.\u001b[0m\n"
          ]
        },
        {
          "output_type": "stream",
          "name": "stdout",
          "text": [
            "Files already downloaded and verified\n"
          ]
        },
        {
          "output_type": "stream",
          "name": "stderr",
          "text": [
            "\u001b[32m[I 2022-06-17 05:09:21,666]\u001b[0m Trial 8 finished with value: 0.01 and parameters: {'n_layers_conv': 2, 'n_layers_dense': 3, 'filters_0': 128, 'kernel_size_0': 5, 'strides_0': 2, 'filters_1': 16, 'kernel_size_1': 5, 'strides_1': 2, 'n_units_0': 115, 'n_units_1': 114, 'n_units_2': 92, 'optimizer': 'Adam', 'lr': 0.005509956777291003}. Best is trial 7 with value: 0.0618.\u001b[0m\n"
          ]
        },
        {
          "output_type": "stream",
          "name": "stdout",
          "text": [
            "Files already downloaded and verified\n"
          ]
        },
        {
          "output_type": "stream",
          "name": "stderr",
          "text": [
            "\u001b[32m[I 2022-06-17 05:10:20,582]\u001b[0m Trial 9 finished with value: 0.0693 and parameters: {'n_layers_conv': 2, 'n_layers_dense': 1, 'filters_0': 32, 'kernel_size_0': 5, 'strides_0': 2, 'filters_1': 128, 'kernel_size_1': 5, 'strides_1': 2, 'n_units_0': 94, 'optimizer': 'Adam', 'lr': 9.588118907054837e-05}. Best is trial 9 with value: 0.0693.\u001b[0m\n"
          ]
        },
        {
          "output_type": "stream",
          "name": "stdout",
          "text": [
            "Files already downloaded and verified\n"
          ]
        },
        {
          "output_type": "stream",
          "name": "stderr",
          "text": [
            "\u001b[32m[I 2022-06-17 05:11:20,293]\u001b[0m Trial 10 finished with value: 0.0409 and parameters: {'n_layers_conv': 4, 'n_layers_dense': 1, 'filters_0': 32, 'kernel_size_0': 5, 'strides_0': 2, 'filters_1': 128, 'kernel_size_1': 5, 'strides_1': 2, 'filters_2': 16, 'kernel_size_2': 5, 'strides_2': 1, 'filters_3': 64, 'kernel_size_3': 5, 'strides_3': 1, 'n_units_0': 81, 'optimizer': 'RMSprop', 'lr': 3.9075101731093365e-05}. Best is trial 9 with value: 0.0693.\u001b[0m\n"
          ]
        },
        {
          "output_type": "stream",
          "name": "stdout",
          "text": [
            "Files already downloaded and verified\n"
          ]
        },
        {
          "output_type": "stream",
          "name": "stderr",
          "text": [
            "\u001b[32m[I 2022-06-17 05:12:16,950]\u001b[0m Trial 11 finished with value: 0.0109 and parameters: {'n_layers_conv': 1, 'n_layers_dense': 1, 'filters_0': 32, 'kernel_size_0': 5, 'strides_0': 1, 'n_units_0': 127, 'optimizer': 'SGD', 'lr': 1.1571279651535288e-05}. Best is trial 9 with value: 0.0693.\u001b[0m\n"
          ]
        },
        {
          "output_type": "stream",
          "name": "stdout",
          "text": [
            "Files already downloaded and verified\n"
          ]
        },
        {
          "output_type": "stream",
          "name": "stderr",
          "text": [
            "\u001b[32m[I 2022-06-17 05:13:16,609]\u001b[0m Trial 12 finished with value: 0.0699 and parameters: {'n_layers_conv': 2, 'n_layers_dense': 1, 'filters_0': 32, 'kernel_size_0': 5, 'strides_0': 1, 'filters_1': 128, 'kernel_size_1': 3, 'strides_1': 2, 'n_units_0': 87, 'optimizer': 'Adam', 'lr': 9.78579073276481e-05}. Best is trial 12 with value: 0.0699.\u001b[0m\n"
          ]
        },
        {
          "output_type": "stream",
          "name": "stdout",
          "text": [
            "Files already downloaded and verified\n"
          ]
        },
        {
          "output_type": "stream",
          "name": "stderr",
          "text": [
            "\u001b[32m[I 2022-06-17 05:14:14,871]\u001b[0m Trial 13 finished with value: 0.0595 and parameters: {'n_layers_conv': 2, 'n_layers_dense': 1, 'filters_0': 32, 'kernel_size_0': 5, 'strides_0': 2, 'filters_1': 128, 'kernel_size_1': 3, 'strides_1': 2, 'n_units_0': 85, 'optimizer': 'RMSprop', 'lr': 0.00011745390070390374}. Best is trial 12 with value: 0.0699.\u001b[0m\n"
          ]
        },
        {
          "output_type": "stream",
          "name": "stdout",
          "text": [
            "Files already downloaded and verified\n"
          ]
        },
        {
          "output_type": "stream",
          "name": "stderr",
          "text": [
            "\u001b[32m[I 2022-06-17 05:14:21,776]\u001b[0m Trial 14 pruned. \u001b[0m\n"
          ]
        },
        {
          "output_type": "stream",
          "name": "stdout",
          "text": [
            "Files already downloaded and verified\n"
          ]
        },
        {
          "output_type": "stream",
          "name": "stderr",
          "text": [
            "\u001b[32m[I 2022-06-17 05:15:21,268]\u001b[0m Trial 15 finished with value: 0.0658 and parameters: {'n_layers_conv': 2, 'n_layers_dense': 1, 'filters_0': 32, 'kernel_size_0': 5, 'strides_0': 1, 'filters_1': 128, 'kernel_size_1': 3, 'strides_1': 2, 'n_units_0': 103, 'optimizer': 'Adam', 'lr': 6.880568506911011e-05}. Best is trial 12 with value: 0.0699.\u001b[0m\n"
          ]
        },
        {
          "output_type": "stream",
          "name": "stdout",
          "text": [
            "Files already downloaded and verified\n"
          ]
        },
        {
          "output_type": "stream",
          "name": "stderr",
          "text": [
            "\u001b[32m[I 2022-06-17 05:15:28,597]\u001b[0m Trial 16 pruned. \u001b[0m\n"
          ]
        },
        {
          "output_type": "stream",
          "name": "stdout",
          "text": [
            "Files already downloaded and verified\n"
          ]
        },
        {
          "output_type": "stream",
          "name": "stderr",
          "text": [
            "\u001b[32m[I 2022-06-17 05:15:35,708]\u001b[0m Trial 17 pruned. \u001b[0m\n"
          ]
        },
        {
          "output_type": "stream",
          "name": "stdout",
          "text": [
            "Files already downloaded and verified\n"
          ]
        },
        {
          "output_type": "stream",
          "name": "stderr",
          "text": [
            "\u001b[32m[I 2022-06-17 05:15:42,850]\u001b[0m Trial 18 pruned. \u001b[0m\n"
          ]
        },
        {
          "output_type": "stream",
          "name": "stdout",
          "text": [
            "Files already downloaded and verified\n"
          ]
        },
        {
          "output_type": "stream",
          "name": "stderr",
          "text": [
            "\u001b[32m[I 2022-06-17 05:16:40,451]\u001b[0m Trial 19 finished with value: 0.0557 and parameters: {'n_layers_conv': 1, 'n_layers_dense': 1, 'filters_0': 64, 'kernel_size_0': 5, 'strides_0': 2, 'n_units_0': 78, 'optimizer': 'RMSprop', 'lr': 5.7846324292092916e-05}. Best is trial 12 with value: 0.0699.\u001b[0m\n"
          ]
        },
        {
          "output_type": "stream",
          "name": "stdout",
          "text": [
            "Files already downloaded and verified\n"
          ]
        },
        {
          "output_type": "stream",
          "name": "stderr",
          "text": [
            "\u001b[32m[I 2022-06-17 05:17:43,360]\u001b[0m Trial 20 finished with value: 0.0568 and parameters: {'n_layers_conv': 2, 'n_layers_dense': 1, 'filters_0': 16, 'kernel_size_0': 5, 'strides_0': 1, 'filters_1': 128, 'kernel_size_1': 5, 'strides_1': 1, 'n_units_0': 88, 'optimizer': 'Adam', 'lr': 1.4443377305848249e-05}. Best is trial 12 with value: 0.0699.\u001b[0m\n"
          ]
        },
        {
          "output_type": "stream",
          "name": "stdout",
          "text": [
            "Files already downloaded and verified\n"
          ]
        },
        {
          "output_type": "stream",
          "name": "stderr",
          "text": [
            "\u001b[32m[I 2022-06-17 05:18:43,057]\u001b[0m Trial 21 finished with value: 0.0744 and parameters: {'n_layers_conv': 2, 'n_layers_dense': 1, 'filters_0': 32, 'kernel_size_0': 5, 'strides_0': 1, 'filters_1': 128, 'kernel_size_1': 3, 'strides_1': 2, 'n_units_0': 105, 'optimizer': 'Adam', 'lr': 7.369383460666805e-05}. Best is trial 21 with value: 0.0744.\u001b[0m\n"
          ]
        },
        {
          "output_type": "stream",
          "name": "stdout",
          "text": [
            "Files already downloaded and verified\n"
          ]
        },
        {
          "output_type": "stream",
          "name": "stderr",
          "text": [
            "\u001b[32m[I 2022-06-17 05:19:42,855]\u001b[0m Trial 22 finished with value: 0.0703 and parameters: {'n_layers_conv': 2, 'n_layers_dense': 1, 'filters_0': 32, 'kernel_size_0': 5, 'strides_0': 1, 'filters_1': 128, 'kernel_size_1': 3, 'strides_1': 2, 'n_units_0': 99, 'optimizer': 'Adam', 'lr': 9.570060036068346e-05}. Best is trial 21 with value: 0.0744.\u001b[0m\n"
          ]
        },
        {
          "output_type": "stream",
          "name": "stdout",
          "text": [
            "Files already downloaded and verified\n"
          ]
        },
        {
          "output_type": "stream",
          "name": "stderr",
          "text": [
            "\u001b[32m[I 2022-06-17 05:20:43,256]\u001b[0m Trial 23 finished with value: 0.0609 and parameters: {'n_layers_conv': 2, 'n_layers_dense': 1, 'filters_0': 32, 'kernel_size_0': 5, 'strides_0': 1, 'filters_1': 128, 'kernel_size_1': 3, 'strides_1': 2, 'n_units_0': 108, 'optimizer': 'Adam', 'lr': 3.4193313338369787e-05}. Best is trial 21 with value: 0.0744.\u001b[0m\n"
          ]
        },
        {
          "output_type": "stream",
          "name": "stdout",
          "text": [
            "Files already downloaded and verified\n"
          ]
        },
        {
          "output_type": "stream",
          "name": "stderr",
          "text": [
            "\u001b[32m[I 2022-06-17 05:20:56,588]\u001b[0m Trial 24 pruned. \u001b[0m\n"
          ]
        },
        {
          "output_type": "stream",
          "name": "stdout",
          "text": [
            "Files already downloaded and verified\n"
          ]
        },
        {
          "output_type": "stream",
          "name": "stderr",
          "text": [
            "\u001b[32m[I 2022-06-17 05:21:55,997]\u001b[0m Trial 25 finished with value: 0.0746 and parameters: {'n_layers_conv': 2, 'n_layers_dense': 1, 'filters_0': 32, 'kernel_size_0': 5, 'strides_0': 1, 'filters_1': 32, 'kernel_size_1': 3, 'strides_1': 2, 'n_units_0': 121, 'optimizer': 'Adam', 'lr': 0.00019311706395873712}. Best is trial 25 with value: 0.0746.\u001b[0m\n"
          ]
        },
        {
          "output_type": "stream",
          "name": "stdout",
          "text": [
            "Files already downloaded and verified\n"
          ]
        },
        {
          "output_type": "stream",
          "name": "stderr",
          "text": [
            "\u001b[32m[I 2022-06-17 05:22:53,783]\u001b[0m Trial 26 finished with value: 0.0772 and parameters: {'n_layers_conv': 1, 'n_layers_dense': 1, 'filters_0': 32, 'kernel_size_0': 3, 'strides_0': 1, 'n_units_0': 121, 'optimizer': 'Adam', 'lr': 0.00021635384686795602}. Best is trial 26 with value: 0.0772.\u001b[0m\n"
          ]
        },
        {
          "output_type": "stream",
          "name": "stdout",
          "text": [
            "Files already downloaded and verified\n"
          ]
        },
        {
          "output_type": "stream",
          "name": "stderr",
          "text": [
            "\u001b[32m[I 2022-06-17 05:23:52,560]\u001b[0m Trial 27 finished with value: 0.0687 and parameters: {'n_layers_conv': 1, 'n_layers_dense': 2, 'filters_0': 32, 'kernel_size_0': 3, 'strides_0': 1, 'n_units_0': 122, 'n_units_1': 76, 'optimizer': 'Adam', 'lr': 0.0002144226309063282}. Best is trial 26 with value: 0.0772.\u001b[0m\n"
          ]
        },
        {
          "output_type": "stream",
          "name": "stdout",
          "text": [
            "Files already downloaded and verified\n"
          ]
        },
        {
          "output_type": "stream",
          "name": "stderr",
          "text": [
            "\u001b[32m[I 2022-06-17 05:23:59,261]\u001b[0m Trial 28 pruned. \u001b[0m\n"
          ]
        },
        {
          "output_type": "stream",
          "name": "stdout",
          "text": [
            "Files already downloaded and verified\n"
          ]
        },
        {
          "output_type": "stream",
          "name": "stderr",
          "text": [
            "\u001b[32m[I 2022-06-17 05:24:06,268]\u001b[0m Trial 29 pruned. \u001b[0m\n"
          ]
        },
        {
          "output_type": "stream",
          "name": "stdout",
          "text": [
            "Files already downloaded and verified\n"
          ]
        },
        {
          "output_type": "stream",
          "name": "stderr",
          "text": [
            "\u001b[32m[I 2022-06-17 05:25:04,857]\u001b[0m Trial 30 finished with value: 0.1013 and parameters: {'n_layers_conv': 1, 'n_layers_dense': 1, 'filters_0': 32, 'kernel_size_0': 3, 'strides_0': 1, 'n_units_0': 120, 'optimizer': 'Adam', 'lr': 0.0003555975498577189}. Best is trial 30 with value: 0.1013.\u001b[0m\n"
          ]
        },
        {
          "output_type": "stream",
          "name": "stdout",
          "text": [
            "Files already downloaded and verified\n"
          ]
        },
        {
          "output_type": "stream",
          "name": "stderr",
          "text": [
            "\u001b[32m[I 2022-06-17 05:26:02,819]\u001b[0m Trial 31 finished with value: 0.0818 and parameters: {'n_layers_conv': 1, 'n_layers_dense': 1, 'filters_0': 32, 'kernel_size_0': 3, 'strides_0': 1, 'n_units_0': 120, 'optimizer': 'Adam', 'lr': 0.0002739969770608278}. Best is trial 30 with value: 0.1013.\u001b[0m\n"
          ]
        },
        {
          "output_type": "stream",
          "name": "stdout",
          "text": [
            "Files already downloaded and verified\n"
          ]
        },
        {
          "output_type": "stream",
          "name": "stderr",
          "text": [
            "\u001b[32m[I 2022-06-17 05:27:00,566]\u001b[0m Trial 32 finished with value: 0.0726 and parameters: {'n_layers_conv': 1, 'n_layers_dense': 1, 'filters_0': 32, 'kernel_size_0': 3, 'strides_0': 1, 'n_units_0': 122, 'optimizer': 'Adam', 'lr': 0.00035053471081942296}. Best is trial 30 with value: 0.1013.\u001b[0m\n"
          ]
        },
        {
          "output_type": "stream",
          "name": "stdout",
          "text": [
            "Files already downloaded and verified\n"
          ]
        },
        {
          "output_type": "stream",
          "name": "stderr",
          "text": [
            "\u001b[32m[I 2022-06-17 05:27:58,311]\u001b[0m Trial 33 finished with value: 0.0667 and parameters: {'n_layers_conv': 1, 'n_layers_dense': 1, 'filters_0': 32, 'kernel_size_0': 3, 'strides_0': 1, 'n_units_0': 117, 'optimizer': 'Adam', 'lr': 0.0001639076283452969}. Best is trial 30 with value: 0.1013.\u001b[0m\n"
          ]
        },
        {
          "output_type": "stream",
          "name": "stdout",
          "text": [
            "Files already downloaded and verified\n"
          ]
        },
        {
          "output_type": "stream",
          "name": "stderr",
          "text": [
            "\u001b[32m[I 2022-06-17 05:28:56,798]\u001b[0m Trial 34 finished with value: 0.0833 and parameters: {'n_layers_conv': 1, 'n_layers_dense': 2, 'filters_0': 16, 'kernel_size_0': 3, 'strides_0': 1, 'n_units_0': 123, 'n_units_1': 100, 'optimizer': 'Adam', 'lr': 0.00037972343900425054}. Best is trial 30 with value: 0.1013.\u001b[0m\n"
          ]
        },
        {
          "output_type": "stream",
          "name": "stdout",
          "text": [
            "Files already downloaded and verified\n"
          ]
        },
        {
          "output_type": "stream",
          "name": "stderr",
          "text": [
            "\u001b[32m[I 2022-06-17 05:29:03,750]\u001b[0m Trial 35 pruned. \u001b[0m\n"
          ]
        },
        {
          "output_type": "stream",
          "name": "stdout",
          "text": [
            "Files already downloaded and verified\n"
          ]
        },
        {
          "output_type": "stream",
          "name": "stderr",
          "text": [
            "\u001b[32m[I 2022-06-17 05:30:03,410]\u001b[0m Trial 36 finished with value: 0.0881 and parameters: {'n_layers_conv': 1, 'n_layers_dense': 2, 'filters_0': 16, 'kernel_size_0': 3, 'strides_0': 1, 'n_units_0': 126, 'n_units_1': 118, 'optimizer': 'Adam', 'lr': 0.0011072114837645441}. Best is trial 30 with value: 0.1013.\u001b[0m\n"
          ]
        },
        {
          "output_type": "stream",
          "name": "stdout",
          "text": [
            "Files already downloaded and verified\n"
          ]
        },
        {
          "output_type": "stream",
          "name": "stderr",
          "text": [
            "\u001b[32m[I 2022-06-17 05:31:01,926]\u001b[0m Trial 37 finished with value: 0.0963 and parameters: {'n_layers_conv': 1, 'n_layers_dense': 2, 'filters_0': 16, 'kernel_size_0': 3, 'strides_0': 1, 'n_units_0': 125, 'n_units_1': 116, 'optimizer': 'Adam', 'lr': 0.0009523201392986055}. Best is trial 30 with value: 0.1013.\u001b[0m\n"
          ]
        },
        {
          "output_type": "stream",
          "name": "stdout",
          "text": [
            "Files already downloaded and verified\n"
          ]
        },
        {
          "output_type": "stream",
          "name": "stderr",
          "text": [
            "\u001b[32m[I 2022-06-17 05:32:00,136]\u001b[0m Trial 38 finished with value: 0.0885 and parameters: {'n_layers_conv': 1, 'n_layers_dense': 2, 'filters_0': 16, 'kernel_size_0': 3, 'strides_0': 1, 'n_units_0': 126, 'n_units_1': 117, 'optimizer': 'Adam', 'lr': 0.0010364130471882621}. Best is trial 30 with value: 0.1013.\u001b[0m\n"
          ]
        },
        {
          "output_type": "stream",
          "name": "stdout",
          "text": [
            "Files already downloaded and verified\n"
          ]
        },
        {
          "output_type": "stream",
          "name": "stderr",
          "text": [
            "\u001b[32m[I 2022-06-17 05:32:06,923]\u001b[0m Trial 39 pruned. \u001b[0m\n"
          ]
        },
        {
          "output_type": "stream",
          "name": "stdout",
          "text": [
            "Files already downloaded and verified\n"
          ]
        },
        {
          "output_type": "stream",
          "name": "stderr",
          "text": [
            "\u001b[32m[I 2022-06-17 05:33:05,864]\u001b[0m Trial 40 finished with value: 0.0711 and parameters: {'n_layers_conv': 1, 'n_layers_dense': 3, 'filters_0': 16, 'kernel_size_0': 3, 'strides_0': 1, 'n_units_0': 114, 'n_units_1': 126, 'n_units_2': 65, 'optimizer': 'Adam', 'lr': 0.000657754326989278}. Best is trial 30 with value: 0.1013.\u001b[0m\n"
          ]
        },
        {
          "output_type": "stream",
          "name": "stdout",
          "text": [
            "Files already downloaded and verified\n"
          ]
        },
        {
          "output_type": "stream",
          "name": "stderr",
          "text": [
            "\u001b[32m[I 2022-06-17 05:34:04,538]\u001b[0m Trial 41 finished with value: 0.0875 and parameters: {'n_layers_conv': 1, 'n_layers_dense': 2, 'filters_0': 16, 'kernel_size_0': 3, 'strides_0': 1, 'n_units_0': 125, 'n_units_1': 114, 'optimizer': 'Adam', 'lr': 0.0012042971521220745}. Best is trial 30 with value: 0.1013.\u001b[0m\n"
          ]
        },
        {
          "output_type": "stream",
          "name": "stdout",
          "text": [
            "Files already downloaded and verified\n"
          ]
        },
        {
          "output_type": "stream",
          "name": "stderr",
          "text": [
            "\u001b[32m[I 2022-06-17 05:34:11,438]\u001b[0m Trial 42 pruned. \u001b[0m\n"
          ]
        },
        {
          "output_type": "stream",
          "name": "stdout",
          "text": [
            "Files already downloaded and verified\n"
          ]
        },
        {
          "output_type": "stream",
          "name": "stderr",
          "text": [
            "\u001b[32m[I 2022-06-17 05:34:18,536]\u001b[0m Trial 43 pruned. \u001b[0m\n"
          ]
        },
        {
          "output_type": "stream",
          "name": "stdout",
          "text": [
            "Files already downloaded and verified\n"
          ]
        },
        {
          "output_type": "stream",
          "name": "stderr",
          "text": [
            "\u001b[32m[I 2022-06-17 05:35:16,713]\u001b[0m Trial 44 finished with value: 0.0669 and parameters: {'n_layers_conv': 1, 'n_layers_dense': 2, 'filters_0': 16, 'kernel_size_0': 3, 'strides_0': 1, 'n_units_0': 128, 'n_units_1': 121, 'optimizer': 'Adam', 'lr': 0.001973774749998214}. Best is trial 30 with value: 0.1013.\u001b[0m\n"
          ]
        },
        {
          "output_type": "stream",
          "name": "stdout",
          "text": [
            "Files already downloaded and verified\n"
          ]
        },
        {
          "output_type": "stream",
          "name": "stderr",
          "text": [
            "\u001b[32m[I 2022-06-17 05:35:23,664]\u001b[0m Trial 45 pruned. \u001b[0m\n"
          ]
        },
        {
          "output_type": "stream",
          "name": "stdout",
          "text": [
            "Files already downloaded and verified\n"
          ]
        },
        {
          "output_type": "stream",
          "name": "stderr",
          "text": [
            "\u001b[32m[I 2022-06-17 05:35:31,103]\u001b[0m Trial 46 pruned. \u001b[0m\n"
          ]
        },
        {
          "output_type": "stream",
          "name": "stdout",
          "text": [
            "Files already downloaded and verified\n"
          ]
        },
        {
          "output_type": "stream",
          "name": "stderr",
          "text": [
            "\u001b[32m[I 2022-06-17 05:35:38,761]\u001b[0m Trial 47 pruned. \u001b[0m\n"
          ]
        },
        {
          "output_type": "stream",
          "name": "stdout",
          "text": [
            "Files already downloaded and verified\n"
          ]
        },
        {
          "output_type": "stream",
          "name": "stderr",
          "text": [
            "\u001b[32m[I 2022-06-17 05:35:46,142]\u001b[0m Trial 48 pruned. \u001b[0m\n"
          ]
        },
        {
          "output_type": "stream",
          "name": "stdout",
          "text": [
            "Files already downloaded and verified\n"
          ]
        },
        {
          "output_type": "stream",
          "name": "stderr",
          "text": [
            "\u001b[32m[I 2022-06-17 05:35:53,135]\u001b[0m Trial 49 pruned. \u001b[0m\n"
          ]
        },
        {
          "output_type": "stream",
          "name": "stdout",
          "text": [
            "Files already downloaded and verified\n"
          ]
        },
        {
          "output_type": "stream",
          "name": "stderr",
          "text": [
            "\u001b[32m[I 2022-06-17 05:36:00,176]\u001b[0m Trial 50 pruned. \u001b[0m\n"
          ]
        },
        {
          "output_type": "stream",
          "name": "stdout",
          "text": [
            "Files already downloaded and verified\n"
          ]
        },
        {
          "output_type": "stream",
          "name": "stderr",
          "text": [
            "\u001b[32m[I 2022-06-17 05:36:58,339]\u001b[0m Trial 51 finished with value: 0.0753 and parameters: {'n_layers_conv': 1, 'n_layers_dense': 2, 'filters_0': 16, 'kernel_size_0': 3, 'strides_0': 1, 'n_units_0': 123, 'n_units_1': 102, 'optimizer': 'Adam', 'lr': 0.0003501863702095047}. Best is trial 30 with value: 0.1013.\u001b[0m\n"
          ]
        },
        {
          "output_type": "stream",
          "name": "stdout",
          "text": [
            "Files already downloaded and verified\n"
          ]
        },
        {
          "output_type": "stream",
          "name": "stderr",
          "text": [
            "\u001b[32m[I 2022-06-17 05:37:05,265]\u001b[0m Trial 52 pruned. \u001b[0m\n"
          ]
        },
        {
          "output_type": "stream",
          "name": "stdout",
          "text": [
            "Files already downloaded and verified\n"
          ]
        },
        {
          "output_type": "stream",
          "name": "stderr",
          "text": [
            "\u001b[32m[I 2022-06-17 05:38:03,411]\u001b[0m Trial 53 finished with value: 0.0865 and parameters: {'n_layers_conv': 1, 'n_layers_dense': 2, 'filters_0': 16, 'kernel_size_0': 3, 'strides_0': 1, 'n_units_0': 118, 'n_units_1': 107, 'optimizer': 'Adam', 'lr': 0.0004774527442239247}. Best is trial 30 with value: 0.1013.\u001b[0m\n"
          ]
        },
        {
          "output_type": "stream",
          "name": "stdout",
          "text": [
            "Files already downloaded and verified\n"
          ]
        },
        {
          "output_type": "stream",
          "name": "stderr",
          "text": [
            "\u001b[32m[I 2022-06-17 05:38:10,310]\u001b[0m Trial 54 pruned. \u001b[0m\n"
          ]
        },
        {
          "output_type": "stream",
          "name": "stdout",
          "text": [
            "Files already downloaded and verified\n"
          ]
        },
        {
          "output_type": "stream",
          "name": "stderr",
          "text": [
            "\u001b[32m[I 2022-06-17 05:39:08,486]\u001b[0m Trial 55 finished with value: 0.092 and parameters: {'n_layers_conv': 1, 'n_layers_dense': 2, 'filters_0': 16, 'kernel_size_0': 3, 'strides_0': 1, 'n_units_0': 126, 'n_units_1': 116, 'optimizer': 'RMSprop', 'lr': 0.0005072076197555559}. Best is trial 30 with value: 0.1013.\u001b[0m\n"
          ]
        },
        {
          "output_type": "stream",
          "name": "stdout",
          "text": [
            "Files already downloaded and verified\n"
          ]
        },
        {
          "output_type": "stream",
          "name": "stderr",
          "text": [
            "\u001b[32m[I 2022-06-17 05:39:15,478]\u001b[0m Trial 56 pruned. \u001b[0m\n"
          ]
        },
        {
          "output_type": "stream",
          "name": "stdout",
          "text": [
            "Files already downloaded and verified\n"
          ]
        },
        {
          "output_type": "stream",
          "name": "stderr",
          "text": [
            "\u001b[32m[I 2022-06-17 05:39:22,755]\u001b[0m Trial 57 pruned. \u001b[0m\n"
          ]
        },
        {
          "output_type": "stream",
          "name": "stdout",
          "text": [
            "Files already downloaded and verified\n"
          ]
        },
        {
          "output_type": "stream",
          "name": "stderr",
          "text": [
            "\u001b[32m[I 2022-06-17 05:39:29,712]\u001b[0m Trial 58 pruned. \u001b[0m\n"
          ]
        },
        {
          "output_type": "stream",
          "name": "stdout",
          "text": [
            "Files already downloaded and verified\n"
          ]
        },
        {
          "output_type": "stream",
          "name": "stderr",
          "text": [
            "\u001b[32m[I 2022-06-17 05:39:39,212]\u001b[0m Trial 59 pruned. \u001b[0m\n"
          ]
        },
        {
          "output_type": "stream",
          "name": "stdout",
          "text": [
            "Files already downloaded and verified\n"
          ]
        },
        {
          "output_type": "stream",
          "name": "stderr",
          "text": [
            "\u001b[32m[I 2022-06-17 05:39:46,205]\u001b[0m Trial 60 pruned. \u001b[0m\n"
          ]
        },
        {
          "output_type": "stream",
          "name": "stdout",
          "text": [
            "Files already downloaded and verified\n"
          ]
        },
        {
          "output_type": "stream",
          "name": "stderr",
          "text": [
            "\u001b[32m[I 2022-06-17 05:40:44,773]\u001b[0m Trial 61 finished with value: 0.0878 and parameters: {'n_layers_conv': 1, 'n_layers_dense': 2, 'filters_0': 16, 'kernel_size_0': 3, 'strides_0': 1, 'n_units_0': 126, 'n_units_1': 112, 'optimizer': 'Adam', 'lr': 0.0004845482855873205}. Best is trial 30 with value: 0.1013.\u001b[0m\n"
          ]
        },
        {
          "output_type": "stream",
          "name": "stdout",
          "text": [
            "Files already downloaded and verified\n"
          ]
        },
        {
          "output_type": "stream",
          "name": "stderr",
          "text": [
            "\u001b[32m[I 2022-06-17 05:41:42,809]\u001b[0m Trial 62 finished with value: 0.0839 and parameters: {'n_layers_conv': 1, 'n_layers_dense': 2, 'filters_0': 16, 'kernel_size_0': 3, 'strides_0': 1, 'n_units_0': 126, 'n_units_1': 116, 'optimizer': 'Adam', 'lr': 0.0005908198983786461}. Best is trial 30 with value: 0.1013.\u001b[0m\n"
          ]
        },
        {
          "output_type": "stream",
          "name": "stdout",
          "text": [
            "Files already downloaded and verified\n"
          ]
        },
        {
          "output_type": "stream",
          "name": "stderr",
          "text": [
            "\u001b[32m[I 2022-06-17 05:42:40,787]\u001b[0m Trial 63 finished with value: 0.0923 and parameters: {'n_layers_conv': 1, 'n_layers_dense': 2, 'filters_0': 16, 'kernel_size_0': 3, 'strides_0': 1, 'n_units_0': 126, 'n_units_1': 111, 'optimizer': 'Adam', 'lr': 0.00045421500479844804}. Best is trial 30 with value: 0.1013.\u001b[0m\n"
          ]
        },
        {
          "output_type": "stream",
          "name": "stdout",
          "text": [
            "Files already downloaded and verified\n"
          ]
        },
        {
          "output_type": "stream",
          "name": "stderr",
          "text": [
            "\u001b[32m[I 2022-06-17 05:43:39,507]\u001b[0m Trial 64 finished with value: 0.0777 and parameters: {'n_layers_conv': 1, 'n_layers_dense': 2, 'filters_0': 16, 'kernel_size_0': 3, 'strides_0': 1, 'n_units_0': 121, 'n_units_1': 110, 'optimizer': 'Adam', 'lr': 0.00030460681727942026}. Best is trial 30 with value: 0.1013.\u001b[0m\n"
          ]
        },
        {
          "output_type": "stream",
          "name": "stdout",
          "text": [
            "Files already downloaded and verified\n"
          ]
        },
        {
          "output_type": "stream",
          "name": "stderr",
          "text": [
            "\u001b[32m[I 2022-06-17 05:44:36,684]\u001b[0m Trial 65 finished with value: 0.0887 and parameters: {'n_layers_conv': 1, 'n_layers_dense': 2, 'filters_0': 16, 'kernel_size_0': 3, 'strides_0': 1, 'n_units_0': 127, 'n_units_1': 123, 'optimizer': 'RMSprop', 'lr': 0.0004585533446495091}. Best is trial 30 with value: 0.1013.\u001b[0m\n"
          ]
        },
        {
          "output_type": "stream",
          "name": "stdout",
          "text": [
            "Files already downloaded and verified\n"
          ]
        },
        {
          "output_type": "stream",
          "name": "stderr",
          "text": [
            "\u001b[32m[I 2022-06-17 05:44:43,691]\u001b[0m Trial 66 pruned. \u001b[0m\n"
          ]
        },
        {
          "output_type": "stream",
          "name": "stdout",
          "text": [
            "Files already downloaded and verified\n"
          ]
        },
        {
          "output_type": "stream",
          "name": "stderr",
          "text": [
            "\u001b[32m[I 2022-06-17 05:44:50,528]\u001b[0m Trial 67 pruned. \u001b[0m\n"
          ]
        },
        {
          "output_type": "stream",
          "name": "stdout",
          "text": [
            "Files already downloaded and verified\n"
          ]
        },
        {
          "output_type": "stream",
          "name": "stderr",
          "text": [
            "\u001b[32m[I 2022-06-17 05:44:57,497]\u001b[0m Trial 68 pruned. \u001b[0m\n"
          ]
        },
        {
          "output_type": "stream",
          "name": "stdout",
          "text": [
            "Files already downloaded and verified\n"
          ]
        },
        {
          "output_type": "stream",
          "name": "stderr",
          "text": [
            "\u001b[32m[I 2022-06-17 05:45:05,169]\u001b[0m Trial 69 pruned. \u001b[0m\n"
          ]
        },
        {
          "output_type": "stream",
          "name": "stdout",
          "text": [
            "Files already downloaded and verified\n"
          ]
        },
        {
          "output_type": "stream",
          "name": "stderr",
          "text": [
            "\u001b[32m[I 2022-06-17 05:45:13,224]\u001b[0m Trial 70 pruned. \u001b[0m\n"
          ]
        },
        {
          "output_type": "stream",
          "name": "stdout",
          "text": [
            "Files already downloaded and verified\n"
          ]
        },
        {
          "output_type": "stream",
          "name": "stderr",
          "text": [
            "\u001b[32m[I 2022-06-17 05:46:11,305]\u001b[0m Trial 71 finished with value: 0.0839 and parameters: {'n_layers_conv': 1, 'n_layers_dense': 2, 'filters_0': 16, 'kernel_size_0': 3, 'strides_0': 1, 'n_units_0': 126, 'n_units_1': 121, 'optimizer': 'Adam', 'lr': 0.0004802699720872679}. Best is trial 30 with value: 0.1013.\u001b[0m\n"
          ]
        },
        {
          "output_type": "stream",
          "name": "stdout",
          "text": [
            "Files already downloaded and verified\n"
          ]
        },
        {
          "output_type": "stream",
          "name": "stderr",
          "text": [
            "\u001b[32m[I 2022-06-17 05:46:18,373]\u001b[0m Trial 72 pruned. \u001b[0m\n"
          ]
        },
        {
          "output_type": "stream",
          "name": "stdout",
          "text": [
            "Files already downloaded and verified\n"
          ]
        },
        {
          "output_type": "stream",
          "name": "stderr",
          "text": [
            "\u001b[32m[I 2022-06-17 05:46:25,240]\u001b[0m Trial 73 pruned. \u001b[0m\n"
          ]
        },
        {
          "output_type": "stream",
          "name": "stdout",
          "text": [
            "Files already downloaded and verified\n"
          ]
        },
        {
          "output_type": "stream",
          "name": "stderr",
          "text": [
            "\u001b[32m[I 2022-06-17 05:47:23,180]\u001b[0m Trial 74 finished with value: 0.0784 and parameters: {'n_layers_conv': 1, 'n_layers_dense': 2, 'filters_0': 16, 'kernel_size_0': 3, 'strides_0': 1, 'n_units_0': 126, 'n_units_1': 118, 'optimizer': 'Adam', 'lr': 0.0006302922065394862}. Best is trial 30 with value: 0.1013.\u001b[0m\n"
          ]
        },
        {
          "output_type": "stream",
          "name": "stdout",
          "text": [
            "Files already downloaded and verified\n"
          ]
        },
        {
          "output_type": "stream",
          "name": "stderr",
          "text": [
            "\u001b[32m[I 2022-06-17 05:47:41,401]\u001b[0m Trial 75 pruned. \u001b[0m\n"
          ]
        },
        {
          "output_type": "stream",
          "name": "stdout",
          "text": [
            "Files already downloaded and verified\n"
          ]
        },
        {
          "output_type": "stream",
          "name": "stderr",
          "text": [
            "\u001b[32m[I 2022-06-17 05:48:40,229]\u001b[0m Trial 76 finished with value: 0.0856 and parameters: {'n_layers_conv': 1, 'n_layers_dense': 2, 'filters_0': 16, 'kernel_size_0': 3, 'strides_0': 1, 'n_units_0': 92, 'n_units_1': 111, 'optimizer': 'Adam', 'lr': 0.0003001029293547799}. Best is trial 30 with value: 0.1013.\u001b[0m\n"
          ]
        },
        {
          "output_type": "stream",
          "name": "stdout",
          "text": [
            "Files already downloaded and verified\n"
          ]
        },
        {
          "output_type": "stream",
          "name": "stderr",
          "text": [
            "\u001b[32m[I 2022-06-17 05:49:03,852]\u001b[0m Trial 77 pruned. \u001b[0m\n"
          ]
        },
        {
          "output_type": "stream",
          "name": "stdout",
          "text": [
            "Files already downloaded and verified\n"
          ]
        },
        {
          "output_type": "stream",
          "name": "stderr",
          "text": [
            "\u001b[32m[I 2022-06-17 05:49:10,573]\u001b[0m Trial 78 pruned. \u001b[0m\n"
          ]
        },
        {
          "output_type": "stream",
          "name": "stdout",
          "text": [
            "Files already downloaded and verified\n"
          ]
        },
        {
          "output_type": "stream",
          "name": "stderr",
          "text": [
            "\u001b[32m[I 2022-06-17 05:49:17,729]\u001b[0m Trial 79 pruned. \u001b[0m\n"
          ]
        },
        {
          "output_type": "stream",
          "name": "stdout",
          "text": [
            "Files already downloaded and verified\n"
          ]
        },
        {
          "output_type": "stream",
          "name": "stderr",
          "text": [
            "\u001b[32m[I 2022-06-17 05:49:24,624]\u001b[0m Trial 80 pruned. \u001b[0m\n"
          ]
        },
        {
          "output_type": "stream",
          "name": "stdout",
          "text": [
            "Files already downloaded and verified\n"
          ]
        },
        {
          "output_type": "stream",
          "name": "stderr",
          "text": [
            "\u001b[32m[I 2022-06-17 05:49:31,490]\u001b[0m Trial 81 pruned. \u001b[0m\n"
          ]
        },
        {
          "output_type": "stream",
          "name": "stdout",
          "text": [
            "Files already downloaded and verified\n"
          ]
        },
        {
          "output_type": "stream",
          "name": "stderr",
          "text": [
            "\u001b[32m[I 2022-06-17 05:50:29,649]\u001b[0m Trial 82 finished with value: 0.0886 and parameters: {'n_layers_conv': 1, 'n_layers_dense': 2, 'filters_0': 16, 'kernel_size_0': 3, 'strides_0': 1, 'n_units_0': 127, 'n_units_1': 116, 'optimizer': 'Adam', 'lr': 0.0007219932622600596}. Best is trial 30 with value: 0.1013.\u001b[0m\n"
          ]
        },
        {
          "output_type": "stream",
          "name": "stdout",
          "text": [
            "Files already downloaded and verified\n"
          ]
        },
        {
          "output_type": "stream",
          "name": "stderr",
          "text": [
            "\u001b[32m[I 2022-06-17 05:50:36,506]\u001b[0m Trial 83 pruned. \u001b[0m\n"
          ]
        },
        {
          "output_type": "stream",
          "name": "stdout",
          "text": [
            "Files already downloaded and verified\n"
          ]
        },
        {
          "output_type": "stream",
          "name": "stderr",
          "text": [
            "\u001b[32m[I 2022-06-17 05:50:43,421]\u001b[0m Trial 84 pruned. \u001b[0m\n"
          ]
        },
        {
          "output_type": "stream",
          "name": "stdout",
          "text": [
            "Files already downloaded and verified\n"
          ]
        },
        {
          "output_type": "stream",
          "name": "stderr",
          "text": [
            "\u001b[32m[I 2022-06-17 05:50:50,335]\u001b[0m Trial 85 pruned. \u001b[0m\n"
          ]
        },
        {
          "output_type": "stream",
          "name": "stdout",
          "text": [
            "Files already downloaded and verified\n"
          ]
        },
        {
          "output_type": "stream",
          "name": "stderr",
          "text": [
            "\u001b[32m[I 2022-06-17 05:50:57,267]\u001b[0m Trial 86 pruned. \u001b[0m\n"
          ]
        },
        {
          "output_type": "stream",
          "name": "stdout",
          "text": [
            "Files already downloaded and verified\n"
          ]
        },
        {
          "output_type": "stream",
          "name": "stderr",
          "text": [
            "\u001b[32m[I 2022-06-17 05:51:55,412]\u001b[0m Trial 87 finished with value: 0.0782 and parameters: {'n_layers_conv': 1, 'n_layers_dense': 2, 'filters_0': 16, 'kernel_size_0': 3, 'strides_0': 1, 'n_units_0': 121, 'n_units_1': 112, 'optimizer': 'Adam', 'lr': 0.00022949929102406263}. Best is trial 30 with value: 0.1013.\u001b[0m\n"
          ]
        },
        {
          "output_type": "stream",
          "name": "stdout",
          "text": [
            "Files already downloaded and verified\n"
          ]
        },
        {
          "output_type": "stream",
          "name": "stderr",
          "text": [
            "\u001b[32m[I 2022-06-17 05:52:54,140]\u001b[0m Trial 88 finished with value: 0.0812 and parameters: {'n_layers_conv': 1, 'n_layers_dense': 2, 'filters_0': 16, 'kernel_size_0': 3, 'strides_0': 1, 'n_units_0': 119, 'n_units_1': 125, 'optimizer': 'Adam', 'lr': 0.0004089946644854632}. Best is trial 30 with value: 0.1013.\u001b[0m\n"
          ]
        },
        {
          "output_type": "stream",
          "name": "stdout",
          "text": [
            "Files already downloaded and verified\n"
          ]
        },
        {
          "output_type": "stream",
          "name": "stderr",
          "text": [
            "\u001b[32m[I 2022-06-17 05:53:01,275]\u001b[0m Trial 89 pruned. \u001b[0m\n"
          ]
        },
        {
          "output_type": "stream",
          "name": "stdout",
          "text": [
            "Files already downloaded and verified\n"
          ]
        },
        {
          "output_type": "stream",
          "name": "stderr",
          "text": [
            "\u001b[32m[I 2022-06-17 05:53:08,324]\u001b[0m Trial 90 pruned. \u001b[0m\n"
          ]
        },
        {
          "output_type": "stream",
          "name": "stdout",
          "text": [
            "Files already downloaded and verified\n"
          ]
        },
        {
          "output_type": "stream",
          "name": "stderr",
          "text": [
            "\u001b[32m[I 2022-06-17 05:54:06,407]\u001b[0m Trial 91 finished with value: 0.094 and parameters: {'n_layers_conv': 1, 'n_layers_dense': 2, 'filters_0': 16, 'kernel_size_0': 3, 'strides_0': 1, 'n_units_0': 125, 'n_units_1': 114, 'optimizer': 'Adam', 'lr': 0.001133648132529193}. Best is trial 30 with value: 0.1013.\u001b[0m\n"
          ]
        },
        {
          "output_type": "stream",
          "name": "stdout",
          "text": [
            "Files already downloaded and verified\n"
          ]
        },
        {
          "output_type": "stream",
          "name": "stderr",
          "text": [
            "\u001b[32m[I 2022-06-17 05:54:13,364]\u001b[0m Trial 92 pruned. \u001b[0m\n"
          ]
        },
        {
          "output_type": "stream",
          "name": "stdout",
          "text": [
            "Files already downloaded and verified\n"
          ]
        },
        {
          "output_type": "stream",
          "name": "stderr",
          "text": [
            "\u001b[32m[I 2022-06-17 05:54:20,406]\u001b[0m Trial 93 pruned. \u001b[0m\n"
          ]
        },
        {
          "output_type": "stream",
          "name": "stdout",
          "text": [
            "Files already downloaded and verified\n"
          ]
        },
        {
          "output_type": "stream",
          "name": "stderr",
          "text": [
            "\u001b[32m[I 2022-06-17 05:55:18,436]\u001b[0m Trial 94 finished with value: 0.1109 and parameters: {'n_layers_conv': 1, 'n_layers_dense': 2, 'filters_0': 16, 'kernel_size_0': 3, 'strides_0': 1, 'n_units_0': 128, 'n_units_1': 114, 'optimizer': 'Adam', 'lr': 0.0008119996932411231}. Best is trial 94 with value: 0.1109.\u001b[0m\n"
          ]
        },
        {
          "output_type": "stream",
          "name": "stdout",
          "text": [
            "Files already downloaded and verified\n"
          ]
        },
        {
          "output_type": "stream",
          "name": "stderr",
          "text": [
            "\u001b[32m[I 2022-06-17 05:55:26,011]\u001b[0m Trial 95 pruned. \u001b[0m\n"
          ]
        },
        {
          "output_type": "stream",
          "name": "stdout",
          "text": [
            "Files already downloaded and verified\n"
          ]
        },
        {
          "output_type": "stream",
          "name": "stderr",
          "text": [
            "\u001b[32m[I 2022-06-17 05:55:33,059]\u001b[0m Trial 96 pruned. \u001b[0m\n"
          ]
        },
        {
          "output_type": "stream",
          "name": "stdout",
          "text": [
            "Files already downloaded and verified\n"
          ]
        },
        {
          "output_type": "stream",
          "name": "stderr",
          "text": [
            "\u001b[32m[I 2022-06-17 05:55:39,870]\u001b[0m Trial 97 pruned. \u001b[0m\n"
          ]
        },
        {
          "output_type": "stream",
          "name": "stdout",
          "text": [
            "Files already downloaded and verified\n"
          ]
        },
        {
          "output_type": "stream",
          "name": "stderr",
          "text": [
            "\u001b[32m[I 2022-06-17 05:55:46,930]\u001b[0m Trial 98 pruned. \u001b[0m\n"
          ]
        },
        {
          "output_type": "stream",
          "name": "stdout",
          "text": [
            "Files already downloaded and verified\n"
          ]
        },
        {
          "output_type": "stream",
          "name": "stderr",
          "text": [
            "\u001b[32m[I 2022-06-17 05:55:53,814]\u001b[0m Trial 99 pruned. \u001b[0m\n"
          ]
        },
        {
          "output_type": "stream",
          "name": "stdout",
          "text": [
            "Files already downloaded and verified\n"
          ]
        },
        {
          "output_type": "stream",
          "name": "stderr",
          "text": [
            "\u001b[32m[I 2022-06-17 05:56:00,624]\u001b[0m Trial 100 pruned. \u001b[0m\n"
          ]
        },
        {
          "output_type": "stream",
          "name": "stdout",
          "text": [
            "Files already downloaded and verified\n"
          ]
        },
        {
          "output_type": "stream",
          "name": "stderr",
          "text": [
            "\u001b[32m[I 2022-06-17 05:56:59,113]\u001b[0m Trial 101 finished with value: 0.0979 and parameters: {'n_layers_conv': 1, 'n_layers_dense': 2, 'filters_0': 16, 'kernel_size_0': 3, 'strides_0': 1, 'n_units_0': 127, 'n_units_1': 112, 'optimizer': 'Adam', 'lr': 0.000532301001006712}. Best is trial 94 with value: 0.1109.\u001b[0m\n"
          ]
        },
        {
          "output_type": "stream",
          "name": "stdout",
          "text": [
            "Files already downloaded and verified\n"
          ]
        },
        {
          "output_type": "stream",
          "name": "stderr",
          "text": [
            "\u001b[32m[I 2022-06-17 05:57:06,061]\u001b[0m Trial 102 pruned. \u001b[0m\n"
          ]
        },
        {
          "output_type": "stream",
          "name": "stdout",
          "text": [
            "Files already downloaded and verified\n"
          ]
        },
        {
          "output_type": "stream",
          "name": "stderr",
          "text": [
            "\u001b[32m[I 2022-06-17 05:58:05,165]\u001b[0m Trial 103 finished with value: 0.0956 and parameters: {'n_layers_conv': 1, 'n_layers_dense': 2, 'filters_0': 16, 'kernel_size_0': 3, 'strides_0': 1, 'n_units_0': 128, 'n_units_1': 117, 'optimizer': 'Adam', 'lr': 0.0003611640661966074}. Best is trial 94 with value: 0.1109.\u001b[0m\n"
          ]
        },
        {
          "output_type": "stream",
          "name": "stdout",
          "text": [
            "Files already downloaded and verified\n"
          ]
        },
        {
          "output_type": "stream",
          "name": "stderr",
          "text": [
            "\u001b[32m[I 2022-06-17 05:59:03,616]\u001b[0m Trial 104 finished with value: 0.0921 and parameters: {'n_layers_conv': 1, 'n_layers_dense': 2, 'filters_0': 16, 'kernel_size_0': 3, 'strides_0': 1, 'n_units_0': 128, 'n_units_1': 117, 'optimizer': 'Adam', 'lr': 0.0003607755166776885}. Best is trial 94 with value: 0.1109.\u001b[0m\n"
          ]
        },
        {
          "output_type": "stream",
          "name": "stdout",
          "text": [
            "Files already downloaded and verified\n"
          ]
        },
        {
          "output_type": "stream",
          "name": "stderr",
          "text": [
            "\u001b[32m[I 2022-06-17 05:59:10,546]\u001b[0m Trial 105 pruned. \u001b[0m\n"
          ]
        },
        {
          "output_type": "stream",
          "name": "stdout",
          "text": [
            "Files already downloaded and verified\n"
          ]
        },
        {
          "output_type": "stream",
          "name": "stderr",
          "text": [
            "\u001b[32m[I 2022-06-17 05:59:17,688]\u001b[0m Trial 106 pruned. \u001b[0m\n"
          ]
        },
        {
          "output_type": "stream",
          "name": "stdout",
          "text": [
            "Files already downloaded and verified\n"
          ]
        },
        {
          "output_type": "stream",
          "name": "stderr",
          "text": [
            "\u001b[32m[I 2022-06-17 06:00:16,024]\u001b[0m Trial 107 finished with value: 0.0856 and parameters: {'n_layers_conv': 1, 'n_layers_dense': 2, 'filters_0': 16, 'kernel_size_0': 3, 'strides_0': 1, 'n_units_0': 122, 'n_units_1': 117, 'optimizer': 'Adam', 'lr': 0.0002010072553580398}. Best is trial 94 with value: 0.1109.\u001b[0m\n"
          ]
        },
        {
          "output_type": "stream",
          "name": "stdout",
          "text": [
            "Files already downloaded and verified\n"
          ]
        },
        {
          "output_type": "stream",
          "name": "stderr",
          "text": [
            "\u001b[32m[I 2022-06-17 06:00:22,920]\u001b[0m Trial 108 pruned. \u001b[0m\n"
          ]
        },
        {
          "output_type": "stream",
          "name": "stdout",
          "text": [
            "Files already downloaded and verified\n"
          ]
        },
        {
          "output_type": "stream",
          "name": "stderr",
          "text": [
            "\u001b[32m[I 2022-06-17 06:00:30,007]\u001b[0m Trial 109 pruned. \u001b[0m\n"
          ]
        },
        {
          "output_type": "stream",
          "name": "stdout",
          "text": [
            "Files already downloaded and verified\n"
          ]
        },
        {
          "output_type": "stream",
          "name": "stderr",
          "text": [
            "\u001b[32m[I 2022-06-17 06:01:28,521]\u001b[0m Trial 110 finished with value: 0.0862 and parameters: {'n_layers_conv': 1, 'n_layers_dense': 2, 'filters_0': 16, 'kernel_size_0': 3, 'strides_0': 1, 'n_units_0': 121, 'n_units_1': 113, 'optimizer': 'Adam', 'lr': 0.0002768439302659079}. Best is trial 94 with value: 0.1109.\u001b[0m\n"
          ]
        },
        {
          "output_type": "stream",
          "name": "stdout",
          "text": [
            "Files already downloaded and verified\n"
          ]
        },
        {
          "output_type": "stream",
          "name": "stderr",
          "text": [
            "\u001b[32m[I 2022-06-17 06:01:35,451]\u001b[0m Trial 111 pruned. \u001b[0m\n"
          ]
        },
        {
          "output_type": "stream",
          "name": "stdout",
          "text": [
            "Files already downloaded and verified\n"
          ]
        },
        {
          "output_type": "stream",
          "name": "stderr",
          "text": [
            "\u001b[32m[I 2022-06-17 06:01:42,339]\u001b[0m Trial 112 pruned. \u001b[0m\n"
          ]
        },
        {
          "output_type": "stream",
          "name": "stdout",
          "text": [
            "Files already downloaded and verified\n"
          ]
        },
        {
          "output_type": "stream",
          "name": "stderr",
          "text": [
            "\u001b[32m[I 2022-06-17 06:01:49,246]\u001b[0m Trial 113 pruned. \u001b[0m\n"
          ]
        },
        {
          "output_type": "stream",
          "name": "stdout",
          "text": [
            "Files already downloaded and verified\n"
          ]
        },
        {
          "output_type": "stream",
          "name": "stderr",
          "text": [
            "\u001b[32m[I 2022-06-17 06:02:47,644]\u001b[0m Trial 114 finished with value: 0.0923 and parameters: {'n_layers_conv': 1, 'n_layers_dense': 2, 'filters_0': 16, 'kernel_size_0': 3, 'strides_0': 1, 'n_units_0': 125, 'n_units_1': 109, 'optimizer': 'Adam', 'lr': 0.0008674568235163541}. Best is trial 94 with value: 0.1109.\u001b[0m\n"
          ]
        },
        {
          "output_type": "stream",
          "name": "stdout",
          "text": [
            "Files already downloaded and verified\n"
          ]
        },
        {
          "output_type": "stream",
          "name": "stderr",
          "text": [
            "\u001b[32m[I 2022-06-17 06:02:54,793]\u001b[0m Trial 115 pruned. \u001b[0m\n"
          ]
        },
        {
          "output_type": "stream",
          "name": "stdout",
          "text": [
            "Files already downloaded and verified\n"
          ]
        },
        {
          "output_type": "stream",
          "name": "stderr",
          "text": [
            "\u001b[32m[I 2022-06-17 06:03:52,009]\u001b[0m Trial 116 finished with value: 0.0938 and parameters: {'n_layers_conv': 1, 'n_layers_dense': 2, 'filters_0': 16, 'kernel_size_0': 3, 'strides_0': 1, 'n_units_0': 125, 'n_units_1': 111, 'optimizer': 'RMSprop', 'lr': 0.00034829334365727804}. Best is trial 94 with value: 0.1109.\u001b[0m\n"
          ]
        },
        {
          "output_type": "stream",
          "name": "stdout",
          "text": [
            "Files already downloaded and verified\n"
          ]
        },
        {
          "output_type": "stream",
          "name": "stderr",
          "text": [
            "\u001b[32m[I 2022-06-17 06:03:58,849]\u001b[0m Trial 117 pruned. \u001b[0m\n"
          ]
        },
        {
          "output_type": "stream",
          "name": "stdout",
          "text": [
            "Files already downloaded and verified\n"
          ]
        },
        {
          "output_type": "stream",
          "name": "stderr",
          "text": [
            "\u001b[32m[I 2022-06-17 06:04:05,709]\u001b[0m Trial 118 pruned. \u001b[0m\n"
          ]
        },
        {
          "output_type": "stream",
          "name": "stdout",
          "text": [
            "Files already downloaded and verified\n"
          ]
        },
        {
          "output_type": "stream",
          "name": "stderr",
          "text": [
            "\u001b[32m[I 2022-06-17 06:04:18,258]\u001b[0m Trial 119 pruned. \u001b[0m\n"
          ]
        },
        {
          "output_type": "stream",
          "name": "stdout",
          "text": [
            "Files already downloaded and verified\n"
          ]
        },
        {
          "output_type": "stream",
          "name": "stderr",
          "text": [
            "\u001b[32m[I 2022-06-17 06:04:25,086]\u001b[0m Trial 120 pruned. \u001b[0m\n"
          ]
        },
        {
          "output_type": "stream",
          "name": "stdout",
          "text": [
            "Files already downloaded and verified\n"
          ]
        },
        {
          "output_type": "stream",
          "name": "stderr",
          "text": [
            "\u001b[32m[I 2022-06-17 06:04:31,917]\u001b[0m Trial 121 pruned. \u001b[0m\n"
          ]
        },
        {
          "output_type": "stream",
          "name": "stdout",
          "text": [
            "Files already downloaded and verified\n"
          ]
        },
        {
          "output_type": "stream",
          "name": "stderr",
          "text": [
            "\u001b[32m[I 2022-06-17 06:05:29,701]\u001b[0m Trial 122 finished with value: 0.0993 and parameters: {'n_layers_conv': 1, 'n_layers_dense': 2, 'filters_0': 16, 'kernel_size_0': 3, 'strides_0': 1, 'n_units_0': 80, 'n_units_1': 116, 'optimizer': 'Adam', 'lr': 0.000499717645111775}. Best is trial 94 with value: 0.1109.\u001b[0m\n"
          ]
        },
        {
          "output_type": "stream",
          "name": "stdout",
          "text": [
            "Files already downloaded and verified\n"
          ]
        },
        {
          "output_type": "stream",
          "name": "stderr",
          "text": [
            "\u001b[32m[I 2022-06-17 06:06:27,891]\u001b[0m Trial 123 finished with value: 0.0857 and parameters: {'n_layers_conv': 1, 'n_layers_dense': 2, 'filters_0': 16, 'kernel_size_0': 3, 'strides_0': 1, 'n_units_0': 85, 'n_units_1': 64, 'optimizer': 'Adam', 'lr': 0.00035691289709693436}. Best is trial 94 with value: 0.1109.\u001b[0m\n"
          ]
        },
        {
          "output_type": "stream",
          "name": "stdout",
          "text": [
            "Files already downloaded and verified\n"
          ]
        },
        {
          "output_type": "stream",
          "name": "stderr",
          "text": [
            "\u001b[32m[I 2022-06-17 06:06:34,593]\u001b[0m Trial 124 pruned. \u001b[0m\n"
          ]
        },
        {
          "output_type": "stream",
          "name": "stdout",
          "text": [
            "Files already downloaded and verified\n"
          ]
        },
        {
          "output_type": "stream",
          "name": "stderr",
          "text": [
            "\u001b[32m[I 2022-06-17 06:07:33,861]\u001b[0m Trial 125 finished with value: 0.0873 and parameters: {'n_layers_conv': 1, 'n_layers_dense': 2, 'filters_0': 64, 'kernel_size_0': 3, 'strides_0': 1, 'n_units_0': 83, 'n_units_1': 109, 'optimizer': 'Adam', 'lr': 0.0002739843443122575}. Best is trial 94 with value: 0.1109.\u001b[0m\n"
          ]
        },
        {
          "output_type": "stream",
          "name": "stdout",
          "text": [
            "Files already downloaded and verified\n"
          ]
        },
        {
          "output_type": "stream",
          "name": "stderr",
          "text": [
            "\u001b[32m[I 2022-06-17 06:07:40,759]\u001b[0m Trial 126 pruned. \u001b[0m\n"
          ]
        },
        {
          "output_type": "stream",
          "name": "stdout",
          "text": [
            "Files already downloaded and verified\n"
          ]
        },
        {
          "output_type": "stream",
          "name": "stderr",
          "text": [
            "\u001b[32m[I 2022-06-17 06:07:47,682]\u001b[0m Trial 127 pruned. \u001b[0m\n"
          ]
        },
        {
          "output_type": "stream",
          "name": "stdout",
          "text": [
            "Files already downloaded and verified\n"
          ]
        },
        {
          "output_type": "stream",
          "name": "stderr",
          "text": [
            "\u001b[32m[I 2022-06-17 06:08:00,008]\u001b[0m Trial 128 pruned. \u001b[0m\n"
          ]
        },
        {
          "output_type": "stream",
          "name": "stdout",
          "text": [
            "Files already downloaded and verified\n"
          ]
        },
        {
          "output_type": "stream",
          "name": "stderr",
          "text": [
            "\u001b[32m[I 2022-06-17 06:08:23,807]\u001b[0m Trial 129 pruned. \u001b[0m\n"
          ]
        },
        {
          "output_type": "stream",
          "name": "stdout",
          "text": [
            "Files already downloaded and verified\n"
          ]
        },
        {
          "output_type": "stream",
          "name": "stderr",
          "text": [
            "\u001b[32m[I 2022-06-17 06:08:30,706]\u001b[0m Trial 130 pruned. \u001b[0m\n"
          ]
        },
        {
          "output_type": "stream",
          "name": "stdout",
          "text": [
            "Files already downloaded and verified\n"
          ]
        },
        {
          "output_type": "stream",
          "name": "stderr",
          "text": [
            "\u001b[32m[I 2022-06-17 06:08:37,587]\u001b[0m Trial 131 pruned. \u001b[0m\n"
          ]
        },
        {
          "output_type": "stream",
          "name": "stdout",
          "text": [
            "Files already downloaded and verified\n"
          ]
        },
        {
          "output_type": "stream",
          "name": "stderr",
          "text": [
            "\u001b[32m[I 2022-06-17 06:09:01,527]\u001b[0m Trial 132 pruned. \u001b[0m\n"
          ]
        },
        {
          "output_type": "stream",
          "name": "stdout",
          "text": [
            "Files already downloaded and verified\n"
          ]
        },
        {
          "output_type": "stream",
          "name": "stderr",
          "text": [
            "\u001b[32m[I 2022-06-17 06:09:59,263]\u001b[0m Trial 133 finished with value: 0.0913 and parameters: {'n_layers_conv': 1, 'n_layers_dense': 2, 'filters_0': 16, 'kernel_size_0': 3, 'strides_0': 1, 'n_units_0': 124, 'n_units_1': 113, 'optimizer': 'Adam', 'lr': 0.0005689149594433499}. Best is trial 94 with value: 0.1109.\u001b[0m\n"
          ]
        },
        {
          "output_type": "stream",
          "name": "stdout",
          "text": [
            "Files already downloaded and verified\n"
          ]
        },
        {
          "output_type": "stream",
          "name": "stderr",
          "text": [
            "\u001b[32m[I 2022-06-17 06:10:57,278]\u001b[0m Trial 134 finished with value: 0.0917 and parameters: {'n_layers_conv': 1, 'n_layers_dense': 2, 'filters_0': 16, 'kernel_size_0': 3, 'strides_0': 1, 'n_units_0': 90, 'n_units_1': 111, 'optimizer': 'Adam', 'lr': 0.0003448060949259644}. Best is trial 94 with value: 0.1109.\u001b[0m\n"
          ]
        },
        {
          "output_type": "stream",
          "name": "stdout",
          "text": [
            "Files already downloaded and verified\n"
          ]
        },
        {
          "output_type": "stream",
          "name": "stderr",
          "text": [
            "\u001b[32m[I 2022-06-17 06:11:55,064]\u001b[0m Trial 135 finished with value: 0.0871 and parameters: {'n_layers_conv': 1, 'n_layers_dense': 2, 'filters_0': 16, 'kernel_size_0': 3, 'strides_0': 1, 'n_units_0': 91, 'n_units_1': 111, 'optimizer': 'Adam', 'lr': 0.00031908132928073856}. Best is trial 94 with value: 0.1109.\u001b[0m\n"
          ]
        },
        {
          "output_type": "stream",
          "name": "stdout",
          "text": [
            "Files already downloaded and verified\n"
          ]
        },
        {
          "output_type": "stream",
          "name": "stderr",
          "text": [
            "\u001b[32m[I 2022-06-17 06:12:01,900]\u001b[0m Trial 136 pruned. \u001b[0m\n"
          ]
        },
        {
          "output_type": "stream",
          "name": "stdout",
          "text": [
            "Files already downloaded and verified\n"
          ]
        },
        {
          "output_type": "stream",
          "name": "stderr",
          "text": [
            "\u001b[32m[I 2022-06-17 06:12:09,395]\u001b[0m Trial 137 pruned. \u001b[0m\n"
          ]
        },
        {
          "output_type": "stream",
          "name": "stdout",
          "text": [
            "Files already downloaded and verified\n"
          ]
        },
        {
          "output_type": "stream",
          "name": "stderr",
          "text": [
            "\u001b[32m[I 2022-06-17 06:12:16,511]\u001b[0m Trial 138 pruned. \u001b[0m\n"
          ]
        },
        {
          "output_type": "stream",
          "name": "stdout",
          "text": [
            "Files already downloaded and verified\n"
          ]
        },
        {
          "output_type": "stream",
          "name": "stderr",
          "text": [
            "\u001b[32m[I 2022-06-17 06:12:23,701]\u001b[0m Trial 139 pruned. \u001b[0m\n"
          ]
        },
        {
          "output_type": "stream",
          "name": "stdout",
          "text": [
            "Files already downloaded and verified\n"
          ]
        },
        {
          "output_type": "stream",
          "name": "stderr",
          "text": [
            "\u001b[32m[I 2022-06-17 06:12:41,776]\u001b[0m Trial 140 pruned. \u001b[0m\n"
          ]
        },
        {
          "output_type": "stream",
          "name": "stdout",
          "text": [
            "Files already downloaded and verified\n"
          ]
        },
        {
          "output_type": "stream",
          "name": "stderr",
          "text": [
            "\u001b[32m[I 2022-06-17 06:13:39,626]\u001b[0m Trial 141 finished with value: 0.0894 and parameters: {'n_layers_conv': 1, 'n_layers_dense': 2, 'filters_0': 16, 'kernel_size_0': 3, 'strides_0': 1, 'n_units_0': 124, 'n_units_1': 117, 'optimizer': 'Adam', 'lr': 0.0003948451212414619}. Best is trial 94 with value: 0.1109.\u001b[0m\n"
          ]
        },
        {
          "output_type": "stream",
          "name": "stdout",
          "text": [
            "Files already downloaded and verified\n"
          ]
        },
        {
          "output_type": "stream",
          "name": "stderr",
          "text": [
            "\u001b[32m[I 2022-06-17 06:13:46,472]\u001b[0m Trial 142 pruned. \u001b[0m\n"
          ]
        },
        {
          "output_type": "stream",
          "name": "stdout",
          "text": [
            "Files already downloaded and verified\n"
          ]
        },
        {
          "output_type": "stream",
          "name": "stderr",
          "text": [
            "\u001b[32m[I 2022-06-17 06:13:59,011]\u001b[0m Trial 143 pruned. \u001b[0m\n"
          ]
        },
        {
          "output_type": "stream",
          "name": "stdout",
          "text": [
            "Files already downloaded and verified\n"
          ]
        },
        {
          "output_type": "stream",
          "name": "stderr",
          "text": [
            "\u001b[32m[I 2022-06-17 06:14:56,687]\u001b[0m Trial 144 finished with value: 0.0898 and parameters: {'n_layers_conv': 1, 'n_layers_dense': 2, 'filters_0': 16, 'kernel_size_0': 3, 'strides_0': 1, 'n_units_0': 77, 'n_units_1': 110, 'optimizer': 'Adam', 'lr': 0.0004117525946777904}. Best is trial 94 with value: 0.1109.\u001b[0m\n"
          ]
        },
        {
          "output_type": "stream",
          "name": "stdout",
          "text": [
            "Files already downloaded and verified\n"
          ]
        },
        {
          "output_type": "stream",
          "name": "stderr",
          "text": [
            "\u001b[32m[I 2022-06-17 06:15:03,978]\u001b[0m Trial 145 pruned. \u001b[0m\n"
          ]
        },
        {
          "output_type": "stream",
          "name": "stdout",
          "text": [
            "Files already downloaded and verified\n"
          ]
        },
        {
          "output_type": "stream",
          "name": "stderr",
          "text": [
            "\u001b[32m[I 2022-06-17 06:16:01,911]\u001b[0m Trial 146 finished with value: 0.0868 and parameters: {'n_layers_conv': 1, 'n_layers_dense': 2, 'filters_0': 16, 'kernel_size_0': 3, 'strides_0': 1, 'n_units_0': 81, 'n_units_1': 109, 'optimizer': 'Adam', 'lr': 0.0005977679716743209}. Best is trial 94 with value: 0.1109.\u001b[0m\n"
          ]
        },
        {
          "output_type": "stream",
          "name": "stdout",
          "text": [
            "Files already downloaded and verified\n"
          ]
        },
        {
          "output_type": "stream",
          "name": "stderr",
          "text": [
            "\u001b[32m[I 2022-06-17 06:17:00,619]\u001b[0m Trial 147 finished with value: 0.1031 and parameters: {'n_layers_conv': 1, 'n_layers_dense': 2, 'filters_0': 32, 'kernel_size_0': 3, 'strides_0': 1, 'n_units_0': 75, 'n_units_1': 113, 'optimizer': 'Adam', 'lr': 0.0007632529492257466}. Best is trial 94 with value: 0.1109.\u001b[0m\n"
          ]
        },
        {
          "output_type": "stream",
          "name": "stdout",
          "text": [
            "Files already downloaded and verified\n"
          ]
        },
        {
          "output_type": "stream",
          "name": "stderr",
          "text": [
            "\u001b[32m[I 2022-06-17 06:17:07,525]\u001b[0m Trial 148 pruned. \u001b[0m\n"
          ]
        },
        {
          "output_type": "stream",
          "name": "stdout",
          "text": [
            "Files already downloaded and verified\n"
          ]
        },
        {
          "output_type": "stream",
          "name": "stderr",
          "text": [
            "\u001b[32m[I 2022-06-17 06:17:14,462]\u001b[0m Trial 149 pruned. \u001b[0m\n"
          ]
        },
        {
          "output_type": "stream",
          "name": "stdout",
          "text": [
            "Files already downloaded and verified\n"
          ]
        },
        {
          "output_type": "stream",
          "name": "stderr",
          "text": [
            "\u001b[32m[I 2022-06-17 06:17:21,565]\u001b[0m Trial 150 pruned. \u001b[0m\n"
          ]
        },
        {
          "output_type": "stream",
          "name": "stdout",
          "text": [
            "Files already downloaded and verified\n"
          ]
        },
        {
          "output_type": "stream",
          "name": "stderr",
          "text": [
            "\u001b[32m[I 2022-06-17 06:17:28,455]\u001b[0m Trial 151 pruned. \u001b[0m\n"
          ]
        },
        {
          "output_type": "stream",
          "name": "stdout",
          "text": [
            "Files already downloaded and verified\n"
          ]
        },
        {
          "output_type": "stream",
          "name": "stderr",
          "text": [
            "\u001b[32m[I 2022-06-17 06:17:52,267]\u001b[0m Trial 152 pruned. \u001b[0m\n"
          ]
        },
        {
          "output_type": "stream",
          "name": "stdout",
          "text": [
            "Files already downloaded and verified\n"
          ]
        },
        {
          "output_type": "stream",
          "name": "stderr",
          "text": [
            "\u001b[32m[I 2022-06-17 06:17:59,145]\u001b[0m Trial 153 pruned. \u001b[0m\n"
          ]
        },
        {
          "output_type": "stream",
          "name": "stdout",
          "text": [
            "Files already downloaded and verified\n"
          ]
        },
        {
          "output_type": "stream",
          "name": "stderr",
          "text": [
            "\u001b[32m[I 2022-06-17 06:18:08,135]\u001b[0m Trial 154 pruned. \u001b[0m\n"
          ]
        },
        {
          "output_type": "stream",
          "name": "stdout",
          "text": [
            "Files already downloaded and verified\n"
          ]
        },
        {
          "output_type": "stream",
          "name": "stderr",
          "text": [
            "\u001b[32m[I 2022-06-17 06:18:15,133]\u001b[0m Trial 155 pruned. \u001b[0m\n"
          ]
        },
        {
          "output_type": "stream",
          "name": "stdout",
          "text": [
            "Files already downloaded and verified\n"
          ]
        },
        {
          "output_type": "stream",
          "name": "stderr",
          "text": [
            "\u001b[32m[I 2022-06-17 06:18:21,904]\u001b[0m Trial 156 pruned. \u001b[0m\n"
          ]
        },
        {
          "output_type": "stream",
          "name": "stdout",
          "text": [
            "Files already downloaded and verified\n"
          ]
        },
        {
          "output_type": "stream",
          "name": "stderr",
          "text": [
            "\u001b[32m[I 2022-06-17 06:18:28,858]\u001b[0m Trial 157 pruned. \u001b[0m\n"
          ]
        },
        {
          "output_type": "stream",
          "name": "stdout",
          "text": [
            "Files already downloaded and verified\n"
          ]
        },
        {
          "output_type": "stream",
          "name": "stderr",
          "text": [
            "\u001b[32m[I 2022-06-17 06:18:35,711]\u001b[0m Trial 158 pruned. \u001b[0m\n"
          ]
        },
        {
          "output_type": "stream",
          "name": "stdout",
          "text": [
            "Files already downloaded and verified\n"
          ]
        },
        {
          "output_type": "stream",
          "name": "stderr",
          "text": [
            "\u001b[32m[I 2022-06-17 06:18:42,624]\u001b[0m Trial 159 pruned. \u001b[0m\n"
          ]
        },
        {
          "output_type": "stream",
          "name": "stdout",
          "text": [
            "Files already downloaded and verified\n"
          ]
        },
        {
          "output_type": "stream",
          "name": "stderr",
          "text": [
            "\u001b[32m[I 2022-06-17 06:18:49,542]\u001b[0m Trial 160 pruned. \u001b[0m\n"
          ]
        },
        {
          "output_type": "stream",
          "name": "stdout",
          "text": [
            "Files already downloaded and verified\n"
          ]
        },
        {
          "output_type": "stream",
          "name": "stderr",
          "text": [
            "\u001b[32m[I 2022-06-17 06:18:56,419]\u001b[0m Trial 161 pruned. \u001b[0m\n"
          ]
        },
        {
          "output_type": "stream",
          "name": "stdout",
          "text": [
            "Files already downloaded and verified\n"
          ]
        },
        {
          "output_type": "stream",
          "name": "stderr",
          "text": [
            "\u001b[32m[I 2022-06-17 06:19:03,292]\u001b[0m Trial 162 pruned. \u001b[0m\n"
          ]
        },
        {
          "output_type": "stream",
          "name": "stdout",
          "text": [
            "Files already downloaded and verified\n"
          ]
        },
        {
          "output_type": "stream",
          "name": "stderr",
          "text": [
            "\u001b[32m[I 2022-06-17 06:19:10,183]\u001b[0m Trial 163 pruned. \u001b[0m\n"
          ]
        },
        {
          "output_type": "stream",
          "name": "stdout",
          "text": [
            "Files already downloaded and verified\n"
          ]
        },
        {
          "output_type": "stream",
          "name": "stderr",
          "text": [
            "\u001b[32m[I 2022-06-17 06:20:07,921]\u001b[0m Trial 164 finished with value: 0.0994 and parameters: {'n_layers_conv': 1, 'n_layers_dense': 2, 'filters_0': 16, 'kernel_size_0': 3, 'strides_0': 1, 'n_units_0': 128, 'n_units_1': 114, 'optimizer': 'Adam', 'lr': 0.0007876682595772142}. Best is trial 94 with value: 0.1109.\u001b[0m\n"
          ]
        },
        {
          "output_type": "stream",
          "name": "stdout",
          "text": [
            "Files already downloaded and verified\n"
          ]
        },
        {
          "output_type": "stream",
          "name": "stderr",
          "text": [
            "\u001b[32m[I 2022-06-17 06:20:14,878]\u001b[0m Trial 165 pruned. \u001b[0m\n"
          ]
        },
        {
          "output_type": "stream",
          "name": "stdout",
          "text": [
            "Files already downloaded and verified\n"
          ]
        },
        {
          "output_type": "stream",
          "name": "stderr",
          "text": [
            "\u001b[32m[I 2022-06-17 06:20:21,868]\u001b[0m Trial 166 pruned. \u001b[0m\n"
          ]
        },
        {
          "output_type": "stream",
          "name": "stdout",
          "text": [
            "Files already downloaded and verified\n"
          ]
        },
        {
          "output_type": "stream",
          "name": "stderr",
          "text": [
            "\u001b[32m[I 2022-06-17 06:20:28,770]\u001b[0m Trial 167 pruned. \u001b[0m\n"
          ]
        },
        {
          "output_type": "stream",
          "name": "stdout",
          "text": [
            "Files already downloaded and verified\n"
          ]
        },
        {
          "output_type": "stream",
          "name": "stderr",
          "text": [
            "\u001b[32m[I 2022-06-17 06:20:35,631]\u001b[0m Trial 168 pruned. \u001b[0m\n"
          ]
        },
        {
          "output_type": "stream",
          "name": "stdout",
          "text": [
            "Files already downloaded and verified\n"
          ]
        },
        {
          "output_type": "stream",
          "name": "stderr",
          "text": [
            "\u001b[32m[I 2022-06-17 06:21:33,773]\u001b[0m Trial 169 finished with value: 0.0879 and parameters: {'n_layers_conv': 1, 'n_layers_dense': 2, 'filters_0': 16, 'kernel_size_0': 3, 'strides_0': 1, 'n_units_0': 126, 'n_units_1': 116, 'optimizer': 'Adam', 'lr': 0.0004680742645594819}. Best is trial 94 with value: 0.1109.\u001b[0m\n"
          ]
        },
        {
          "output_type": "stream",
          "name": "stdout",
          "text": [
            "Files already downloaded and verified\n"
          ]
        },
        {
          "output_type": "stream",
          "name": "stderr",
          "text": [
            "\u001b[32m[I 2022-06-17 06:21:40,908]\u001b[0m Trial 170 pruned. \u001b[0m\n"
          ]
        },
        {
          "output_type": "stream",
          "name": "stdout",
          "text": [
            "Files already downloaded and verified\n"
          ]
        },
        {
          "output_type": "stream",
          "name": "stderr",
          "text": [
            "\u001b[32m[I 2022-06-17 06:21:47,751]\u001b[0m Trial 171 pruned. \u001b[0m\n"
          ]
        },
        {
          "output_type": "stream",
          "name": "stdout",
          "text": [
            "Files already downloaded and verified\n"
          ]
        },
        {
          "output_type": "stream",
          "name": "stderr",
          "text": [
            "\u001b[32m[I 2022-06-17 06:22:06,526]\u001b[0m Trial 172 pruned. \u001b[0m\n"
          ]
        },
        {
          "output_type": "stream",
          "name": "stdout",
          "text": [
            "Files already downloaded and verified\n"
          ]
        },
        {
          "output_type": "stream",
          "name": "stderr",
          "text": [
            "\u001b[32m[I 2022-06-17 06:22:30,610]\u001b[0m Trial 173 pruned. \u001b[0m\n"
          ]
        },
        {
          "output_type": "stream",
          "name": "stdout",
          "text": [
            "Files already downloaded and verified\n"
          ]
        },
        {
          "output_type": "stream",
          "name": "stderr",
          "text": [
            "\u001b[32m[I 2022-06-17 06:22:37,501]\u001b[0m Trial 174 pruned. \u001b[0m\n"
          ]
        },
        {
          "output_type": "stream",
          "name": "stdout",
          "text": [
            "Files already downloaded and verified\n"
          ]
        },
        {
          "output_type": "stream",
          "name": "stderr",
          "text": [
            "\u001b[32m[I 2022-06-17 06:23:35,176]\u001b[0m Trial 175 finished with value: 0.0862 and parameters: {'n_layers_conv': 1, 'n_layers_dense': 2, 'filters_0': 16, 'kernel_size_0': 3, 'strides_0': 1, 'n_units_0': 122, 'n_units_1': 121, 'optimizer': 'Adam', 'lr': 0.0002155353541043918}. Best is trial 94 with value: 0.1109.\u001b[0m\n"
          ]
        },
        {
          "output_type": "stream",
          "name": "stdout",
          "text": [
            "Files already downloaded and verified\n"
          ]
        },
        {
          "output_type": "stream",
          "name": "stderr",
          "text": [
            "\u001b[32m[I 2022-06-17 06:23:42,127]\u001b[0m Trial 176 pruned. \u001b[0m\n"
          ]
        },
        {
          "output_type": "stream",
          "name": "stdout",
          "text": [
            "Files already downloaded and verified\n"
          ]
        },
        {
          "output_type": "stream",
          "name": "stderr",
          "text": [
            "\u001b[32m[I 2022-06-17 06:23:49,084]\u001b[0m Trial 177 pruned. \u001b[0m\n"
          ]
        },
        {
          "output_type": "stream",
          "name": "stdout",
          "text": [
            "Files already downloaded and verified\n"
          ]
        },
        {
          "output_type": "stream",
          "name": "stderr",
          "text": [
            "\u001b[32m[I 2022-06-17 06:23:55,819]\u001b[0m Trial 178 pruned. \u001b[0m\n"
          ]
        },
        {
          "output_type": "stream",
          "name": "stdout",
          "text": [
            "Files already downloaded and verified\n"
          ]
        },
        {
          "output_type": "stream",
          "name": "stderr",
          "text": [
            "\u001b[32m[I 2022-06-17 06:24:08,356]\u001b[0m Trial 179 pruned. \u001b[0m\n"
          ]
        },
        {
          "output_type": "stream",
          "name": "stdout",
          "text": [
            "Files already downloaded and verified\n"
          ]
        },
        {
          "output_type": "stream",
          "name": "stderr",
          "text": [
            "\u001b[32m[I 2022-06-17 06:24:15,323]\u001b[0m Trial 180 pruned. \u001b[0m\n"
          ]
        },
        {
          "output_type": "stream",
          "name": "stdout",
          "text": [
            "Files already downloaded and verified\n"
          ]
        },
        {
          "output_type": "stream",
          "name": "stderr",
          "text": [
            "\u001b[32m[I 2022-06-17 06:24:22,195]\u001b[0m Trial 181 pruned. \u001b[0m\n"
          ]
        },
        {
          "output_type": "stream",
          "name": "stdout",
          "text": [
            "Files already downloaded and verified\n"
          ]
        },
        {
          "output_type": "stream",
          "name": "stderr",
          "text": [
            "\u001b[32m[I 2022-06-17 06:24:28,993]\u001b[0m Trial 182 pruned. \u001b[0m\n"
          ]
        },
        {
          "output_type": "stream",
          "name": "stdout",
          "text": [
            "Files already downloaded and verified\n"
          ]
        },
        {
          "output_type": "stream",
          "name": "stderr",
          "text": [
            "\u001b[32m[I 2022-06-17 06:24:35,909]\u001b[0m Trial 183 pruned. \u001b[0m\n"
          ]
        },
        {
          "output_type": "stream",
          "name": "stdout",
          "text": [
            "Files already downloaded and verified\n"
          ]
        },
        {
          "output_type": "stream",
          "name": "stderr",
          "text": [
            "\u001b[32m[I 2022-06-17 06:24:42,717]\u001b[0m Trial 184 pruned. \u001b[0m\n"
          ]
        },
        {
          "output_type": "stream",
          "name": "stdout",
          "text": [
            "Files already downloaded and verified\n"
          ]
        },
        {
          "output_type": "stream",
          "name": "stderr",
          "text": [
            "\u001b[32m[I 2022-06-17 06:24:49,564]\u001b[0m Trial 185 pruned. \u001b[0m\n"
          ]
        },
        {
          "output_type": "stream",
          "name": "stdout",
          "text": [
            "Files already downloaded and verified\n"
          ]
        },
        {
          "output_type": "stream",
          "name": "stderr",
          "text": [
            "\u001b[32m[I 2022-06-17 06:24:56,534]\u001b[0m Trial 186 pruned. \u001b[0m\n"
          ]
        },
        {
          "output_type": "stream",
          "name": "stdout",
          "text": [
            "Files already downloaded and verified\n"
          ]
        },
        {
          "output_type": "stream",
          "name": "stderr",
          "text": [
            "\u001b[32m[I 2022-06-17 06:25:03,526]\u001b[0m Trial 187 pruned. \u001b[0m\n"
          ]
        },
        {
          "output_type": "stream",
          "name": "stdout",
          "text": [
            "Files already downloaded and verified\n"
          ]
        },
        {
          "output_type": "stream",
          "name": "stderr",
          "text": [
            "\u001b[32m[I 2022-06-17 06:25:10,365]\u001b[0m Trial 188 pruned. \u001b[0m\n"
          ]
        },
        {
          "output_type": "stream",
          "name": "stdout",
          "text": [
            "Files already downloaded and verified\n"
          ]
        },
        {
          "output_type": "stream",
          "name": "stderr",
          "text": [
            "\u001b[32m[I 2022-06-17 06:25:17,469]\u001b[0m Trial 189 pruned. \u001b[0m\n"
          ]
        },
        {
          "output_type": "stream",
          "name": "stdout",
          "text": [
            "Files already downloaded and verified\n"
          ]
        },
        {
          "output_type": "stream",
          "name": "stderr",
          "text": [
            "\u001b[32m[I 2022-06-17 06:25:24,400]\u001b[0m Trial 190 pruned. \u001b[0m\n"
          ]
        },
        {
          "output_type": "stream",
          "name": "stdout",
          "text": [
            "Files already downloaded and verified\n"
          ]
        },
        {
          "output_type": "stream",
          "name": "stderr",
          "text": [
            "\u001b[32m[I 2022-06-17 06:25:31,266]\u001b[0m Trial 191 pruned. \u001b[0m\n"
          ]
        },
        {
          "output_type": "stream",
          "name": "stdout",
          "text": [
            "Files already downloaded and verified\n"
          ]
        },
        {
          "output_type": "stream",
          "name": "stderr",
          "text": [
            "\u001b[32m[I 2022-06-17 06:25:38,212]\u001b[0m Trial 192 pruned. \u001b[0m\n"
          ]
        },
        {
          "output_type": "stream",
          "name": "stdout",
          "text": [
            "Files already downloaded and verified\n"
          ]
        },
        {
          "output_type": "stream",
          "name": "stderr",
          "text": [
            "\u001b[32m[I 2022-06-17 06:25:45,109]\u001b[0m Trial 193 pruned. \u001b[0m\n"
          ]
        },
        {
          "output_type": "stream",
          "name": "stdout",
          "text": [
            "Files already downloaded and verified\n"
          ]
        },
        {
          "output_type": "stream",
          "name": "stderr",
          "text": [
            "\u001b[32m[I 2022-06-17 06:26:43,107]\u001b[0m Trial 194 finished with value: 0.0931 and parameters: {'n_layers_conv': 1, 'n_layers_dense': 2, 'filters_0': 16, 'kernel_size_0': 3, 'strides_0': 1, 'n_units_0': 124, 'n_units_1': 114, 'optimizer': 'Adam', 'lr': 0.0007701599653129207}. Best is trial 94 with value: 0.1109.\u001b[0m\n"
          ]
        },
        {
          "output_type": "stream",
          "name": "stdout",
          "text": [
            "Files already downloaded and verified\n"
          ]
        },
        {
          "output_type": "stream",
          "name": "stderr",
          "text": [
            "\u001b[32m[I 2022-06-17 06:27:41,682]\u001b[0m Trial 195 finished with value: 0.0735 and parameters: {'n_layers_conv': 1, 'n_layers_dense': 2, 'filters_0': 16, 'kernel_size_0': 3, 'strides_0': 1, 'n_units_0': 121, 'n_units_1': 113, 'optimizer': 'Adam', 'lr': 0.0008554052971562927}. Best is trial 94 with value: 0.1109.\u001b[0m\n"
          ]
        },
        {
          "output_type": "stream",
          "name": "stdout",
          "text": [
            "Files already downloaded and verified\n"
          ]
        },
        {
          "output_type": "stream",
          "name": "stderr",
          "text": [
            "\u001b[32m[I 2022-06-17 06:27:48,512]\u001b[0m Trial 196 pruned. \u001b[0m\n"
          ]
        },
        {
          "output_type": "stream",
          "name": "stdout",
          "text": [
            "Files already downloaded and verified\n"
          ]
        },
        {
          "output_type": "stream",
          "name": "stderr",
          "text": [
            "\u001b[32m[I 2022-06-17 06:28:00,967]\u001b[0m Trial 197 pruned. \u001b[0m\n"
          ]
        },
        {
          "output_type": "stream",
          "name": "stdout",
          "text": [
            "Files already downloaded and verified\n"
          ]
        },
        {
          "output_type": "stream",
          "name": "stderr",
          "text": [
            "\u001b[32m[I 2022-06-17 06:28:07,956]\u001b[0m Trial 198 pruned. \u001b[0m\n"
          ]
        },
        {
          "output_type": "stream",
          "name": "stdout",
          "text": [
            "Files already downloaded and verified\n"
          ]
        },
        {
          "output_type": "stream",
          "name": "stderr",
          "text": [
            "\u001b[32m[I 2022-06-17 06:29:05,111]\u001b[0m Trial 199 finished with value: 0.1108 and parameters: {'n_layers_conv': 1, 'n_layers_dense': 2, 'filters_0': 16, 'kernel_size_0': 3, 'strides_0': 1, 'n_units_0': 99, 'n_units_1': 128, 'optimizer': 'RMSprop', 'lr': 0.0007394076584096415}. Best is trial 94 with value: 0.1109.\u001b[0m\n"
          ]
        },
        {
          "output_type": "stream",
          "name": "stdout",
          "text": [
            "Files already downloaded and verified\n"
          ]
        },
        {
          "output_type": "stream",
          "name": "stderr",
          "text": [
            "\u001b[32m[I 2022-06-17 06:29:12,112]\u001b[0m Trial 200 pruned. \u001b[0m\n"
          ]
        },
        {
          "output_type": "stream",
          "name": "stdout",
          "text": [
            "Files already downloaded and verified\n"
          ]
        },
        {
          "output_type": "stream",
          "name": "stderr",
          "text": [
            "\u001b[32m[I 2022-06-17 06:29:19,127]\u001b[0m Trial 201 pruned. \u001b[0m\n"
          ]
        },
        {
          "output_type": "stream",
          "name": "stdout",
          "text": [
            "Files already downloaded and verified\n"
          ]
        },
        {
          "output_type": "stream",
          "name": "stderr",
          "text": [
            "\u001b[32m[I 2022-06-17 06:29:25,955]\u001b[0m Trial 202 pruned. \u001b[0m\n"
          ]
        },
        {
          "output_type": "stream",
          "name": "stdout",
          "text": [
            "Files already downloaded and verified\n"
          ]
        },
        {
          "output_type": "stream",
          "name": "stderr",
          "text": [
            "\u001b[32m[I 2022-06-17 06:29:32,755]\u001b[0m Trial 203 pruned. \u001b[0m\n"
          ]
        },
        {
          "output_type": "stream",
          "name": "stdout",
          "text": [
            "Files already downloaded and verified\n"
          ]
        },
        {
          "output_type": "stream",
          "name": "stderr",
          "text": [
            "\u001b[32m[I 2022-06-17 06:30:30,066]\u001b[0m Trial 204 finished with value: 0.1067 and parameters: {'n_layers_conv': 1, 'n_layers_dense': 2, 'filters_0': 16, 'kernel_size_0': 3, 'strides_0': 1, 'n_units_0': 127, 'n_units_1': 125, 'optimizer': 'RMSprop', 'lr': 0.0008078159936901247}. Best is trial 94 with value: 0.1109.\u001b[0m\n"
          ]
        },
        {
          "output_type": "stream",
          "name": "stdout",
          "text": [
            "Files already downloaded and verified\n"
          ]
        },
        {
          "output_type": "stream",
          "name": "stderr",
          "text": [
            "\u001b[32m[I 2022-06-17 06:30:36,932]\u001b[0m Trial 205 pruned. \u001b[0m\n"
          ]
        },
        {
          "output_type": "stream",
          "name": "stdout",
          "text": [
            "Files already downloaded and verified\n"
          ]
        },
        {
          "output_type": "stream",
          "name": "stderr",
          "text": [
            "\u001b[32m[I 2022-06-17 06:30:43,795]\u001b[0m Trial 206 pruned. \u001b[0m\n"
          ]
        },
        {
          "output_type": "stream",
          "name": "stdout",
          "text": [
            "Files already downloaded and verified\n"
          ]
        },
        {
          "output_type": "stream",
          "name": "stderr",
          "text": [
            "\u001b[32m[I 2022-06-17 06:30:50,738]\u001b[0m Trial 207 pruned. \u001b[0m\n"
          ]
        },
        {
          "output_type": "stream",
          "name": "stdout",
          "text": [
            "Files already downloaded and verified\n"
          ]
        },
        {
          "output_type": "stream",
          "name": "stderr",
          "text": [
            "\u001b[32m[I 2022-06-17 06:31:31,935]\u001b[0m Trial 208 pruned. \u001b[0m\n"
          ]
        },
        {
          "output_type": "stream",
          "name": "stdout",
          "text": [
            "Files already downloaded and verified\n"
          ]
        },
        {
          "output_type": "stream",
          "name": "stderr",
          "text": [
            "\u001b[32m[I 2022-06-17 06:31:38,930]\u001b[0m Trial 209 pruned. \u001b[0m\n"
          ]
        },
        {
          "output_type": "stream",
          "name": "stdout",
          "text": [
            "Files already downloaded and verified\n"
          ]
        },
        {
          "output_type": "stream",
          "name": "stderr",
          "text": [
            "\u001b[32m[I 2022-06-17 06:31:45,989]\u001b[0m Trial 210 pruned. \u001b[0m\n"
          ]
        },
        {
          "output_type": "stream",
          "name": "stdout",
          "text": [
            "Files already downloaded and verified\n"
          ]
        },
        {
          "output_type": "stream",
          "name": "stderr",
          "text": [
            "\u001b[32m[I 2022-06-17 06:31:52,892]\u001b[0m Trial 211 pruned. \u001b[0m\n"
          ]
        },
        {
          "output_type": "stream",
          "name": "stdout",
          "text": [
            "Files already downloaded and verified\n"
          ]
        },
        {
          "output_type": "stream",
          "name": "stderr",
          "text": [
            "\u001b[32m[I 2022-06-17 06:31:59,722]\u001b[0m Trial 212 pruned. \u001b[0m\n"
          ]
        },
        {
          "output_type": "stream",
          "name": "stdout",
          "text": [
            "Files already downloaded and verified\n"
          ]
        },
        {
          "output_type": "stream",
          "name": "stderr",
          "text": [
            "\u001b[32m[I 2022-06-17 06:32:07,134]\u001b[0m Trial 213 pruned. \u001b[0m\n"
          ]
        },
        {
          "output_type": "stream",
          "name": "stdout",
          "text": [
            "Files already downloaded and verified\n"
          ]
        },
        {
          "output_type": "stream",
          "name": "stderr",
          "text": [
            "\u001b[32m[I 2022-06-17 06:32:14,090]\u001b[0m Trial 214 pruned. \u001b[0m\n"
          ]
        },
        {
          "output_type": "stream",
          "name": "stdout",
          "text": [
            "Files already downloaded and verified\n"
          ]
        },
        {
          "output_type": "stream",
          "name": "stderr",
          "text": [
            "\u001b[32m[I 2022-06-17 06:33:11,184]\u001b[0m Trial 215 finished with value: 0.1054 and parameters: {'n_layers_conv': 1, 'n_layers_dense': 2, 'filters_0': 16, 'kernel_size_0': 3, 'strides_0': 1, 'n_units_0': 126, 'n_units_1': 113, 'optimizer': 'RMSprop', 'lr': 0.00044811480090945144}. Best is trial 94 with value: 0.1109.\u001b[0m\n"
          ]
        },
        {
          "output_type": "stream",
          "name": "stdout",
          "text": [
            "Files already downloaded and verified\n"
          ]
        },
        {
          "output_type": "stream",
          "name": "stderr",
          "text": [
            "\u001b[32m[I 2022-06-17 06:33:18,279]\u001b[0m Trial 216 pruned. \u001b[0m\n"
          ]
        },
        {
          "output_type": "stream",
          "name": "stdout",
          "text": [
            "Files already downloaded and verified\n"
          ]
        },
        {
          "output_type": "stream",
          "name": "stderr",
          "text": [
            "\u001b[32m[I 2022-06-17 06:34:16,045]\u001b[0m Trial 217 finished with value: 0.0968 and parameters: {'n_layers_conv': 1, 'n_layers_dense': 2, 'filters_0': 16, 'kernel_size_0': 3, 'strides_0': 1, 'n_units_0': 125, 'n_units_1': 111, 'optimizer': 'Adam', 'lr': 0.000875950840685715}. Best is trial 94 with value: 0.1109.\u001b[0m\n"
          ]
        },
        {
          "output_type": "stream",
          "name": "stdout",
          "text": [
            "Files already downloaded and verified\n"
          ]
        },
        {
          "output_type": "stream",
          "name": "stderr",
          "text": [
            "\u001b[32m[I 2022-06-17 06:34:22,953]\u001b[0m Trial 218 pruned. \u001b[0m\n"
          ]
        },
        {
          "output_type": "stream",
          "name": "stdout",
          "text": [
            "Files already downloaded and verified\n"
          ]
        },
        {
          "output_type": "stream",
          "name": "stderr",
          "text": [
            "\u001b[32m[I 2022-06-17 06:34:41,125]\u001b[0m Trial 219 pruned. \u001b[0m\n"
          ]
        },
        {
          "output_type": "stream",
          "name": "stdout",
          "text": [
            "Files already downloaded and verified\n"
          ]
        },
        {
          "output_type": "stream",
          "name": "stderr",
          "text": [
            "\u001b[32m[I 2022-06-17 06:34:48,048]\u001b[0m Trial 220 pruned. \u001b[0m\n"
          ]
        },
        {
          "output_type": "stream",
          "name": "stdout",
          "text": [
            "Files already downloaded and verified\n"
          ]
        },
        {
          "output_type": "stream",
          "name": "stderr",
          "text": [
            "\u001b[32m[I 2022-06-17 06:34:54,907]\u001b[0m Trial 221 pruned. \u001b[0m\n"
          ]
        },
        {
          "output_type": "stream",
          "name": "stdout",
          "text": [
            "Files already downloaded and verified\n"
          ]
        },
        {
          "output_type": "stream",
          "name": "stderr",
          "text": [
            "\u001b[32m[I 2022-06-17 06:35:01,774]\u001b[0m Trial 222 pruned. \u001b[0m\n"
          ]
        },
        {
          "output_type": "stream",
          "name": "stdout",
          "text": [
            "Files already downloaded and verified\n"
          ]
        },
        {
          "output_type": "stream",
          "name": "stderr",
          "text": [
            "\u001b[32m[I 2022-06-17 06:35:08,653]\u001b[0m Trial 223 pruned. \u001b[0m\n"
          ]
        },
        {
          "output_type": "stream",
          "name": "stdout",
          "text": [
            "Files already downloaded and verified\n"
          ]
        },
        {
          "output_type": "stream",
          "name": "stderr",
          "text": [
            "\u001b[32m[I 2022-06-17 06:35:43,792]\u001b[0m Trial 224 pruned. \u001b[0m\n"
          ]
        },
        {
          "output_type": "stream",
          "name": "stdout",
          "text": [
            "Files already downloaded and verified\n"
          ]
        },
        {
          "output_type": "stream",
          "name": "stderr",
          "text": [
            "\u001b[32m[I 2022-06-17 06:36:41,688]\u001b[0m Trial 225 finished with value: 0.1011 and parameters: {'n_layers_conv': 1, 'n_layers_dense': 2, 'filters_0': 16, 'kernel_size_0': 3, 'strides_0': 1, 'n_units_0': 125, 'n_units_1': 116, 'optimizer': 'Adam', 'lr': 0.0005098954857367378}. Best is trial 94 with value: 0.1109.\u001b[0m\n"
          ]
        },
        {
          "output_type": "stream",
          "name": "stdout",
          "text": [
            "Files already downloaded and verified\n"
          ]
        },
        {
          "output_type": "stream",
          "name": "stderr",
          "text": [
            "\u001b[32m[I 2022-06-17 06:36:48,719]\u001b[0m Trial 226 pruned. \u001b[0m\n"
          ]
        },
        {
          "output_type": "stream",
          "name": "stdout",
          "text": [
            "Files already downloaded and verified\n"
          ]
        },
        {
          "output_type": "stream",
          "name": "stderr",
          "text": [
            "\u001b[32m[I 2022-06-17 06:36:55,569]\u001b[0m Trial 227 pruned. \u001b[0m\n"
          ]
        },
        {
          "output_type": "stream",
          "name": "stdout",
          "text": [
            "Files already downloaded and verified\n"
          ]
        },
        {
          "output_type": "stream",
          "name": "stderr",
          "text": [
            "\u001b[32m[I 2022-06-17 06:37:02,421]\u001b[0m Trial 228 pruned. \u001b[0m\n"
          ]
        },
        {
          "output_type": "stream",
          "name": "stdout",
          "text": [
            "Files already downloaded and verified\n"
          ]
        },
        {
          "output_type": "stream",
          "name": "stderr",
          "text": [
            "\u001b[32m[I 2022-06-17 06:37:09,428]\u001b[0m Trial 229 pruned. \u001b[0m\n"
          ]
        },
        {
          "output_type": "stream",
          "name": "stdout",
          "text": [
            "Files already downloaded and verified\n"
          ]
        },
        {
          "output_type": "stream",
          "name": "stderr",
          "text": [
            "\u001b[32m[I 2022-06-17 06:37:17,190]\u001b[0m Trial 230 pruned. \u001b[0m\n"
          ]
        },
        {
          "output_type": "stream",
          "name": "stdout",
          "text": [
            "Files already downloaded and verified\n"
          ]
        },
        {
          "output_type": "stream",
          "name": "stderr",
          "text": [
            "\u001b[32m[I 2022-06-17 06:37:29,679]\u001b[0m Trial 231 pruned. \u001b[0m\n"
          ]
        },
        {
          "output_type": "stream",
          "name": "stdout",
          "text": [
            "Files already downloaded and verified\n"
          ]
        },
        {
          "output_type": "stream",
          "name": "stderr",
          "text": [
            "\u001b[32m[I 2022-06-17 06:38:27,539]\u001b[0m Trial 232 finished with value: 0.0882 and parameters: {'n_layers_conv': 1, 'n_layers_dense': 2, 'filters_0': 16, 'kernel_size_0': 3, 'strides_0': 1, 'n_units_0': 123, 'n_units_1': 116, 'optimizer': 'Adam', 'lr': 0.0003431447345446322}. Best is trial 94 with value: 0.1109.\u001b[0m\n"
          ]
        },
        {
          "output_type": "stream",
          "name": "stdout",
          "text": [
            "Files already downloaded and verified\n"
          ]
        },
        {
          "output_type": "stream",
          "name": "stderr",
          "text": [
            "\u001b[32m[I 2022-06-17 06:38:34,414]\u001b[0m Trial 233 pruned. \u001b[0m\n"
          ]
        },
        {
          "output_type": "stream",
          "name": "stdout",
          "text": [
            "Files already downloaded and verified\n"
          ]
        },
        {
          "output_type": "stream",
          "name": "stderr",
          "text": [
            "\u001b[32m[I 2022-06-17 06:38:41,325]\u001b[0m Trial 234 pruned. \u001b[0m\n"
          ]
        },
        {
          "output_type": "stream",
          "name": "stdout",
          "text": [
            "Files already downloaded and verified\n"
          ]
        },
        {
          "output_type": "stream",
          "name": "stderr",
          "text": [
            "\u001b[32m[I 2022-06-17 06:38:48,193]\u001b[0m Trial 235 pruned. \u001b[0m\n"
          ]
        },
        {
          "output_type": "stream",
          "name": "stdout",
          "text": [
            "Files already downloaded and verified\n"
          ]
        },
        {
          "output_type": "stream",
          "name": "stderr",
          "text": [
            "\u001b[32m[I 2022-06-17 06:38:55,470]\u001b[0m Trial 236 pruned. \u001b[0m\n"
          ]
        },
        {
          "output_type": "stream",
          "name": "stdout",
          "text": [
            "Files already downloaded and verified\n"
          ]
        },
        {
          "output_type": "stream",
          "name": "stderr",
          "text": [
            "\u001b[32m[I 2022-06-17 06:39:02,292]\u001b[0m Trial 237 pruned. \u001b[0m\n"
          ]
        },
        {
          "output_type": "stream",
          "name": "stdout",
          "text": [
            "Files already downloaded and verified\n"
          ]
        },
        {
          "output_type": "stream",
          "name": "stderr",
          "text": [
            "\u001b[32m[I 2022-06-17 06:39:09,383]\u001b[0m Trial 238 pruned. \u001b[0m\n"
          ]
        },
        {
          "output_type": "stream",
          "name": "stdout",
          "text": [
            "Files already downloaded and verified\n"
          ]
        },
        {
          "output_type": "stream",
          "name": "stderr",
          "text": [
            "\u001b[32m[I 2022-06-17 06:40:06,419]\u001b[0m Trial 239 finished with value: 0.0904 and parameters: {'n_layers_conv': 1, 'n_layers_dense': 1, 'filters_0': 16, 'kernel_size_0': 3, 'strides_0': 1, 'n_units_0': 124, 'optimizer': 'Adam', 'lr': 0.0007332385213928472}. Best is trial 94 with value: 0.1109.\u001b[0m\n"
          ]
        },
        {
          "output_type": "stream",
          "name": "stdout",
          "text": [
            "Files already downloaded and verified\n"
          ]
        },
        {
          "output_type": "stream",
          "name": "stderr",
          "text": [
            "\u001b[32m[I 2022-06-17 06:41:03,570]\u001b[0m Trial 240 finished with value: 0.101 and parameters: {'n_layers_conv': 1, 'n_layers_dense': 1, 'filters_0': 16, 'kernel_size_0': 3, 'strides_0': 1, 'n_units_0': 125, 'optimizer': 'Adam', 'lr': 0.0008169635945472434}. Best is trial 94 with value: 0.1109.\u001b[0m\n"
          ]
        },
        {
          "output_type": "stream",
          "name": "stdout",
          "text": [
            "Files already downloaded and verified\n"
          ]
        },
        {
          "output_type": "stream",
          "name": "stderr",
          "text": [
            "\u001b[32m[I 2022-06-17 06:41:10,412]\u001b[0m Trial 241 pruned. \u001b[0m\n"
          ]
        },
        {
          "output_type": "stream",
          "name": "stdout",
          "text": [
            "Files already downloaded and verified\n"
          ]
        },
        {
          "output_type": "stream",
          "name": "stderr",
          "text": [
            "\u001b[32m[I 2022-06-17 06:41:23,189]\u001b[0m Trial 242 pruned. \u001b[0m\n"
          ]
        },
        {
          "output_type": "stream",
          "name": "stdout",
          "text": [
            "Files already downloaded and verified\n"
          ]
        },
        {
          "output_type": "stream",
          "name": "stderr",
          "text": [
            "\u001b[32m[I 2022-06-17 06:41:30,134]\u001b[0m Trial 243 pruned. \u001b[0m\n"
          ]
        },
        {
          "output_type": "stream",
          "name": "stdout",
          "text": [
            "Files already downloaded and verified\n"
          ]
        },
        {
          "output_type": "stream",
          "name": "stderr",
          "text": [
            "\u001b[32m[I 2022-06-17 06:41:36,936]\u001b[0m Trial 244 pruned. \u001b[0m\n"
          ]
        },
        {
          "output_type": "stream",
          "name": "stdout",
          "text": [
            "Files already downloaded and verified\n"
          ]
        },
        {
          "output_type": "stream",
          "name": "stderr",
          "text": [
            "\u001b[32m[I 2022-06-17 06:41:43,783]\u001b[0m Trial 245 pruned. \u001b[0m\n"
          ]
        },
        {
          "output_type": "stream",
          "name": "stdout",
          "text": [
            "Files already downloaded and verified\n"
          ]
        },
        {
          "output_type": "stream",
          "name": "stderr",
          "text": [
            "\u001b[32m[I 2022-06-17 06:41:50,596]\u001b[0m Trial 246 pruned. \u001b[0m\n"
          ]
        },
        {
          "output_type": "stream",
          "name": "stdout",
          "text": [
            "Files already downloaded and verified\n"
          ]
        },
        {
          "output_type": "stream",
          "name": "stderr",
          "text": [
            "\u001b[32m[I 2022-06-17 06:41:57,379]\u001b[0m Trial 247 pruned. \u001b[0m\n"
          ]
        },
        {
          "output_type": "stream",
          "name": "stdout",
          "text": [
            "Files already downloaded and verified\n"
          ]
        },
        {
          "output_type": "stream",
          "name": "stderr",
          "text": [
            "\u001b[32m[I 2022-06-17 06:42:49,414]\u001b[0m Trial 248 pruned. \u001b[0m\n"
          ]
        },
        {
          "output_type": "stream",
          "name": "stdout",
          "text": [
            "Files already downloaded and verified\n"
          ]
        },
        {
          "output_type": "stream",
          "name": "stderr",
          "text": [
            "\u001b[32m[I 2022-06-17 06:43:07,215]\u001b[0m Trial 249 pruned. \u001b[0m\n"
          ]
        },
        {
          "output_type": "stream",
          "name": "stdout",
          "text": [
            "Files already downloaded and verified\n"
          ]
        },
        {
          "output_type": "stream",
          "name": "stderr",
          "text": [
            "\u001b[32m[I 2022-06-17 06:43:14,091]\u001b[0m Trial 250 pruned. \u001b[0m\n"
          ]
        },
        {
          "output_type": "stream",
          "name": "stdout",
          "text": [
            "Files already downloaded and verified\n"
          ]
        },
        {
          "output_type": "stream",
          "name": "stderr",
          "text": [
            "\u001b[32m[I 2022-06-17 06:43:20,992]\u001b[0m Trial 251 pruned. \u001b[0m\n"
          ]
        },
        {
          "output_type": "stream",
          "name": "stdout",
          "text": [
            "Files already downloaded and verified\n"
          ]
        },
        {
          "output_type": "stream",
          "name": "stderr",
          "text": [
            "\u001b[32m[I 2022-06-17 06:43:27,978]\u001b[0m Trial 252 pruned. \u001b[0m\n"
          ]
        },
        {
          "output_type": "stream",
          "name": "stdout",
          "text": [
            "Files already downloaded and verified\n"
          ]
        },
        {
          "output_type": "stream",
          "name": "stderr",
          "text": [
            "\u001b[32m[I 2022-06-17 06:43:34,697]\u001b[0m Trial 253 pruned. \u001b[0m\n"
          ]
        },
        {
          "output_type": "stream",
          "name": "stdout",
          "text": [
            "Files already downloaded and verified\n"
          ]
        },
        {
          "output_type": "stream",
          "name": "stderr",
          "text": [
            "\u001b[32m[I 2022-06-17 06:43:53,157]\u001b[0m Trial 254 pruned. \u001b[0m\n"
          ]
        },
        {
          "output_type": "stream",
          "name": "stdout",
          "text": [
            "Files already downloaded and verified\n"
          ]
        },
        {
          "output_type": "stream",
          "name": "stderr",
          "text": [
            "\u001b[32m[I 2022-06-17 06:44:50,857]\u001b[0m Trial 255 finished with value: 0.0897 and parameters: {'n_layers_conv': 1, 'n_layers_dense': 2, 'filters_0': 16, 'kernel_size_0': 3, 'strides_0': 1, 'n_units_0': 76, 'n_units_1': 113, 'optimizer': 'Adam', 'lr': 0.0008730197716162023}. Best is trial 94 with value: 0.1109.\u001b[0m\n"
          ]
        },
        {
          "output_type": "stream",
          "name": "stdout",
          "text": [
            "Files already downloaded and verified\n"
          ]
        },
        {
          "output_type": "stream",
          "name": "stderr",
          "text": [
            "\u001b[32m[I 2022-06-17 06:44:57,637]\u001b[0m Trial 256 pruned. \u001b[0m\n"
          ]
        },
        {
          "output_type": "stream",
          "name": "stdout",
          "text": [
            "Files already downloaded and verified\n"
          ]
        },
        {
          "output_type": "stream",
          "name": "stderr",
          "text": [
            "\u001b[32m[I 2022-06-17 06:45:04,537]\u001b[0m Trial 257 pruned. \u001b[0m\n"
          ]
        },
        {
          "output_type": "stream",
          "name": "stdout",
          "text": [
            "Files already downloaded and verified\n"
          ]
        },
        {
          "output_type": "stream",
          "name": "stderr",
          "text": [
            "\u001b[32m[I 2022-06-17 06:45:11,418]\u001b[0m Trial 258 pruned. \u001b[0m\n"
          ]
        },
        {
          "output_type": "stream",
          "name": "stdout",
          "text": [
            "Files already downloaded and verified\n"
          ]
        },
        {
          "output_type": "stream",
          "name": "stderr",
          "text": [
            "\u001b[32m[I 2022-06-17 06:45:18,547]\u001b[0m Trial 259 pruned. \u001b[0m\n"
          ]
        },
        {
          "output_type": "stream",
          "name": "stdout",
          "text": [
            "Files already downloaded and verified\n"
          ]
        },
        {
          "output_type": "stream",
          "name": "stderr",
          "text": [
            "\u001b[32m[I 2022-06-17 06:45:25,454]\u001b[0m Trial 260 pruned. \u001b[0m\n"
          ]
        },
        {
          "output_type": "stream",
          "name": "stdout",
          "text": [
            "Files already downloaded and verified\n"
          ]
        },
        {
          "output_type": "stream",
          "name": "stderr",
          "text": [
            "\u001b[32m[I 2022-06-17 06:45:32,361]\u001b[0m Trial 261 pruned. \u001b[0m\n"
          ]
        },
        {
          "output_type": "stream",
          "name": "stdout",
          "text": [
            "Files already downloaded and verified\n"
          ]
        },
        {
          "output_type": "stream",
          "name": "stderr",
          "text": [
            "\u001b[32m[I 2022-06-17 06:45:39,225]\u001b[0m Trial 262 pruned. \u001b[0m\n"
          ]
        },
        {
          "output_type": "stream",
          "name": "stdout",
          "text": [
            "Files already downloaded and verified\n"
          ]
        },
        {
          "output_type": "stream",
          "name": "stderr",
          "text": [
            "\u001b[32m[I 2022-06-17 06:45:46,040]\u001b[0m Trial 263 pruned. \u001b[0m\n"
          ]
        },
        {
          "output_type": "stream",
          "name": "stdout",
          "text": [
            "Files already downloaded and verified\n"
          ]
        },
        {
          "output_type": "stream",
          "name": "stderr",
          "text": [
            "\u001b[32m[I 2022-06-17 06:45:52,839]\u001b[0m Trial 264 pruned. \u001b[0m\n"
          ]
        },
        {
          "output_type": "stream",
          "name": "stdout",
          "text": [
            "Files already downloaded and verified\n"
          ]
        },
        {
          "output_type": "stream",
          "name": "stderr",
          "text": [
            "\u001b[32m[I 2022-06-17 06:46:00,250]\u001b[0m Trial 265 pruned. \u001b[0m\n"
          ]
        },
        {
          "output_type": "stream",
          "name": "stdout",
          "text": [
            "Files already downloaded and verified\n"
          ]
        },
        {
          "output_type": "stream",
          "name": "stderr",
          "text": [
            "\u001b[32m[I 2022-06-17 06:46:07,156]\u001b[0m Trial 266 pruned. \u001b[0m\n"
          ]
        },
        {
          "output_type": "stream",
          "name": "stdout",
          "text": [
            "Files already downloaded and verified\n"
          ]
        },
        {
          "output_type": "stream",
          "name": "stderr",
          "text": [
            "\u001b[32m[I 2022-06-17 06:46:14,044]\u001b[0m Trial 267 pruned. \u001b[0m\n"
          ]
        },
        {
          "output_type": "stream",
          "name": "stdout",
          "text": [
            "Files already downloaded and verified\n"
          ]
        },
        {
          "output_type": "stream",
          "name": "stderr",
          "text": [
            "\u001b[32m[I 2022-06-17 06:47:00,530]\u001b[0m Trial 268 pruned. \u001b[0m\n"
          ]
        },
        {
          "output_type": "stream",
          "name": "stdout",
          "text": [
            "Files already downloaded and verified\n"
          ]
        },
        {
          "output_type": "stream",
          "name": "stderr",
          "text": [
            "\u001b[32m[I 2022-06-17 06:47:07,396]\u001b[0m Trial 269 pruned. \u001b[0m\n"
          ]
        },
        {
          "output_type": "stream",
          "name": "stdout",
          "text": [
            "Files already downloaded and verified\n"
          ]
        },
        {
          "output_type": "stream",
          "name": "stderr",
          "text": [
            "\u001b[32m[I 2022-06-17 06:47:14,310]\u001b[0m Trial 270 pruned. \u001b[0m\n"
          ]
        },
        {
          "output_type": "stream",
          "name": "stdout",
          "text": [
            "Files already downloaded and verified\n"
          ]
        },
        {
          "output_type": "stream",
          "name": "stderr",
          "text": [
            "\u001b[32m[I 2022-06-17 06:47:21,341]\u001b[0m Trial 271 pruned. \u001b[0m\n"
          ]
        },
        {
          "output_type": "stream",
          "name": "stdout",
          "text": [
            "Files already downloaded and verified\n"
          ]
        },
        {
          "output_type": "stream",
          "name": "stderr",
          "text": [
            "\u001b[32m[I 2022-06-17 06:47:28,227]\u001b[0m Trial 272 pruned. \u001b[0m\n"
          ]
        },
        {
          "output_type": "stream",
          "name": "stdout",
          "text": [
            "Files already downloaded and verified\n"
          ]
        },
        {
          "output_type": "stream",
          "name": "stderr",
          "text": [
            "\u001b[32m[I 2022-06-17 06:47:35,372]\u001b[0m Trial 273 pruned. \u001b[0m\n"
          ]
        },
        {
          "output_type": "stream",
          "name": "stdout",
          "text": [
            "Files already downloaded and verified\n"
          ]
        },
        {
          "output_type": "stream",
          "name": "stderr",
          "text": [
            "\u001b[32m[I 2022-06-17 06:47:42,209]\u001b[0m Trial 274 pruned. \u001b[0m\n"
          ]
        },
        {
          "output_type": "stream",
          "name": "stdout",
          "text": [
            "Files already downloaded and verified\n"
          ]
        },
        {
          "output_type": "stream",
          "name": "stderr",
          "text": [
            "\u001b[32m[I 2022-06-17 06:48:00,373]\u001b[0m Trial 275 pruned. \u001b[0m\n"
          ]
        },
        {
          "output_type": "stream",
          "name": "stdout",
          "text": [
            "Files already downloaded and verified\n"
          ]
        },
        {
          "output_type": "stream",
          "name": "stderr",
          "text": [
            "\u001b[32m[I 2022-06-17 06:48:07,543]\u001b[0m Trial 276 pruned. \u001b[0m\n"
          ]
        },
        {
          "output_type": "stream",
          "name": "stdout",
          "text": [
            "Files already downloaded and verified\n"
          ]
        },
        {
          "output_type": "stream",
          "name": "stderr",
          "text": [
            "\u001b[32m[I 2022-06-17 06:48:14,542]\u001b[0m Trial 277 pruned. \u001b[0m\n"
          ]
        },
        {
          "output_type": "stream",
          "name": "stdout",
          "text": [
            "Files already downloaded and verified\n"
          ]
        },
        {
          "output_type": "stream",
          "name": "stderr",
          "text": [
            "\u001b[32m[I 2022-06-17 06:48:21,553]\u001b[0m Trial 278 pruned. \u001b[0m\n"
          ]
        },
        {
          "output_type": "stream",
          "name": "stdout",
          "text": [
            "Files already downloaded and verified\n"
          ]
        },
        {
          "output_type": "stream",
          "name": "stderr",
          "text": [
            "\u001b[32m[I 2022-06-17 06:48:28,355]\u001b[0m Trial 279 pruned. \u001b[0m\n"
          ]
        },
        {
          "output_type": "stream",
          "name": "stdout",
          "text": [
            "Files already downloaded and verified\n"
          ]
        },
        {
          "output_type": "stream",
          "name": "stderr",
          "text": [
            "\u001b[32m[I 2022-06-17 06:48:35,266]\u001b[0m Trial 280 pruned. \u001b[0m\n"
          ]
        },
        {
          "output_type": "stream",
          "name": "stdout",
          "text": [
            "Files already downloaded and verified\n"
          ]
        },
        {
          "output_type": "stream",
          "name": "stderr",
          "text": [
            "\u001b[32m[I 2022-06-17 06:48:42,114]\u001b[0m Trial 281 pruned. \u001b[0m\n"
          ]
        },
        {
          "output_type": "stream",
          "name": "stdout",
          "text": [
            "Files already downloaded and verified\n"
          ]
        },
        {
          "output_type": "stream",
          "name": "stderr",
          "text": [
            "\u001b[32m[I 2022-06-17 06:48:48,871]\u001b[0m Trial 282 pruned. \u001b[0m\n"
          ]
        },
        {
          "output_type": "stream",
          "name": "stdout",
          "text": [
            "Files already downloaded and verified\n"
          ]
        },
        {
          "output_type": "stream",
          "name": "stderr",
          "text": [
            "\u001b[32m[I 2022-06-17 06:48:55,668]\u001b[0m Trial 283 pruned. \u001b[0m\n"
          ]
        },
        {
          "output_type": "stream",
          "name": "stdout",
          "text": [
            "Files already downloaded and verified\n"
          ]
        },
        {
          "output_type": "stream",
          "name": "stderr",
          "text": [
            "\u001b[32m[I 2022-06-17 06:49:14,215]\u001b[0m Trial 284 pruned. \u001b[0m\n"
          ]
        },
        {
          "output_type": "stream",
          "name": "stdout",
          "text": [
            "Files already downloaded and verified\n"
          ]
        },
        {
          "output_type": "stream",
          "name": "stderr",
          "text": [
            "\u001b[32m[I 2022-06-17 06:49:21,329]\u001b[0m Trial 285 pruned. \u001b[0m\n"
          ]
        },
        {
          "output_type": "stream",
          "name": "stdout",
          "text": [
            "Files already downloaded and verified\n"
          ]
        },
        {
          "output_type": "stream",
          "name": "stderr",
          "text": [
            "\u001b[32m[I 2022-06-17 06:49:28,645]\u001b[0m Trial 286 pruned. \u001b[0m\n"
          ]
        },
        {
          "output_type": "stream",
          "name": "stdout",
          "text": [
            "Files already downloaded and verified\n"
          ]
        },
        {
          "output_type": "stream",
          "name": "stderr",
          "text": [
            "\u001b[32m[I 2022-06-17 06:49:35,601]\u001b[0m Trial 287 pruned. \u001b[0m\n"
          ]
        },
        {
          "output_type": "stream",
          "name": "stdout",
          "text": [
            "Files already downloaded and verified\n"
          ]
        },
        {
          "output_type": "stream",
          "name": "stderr",
          "text": [
            "\u001b[32m[I 2022-06-17 06:49:42,492]\u001b[0m Trial 288 pruned. \u001b[0m\n"
          ]
        },
        {
          "output_type": "stream",
          "name": "stdout",
          "text": [
            "Files already downloaded and verified\n"
          ]
        },
        {
          "output_type": "stream",
          "name": "stderr",
          "text": [
            "\u001b[32m[I 2022-06-17 06:49:49,437]\u001b[0m Trial 289 pruned. \u001b[0m\n"
          ]
        },
        {
          "output_type": "stream",
          "name": "stdout",
          "text": [
            "Files already downloaded and verified\n"
          ]
        },
        {
          "output_type": "stream",
          "name": "stderr",
          "text": [
            "\u001b[32m[I 2022-06-17 06:49:56,217]\u001b[0m Trial 290 pruned. \u001b[0m\n"
          ]
        },
        {
          "output_type": "stream",
          "name": "stdout",
          "text": [
            "Files already downloaded and verified\n"
          ]
        },
        {
          "output_type": "stream",
          "name": "stderr",
          "text": [
            "\u001b[32m[I 2022-06-17 06:50:03,144]\u001b[0m Trial 291 pruned. \u001b[0m\n"
          ]
        },
        {
          "output_type": "stream",
          "name": "stdout",
          "text": [
            "Files already downloaded and verified\n"
          ]
        },
        {
          "output_type": "stream",
          "name": "stderr",
          "text": [
            "\u001b[32m[I 2022-06-17 06:51:00,487]\u001b[0m Trial 292 finished with value: 0.1023 and parameters: {'n_layers_conv': 1, 'n_layers_dense': 2, 'filters_0': 16, 'kernel_size_0': 3, 'strides_0': 1, 'n_units_0': 125, 'n_units_1': 127, 'optimizer': 'RMSprop', 'lr': 0.0005632532868483856}. Best is trial 94 with value: 0.1109.\u001b[0m\n"
          ]
        },
        {
          "output_type": "stream",
          "name": "stdout",
          "text": [
            "Files already downloaded and verified\n"
          ]
        },
        {
          "output_type": "stream",
          "name": "stderr",
          "text": [
            "\u001b[32m[I 2022-06-17 06:51:07,545]\u001b[0m Trial 293 pruned. \u001b[0m\n"
          ]
        },
        {
          "output_type": "stream",
          "name": "stdout",
          "text": [
            "Files already downloaded and verified\n"
          ]
        },
        {
          "output_type": "stream",
          "name": "stderr",
          "text": [
            "\u001b[32m[I 2022-06-17 06:51:14,506]\u001b[0m Trial 294 pruned. \u001b[0m\n"
          ]
        },
        {
          "output_type": "stream",
          "name": "stdout",
          "text": [
            "Files already downloaded and verified\n"
          ]
        },
        {
          "output_type": "stream",
          "name": "stderr",
          "text": [
            "\u001b[32m[I 2022-06-17 06:51:21,443]\u001b[0m Trial 295 pruned. \u001b[0m\n"
          ]
        },
        {
          "output_type": "stream",
          "name": "stdout",
          "text": [
            "Files already downloaded and verified\n"
          ]
        },
        {
          "output_type": "stream",
          "name": "stderr",
          "text": [
            "\u001b[32m[I 2022-06-17 06:51:28,331]\u001b[0m Trial 296 pruned. \u001b[0m\n"
          ]
        },
        {
          "output_type": "stream",
          "name": "stdout",
          "text": [
            "Files already downloaded and verified\n"
          ]
        },
        {
          "output_type": "stream",
          "name": "stderr",
          "text": [
            "\u001b[32m[I 2022-06-17 06:51:35,462]\u001b[0m Trial 297 pruned. \u001b[0m\n"
          ]
        },
        {
          "output_type": "stream",
          "name": "stdout",
          "text": [
            "Files already downloaded and verified\n"
          ]
        },
        {
          "output_type": "stream",
          "name": "stderr",
          "text": [
            "\u001b[32m[I 2022-06-17 06:51:42,362]\u001b[0m Trial 298 pruned. \u001b[0m\n"
          ]
        },
        {
          "output_type": "stream",
          "name": "stdout",
          "text": [
            "Files already downloaded and verified\n"
          ]
        },
        {
          "output_type": "stream",
          "name": "stderr",
          "text": [
            "\u001b[32m[I 2022-06-17 06:51:49,112]\u001b[0m Trial 299 pruned. \u001b[0m\n"
          ]
        },
        {
          "output_type": "stream",
          "name": "stdout",
          "text": [
            "Files already downloaded and verified\n"
          ]
        },
        {
          "output_type": "stream",
          "name": "stderr",
          "text": [
            "\u001b[32m[I 2022-06-17 06:51:55,822]\u001b[0m Trial 300 pruned. \u001b[0m\n"
          ]
        },
        {
          "output_type": "stream",
          "name": "stdout",
          "text": [
            "Files already downloaded and verified\n"
          ]
        },
        {
          "output_type": "stream",
          "name": "stderr",
          "text": [
            "\u001b[32m[I 2022-06-17 06:52:02,668]\u001b[0m Trial 301 pruned. \u001b[0m\n"
          ]
        },
        {
          "output_type": "stream",
          "name": "stdout",
          "text": [
            "Files already downloaded and verified\n"
          ]
        },
        {
          "output_type": "stream",
          "name": "stderr",
          "text": [
            "\u001b[32m[I 2022-06-17 06:52:09,908]\u001b[0m Trial 302 pruned. \u001b[0m\n"
          ]
        },
        {
          "output_type": "stream",
          "name": "stdout",
          "text": [
            "Files already downloaded and verified\n"
          ]
        },
        {
          "output_type": "stream",
          "name": "stderr",
          "text": [
            "\u001b[32m[I 2022-06-17 06:52:17,033]\u001b[0m Trial 303 pruned. \u001b[0m\n"
          ]
        },
        {
          "output_type": "stream",
          "name": "stdout",
          "text": [
            "Files already downloaded and verified\n"
          ]
        },
        {
          "output_type": "stream",
          "name": "stderr",
          "text": [
            "\u001b[32m[I 2022-06-17 06:52:29,618]\u001b[0m Trial 304 pruned. \u001b[0m\n"
          ]
        },
        {
          "output_type": "stream",
          "name": "stdout",
          "text": [
            "Files already downloaded and verified\n"
          ]
        },
        {
          "output_type": "stream",
          "name": "stderr",
          "text": [
            "\u001b[32m[I 2022-06-17 06:52:36,381]\u001b[0m Trial 305 pruned. \u001b[0m\n"
          ]
        },
        {
          "output_type": "stream",
          "name": "stdout",
          "text": [
            "Files already downloaded and verified\n"
          ]
        },
        {
          "output_type": "stream",
          "name": "stderr",
          "text": [
            "\u001b[32m[I 2022-06-17 06:52:43,896]\u001b[0m Trial 306 pruned. \u001b[0m\n"
          ]
        },
        {
          "output_type": "stream",
          "name": "stdout",
          "text": [
            "Files already downloaded and verified\n"
          ]
        },
        {
          "output_type": "stream",
          "name": "stderr",
          "text": [
            "\u001b[32m[I 2022-06-17 06:52:50,701]\u001b[0m Trial 307 pruned. \u001b[0m\n"
          ]
        },
        {
          "output_type": "stream",
          "name": "stdout",
          "text": [
            "Files already downloaded and verified\n"
          ]
        },
        {
          "output_type": "stream",
          "name": "stderr",
          "text": [
            "\u001b[32m[I 2022-06-17 06:52:57,508]\u001b[0m Trial 308 pruned. \u001b[0m\n"
          ]
        },
        {
          "output_type": "stream",
          "name": "stdout",
          "text": [
            "Files already downloaded and verified\n"
          ]
        },
        {
          "output_type": "stream",
          "name": "stderr",
          "text": [
            "\u001b[32m[I 2022-06-17 06:53:04,321]\u001b[0m Trial 309 pruned. \u001b[0m\n"
          ]
        },
        {
          "output_type": "stream",
          "name": "stdout",
          "text": [
            "Files already downloaded and verified\n"
          ]
        },
        {
          "output_type": "stream",
          "name": "stderr",
          "text": [
            "\u001b[32m[I 2022-06-17 06:53:11,379]\u001b[0m Trial 310 pruned. \u001b[0m\n"
          ]
        },
        {
          "output_type": "stream",
          "name": "stdout",
          "text": [
            "Files already downloaded and verified\n"
          ]
        },
        {
          "output_type": "stream",
          "name": "stderr",
          "text": [
            "\u001b[32m[I 2022-06-17 06:53:18,530]\u001b[0m Trial 311 pruned. \u001b[0m\n"
          ]
        },
        {
          "output_type": "stream",
          "name": "stdout",
          "text": [
            "Files already downloaded and verified\n"
          ]
        },
        {
          "output_type": "stream",
          "name": "stderr",
          "text": [
            "\u001b[32m[I 2022-06-17 06:53:25,478]\u001b[0m Trial 312 pruned. \u001b[0m\n"
          ]
        },
        {
          "output_type": "stream",
          "name": "stdout",
          "text": [
            "Files already downloaded and verified\n"
          ]
        },
        {
          "output_type": "stream",
          "name": "stderr",
          "text": [
            "\u001b[32m[I 2022-06-17 06:53:32,335]\u001b[0m Trial 313 pruned. \u001b[0m\n"
          ]
        },
        {
          "output_type": "stream",
          "name": "stdout",
          "text": [
            "Files already downloaded and verified\n"
          ]
        },
        {
          "output_type": "stream",
          "name": "stderr",
          "text": [
            "\u001b[32m[I 2022-06-17 06:53:39,251]\u001b[0m Trial 314 pruned. \u001b[0m\n"
          ]
        },
        {
          "output_type": "stream",
          "name": "stdout",
          "text": [
            "Files already downloaded and verified\n"
          ]
        },
        {
          "output_type": "stream",
          "name": "stderr",
          "text": [
            "\u001b[32m[I 2022-06-17 06:53:51,702]\u001b[0m Trial 315 pruned. \u001b[0m\n"
          ]
        },
        {
          "output_type": "stream",
          "name": "stdout",
          "text": [
            "Files already downloaded and verified\n"
          ]
        },
        {
          "output_type": "stream",
          "name": "stderr",
          "text": [
            "\u001b[32m[I 2022-06-17 06:53:58,647]\u001b[0m Trial 316 pruned. \u001b[0m\n"
          ]
        },
        {
          "output_type": "stream",
          "name": "stdout",
          "text": [
            "Files already downloaded and verified\n"
          ]
        },
        {
          "output_type": "stream",
          "name": "stderr",
          "text": [
            "\u001b[32m[I 2022-06-17 06:54:05,496]\u001b[0m Trial 317 pruned. \u001b[0m\n"
          ]
        },
        {
          "output_type": "stream",
          "name": "stdout",
          "text": [
            "Files already downloaded and verified\n"
          ]
        },
        {
          "output_type": "stream",
          "name": "stderr",
          "text": [
            "\u001b[32m[I 2022-06-17 06:55:03,540]\u001b[0m Trial 318 finished with value: 0.0987 and parameters: {'n_layers_conv': 1, 'n_layers_dense': 2, 'filters_0': 16, 'kernel_size_0': 3, 'strides_0': 1, 'n_units_0': 121, 'n_units_1': 116, 'optimizer': 'Adam', 'lr': 0.0011185461286821717}. Best is trial 94 with value: 0.1109.\u001b[0m\n"
          ]
        },
        {
          "output_type": "stream",
          "name": "stdout",
          "text": [
            "Files already downloaded and verified\n"
          ]
        },
        {
          "output_type": "stream",
          "name": "stderr",
          "text": [
            "\u001b[32m[I 2022-06-17 06:55:10,405]\u001b[0m Trial 319 pruned. \u001b[0m\n"
          ]
        },
        {
          "output_type": "stream",
          "name": "stdout",
          "text": [
            "Files already downloaded and verified\n"
          ]
        },
        {
          "output_type": "stream",
          "name": "stderr",
          "text": [
            "\u001b[32m[I 2022-06-17 06:55:17,380]\u001b[0m Trial 320 pruned. \u001b[0m\n"
          ]
        },
        {
          "output_type": "stream",
          "name": "stdout",
          "text": [
            "Files already downloaded and verified\n"
          ]
        },
        {
          "output_type": "stream",
          "name": "stderr",
          "text": [
            "\u001b[32m[I 2022-06-17 06:55:46,819]\u001b[0m Trial 321 pruned. \u001b[0m\n"
          ]
        },
        {
          "output_type": "stream",
          "name": "stdout",
          "text": [
            "Files already downloaded and verified\n"
          ]
        },
        {
          "output_type": "stream",
          "name": "stderr",
          "text": [
            "\u001b[32m[I 2022-06-17 06:55:53,665]\u001b[0m Trial 322 pruned. \u001b[0m\n"
          ]
        },
        {
          "output_type": "stream",
          "name": "stdout",
          "text": [
            "Files already downloaded and verified\n"
          ]
        },
        {
          "output_type": "stream",
          "name": "stderr",
          "text": [
            "\u001b[32m[I 2022-06-17 06:56:00,624]\u001b[0m Trial 323 pruned. \u001b[0m\n"
          ]
        },
        {
          "output_type": "stream",
          "name": "stdout",
          "text": [
            "Files already downloaded and verified\n"
          ]
        },
        {
          "output_type": "stream",
          "name": "stderr",
          "text": [
            "\u001b[32m[I 2022-06-17 06:56:07,571]\u001b[0m Trial 324 pruned. \u001b[0m\n"
          ]
        },
        {
          "output_type": "stream",
          "name": "stdout",
          "text": [
            "Files already downloaded and verified\n"
          ]
        },
        {
          "output_type": "stream",
          "name": "stderr",
          "text": [
            "\u001b[32m[I 2022-06-17 06:56:14,876]\u001b[0m Trial 325 pruned. \u001b[0m\n"
          ]
        },
        {
          "output_type": "stream",
          "name": "stdout",
          "text": [
            "Files already downloaded and verified\n"
          ]
        },
        {
          "output_type": "stream",
          "name": "stderr",
          "text": [
            "\u001b[32m[I 2022-06-17 06:56:21,836]\u001b[0m Trial 326 pruned. \u001b[0m\n"
          ]
        },
        {
          "output_type": "stream",
          "name": "stdout",
          "text": [
            "Files already downloaded and verified\n"
          ]
        },
        {
          "output_type": "stream",
          "name": "stderr",
          "text": [
            "\u001b[32m[I 2022-06-17 06:56:28,826]\u001b[0m Trial 327 pruned. \u001b[0m\n"
          ]
        },
        {
          "output_type": "stream",
          "name": "stdout",
          "text": [
            "Files already downloaded and verified\n"
          ]
        },
        {
          "output_type": "stream",
          "name": "stderr",
          "text": [
            "\u001b[32m[I 2022-06-17 06:56:35,730]\u001b[0m Trial 328 pruned. \u001b[0m\n"
          ]
        },
        {
          "output_type": "stream",
          "name": "stdout",
          "text": [
            "Files already downloaded and verified\n"
          ]
        },
        {
          "output_type": "stream",
          "name": "stderr",
          "text": [
            "\u001b[32m[I 2022-06-17 06:56:42,956]\u001b[0m Trial 329 pruned. \u001b[0m\n"
          ]
        },
        {
          "output_type": "stream",
          "name": "stdout",
          "text": [
            "Files already downloaded and verified\n"
          ]
        },
        {
          "output_type": "stream",
          "name": "stderr",
          "text": [
            "\u001b[32m[I 2022-06-17 06:56:49,833]\u001b[0m Trial 330 pruned. \u001b[0m\n"
          ]
        },
        {
          "output_type": "stream",
          "name": "stdout",
          "text": [
            "Files already downloaded and verified\n"
          ]
        },
        {
          "output_type": "stream",
          "name": "stderr",
          "text": [
            "\u001b[32m[I 2022-06-17 06:56:56,732]\u001b[0m Trial 331 pruned. \u001b[0m\n"
          ]
        },
        {
          "output_type": "stream",
          "name": "stdout",
          "text": [
            "Files already downloaded and verified\n"
          ]
        },
        {
          "output_type": "stream",
          "name": "stderr",
          "text": [
            "\u001b[32m[I 2022-06-17 06:57:26,547]\u001b[0m Trial 332 pruned. \u001b[0m\n"
          ]
        },
        {
          "output_type": "stream",
          "name": "stdout",
          "text": [
            "Files already downloaded and verified\n"
          ]
        },
        {
          "output_type": "stream",
          "name": "stderr",
          "text": [
            "\u001b[32m[I 2022-06-17 06:57:33,524]\u001b[0m Trial 333 pruned. \u001b[0m\n"
          ]
        },
        {
          "output_type": "stream",
          "name": "stdout",
          "text": [
            "Files already downloaded and verified\n"
          ]
        },
        {
          "output_type": "stream",
          "name": "stderr",
          "text": [
            "\u001b[32m[I 2022-06-17 06:57:40,387]\u001b[0m Trial 334 pruned. \u001b[0m\n"
          ]
        },
        {
          "output_type": "stream",
          "name": "stdout",
          "text": [
            "Files already downloaded and verified\n"
          ]
        },
        {
          "output_type": "stream",
          "name": "stderr",
          "text": [
            "\u001b[32m[I 2022-06-17 06:57:53,693]\u001b[0m Trial 335 pruned. \u001b[0m\n"
          ]
        },
        {
          "output_type": "stream",
          "name": "stdout",
          "text": [
            "Files already downloaded and verified\n"
          ]
        },
        {
          "output_type": "stream",
          "name": "stderr",
          "text": [
            "\u001b[32m[I 2022-06-17 06:58:11,938]\u001b[0m Trial 336 pruned. \u001b[0m\n"
          ]
        },
        {
          "output_type": "stream",
          "name": "stdout",
          "text": [
            "Files already downloaded and verified\n"
          ]
        },
        {
          "output_type": "stream",
          "name": "stderr",
          "text": [
            "\u001b[32m[I 2022-06-17 06:58:19,056]\u001b[0m Trial 337 pruned. \u001b[0m\n"
          ]
        },
        {
          "output_type": "stream",
          "name": "stdout",
          "text": [
            "Files already downloaded and verified\n"
          ]
        },
        {
          "output_type": "stream",
          "name": "stderr",
          "text": [
            "\u001b[32m[I 2022-06-17 06:58:25,833]\u001b[0m Trial 338 pruned. \u001b[0m\n"
          ]
        },
        {
          "output_type": "stream",
          "name": "stdout",
          "text": [
            "Files already downloaded and verified\n"
          ]
        },
        {
          "output_type": "stream",
          "name": "stderr",
          "text": [
            "\u001b[32m[I 2022-06-17 06:58:44,267]\u001b[0m Trial 339 pruned. \u001b[0m\n"
          ]
        },
        {
          "output_type": "stream",
          "name": "stdout",
          "text": [
            "Files already downloaded and verified\n"
          ]
        },
        {
          "output_type": "stream",
          "name": "stderr",
          "text": [
            "\u001b[32m[I 2022-06-17 06:58:56,835]\u001b[0m Trial 340 pruned. \u001b[0m\n"
          ]
        },
        {
          "output_type": "stream",
          "name": "stdout",
          "text": [
            "Files already downloaded and verified\n"
          ]
        },
        {
          "output_type": "stream",
          "name": "stderr",
          "text": [
            "\u001b[32m[I 2022-06-17 06:59:03,571]\u001b[0m Trial 341 pruned. \u001b[0m\n"
          ]
        },
        {
          "output_type": "stream",
          "name": "stdout",
          "text": [
            "Files already downloaded and verified\n"
          ]
        },
        {
          "output_type": "stream",
          "name": "stderr",
          "text": [
            "\u001b[32m[I 2022-06-17 06:59:10,347]\u001b[0m Trial 342 pruned. \u001b[0m\n"
          ]
        },
        {
          "output_type": "stream",
          "name": "stdout",
          "text": [
            "Files already downloaded and verified\n"
          ]
        },
        {
          "output_type": "stream",
          "name": "stderr",
          "text": [
            "\u001b[32m[I 2022-06-17 07:00:08,232]\u001b[0m Trial 343 finished with value: 0.0926 and parameters: {'n_layers_conv': 1, 'n_layers_dense': 2, 'filters_0': 16, 'kernel_size_0': 3, 'strides_0': 1, 'n_units_0': 126, 'n_units_1': 95, 'optimizer': 'Adam', 'lr': 0.000599692444775162}. Best is trial 94 with value: 0.1109.\u001b[0m\n"
          ]
        },
        {
          "output_type": "stream",
          "name": "stdout",
          "text": [
            "Files already downloaded and verified\n"
          ]
        },
        {
          "output_type": "stream",
          "name": "stderr",
          "text": [
            "\u001b[32m[I 2022-06-17 07:00:15,278]\u001b[0m Trial 344 pruned. \u001b[0m\n"
          ]
        },
        {
          "output_type": "stream",
          "name": "stdout",
          "text": [
            "Files already downloaded and verified\n"
          ]
        },
        {
          "output_type": "stream",
          "name": "stderr",
          "text": [
            "\u001b[32m[I 2022-06-17 07:00:22,353]\u001b[0m Trial 345 pruned. \u001b[0m\n"
          ]
        },
        {
          "output_type": "stream",
          "name": "stdout",
          "text": [
            "Files already downloaded and verified\n"
          ]
        },
        {
          "output_type": "stream",
          "name": "stderr",
          "text": [
            "\u001b[32m[I 2022-06-17 07:00:29,280]\u001b[0m Trial 346 pruned. \u001b[0m\n"
          ]
        },
        {
          "output_type": "stream",
          "name": "stdout",
          "text": [
            "Files already downloaded and verified\n"
          ]
        },
        {
          "output_type": "stream",
          "name": "stderr",
          "text": [
            "\u001b[32m[I 2022-06-17 07:01:26,451]\u001b[0m Trial 347 finished with value: 0.0901 and parameters: {'n_layers_conv': 1, 'n_layers_dense': 2, 'filters_0': 16, 'kernel_size_0': 3, 'strides_0': 2, 'n_units_0': 126, 'n_units_1': 125, 'optimizer': 'RMSprop', 'lr': 0.0008917022123029716}. Best is trial 94 with value: 0.1109.\u001b[0m\n"
          ]
        },
        {
          "output_type": "stream",
          "name": "stdout",
          "text": [
            "Files already downloaded and verified\n"
          ]
        },
        {
          "output_type": "stream",
          "name": "stderr",
          "text": [
            "\u001b[32m[I 2022-06-17 07:01:50,288]\u001b[0m Trial 348 pruned. \u001b[0m\n"
          ]
        },
        {
          "output_type": "stream",
          "name": "stdout",
          "text": [
            "Files already downloaded and verified\n"
          ]
        },
        {
          "output_type": "stream",
          "name": "stderr",
          "text": [
            "\u001b[32m[I 2022-06-17 07:01:57,248]\u001b[0m Trial 349 pruned. \u001b[0m\n"
          ]
        },
        {
          "output_type": "stream",
          "name": "stdout",
          "text": [
            "Files already downloaded and verified\n"
          ]
        },
        {
          "output_type": "stream",
          "name": "stderr",
          "text": [
            "\u001b[32m[I 2022-06-17 07:02:04,331]\u001b[0m Trial 350 pruned. \u001b[0m\n"
          ]
        },
        {
          "output_type": "stream",
          "name": "stdout",
          "text": [
            "Files already downloaded and verified\n"
          ]
        },
        {
          "output_type": "stream",
          "name": "stderr",
          "text": [
            "\u001b[32m[I 2022-06-17 07:02:22,670]\u001b[0m Trial 351 pruned. \u001b[0m\n"
          ]
        },
        {
          "output_type": "stream",
          "name": "stdout",
          "text": [
            "Files already downloaded and verified\n"
          ]
        },
        {
          "output_type": "stream",
          "name": "stderr",
          "text": [
            "\u001b[32m[I 2022-06-17 07:02:30,362]\u001b[0m Trial 352 pruned. \u001b[0m\n"
          ]
        },
        {
          "output_type": "stream",
          "name": "stdout",
          "text": [
            "Files already downloaded and verified\n"
          ]
        },
        {
          "output_type": "stream",
          "name": "stderr",
          "text": [
            "\u001b[32m[I 2022-06-17 07:02:37,289]\u001b[0m Trial 353 pruned. \u001b[0m\n"
          ]
        },
        {
          "output_type": "stream",
          "name": "stdout",
          "text": [
            "Files already downloaded and verified\n"
          ]
        },
        {
          "output_type": "stream",
          "name": "stderr",
          "text": [
            "\u001b[32m[I 2022-06-17 07:02:44,217]\u001b[0m Trial 354 pruned. \u001b[0m\n"
          ]
        },
        {
          "output_type": "stream",
          "name": "stdout",
          "text": [
            "Files already downloaded and verified\n"
          ]
        },
        {
          "output_type": "stream",
          "name": "stderr",
          "text": [
            "\u001b[32m[I 2022-06-17 07:02:51,186]\u001b[0m Trial 355 pruned. \u001b[0m\n"
          ]
        },
        {
          "output_type": "stream",
          "name": "stdout",
          "text": [
            "Files already downloaded and verified\n"
          ]
        },
        {
          "output_type": "stream",
          "name": "stderr",
          "text": [
            "\u001b[32m[I 2022-06-17 07:02:58,129]\u001b[0m Trial 356 pruned. \u001b[0m\n"
          ]
        },
        {
          "output_type": "stream",
          "name": "stdout",
          "text": [
            "Files already downloaded and verified\n"
          ]
        },
        {
          "output_type": "stream",
          "name": "stderr",
          "text": [
            "\u001b[32m[I 2022-06-17 07:03:05,659]\u001b[0m Trial 357 pruned. \u001b[0m\n"
          ]
        },
        {
          "output_type": "stream",
          "name": "stdout",
          "text": [
            "Files already downloaded and verified\n"
          ]
        },
        {
          "output_type": "stream",
          "name": "stderr",
          "text": [
            "\u001b[32m[I 2022-06-17 07:03:12,467]\u001b[0m Trial 358 pruned. \u001b[0m\n"
          ]
        },
        {
          "output_type": "stream",
          "name": "stdout",
          "text": [
            "Files already downloaded and verified\n"
          ]
        },
        {
          "output_type": "stream",
          "name": "stderr",
          "text": [
            "\u001b[32m[I 2022-06-17 07:03:19,671]\u001b[0m Trial 359 pruned. \u001b[0m\n"
          ]
        },
        {
          "output_type": "stream",
          "name": "stdout",
          "text": [
            "Files already downloaded and verified\n"
          ]
        },
        {
          "output_type": "stream",
          "name": "stderr",
          "text": [
            "\u001b[32m[I 2022-06-17 07:03:26,643]\u001b[0m Trial 360 pruned. \u001b[0m\n"
          ]
        },
        {
          "output_type": "stream",
          "name": "stdout",
          "text": [
            "Files already downloaded and verified\n"
          ]
        },
        {
          "output_type": "stream",
          "name": "stderr",
          "text": [
            "\u001b[32m[I 2022-06-17 07:03:33,586]\u001b[0m Trial 361 pruned. \u001b[0m\n"
          ]
        },
        {
          "output_type": "stream",
          "name": "stdout",
          "text": [
            "Files already downloaded and verified\n"
          ]
        },
        {
          "output_type": "stream",
          "name": "stderr",
          "text": [
            "\u001b[32m[I 2022-06-17 07:03:40,429]\u001b[0m Trial 362 pruned. \u001b[0m\n"
          ]
        },
        {
          "output_type": "stream",
          "name": "stdout",
          "text": [
            "Files already downloaded and verified\n"
          ]
        },
        {
          "output_type": "stream",
          "name": "stderr",
          "text": [
            "\u001b[32m[I 2022-06-17 07:03:47,338]\u001b[0m Trial 363 pruned. \u001b[0m\n"
          ]
        },
        {
          "output_type": "stream",
          "name": "stdout",
          "text": [
            "Files already downloaded and verified\n"
          ]
        },
        {
          "output_type": "stream",
          "name": "stderr",
          "text": [
            "\u001b[32m[I 2022-06-17 07:03:54,173]\u001b[0m Trial 364 pruned. \u001b[0m\n"
          ]
        },
        {
          "output_type": "stream",
          "name": "stdout",
          "text": [
            "Files already downloaded and verified\n"
          ]
        },
        {
          "output_type": "stream",
          "name": "stderr",
          "text": [
            "\u001b[32m[I 2022-06-17 07:04:01,150]\u001b[0m Trial 365 pruned. \u001b[0m\n"
          ]
        },
        {
          "output_type": "stream",
          "name": "stdout",
          "text": [
            "Files already downloaded and verified\n"
          ]
        },
        {
          "output_type": "stream",
          "name": "stderr",
          "text": [
            "\u001b[32m[I 2022-06-17 07:04:08,119]\u001b[0m Trial 366 pruned. \u001b[0m\n"
          ]
        },
        {
          "output_type": "stream",
          "name": "stdout",
          "text": [
            "Files already downloaded and verified\n"
          ]
        },
        {
          "output_type": "stream",
          "name": "stderr",
          "text": [
            "\u001b[32m[I 2022-06-17 07:04:15,108]\u001b[0m Trial 367 pruned. \u001b[0m\n"
          ]
        },
        {
          "output_type": "stream",
          "name": "stdout",
          "text": [
            "Files already downloaded and verified\n"
          ]
        },
        {
          "output_type": "stream",
          "name": "stderr",
          "text": [
            "\u001b[32m[I 2022-06-17 07:05:01,851]\u001b[0m Trial 368 pruned. \u001b[0m\n"
          ]
        },
        {
          "output_type": "stream",
          "name": "stdout",
          "text": [
            "Files already downloaded and verified\n"
          ]
        },
        {
          "output_type": "stream",
          "name": "stderr",
          "text": [
            "\u001b[32m[I 2022-06-17 07:05:08,743]\u001b[0m Trial 369 pruned. \u001b[0m\n"
          ]
        },
        {
          "output_type": "stream",
          "name": "stdout",
          "text": [
            "Files already downloaded and verified\n"
          ]
        },
        {
          "output_type": "stream",
          "name": "stderr",
          "text": [
            "\u001b[32m[I 2022-06-17 07:05:15,791]\u001b[0m Trial 370 pruned. \u001b[0m\n"
          ]
        },
        {
          "output_type": "stream",
          "name": "stdout",
          "text": [
            "Files already downloaded and verified\n"
          ]
        },
        {
          "output_type": "stream",
          "name": "stderr",
          "text": [
            "\u001b[32m[I 2022-06-17 07:06:13,488]\u001b[0m Trial 371 finished with value: 0.0936 and parameters: {'n_layers_conv': 1, 'n_layers_dense': 2, 'filters_0': 16, 'kernel_size_0': 3, 'strides_0': 1, 'n_units_0': 127, 'n_units_1': 113, 'optimizer': 'Adam', 'lr': 0.00025824564856546445}. Best is trial 94 with value: 0.1109.\u001b[0m\n"
          ]
        },
        {
          "output_type": "stream",
          "name": "stdout",
          "text": [
            "Files already downloaded and verified\n"
          ]
        },
        {
          "output_type": "stream",
          "name": "stderr",
          "text": [
            "\u001b[32m[I 2022-06-17 07:06:20,702]\u001b[0m Trial 372 pruned. \u001b[0m\n"
          ]
        },
        {
          "output_type": "stream",
          "name": "stdout",
          "text": [
            "Files already downloaded and verified\n"
          ]
        },
        {
          "output_type": "stream",
          "name": "stderr",
          "text": [
            "\u001b[32m[I 2022-06-17 07:06:27,814]\u001b[0m Trial 373 pruned. \u001b[0m\n"
          ]
        },
        {
          "output_type": "stream",
          "name": "stdout",
          "text": [
            "Files already downloaded and verified\n"
          ]
        },
        {
          "output_type": "stream",
          "name": "stderr",
          "text": [
            "\u001b[32m[I 2022-06-17 07:06:34,917]\u001b[0m Trial 374 pruned. \u001b[0m\n"
          ]
        },
        {
          "output_type": "stream",
          "name": "stdout",
          "text": [
            "Files already downloaded and verified\n"
          ]
        },
        {
          "output_type": "stream",
          "name": "stderr",
          "text": [
            "\u001b[32m[I 2022-06-17 07:06:42,013]\u001b[0m Trial 375 pruned. \u001b[0m\n"
          ]
        },
        {
          "output_type": "stream",
          "name": "stdout",
          "text": [
            "Files already downloaded and verified\n"
          ]
        },
        {
          "output_type": "stream",
          "name": "stderr",
          "text": [
            "\u001b[32m[I 2022-06-17 07:07:34,559]\u001b[0m Trial 376 pruned. \u001b[0m\n"
          ]
        },
        {
          "output_type": "stream",
          "name": "stdout",
          "text": [
            "Files already downloaded and verified\n"
          ]
        },
        {
          "output_type": "stream",
          "name": "stderr",
          "text": [
            "\u001b[32m[I 2022-06-17 07:07:41,486]\u001b[0m Trial 377 pruned. \u001b[0m\n"
          ]
        },
        {
          "output_type": "stream",
          "name": "stdout",
          "text": [
            "Files already downloaded and verified\n"
          ]
        },
        {
          "output_type": "stream",
          "name": "stderr",
          "text": [
            "\u001b[32m[I 2022-06-17 07:07:48,414]\u001b[0m Trial 378 pruned. \u001b[0m\n"
          ]
        },
        {
          "output_type": "stream",
          "name": "stdout",
          "text": [
            "Files already downloaded and verified\n"
          ]
        },
        {
          "output_type": "stream",
          "name": "stderr",
          "text": [
            "\u001b[32m[I 2022-06-17 07:07:55,410]\u001b[0m Trial 379 pruned. \u001b[0m\n"
          ]
        },
        {
          "output_type": "stream",
          "name": "stdout",
          "text": [
            "Files already downloaded and verified\n"
          ]
        },
        {
          "output_type": "stream",
          "name": "stderr",
          "text": [
            "\u001b[32m[I 2022-06-17 07:08:54,429]\u001b[0m Trial 380 finished with value: 0.0924 and parameters: {'n_layers_conv': 1, 'n_layers_dense': 2, 'filters_0': 16, 'kernel_size_0': 3, 'strides_0': 1, 'n_units_0': 124, 'n_units_1': 124, 'optimizer': 'Adam', 'lr': 0.000539048142523323}. Best is trial 94 with value: 0.1109.\u001b[0m\n"
          ]
        },
        {
          "output_type": "stream",
          "name": "stdout",
          "text": [
            "Files already downloaded and verified\n"
          ]
        },
        {
          "output_type": "stream",
          "name": "stderr",
          "text": [
            "\u001b[32m[I 2022-06-17 07:09:01,442]\u001b[0m Trial 381 pruned. \u001b[0m\n"
          ]
        },
        {
          "output_type": "stream",
          "name": "stdout",
          "text": [
            "Files already downloaded and verified\n"
          ]
        },
        {
          "output_type": "stream",
          "name": "stderr",
          "text": [
            "\u001b[32m[I 2022-06-17 07:09:08,346]\u001b[0m Trial 382 pruned. \u001b[0m\n"
          ]
        },
        {
          "output_type": "stream",
          "name": "stdout",
          "text": [
            "Files already downloaded and verified\n"
          ]
        },
        {
          "output_type": "stream",
          "name": "stderr",
          "text": [
            "\u001b[32m[I 2022-06-17 07:09:15,441]\u001b[0m Trial 383 pruned. \u001b[0m\n"
          ]
        },
        {
          "output_type": "stream",
          "name": "stdout",
          "text": [
            "Files already downloaded and verified\n"
          ]
        },
        {
          "output_type": "stream",
          "name": "stderr",
          "text": [
            "\u001b[32m[I 2022-06-17 07:09:22,459]\u001b[0m Trial 384 pruned. \u001b[0m\n"
          ]
        },
        {
          "output_type": "stream",
          "name": "stdout",
          "text": [
            "Files already downloaded and verified\n"
          ]
        },
        {
          "output_type": "stream",
          "name": "stderr",
          "text": [
            "\u001b[32m[I 2022-06-17 07:09:29,455]\u001b[0m Trial 385 pruned. \u001b[0m\n"
          ]
        },
        {
          "output_type": "stream",
          "name": "stdout",
          "text": [
            "Files already downloaded and verified\n"
          ]
        },
        {
          "output_type": "stream",
          "name": "stderr",
          "text": [
            "\u001b[32m[I 2022-06-17 07:09:36,545]\u001b[0m Trial 386 pruned. \u001b[0m\n"
          ]
        },
        {
          "output_type": "stream",
          "name": "stdout",
          "text": [
            "Files already downloaded and verified\n"
          ]
        },
        {
          "output_type": "stream",
          "name": "stderr",
          "text": [
            "\u001b[32m[I 2022-06-17 07:09:54,741]\u001b[0m Trial 387 pruned. \u001b[0m\n"
          ]
        },
        {
          "output_type": "stream",
          "name": "stdout",
          "text": [
            "Files already downloaded and verified\n"
          ]
        },
        {
          "output_type": "stream",
          "name": "stderr",
          "text": [
            "\u001b[32m[I 2022-06-17 07:10:01,756]\u001b[0m Trial 388 pruned. \u001b[0m\n"
          ]
        },
        {
          "output_type": "stream",
          "name": "stdout",
          "text": [
            "Files already downloaded and verified\n"
          ]
        },
        {
          "output_type": "stream",
          "name": "stderr",
          "text": [
            "\u001b[32m[I 2022-06-17 07:11:00,008]\u001b[0m Trial 389 finished with value: 0.0905 and parameters: {'n_layers_conv': 1, 'n_layers_dense': 2, 'filters_0': 16, 'kernel_size_0': 3, 'strides_0': 1, 'n_units_0': 113, 'n_units_1': 77, 'optimizer': 'Adam', 'lr': 0.0004470746734774659}. Best is trial 94 with value: 0.1109.\u001b[0m\n"
          ]
        },
        {
          "output_type": "stream",
          "name": "stdout",
          "text": [
            "Files already downloaded and verified\n"
          ]
        },
        {
          "output_type": "stream",
          "name": "stderr",
          "text": [
            "\u001b[32m[I 2022-06-17 07:11:07,203]\u001b[0m Trial 390 pruned. \u001b[0m\n"
          ]
        },
        {
          "output_type": "stream",
          "name": "stdout",
          "text": [
            "Files already downloaded and verified\n"
          ]
        },
        {
          "output_type": "stream",
          "name": "stderr",
          "text": [
            "\u001b[32m[I 2022-06-17 07:11:31,405]\u001b[0m Trial 391 pruned. \u001b[0m\n"
          ]
        },
        {
          "output_type": "stream",
          "name": "stdout",
          "text": [
            "Files already downloaded and verified\n"
          ]
        },
        {
          "output_type": "stream",
          "name": "stderr",
          "text": [
            "\u001b[32m[I 2022-06-17 07:11:38,405]\u001b[0m Trial 392 pruned. \u001b[0m\n"
          ]
        },
        {
          "output_type": "stream",
          "name": "stdout",
          "text": [
            "Files already downloaded and verified\n"
          ]
        },
        {
          "output_type": "stream",
          "name": "stderr",
          "text": [
            "\u001b[32m[I 2022-06-17 07:11:45,199]\u001b[0m Trial 393 pruned. \u001b[0m\n"
          ]
        },
        {
          "output_type": "stream",
          "name": "stdout",
          "text": [
            "Files already downloaded and verified\n"
          ]
        },
        {
          "output_type": "stream",
          "name": "stderr",
          "text": [
            "\u001b[32m[I 2022-06-17 07:11:52,158]\u001b[0m Trial 394 pruned. \u001b[0m\n"
          ]
        },
        {
          "output_type": "stream",
          "name": "stdout",
          "text": [
            "Files already downloaded and verified\n"
          ]
        },
        {
          "output_type": "stream",
          "name": "stderr",
          "text": [
            "\u001b[32m[I 2022-06-17 07:11:59,184]\u001b[0m Trial 395 pruned. \u001b[0m\n"
          ]
        },
        {
          "output_type": "stream",
          "name": "stdout",
          "text": [
            "Files already downloaded and verified\n"
          ]
        },
        {
          "output_type": "stream",
          "name": "stderr",
          "text": [
            "\u001b[32m[I 2022-06-17 07:12:06,131]\u001b[0m Trial 396 pruned. \u001b[0m\n"
          ]
        },
        {
          "output_type": "stream",
          "name": "stdout",
          "text": [
            "Files already downloaded and verified\n"
          ]
        },
        {
          "output_type": "stream",
          "name": "stderr",
          "text": [
            "\u001b[32m[I 2022-06-17 07:12:18,749]\u001b[0m Trial 397 pruned. \u001b[0m\n"
          ]
        },
        {
          "output_type": "stream",
          "name": "stdout",
          "text": [
            "Files already downloaded and verified\n"
          ]
        },
        {
          "output_type": "stream",
          "name": "stderr",
          "text": [
            "\u001b[32m[I 2022-06-17 07:12:31,222]\u001b[0m Trial 398 pruned. \u001b[0m\n"
          ]
        },
        {
          "output_type": "stream",
          "name": "stdout",
          "text": [
            "Files already downloaded and verified\n"
          ]
        },
        {
          "output_type": "stream",
          "name": "stderr",
          "text": [
            "\u001b[32m[I 2022-06-17 07:12:38,183]\u001b[0m Trial 399 pruned. \u001b[0m\n"
          ]
        },
        {
          "output_type": "stream",
          "name": "stdout",
          "text": [
            "Files already downloaded and verified\n"
          ]
        },
        {
          "output_type": "stream",
          "name": "stderr",
          "text": [
            "\u001b[32m[I 2022-06-17 07:12:45,363]\u001b[0m Trial 400 pruned. \u001b[0m\n"
          ]
        },
        {
          "output_type": "stream",
          "name": "stdout",
          "text": [
            "Files already downloaded and verified\n"
          ]
        },
        {
          "output_type": "stream",
          "name": "stderr",
          "text": [
            "\u001b[32m[I 2022-06-17 07:12:52,330]\u001b[0m Trial 401 pruned. \u001b[0m\n"
          ]
        },
        {
          "output_type": "stream",
          "name": "stdout",
          "text": [
            "Files already downloaded and verified\n"
          ]
        },
        {
          "output_type": "stream",
          "name": "stderr",
          "text": [
            "\u001b[32m[I 2022-06-17 07:12:59,333]\u001b[0m Trial 402 pruned. \u001b[0m\n"
          ]
        },
        {
          "output_type": "stream",
          "name": "stdout",
          "text": [
            "Files already downloaded and verified\n"
          ]
        },
        {
          "output_type": "stream",
          "name": "stderr",
          "text": [
            "\u001b[32m[I 2022-06-17 07:13:06,292]\u001b[0m Trial 403 pruned. \u001b[0m\n"
          ]
        },
        {
          "output_type": "stream",
          "name": "stdout",
          "text": [
            "Files already downloaded and verified\n"
          ]
        },
        {
          "output_type": "stream",
          "name": "stderr",
          "text": [
            "\u001b[32m[I 2022-06-17 07:13:13,277]\u001b[0m Trial 404 pruned. \u001b[0m\n"
          ]
        },
        {
          "output_type": "stream",
          "name": "stdout",
          "text": [
            "Files already downloaded and verified\n"
          ]
        },
        {
          "output_type": "stream",
          "name": "stderr",
          "text": [
            "\u001b[32m[I 2022-06-17 07:13:20,399]\u001b[0m Trial 405 pruned. \u001b[0m\n"
          ]
        },
        {
          "output_type": "stream",
          "name": "stdout",
          "text": [
            "Files already downloaded and verified\n"
          ]
        },
        {
          "output_type": "stream",
          "name": "stderr",
          "text": [
            "\u001b[32m[I 2022-06-17 07:13:27,338]\u001b[0m Trial 406 pruned. \u001b[0m\n"
          ]
        },
        {
          "output_type": "stream",
          "name": "stdout",
          "text": [
            "Files already downloaded and verified\n"
          ]
        },
        {
          "output_type": "stream",
          "name": "stderr",
          "text": [
            "\u001b[32m[I 2022-06-17 07:13:35,495]\u001b[0m Trial 407 pruned. \u001b[0m\n"
          ]
        },
        {
          "output_type": "stream",
          "name": "stdout",
          "text": [
            "Files already downloaded and verified\n"
          ]
        },
        {
          "output_type": "stream",
          "name": "stderr",
          "text": [
            "\u001b[32m[I 2022-06-17 07:13:42,604]\u001b[0m Trial 408 pruned. \u001b[0m\n"
          ]
        },
        {
          "output_type": "stream",
          "name": "stdout",
          "text": [
            "Files already downloaded and verified\n"
          ]
        },
        {
          "output_type": "stream",
          "name": "stderr",
          "text": [
            "\u001b[32m[I 2022-06-17 07:13:49,925]\u001b[0m Trial 409 pruned. \u001b[0m\n"
          ]
        },
        {
          "output_type": "stream",
          "name": "stdout",
          "text": [
            "Files already downloaded and verified\n"
          ]
        },
        {
          "output_type": "stream",
          "name": "stderr",
          "text": [
            "\u001b[32m[I 2022-06-17 07:13:56,849]\u001b[0m Trial 410 pruned. \u001b[0m\n"
          ]
        },
        {
          "output_type": "stream",
          "name": "stdout",
          "text": [
            "Files already downloaded and verified\n"
          ]
        },
        {
          "output_type": "stream",
          "name": "stderr",
          "text": [
            "\u001b[32m[I 2022-06-17 07:14:03,760]\u001b[0m Trial 411 pruned. \u001b[0m\n"
          ]
        },
        {
          "output_type": "stream",
          "name": "stdout",
          "text": [
            "Files already downloaded and verified\n"
          ]
        },
        {
          "output_type": "stream",
          "name": "stderr",
          "text": [
            "\u001b[32m[I 2022-06-17 07:14:10,601]\u001b[0m Trial 412 pruned. \u001b[0m\n"
          ]
        },
        {
          "output_type": "stream",
          "name": "stdout",
          "text": [
            "Files already downloaded and verified\n"
          ]
        },
        {
          "output_type": "stream",
          "name": "stderr",
          "text": [
            "\u001b[32m[I 2022-06-17 07:14:17,693]\u001b[0m Trial 413 pruned. \u001b[0m\n"
          ]
        },
        {
          "output_type": "stream",
          "name": "stdout",
          "text": [
            "Files already downloaded and verified\n"
          ]
        },
        {
          "output_type": "stream",
          "name": "stderr",
          "text": [
            "\u001b[32m[I 2022-06-17 07:14:24,596]\u001b[0m Trial 414 pruned. \u001b[0m\n"
          ]
        },
        {
          "output_type": "stream",
          "name": "stdout",
          "text": [
            "Files already downloaded and verified\n"
          ]
        },
        {
          "output_type": "stream",
          "name": "stderr",
          "text": [
            "\u001b[32m[I 2022-06-17 07:14:31,495]\u001b[0m Trial 415 pruned. \u001b[0m\n"
          ]
        },
        {
          "output_type": "stream",
          "name": "stdout",
          "text": [
            "Files already downloaded and verified\n"
          ]
        }
      ]
    }
  ]
}