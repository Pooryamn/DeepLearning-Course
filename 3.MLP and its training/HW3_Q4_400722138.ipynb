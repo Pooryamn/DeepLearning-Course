{
  "nbformat": 4,
  "nbformat_minor": 0,
  "metadata": {
    "colab": {
      "name": "HW3_Q4.ipynb",
      "provenance": [],
      "collapsed_sections": []
    },
    "kernelspec": {
      "name": "python3",
      "display_name": "Python 3"
    },
    "language_info": {
      "name": "python"
    },
    "accelerator": "GPU",
    "widgets": {
      "application/vnd.jupyter.widget-state+json": {
        "8fc078f412c041bea0957517c35774a4": {
          "model_module": "@jupyter-widgets/controls",
          "model_name": "HBoxModel",
          "model_module_version": "1.5.0",
          "state": {
            "_view_name": "HBoxView",
            "_dom_classes": [],
            "_model_name": "HBoxModel",
            "_view_module": "@jupyter-widgets/controls",
            "_model_module_version": "1.5.0",
            "_view_count": null,
            "_view_module_version": "1.5.0",
            "box_style": "",
            "layout": "IPY_MODEL_ed22c61332c7410b826ac46d6289fafa",
            "_model_module": "@jupyter-widgets/controls",
            "children": [
              "IPY_MODEL_0b7b64cdc2fe46da95d3258b4bbca1de",
              "IPY_MODEL_67056eccd3e047e2887c35a6f58ad418",
              "IPY_MODEL_e02bd24c20984f109bfb4915929c20f8"
            ]
          }
        },
        "ed22c61332c7410b826ac46d6289fafa": {
          "model_module": "@jupyter-widgets/base",
          "model_name": "LayoutModel",
          "model_module_version": "1.2.0",
          "state": {
            "_view_name": "LayoutView",
            "grid_template_rows": null,
            "right": null,
            "justify_content": null,
            "_view_module": "@jupyter-widgets/base",
            "overflow": null,
            "_model_module_version": "1.2.0",
            "_view_count": null,
            "flex_flow": null,
            "width": null,
            "min_width": null,
            "border": null,
            "align_items": null,
            "bottom": null,
            "_model_module": "@jupyter-widgets/base",
            "top": null,
            "grid_column": null,
            "overflow_y": null,
            "overflow_x": null,
            "grid_auto_flow": null,
            "grid_area": null,
            "grid_template_columns": null,
            "flex": null,
            "_model_name": "LayoutModel",
            "justify_items": null,
            "grid_row": null,
            "max_height": null,
            "align_content": null,
            "visibility": null,
            "align_self": null,
            "height": null,
            "min_height": null,
            "padding": null,
            "grid_auto_rows": null,
            "grid_gap": null,
            "max_width": null,
            "order": null,
            "_view_module_version": "1.2.0",
            "grid_template_areas": null,
            "object_position": null,
            "object_fit": null,
            "grid_auto_columns": null,
            "margin": null,
            "display": null,
            "left": null
          }
        },
        "0b7b64cdc2fe46da95d3258b4bbca1de": {
          "model_module": "@jupyter-widgets/controls",
          "model_name": "HTMLModel",
          "model_module_version": "1.5.0",
          "state": {
            "_view_name": "HTMLView",
            "style": "IPY_MODEL_3d967ba16ce64cc98186b2e33cdfd15d",
            "_dom_classes": [],
            "description": "",
            "_model_name": "HTMLModel",
            "placeholder": "​",
            "_view_module": "@jupyter-widgets/controls",
            "_model_module_version": "1.5.0",
            "value": "",
            "_view_count": null,
            "_view_module_version": "1.5.0",
            "description_tooltip": null,
            "_model_module": "@jupyter-widgets/controls",
            "layout": "IPY_MODEL_3f752ef90be147b098c59ea44c7e5e73"
          }
        },
        "67056eccd3e047e2887c35a6f58ad418": {
          "model_module": "@jupyter-widgets/controls",
          "model_name": "FloatProgressModel",
          "model_module_version": "1.5.0",
          "state": {
            "_view_name": "ProgressView",
            "style": "IPY_MODEL_d519c078636a489d9a7609294df8c936",
            "_dom_classes": [],
            "description": "",
            "_model_name": "FloatProgressModel",
            "bar_style": "success",
            "max": 26421880,
            "_view_module": "@jupyter-widgets/controls",
            "_model_module_version": "1.5.0",
            "value": 26421880,
            "_view_count": null,
            "_view_module_version": "1.5.0",
            "orientation": "horizontal",
            "min": 0,
            "description_tooltip": null,
            "_model_module": "@jupyter-widgets/controls",
            "layout": "IPY_MODEL_05a1fbb0681c40b991399d3a200de230"
          }
        },
        "e02bd24c20984f109bfb4915929c20f8": {
          "model_module": "@jupyter-widgets/controls",
          "model_name": "HTMLModel",
          "model_module_version": "1.5.0",
          "state": {
            "_view_name": "HTMLView",
            "style": "IPY_MODEL_d12d51e502eb45649e9416c3287b1527",
            "_dom_classes": [],
            "description": "",
            "_model_name": "HTMLModel",
            "placeholder": "​",
            "_view_module": "@jupyter-widgets/controls",
            "_model_module_version": "1.5.0",
            "value": " 26422272/? [00:04&lt;00:00, 9326251.64it/s]",
            "_view_count": null,
            "_view_module_version": "1.5.0",
            "description_tooltip": null,
            "_model_module": "@jupyter-widgets/controls",
            "layout": "IPY_MODEL_25b6ea7f75bb481eac90f17515cf0ec7"
          }
        },
        "3d967ba16ce64cc98186b2e33cdfd15d": {
          "model_module": "@jupyter-widgets/controls",
          "model_name": "DescriptionStyleModel",
          "model_module_version": "1.5.0",
          "state": {
            "_view_name": "StyleView",
            "_model_name": "DescriptionStyleModel",
            "description_width": "",
            "_view_module": "@jupyter-widgets/base",
            "_model_module_version": "1.5.0",
            "_view_count": null,
            "_view_module_version": "1.2.0",
            "_model_module": "@jupyter-widgets/controls"
          }
        },
        "3f752ef90be147b098c59ea44c7e5e73": {
          "model_module": "@jupyter-widgets/base",
          "model_name": "LayoutModel",
          "model_module_version": "1.2.0",
          "state": {
            "_view_name": "LayoutView",
            "grid_template_rows": null,
            "right": null,
            "justify_content": null,
            "_view_module": "@jupyter-widgets/base",
            "overflow": null,
            "_model_module_version": "1.2.0",
            "_view_count": null,
            "flex_flow": null,
            "width": null,
            "min_width": null,
            "border": null,
            "align_items": null,
            "bottom": null,
            "_model_module": "@jupyter-widgets/base",
            "top": null,
            "grid_column": null,
            "overflow_y": null,
            "overflow_x": null,
            "grid_auto_flow": null,
            "grid_area": null,
            "grid_template_columns": null,
            "flex": null,
            "_model_name": "LayoutModel",
            "justify_items": null,
            "grid_row": null,
            "max_height": null,
            "align_content": null,
            "visibility": null,
            "align_self": null,
            "height": null,
            "min_height": null,
            "padding": null,
            "grid_auto_rows": null,
            "grid_gap": null,
            "max_width": null,
            "order": null,
            "_view_module_version": "1.2.0",
            "grid_template_areas": null,
            "object_position": null,
            "object_fit": null,
            "grid_auto_columns": null,
            "margin": null,
            "display": null,
            "left": null
          }
        },
        "d519c078636a489d9a7609294df8c936": {
          "model_module": "@jupyter-widgets/controls",
          "model_name": "ProgressStyleModel",
          "model_module_version": "1.5.0",
          "state": {
            "_view_name": "StyleView",
            "_model_name": "ProgressStyleModel",
            "description_width": "",
            "_view_module": "@jupyter-widgets/base",
            "_model_module_version": "1.5.0",
            "_view_count": null,
            "_view_module_version": "1.2.0",
            "bar_color": null,
            "_model_module": "@jupyter-widgets/controls"
          }
        },
        "05a1fbb0681c40b991399d3a200de230": {
          "model_module": "@jupyter-widgets/base",
          "model_name": "LayoutModel",
          "model_module_version": "1.2.0",
          "state": {
            "_view_name": "LayoutView",
            "grid_template_rows": null,
            "right": null,
            "justify_content": null,
            "_view_module": "@jupyter-widgets/base",
            "overflow": null,
            "_model_module_version": "1.2.0",
            "_view_count": null,
            "flex_flow": null,
            "width": null,
            "min_width": null,
            "border": null,
            "align_items": null,
            "bottom": null,
            "_model_module": "@jupyter-widgets/base",
            "top": null,
            "grid_column": null,
            "overflow_y": null,
            "overflow_x": null,
            "grid_auto_flow": null,
            "grid_area": null,
            "grid_template_columns": null,
            "flex": null,
            "_model_name": "LayoutModel",
            "justify_items": null,
            "grid_row": null,
            "max_height": null,
            "align_content": null,
            "visibility": null,
            "align_self": null,
            "height": null,
            "min_height": null,
            "padding": null,
            "grid_auto_rows": null,
            "grid_gap": null,
            "max_width": null,
            "order": null,
            "_view_module_version": "1.2.0",
            "grid_template_areas": null,
            "object_position": null,
            "object_fit": null,
            "grid_auto_columns": null,
            "margin": null,
            "display": null,
            "left": null
          }
        },
        "d12d51e502eb45649e9416c3287b1527": {
          "model_module": "@jupyter-widgets/controls",
          "model_name": "DescriptionStyleModel",
          "model_module_version": "1.5.0",
          "state": {
            "_view_name": "StyleView",
            "_model_name": "DescriptionStyleModel",
            "description_width": "",
            "_view_module": "@jupyter-widgets/base",
            "_model_module_version": "1.5.0",
            "_view_count": null,
            "_view_module_version": "1.2.0",
            "_model_module": "@jupyter-widgets/controls"
          }
        },
        "25b6ea7f75bb481eac90f17515cf0ec7": {
          "model_module": "@jupyter-widgets/base",
          "model_name": "LayoutModel",
          "model_module_version": "1.2.0",
          "state": {
            "_view_name": "LayoutView",
            "grid_template_rows": null,
            "right": null,
            "justify_content": null,
            "_view_module": "@jupyter-widgets/base",
            "overflow": null,
            "_model_module_version": "1.2.0",
            "_view_count": null,
            "flex_flow": null,
            "width": null,
            "min_width": null,
            "border": null,
            "align_items": null,
            "bottom": null,
            "_model_module": "@jupyter-widgets/base",
            "top": null,
            "grid_column": null,
            "overflow_y": null,
            "overflow_x": null,
            "grid_auto_flow": null,
            "grid_area": null,
            "grid_template_columns": null,
            "flex": null,
            "_model_name": "LayoutModel",
            "justify_items": null,
            "grid_row": null,
            "max_height": null,
            "align_content": null,
            "visibility": null,
            "align_self": null,
            "height": null,
            "min_height": null,
            "padding": null,
            "grid_auto_rows": null,
            "grid_gap": null,
            "max_width": null,
            "order": null,
            "_view_module_version": "1.2.0",
            "grid_template_areas": null,
            "object_position": null,
            "object_fit": null,
            "grid_auto_columns": null,
            "margin": null,
            "display": null,
            "left": null
          }
        },
        "de7a808fa3e84b809555c2c09a8349ee": {
          "model_module": "@jupyter-widgets/controls",
          "model_name": "HBoxModel",
          "model_module_version": "1.5.0",
          "state": {
            "_view_name": "HBoxView",
            "_dom_classes": [],
            "_model_name": "HBoxModel",
            "_view_module": "@jupyter-widgets/controls",
            "_model_module_version": "1.5.0",
            "_view_count": null,
            "_view_module_version": "1.5.0",
            "box_style": "",
            "layout": "IPY_MODEL_bf3bdca007344f48ad9fc1ccae0a1886",
            "_model_module": "@jupyter-widgets/controls",
            "children": [
              "IPY_MODEL_a0a662a5542b405fbd7e78f9b555538a",
              "IPY_MODEL_7f1e4889b1a6496a99aa13809bdd20ea",
              "IPY_MODEL_94cdde3fdada4dc9acb19e3b2515e1be"
            ]
          }
        },
        "bf3bdca007344f48ad9fc1ccae0a1886": {
          "model_module": "@jupyter-widgets/base",
          "model_name": "LayoutModel",
          "model_module_version": "1.2.0",
          "state": {
            "_view_name": "LayoutView",
            "grid_template_rows": null,
            "right": null,
            "justify_content": null,
            "_view_module": "@jupyter-widgets/base",
            "overflow": null,
            "_model_module_version": "1.2.0",
            "_view_count": null,
            "flex_flow": null,
            "width": null,
            "min_width": null,
            "border": null,
            "align_items": null,
            "bottom": null,
            "_model_module": "@jupyter-widgets/base",
            "top": null,
            "grid_column": null,
            "overflow_y": null,
            "overflow_x": null,
            "grid_auto_flow": null,
            "grid_area": null,
            "grid_template_columns": null,
            "flex": null,
            "_model_name": "LayoutModel",
            "justify_items": null,
            "grid_row": null,
            "max_height": null,
            "align_content": null,
            "visibility": null,
            "align_self": null,
            "height": null,
            "min_height": null,
            "padding": null,
            "grid_auto_rows": null,
            "grid_gap": null,
            "max_width": null,
            "order": null,
            "_view_module_version": "1.2.0",
            "grid_template_areas": null,
            "object_position": null,
            "object_fit": null,
            "grid_auto_columns": null,
            "margin": null,
            "display": null,
            "left": null
          }
        },
        "a0a662a5542b405fbd7e78f9b555538a": {
          "model_module": "@jupyter-widgets/controls",
          "model_name": "HTMLModel",
          "model_module_version": "1.5.0",
          "state": {
            "_view_name": "HTMLView",
            "style": "IPY_MODEL_f94d42364610479488cf9ca0bdef69cb",
            "_dom_classes": [],
            "description": "",
            "_model_name": "HTMLModel",
            "placeholder": "​",
            "_view_module": "@jupyter-widgets/controls",
            "_model_module_version": "1.5.0",
            "value": "",
            "_view_count": null,
            "_view_module_version": "1.5.0",
            "description_tooltip": null,
            "_model_module": "@jupyter-widgets/controls",
            "layout": "IPY_MODEL_ee759bafb1d84c79a51c8a2ffb7368cb"
          }
        },
        "7f1e4889b1a6496a99aa13809bdd20ea": {
          "model_module": "@jupyter-widgets/controls",
          "model_name": "FloatProgressModel",
          "model_module_version": "1.5.0",
          "state": {
            "_view_name": "ProgressView",
            "style": "IPY_MODEL_c7cd7241dacf42388f6382f0e0848ba7",
            "_dom_classes": [],
            "description": "",
            "_model_name": "FloatProgressModel",
            "bar_style": "success",
            "max": 29515,
            "_view_module": "@jupyter-widgets/controls",
            "_model_module_version": "1.5.0",
            "value": 29515,
            "_view_count": null,
            "_view_module_version": "1.5.0",
            "orientation": "horizontal",
            "min": 0,
            "description_tooltip": null,
            "_model_module": "@jupyter-widgets/controls",
            "layout": "IPY_MODEL_90b9d765db9148f1b33e0857c28abeb5"
          }
        },
        "94cdde3fdada4dc9acb19e3b2515e1be": {
          "model_module": "@jupyter-widgets/controls",
          "model_name": "HTMLModel",
          "model_module_version": "1.5.0",
          "state": {
            "_view_name": "HTMLView",
            "style": "IPY_MODEL_62f0c2e1fcd74b04bca242f0a019baf3",
            "_dom_classes": [],
            "description": "",
            "_model_name": "HTMLModel",
            "placeholder": "​",
            "_view_module": "@jupyter-widgets/controls",
            "_model_module_version": "1.5.0",
            "value": " 29696/? [00:00&lt;00:00, 56185.33it/s]",
            "_view_count": null,
            "_view_module_version": "1.5.0",
            "description_tooltip": null,
            "_model_module": "@jupyter-widgets/controls",
            "layout": "IPY_MODEL_87f5d14a6f4c425f9722eb2f6f9848fe"
          }
        },
        "f94d42364610479488cf9ca0bdef69cb": {
          "model_module": "@jupyter-widgets/controls",
          "model_name": "DescriptionStyleModel",
          "model_module_version": "1.5.0",
          "state": {
            "_view_name": "StyleView",
            "_model_name": "DescriptionStyleModel",
            "description_width": "",
            "_view_module": "@jupyter-widgets/base",
            "_model_module_version": "1.5.0",
            "_view_count": null,
            "_view_module_version": "1.2.0",
            "_model_module": "@jupyter-widgets/controls"
          }
        },
        "ee759bafb1d84c79a51c8a2ffb7368cb": {
          "model_module": "@jupyter-widgets/base",
          "model_name": "LayoutModel",
          "model_module_version": "1.2.0",
          "state": {
            "_view_name": "LayoutView",
            "grid_template_rows": null,
            "right": null,
            "justify_content": null,
            "_view_module": "@jupyter-widgets/base",
            "overflow": null,
            "_model_module_version": "1.2.0",
            "_view_count": null,
            "flex_flow": null,
            "width": null,
            "min_width": null,
            "border": null,
            "align_items": null,
            "bottom": null,
            "_model_module": "@jupyter-widgets/base",
            "top": null,
            "grid_column": null,
            "overflow_y": null,
            "overflow_x": null,
            "grid_auto_flow": null,
            "grid_area": null,
            "grid_template_columns": null,
            "flex": null,
            "_model_name": "LayoutModel",
            "justify_items": null,
            "grid_row": null,
            "max_height": null,
            "align_content": null,
            "visibility": null,
            "align_self": null,
            "height": null,
            "min_height": null,
            "padding": null,
            "grid_auto_rows": null,
            "grid_gap": null,
            "max_width": null,
            "order": null,
            "_view_module_version": "1.2.0",
            "grid_template_areas": null,
            "object_position": null,
            "object_fit": null,
            "grid_auto_columns": null,
            "margin": null,
            "display": null,
            "left": null
          }
        },
        "c7cd7241dacf42388f6382f0e0848ba7": {
          "model_module": "@jupyter-widgets/controls",
          "model_name": "ProgressStyleModel",
          "model_module_version": "1.5.0",
          "state": {
            "_view_name": "StyleView",
            "_model_name": "ProgressStyleModel",
            "description_width": "",
            "_view_module": "@jupyter-widgets/base",
            "_model_module_version": "1.5.0",
            "_view_count": null,
            "_view_module_version": "1.2.0",
            "bar_color": null,
            "_model_module": "@jupyter-widgets/controls"
          }
        },
        "90b9d765db9148f1b33e0857c28abeb5": {
          "model_module": "@jupyter-widgets/base",
          "model_name": "LayoutModel",
          "model_module_version": "1.2.0",
          "state": {
            "_view_name": "LayoutView",
            "grid_template_rows": null,
            "right": null,
            "justify_content": null,
            "_view_module": "@jupyter-widgets/base",
            "overflow": null,
            "_model_module_version": "1.2.0",
            "_view_count": null,
            "flex_flow": null,
            "width": null,
            "min_width": null,
            "border": null,
            "align_items": null,
            "bottom": null,
            "_model_module": "@jupyter-widgets/base",
            "top": null,
            "grid_column": null,
            "overflow_y": null,
            "overflow_x": null,
            "grid_auto_flow": null,
            "grid_area": null,
            "grid_template_columns": null,
            "flex": null,
            "_model_name": "LayoutModel",
            "justify_items": null,
            "grid_row": null,
            "max_height": null,
            "align_content": null,
            "visibility": null,
            "align_self": null,
            "height": null,
            "min_height": null,
            "padding": null,
            "grid_auto_rows": null,
            "grid_gap": null,
            "max_width": null,
            "order": null,
            "_view_module_version": "1.2.0",
            "grid_template_areas": null,
            "object_position": null,
            "object_fit": null,
            "grid_auto_columns": null,
            "margin": null,
            "display": null,
            "left": null
          }
        },
        "62f0c2e1fcd74b04bca242f0a019baf3": {
          "model_module": "@jupyter-widgets/controls",
          "model_name": "DescriptionStyleModel",
          "model_module_version": "1.5.0",
          "state": {
            "_view_name": "StyleView",
            "_model_name": "DescriptionStyleModel",
            "description_width": "",
            "_view_module": "@jupyter-widgets/base",
            "_model_module_version": "1.5.0",
            "_view_count": null,
            "_view_module_version": "1.2.0",
            "_model_module": "@jupyter-widgets/controls"
          }
        },
        "87f5d14a6f4c425f9722eb2f6f9848fe": {
          "model_module": "@jupyter-widgets/base",
          "model_name": "LayoutModel",
          "model_module_version": "1.2.0",
          "state": {
            "_view_name": "LayoutView",
            "grid_template_rows": null,
            "right": null,
            "justify_content": null,
            "_view_module": "@jupyter-widgets/base",
            "overflow": null,
            "_model_module_version": "1.2.0",
            "_view_count": null,
            "flex_flow": null,
            "width": null,
            "min_width": null,
            "border": null,
            "align_items": null,
            "bottom": null,
            "_model_module": "@jupyter-widgets/base",
            "top": null,
            "grid_column": null,
            "overflow_y": null,
            "overflow_x": null,
            "grid_auto_flow": null,
            "grid_area": null,
            "grid_template_columns": null,
            "flex": null,
            "_model_name": "LayoutModel",
            "justify_items": null,
            "grid_row": null,
            "max_height": null,
            "align_content": null,
            "visibility": null,
            "align_self": null,
            "height": null,
            "min_height": null,
            "padding": null,
            "grid_auto_rows": null,
            "grid_gap": null,
            "max_width": null,
            "order": null,
            "_view_module_version": "1.2.0",
            "grid_template_areas": null,
            "object_position": null,
            "object_fit": null,
            "grid_auto_columns": null,
            "margin": null,
            "display": null,
            "left": null
          }
        },
        "95650461051f44f1b41362cd2f33ff38": {
          "model_module": "@jupyter-widgets/controls",
          "model_name": "HBoxModel",
          "model_module_version": "1.5.0",
          "state": {
            "_view_name": "HBoxView",
            "_dom_classes": [],
            "_model_name": "HBoxModel",
            "_view_module": "@jupyter-widgets/controls",
            "_model_module_version": "1.5.0",
            "_view_count": null,
            "_view_module_version": "1.5.0",
            "box_style": "",
            "layout": "IPY_MODEL_f7c7dafb72fe46fea05cdcad7136c0f8",
            "_model_module": "@jupyter-widgets/controls",
            "children": [
              "IPY_MODEL_f4bb6e66ace04d2fba231ad81a4ee1f3",
              "IPY_MODEL_d8ae39c3343644e9aa608838156235f3",
              "IPY_MODEL_93c400fc23934c71af31be2c9a222e20"
            ]
          }
        },
        "f7c7dafb72fe46fea05cdcad7136c0f8": {
          "model_module": "@jupyter-widgets/base",
          "model_name": "LayoutModel",
          "model_module_version": "1.2.0",
          "state": {
            "_view_name": "LayoutView",
            "grid_template_rows": null,
            "right": null,
            "justify_content": null,
            "_view_module": "@jupyter-widgets/base",
            "overflow": null,
            "_model_module_version": "1.2.0",
            "_view_count": null,
            "flex_flow": null,
            "width": null,
            "min_width": null,
            "border": null,
            "align_items": null,
            "bottom": null,
            "_model_module": "@jupyter-widgets/base",
            "top": null,
            "grid_column": null,
            "overflow_y": null,
            "overflow_x": null,
            "grid_auto_flow": null,
            "grid_area": null,
            "grid_template_columns": null,
            "flex": null,
            "_model_name": "LayoutModel",
            "justify_items": null,
            "grid_row": null,
            "max_height": null,
            "align_content": null,
            "visibility": null,
            "align_self": null,
            "height": null,
            "min_height": null,
            "padding": null,
            "grid_auto_rows": null,
            "grid_gap": null,
            "max_width": null,
            "order": null,
            "_view_module_version": "1.2.0",
            "grid_template_areas": null,
            "object_position": null,
            "object_fit": null,
            "grid_auto_columns": null,
            "margin": null,
            "display": null,
            "left": null
          }
        },
        "f4bb6e66ace04d2fba231ad81a4ee1f3": {
          "model_module": "@jupyter-widgets/controls",
          "model_name": "HTMLModel",
          "model_module_version": "1.5.0",
          "state": {
            "_view_name": "HTMLView",
            "style": "IPY_MODEL_2eeaa98e6b9142e78a652d75d4d03c86",
            "_dom_classes": [],
            "description": "",
            "_model_name": "HTMLModel",
            "placeholder": "​",
            "_view_module": "@jupyter-widgets/controls",
            "_model_module_version": "1.5.0",
            "value": "",
            "_view_count": null,
            "_view_module_version": "1.5.0",
            "description_tooltip": null,
            "_model_module": "@jupyter-widgets/controls",
            "layout": "IPY_MODEL_deede1f3d09a41fba6badb43b30209ed"
          }
        },
        "d8ae39c3343644e9aa608838156235f3": {
          "model_module": "@jupyter-widgets/controls",
          "model_name": "FloatProgressModel",
          "model_module_version": "1.5.0",
          "state": {
            "_view_name": "ProgressView",
            "style": "IPY_MODEL_a381ebfd5f4a47fd9a5b35225fc24af9",
            "_dom_classes": [],
            "description": "",
            "_model_name": "FloatProgressModel",
            "bar_style": "success",
            "max": 4422102,
            "_view_module": "@jupyter-widgets/controls",
            "_model_module_version": "1.5.0",
            "value": 4422102,
            "_view_count": null,
            "_view_module_version": "1.5.0",
            "orientation": "horizontal",
            "min": 0,
            "description_tooltip": null,
            "_model_module": "@jupyter-widgets/controls",
            "layout": "IPY_MODEL_2f6425c2e6144177ba97f93c4508b7e4"
          }
        },
        "93c400fc23934c71af31be2c9a222e20": {
          "model_module": "@jupyter-widgets/controls",
          "model_name": "HTMLModel",
          "model_module_version": "1.5.0",
          "state": {
            "_view_name": "HTMLView",
            "style": "IPY_MODEL_4b6c133e699c441384b4dc03d9235fab",
            "_dom_classes": [],
            "description": "",
            "_model_name": "HTMLModel",
            "placeholder": "​",
            "_view_module": "@jupyter-widgets/controls",
            "_model_module_version": "1.5.0",
            "value": " 4422656/? [00:02&lt;00:00, 3923560.72it/s]",
            "_view_count": null,
            "_view_module_version": "1.5.0",
            "description_tooltip": null,
            "_model_module": "@jupyter-widgets/controls",
            "layout": "IPY_MODEL_be4bd6ffd7f74092b34d3100f8752cbc"
          }
        },
        "2eeaa98e6b9142e78a652d75d4d03c86": {
          "model_module": "@jupyter-widgets/controls",
          "model_name": "DescriptionStyleModel",
          "model_module_version": "1.5.0",
          "state": {
            "_view_name": "StyleView",
            "_model_name": "DescriptionStyleModel",
            "description_width": "",
            "_view_module": "@jupyter-widgets/base",
            "_model_module_version": "1.5.0",
            "_view_count": null,
            "_view_module_version": "1.2.0",
            "_model_module": "@jupyter-widgets/controls"
          }
        },
        "deede1f3d09a41fba6badb43b30209ed": {
          "model_module": "@jupyter-widgets/base",
          "model_name": "LayoutModel",
          "model_module_version": "1.2.0",
          "state": {
            "_view_name": "LayoutView",
            "grid_template_rows": null,
            "right": null,
            "justify_content": null,
            "_view_module": "@jupyter-widgets/base",
            "overflow": null,
            "_model_module_version": "1.2.0",
            "_view_count": null,
            "flex_flow": null,
            "width": null,
            "min_width": null,
            "border": null,
            "align_items": null,
            "bottom": null,
            "_model_module": "@jupyter-widgets/base",
            "top": null,
            "grid_column": null,
            "overflow_y": null,
            "overflow_x": null,
            "grid_auto_flow": null,
            "grid_area": null,
            "grid_template_columns": null,
            "flex": null,
            "_model_name": "LayoutModel",
            "justify_items": null,
            "grid_row": null,
            "max_height": null,
            "align_content": null,
            "visibility": null,
            "align_self": null,
            "height": null,
            "min_height": null,
            "padding": null,
            "grid_auto_rows": null,
            "grid_gap": null,
            "max_width": null,
            "order": null,
            "_view_module_version": "1.2.0",
            "grid_template_areas": null,
            "object_position": null,
            "object_fit": null,
            "grid_auto_columns": null,
            "margin": null,
            "display": null,
            "left": null
          }
        },
        "a381ebfd5f4a47fd9a5b35225fc24af9": {
          "model_module": "@jupyter-widgets/controls",
          "model_name": "ProgressStyleModel",
          "model_module_version": "1.5.0",
          "state": {
            "_view_name": "StyleView",
            "_model_name": "ProgressStyleModel",
            "description_width": "",
            "_view_module": "@jupyter-widgets/base",
            "_model_module_version": "1.5.0",
            "_view_count": null,
            "_view_module_version": "1.2.0",
            "bar_color": null,
            "_model_module": "@jupyter-widgets/controls"
          }
        },
        "2f6425c2e6144177ba97f93c4508b7e4": {
          "model_module": "@jupyter-widgets/base",
          "model_name": "LayoutModel",
          "model_module_version": "1.2.0",
          "state": {
            "_view_name": "LayoutView",
            "grid_template_rows": null,
            "right": null,
            "justify_content": null,
            "_view_module": "@jupyter-widgets/base",
            "overflow": null,
            "_model_module_version": "1.2.0",
            "_view_count": null,
            "flex_flow": null,
            "width": null,
            "min_width": null,
            "border": null,
            "align_items": null,
            "bottom": null,
            "_model_module": "@jupyter-widgets/base",
            "top": null,
            "grid_column": null,
            "overflow_y": null,
            "overflow_x": null,
            "grid_auto_flow": null,
            "grid_area": null,
            "grid_template_columns": null,
            "flex": null,
            "_model_name": "LayoutModel",
            "justify_items": null,
            "grid_row": null,
            "max_height": null,
            "align_content": null,
            "visibility": null,
            "align_self": null,
            "height": null,
            "min_height": null,
            "padding": null,
            "grid_auto_rows": null,
            "grid_gap": null,
            "max_width": null,
            "order": null,
            "_view_module_version": "1.2.0",
            "grid_template_areas": null,
            "object_position": null,
            "object_fit": null,
            "grid_auto_columns": null,
            "margin": null,
            "display": null,
            "left": null
          }
        },
        "4b6c133e699c441384b4dc03d9235fab": {
          "model_module": "@jupyter-widgets/controls",
          "model_name": "DescriptionStyleModel",
          "model_module_version": "1.5.0",
          "state": {
            "_view_name": "StyleView",
            "_model_name": "DescriptionStyleModel",
            "description_width": "",
            "_view_module": "@jupyter-widgets/base",
            "_model_module_version": "1.5.0",
            "_view_count": null,
            "_view_module_version": "1.2.0",
            "_model_module": "@jupyter-widgets/controls"
          }
        },
        "be4bd6ffd7f74092b34d3100f8752cbc": {
          "model_module": "@jupyter-widgets/base",
          "model_name": "LayoutModel",
          "model_module_version": "1.2.0",
          "state": {
            "_view_name": "LayoutView",
            "grid_template_rows": null,
            "right": null,
            "justify_content": null,
            "_view_module": "@jupyter-widgets/base",
            "overflow": null,
            "_model_module_version": "1.2.0",
            "_view_count": null,
            "flex_flow": null,
            "width": null,
            "min_width": null,
            "border": null,
            "align_items": null,
            "bottom": null,
            "_model_module": "@jupyter-widgets/base",
            "top": null,
            "grid_column": null,
            "overflow_y": null,
            "overflow_x": null,
            "grid_auto_flow": null,
            "grid_area": null,
            "grid_template_columns": null,
            "flex": null,
            "_model_name": "LayoutModel",
            "justify_items": null,
            "grid_row": null,
            "max_height": null,
            "align_content": null,
            "visibility": null,
            "align_self": null,
            "height": null,
            "min_height": null,
            "padding": null,
            "grid_auto_rows": null,
            "grid_gap": null,
            "max_width": null,
            "order": null,
            "_view_module_version": "1.2.0",
            "grid_template_areas": null,
            "object_position": null,
            "object_fit": null,
            "grid_auto_columns": null,
            "margin": null,
            "display": null,
            "left": null
          }
        },
        "ee38b768af064c98a49e999efff4b4c9": {
          "model_module": "@jupyter-widgets/controls",
          "model_name": "HBoxModel",
          "model_module_version": "1.5.0",
          "state": {
            "_view_name": "HBoxView",
            "_dom_classes": [],
            "_model_name": "HBoxModel",
            "_view_module": "@jupyter-widgets/controls",
            "_model_module_version": "1.5.0",
            "_view_count": null,
            "_view_module_version": "1.5.0",
            "box_style": "",
            "layout": "IPY_MODEL_82ffac1ab90740e3875f6df3b78bd58a",
            "_model_module": "@jupyter-widgets/controls",
            "children": [
              "IPY_MODEL_a49bc1e5c1684bd182fbac13f2df56cf",
              "IPY_MODEL_60ccd9c1cea34c5c8509306f28812b04",
              "IPY_MODEL_75daf5da06444d4d9c247e64dd2f4a9a"
            ]
          }
        },
        "82ffac1ab90740e3875f6df3b78bd58a": {
          "model_module": "@jupyter-widgets/base",
          "model_name": "LayoutModel",
          "model_module_version": "1.2.0",
          "state": {
            "_view_name": "LayoutView",
            "grid_template_rows": null,
            "right": null,
            "justify_content": null,
            "_view_module": "@jupyter-widgets/base",
            "overflow": null,
            "_model_module_version": "1.2.0",
            "_view_count": null,
            "flex_flow": null,
            "width": null,
            "min_width": null,
            "border": null,
            "align_items": null,
            "bottom": null,
            "_model_module": "@jupyter-widgets/base",
            "top": null,
            "grid_column": null,
            "overflow_y": null,
            "overflow_x": null,
            "grid_auto_flow": null,
            "grid_area": null,
            "grid_template_columns": null,
            "flex": null,
            "_model_name": "LayoutModel",
            "justify_items": null,
            "grid_row": null,
            "max_height": null,
            "align_content": null,
            "visibility": null,
            "align_self": null,
            "height": null,
            "min_height": null,
            "padding": null,
            "grid_auto_rows": null,
            "grid_gap": null,
            "max_width": null,
            "order": null,
            "_view_module_version": "1.2.0",
            "grid_template_areas": null,
            "object_position": null,
            "object_fit": null,
            "grid_auto_columns": null,
            "margin": null,
            "display": null,
            "left": null
          }
        },
        "a49bc1e5c1684bd182fbac13f2df56cf": {
          "model_module": "@jupyter-widgets/controls",
          "model_name": "HTMLModel",
          "model_module_version": "1.5.0",
          "state": {
            "_view_name": "HTMLView",
            "style": "IPY_MODEL_b3daf82d432e429f951c93f9f93fea48",
            "_dom_classes": [],
            "description": "",
            "_model_name": "HTMLModel",
            "placeholder": "​",
            "_view_module": "@jupyter-widgets/controls",
            "_model_module_version": "1.5.0",
            "value": "",
            "_view_count": null,
            "_view_module_version": "1.5.0",
            "description_tooltip": null,
            "_model_module": "@jupyter-widgets/controls",
            "layout": "IPY_MODEL_3f02dc35186c4ad5b0984f7cc3a62a83"
          }
        },
        "60ccd9c1cea34c5c8509306f28812b04": {
          "model_module": "@jupyter-widgets/controls",
          "model_name": "FloatProgressModel",
          "model_module_version": "1.5.0",
          "state": {
            "_view_name": "ProgressView",
            "style": "IPY_MODEL_8c02da98b4a94941a00bdbffccdd3fd8",
            "_dom_classes": [],
            "description": "",
            "_model_name": "FloatProgressModel",
            "bar_style": "success",
            "max": 5148,
            "_view_module": "@jupyter-widgets/controls",
            "_model_module_version": "1.5.0",
            "value": 5148,
            "_view_count": null,
            "_view_module_version": "1.5.0",
            "orientation": "horizontal",
            "min": 0,
            "description_tooltip": null,
            "_model_module": "@jupyter-widgets/controls",
            "layout": "IPY_MODEL_8fd38983bb2c4e0aaafab08170f4bb18"
          }
        },
        "75daf5da06444d4d9c247e64dd2f4a9a": {
          "model_module": "@jupyter-widgets/controls",
          "model_name": "HTMLModel",
          "model_module_version": "1.5.0",
          "state": {
            "_view_name": "HTMLView",
            "style": "IPY_MODEL_06eb47001b9846a7af8531e774cd7fc5",
            "_dom_classes": [],
            "description": "",
            "_model_name": "HTMLModel",
            "placeholder": "​",
            "_view_module": "@jupyter-widgets/controls",
            "_model_module_version": "1.5.0",
            "value": " 6144/? [00:00&lt;00:00, 159278.35it/s]",
            "_view_count": null,
            "_view_module_version": "1.5.0",
            "description_tooltip": null,
            "_model_module": "@jupyter-widgets/controls",
            "layout": "IPY_MODEL_8b3ed28ed4094d36aa3e01d52cd9f341"
          }
        },
        "b3daf82d432e429f951c93f9f93fea48": {
          "model_module": "@jupyter-widgets/controls",
          "model_name": "DescriptionStyleModel",
          "model_module_version": "1.5.0",
          "state": {
            "_view_name": "StyleView",
            "_model_name": "DescriptionStyleModel",
            "description_width": "",
            "_view_module": "@jupyter-widgets/base",
            "_model_module_version": "1.5.0",
            "_view_count": null,
            "_view_module_version": "1.2.0",
            "_model_module": "@jupyter-widgets/controls"
          }
        },
        "3f02dc35186c4ad5b0984f7cc3a62a83": {
          "model_module": "@jupyter-widgets/base",
          "model_name": "LayoutModel",
          "model_module_version": "1.2.0",
          "state": {
            "_view_name": "LayoutView",
            "grid_template_rows": null,
            "right": null,
            "justify_content": null,
            "_view_module": "@jupyter-widgets/base",
            "overflow": null,
            "_model_module_version": "1.2.0",
            "_view_count": null,
            "flex_flow": null,
            "width": null,
            "min_width": null,
            "border": null,
            "align_items": null,
            "bottom": null,
            "_model_module": "@jupyter-widgets/base",
            "top": null,
            "grid_column": null,
            "overflow_y": null,
            "overflow_x": null,
            "grid_auto_flow": null,
            "grid_area": null,
            "grid_template_columns": null,
            "flex": null,
            "_model_name": "LayoutModel",
            "justify_items": null,
            "grid_row": null,
            "max_height": null,
            "align_content": null,
            "visibility": null,
            "align_self": null,
            "height": null,
            "min_height": null,
            "padding": null,
            "grid_auto_rows": null,
            "grid_gap": null,
            "max_width": null,
            "order": null,
            "_view_module_version": "1.2.0",
            "grid_template_areas": null,
            "object_position": null,
            "object_fit": null,
            "grid_auto_columns": null,
            "margin": null,
            "display": null,
            "left": null
          }
        },
        "8c02da98b4a94941a00bdbffccdd3fd8": {
          "model_module": "@jupyter-widgets/controls",
          "model_name": "ProgressStyleModel",
          "model_module_version": "1.5.0",
          "state": {
            "_view_name": "StyleView",
            "_model_name": "ProgressStyleModel",
            "description_width": "",
            "_view_module": "@jupyter-widgets/base",
            "_model_module_version": "1.5.0",
            "_view_count": null,
            "_view_module_version": "1.2.0",
            "bar_color": null,
            "_model_module": "@jupyter-widgets/controls"
          }
        },
        "8fd38983bb2c4e0aaafab08170f4bb18": {
          "model_module": "@jupyter-widgets/base",
          "model_name": "LayoutModel",
          "model_module_version": "1.2.0",
          "state": {
            "_view_name": "LayoutView",
            "grid_template_rows": null,
            "right": null,
            "justify_content": null,
            "_view_module": "@jupyter-widgets/base",
            "overflow": null,
            "_model_module_version": "1.2.0",
            "_view_count": null,
            "flex_flow": null,
            "width": null,
            "min_width": null,
            "border": null,
            "align_items": null,
            "bottom": null,
            "_model_module": "@jupyter-widgets/base",
            "top": null,
            "grid_column": null,
            "overflow_y": null,
            "overflow_x": null,
            "grid_auto_flow": null,
            "grid_area": null,
            "grid_template_columns": null,
            "flex": null,
            "_model_name": "LayoutModel",
            "justify_items": null,
            "grid_row": null,
            "max_height": null,
            "align_content": null,
            "visibility": null,
            "align_self": null,
            "height": null,
            "min_height": null,
            "padding": null,
            "grid_auto_rows": null,
            "grid_gap": null,
            "max_width": null,
            "order": null,
            "_view_module_version": "1.2.0",
            "grid_template_areas": null,
            "object_position": null,
            "object_fit": null,
            "grid_auto_columns": null,
            "margin": null,
            "display": null,
            "left": null
          }
        },
        "06eb47001b9846a7af8531e774cd7fc5": {
          "model_module": "@jupyter-widgets/controls",
          "model_name": "DescriptionStyleModel",
          "model_module_version": "1.5.0",
          "state": {
            "_view_name": "StyleView",
            "_model_name": "DescriptionStyleModel",
            "description_width": "",
            "_view_module": "@jupyter-widgets/base",
            "_model_module_version": "1.5.0",
            "_view_count": null,
            "_view_module_version": "1.2.0",
            "_model_module": "@jupyter-widgets/controls"
          }
        },
        "8b3ed28ed4094d36aa3e01d52cd9f341": {
          "model_module": "@jupyter-widgets/base",
          "model_name": "LayoutModel",
          "model_module_version": "1.2.0",
          "state": {
            "_view_name": "LayoutView",
            "grid_template_rows": null,
            "right": null,
            "justify_content": null,
            "_view_module": "@jupyter-widgets/base",
            "overflow": null,
            "_model_module_version": "1.2.0",
            "_view_count": null,
            "flex_flow": null,
            "width": null,
            "min_width": null,
            "border": null,
            "align_items": null,
            "bottom": null,
            "_model_module": "@jupyter-widgets/base",
            "top": null,
            "grid_column": null,
            "overflow_y": null,
            "overflow_x": null,
            "grid_auto_flow": null,
            "grid_area": null,
            "grid_template_columns": null,
            "flex": null,
            "_model_name": "LayoutModel",
            "justify_items": null,
            "grid_row": null,
            "max_height": null,
            "align_content": null,
            "visibility": null,
            "align_self": null,
            "height": null,
            "min_height": null,
            "padding": null,
            "grid_auto_rows": null,
            "grid_gap": null,
            "max_width": null,
            "order": null,
            "_view_module_version": "1.2.0",
            "grid_template_areas": null,
            "object_position": null,
            "object_fit": null,
            "grid_auto_columns": null,
            "margin": null,
            "display": null,
            "left": null
          }
        }
      }
    }
  },
  "cells": [
    {
      "cell_type": "code",
      "execution_count": 1,
      "metadata": {
        "id": "je0pD2TSICi6"
      },
      "outputs": [],
      "source": [
        "import torch\n",
        "import torchvision\n",
        "import torchvision.datasets as datasets\n",
        "import torchvision.transforms as transforms\n",
        "import torch.nn as nn\n",
        "import torch.nn.functional as F\n",
        "import torch.optim as optim\n",
        "import matplotlib \n",
        "import matplotlib.pyplot as plt\n",
        "import numpy as np\n",
        "import pandas as pd\n",
        "import random\n",
        "import math\n",
        "from torch.utils.data.sampler import SubsetRandomSampler"
      ]
    },
    {
      "cell_type": "code",
      "source": [
        "# Define a transform to normalize the data\n",
        "transform = transforms.Compose([transforms.ToTensor(), transforms.Normalize((0.1307,), (0.3081,))])\n",
        "\n",
        "# Download and load training data\n",
        "trainset = datasets.FashionMNIST('./data',download=True, train= True, transform=transform)\n",
        "trainloader = torch.utils.data.DataLoader(trainset, batch_size= 64, shuffle=True)\n",
        "\n",
        "# Download and load test data\n",
        "testset = datasets.FashionMNIST('./data',download=True, train= False, transform=transform)\n",
        "testloader = torch.utils.data.DataLoader(testset, batch_size= 64, shuffle=True)"
      ],
      "metadata": {
        "id": "fHXjbP9rIJv2",
        "colab": {
          "base_uri": "https://localhost:8080/",
          "height": 422,
          "referenced_widgets": [
            "8fc078f412c041bea0957517c35774a4",
            "ed22c61332c7410b826ac46d6289fafa",
            "0b7b64cdc2fe46da95d3258b4bbca1de",
            "67056eccd3e047e2887c35a6f58ad418",
            "e02bd24c20984f109bfb4915929c20f8",
            "3d967ba16ce64cc98186b2e33cdfd15d",
            "3f752ef90be147b098c59ea44c7e5e73",
            "d519c078636a489d9a7609294df8c936",
            "05a1fbb0681c40b991399d3a200de230",
            "d12d51e502eb45649e9416c3287b1527",
            "25b6ea7f75bb481eac90f17515cf0ec7",
            "de7a808fa3e84b809555c2c09a8349ee",
            "bf3bdca007344f48ad9fc1ccae0a1886",
            "a0a662a5542b405fbd7e78f9b555538a",
            "7f1e4889b1a6496a99aa13809bdd20ea",
            "94cdde3fdada4dc9acb19e3b2515e1be",
            "f94d42364610479488cf9ca0bdef69cb",
            "ee759bafb1d84c79a51c8a2ffb7368cb",
            "c7cd7241dacf42388f6382f0e0848ba7",
            "90b9d765db9148f1b33e0857c28abeb5",
            "62f0c2e1fcd74b04bca242f0a019baf3",
            "87f5d14a6f4c425f9722eb2f6f9848fe",
            "95650461051f44f1b41362cd2f33ff38",
            "f7c7dafb72fe46fea05cdcad7136c0f8",
            "f4bb6e66ace04d2fba231ad81a4ee1f3",
            "d8ae39c3343644e9aa608838156235f3",
            "93c400fc23934c71af31be2c9a222e20",
            "2eeaa98e6b9142e78a652d75d4d03c86",
            "deede1f3d09a41fba6badb43b30209ed",
            "a381ebfd5f4a47fd9a5b35225fc24af9",
            "2f6425c2e6144177ba97f93c4508b7e4",
            "4b6c133e699c441384b4dc03d9235fab",
            "be4bd6ffd7f74092b34d3100f8752cbc",
            "ee38b768af064c98a49e999efff4b4c9",
            "82ffac1ab90740e3875f6df3b78bd58a",
            "a49bc1e5c1684bd182fbac13f2df56cf",
            "60ccd9c1cea34c5c8509306f28812b04",
            "75daf5da06444d4d9c247e64dd2f4a9a",
            "b3daf82d432e429f951c93f9f93fea48",
            "3f02dc35186c4ad5b0984f7cc3a62a83",
            "8c02da98b4a94941a00bdbffccdd3fd8",
            "8fd38983bb2c4e0aaafab08170f4bb18",
            "06eb47001b9846a7af8531e774cd7fc5",
            "8b3ed28ed4094d36aa3e01d52cd9f341"
          ]
        },
        "outputId": "d5f103e6-d9aa-4e5b-8433-604c48463e9a"
      },
      "execution_count": 2,
      "outputs": [
        {
          "output_type": "stream",
          "name": "stdout",
          "text": [
            "Downloading http://fashion-mnist.s3-website.eu-central-1.amazonaws.com/train-images-idx3-ubyte.gz\n",
            "Downloading http://fashion-mnist.s3-website.eu-central-1.amazonaws.com/train-images-idx3-ubyte.gz to ./data/FashionMNIST/raw/train-images-idx3-ubyte.gz\n"
          ]
        },
        {
          "output_type": "display_data",
          "data": {
            "application/vnd.jupyter.widget-view+json": {
              "model_id": "8fc078f412c041bea0957517c35774a4",
              "version_minor": 0,
              "version_major": 2
            },
            "text/plain": [
              "  0%|          | 0/26421880 [00:00<?, ?it/s]"
            ]
          },
          "metadata": {}
        },
        {
          "output_type": "stream",
          "name": "stdout",
          "text": [
            "Extracting ./data/FashionMNIST/raw/train-images-idx3-ubyte.gz to ./data/FashionMNIST/raw\n",
            "\n",
            "Downloading http://fashion-mnist.s3-website.eu-central-1.amazonaws.com/train-labels-idx1-ubyte.gz\n",
            "Downloading http://fashion-mnist.s3-website.eu-central-1.amazonaws.com/train-labels-idx1-ubyte.gz to ./data/FashionMNIST/raw/train-labels-idx1-ubyte.gz\n"
          ]
        },
        {
          "output_type": "display_data",
          "data": {
            "application/vnd.jupyter.widget-view+json": {
              "model_id": "de7a808fa3e84b809555c2c09a8349ee",
              "version_minor": 0,
              "version_major": 2
            },
            "text/plain": [
              "  0%|          | 0/29515 [00:00<?, ?it/s]"
            ]
          },
          "metadata": {}
        },
        {
          "output_type": "stream",
          "name": "stdout",
          "text": [
            "Extracting ./data/FashionMNIST/raw/train-labels-idx1-ubyte.gz to ./data/FashionMNIST/raw\n",
            "\n",
            "Downloading http://fashion-mnist.s3-website.eu-central-1.amazonaws.com/t10k-images-idx3-ubyte.gz\n",
            "Downloading http://fashion-mnist.s3-website.eu-central-1.amazonaws.com/t10k-images-idx3-ubyte.gz to ./data/FashionMNIST/raw/t10k-images-idx3-ubyte.gz\n"
          ]
        },
        {
          "output_type": "display_data",
          "data": {
            "application/vnd.jupyter.widget-view+json": {
              "model_id": "95650461051f44f1b41362cd2f33ff38",
              "version_minor": 0,
              "version_major": 2
            },
            "text/plain": [
              "  0%|          | 0/4422102 [00:00<?, ?it/s]"
            ]
          },
          "metadata": {}
        },
        {
          "output_type": "stream",
          "name": "stdout",
          "text": [
            "Extracting ./data/FashionMNIST/raw/t10k-images-idx3-ubyte.gz to ./data/FashionMNIST/raw\n",
            "\n",
            "Downloading http://fashion-mnist.s3-website.eu-central-1.amazonaws.com/t10k-labels-idx1-ubyte.gz\n",
            "Downloading http://fashion-mnist.s3-website.eu-central-1.amazonaws.com/t10k-labels-idx1-ubyte.gz to ./data/FashionMNIST/raw/t10k-labels-idx1-ubyte.gz\n"
          ]
        },
        {
          "output_type": "display_data",
          "data": {
            "application/vnd.jupyter.widget-view+json": {
              "model_id": "ee38b768af064c98a49e999efff4b4c9",
              "version_minor": 0,
              "version_major": 2
            },
            "text/plain": [
              "  0%|          | 0/5148 [00:00<?, ?it/s]"
            ]
          },
          "metadata": {}
        },
        {
          "output_type": "stream",
          "name": "stdout",
          "text": [
            "Extracting ./data/FashionMNIST/raw/t10k-labels-idx1-ubyte.gz to ./data/FashionMNIST/raw\n",
            "\n"
          ]
        }
      ]
    },
    {
      "cell_type": "code",
      "source": [
        "len(testset)"
      ],
      "metadata": {
        "colab": {
          "base_uri": "https://localhost:8080/"
        },
        "id": "V3Ikrigxb9ec",
        "outputId": "d8ec416d-e7cb-4c9a-bc2a-e98bdcb9e281"
      },
      "execution_count": null,
      "outputs": [
        {
          "output_type": "execute_result",
          "data": {
            "text/plain": [
              "10000"
            ]
          },
          "metadata": {},
          "execution_count": 3
        }
      ]
    },
    {
      "cell_type": "code",
      "source": [
        "labels_map = ('T-Shirt', 'Trouser', 'Pullover', 'Dress', 'Coat', 'Sandal', 'Shirt','Sneaker', 'Bag', 'Ankle Boot')\n",
        "fig = plt.figure(figsize=(10,10));\n",
        "columns = 4;\n",
        "rows = 5;\n",
        "for i in range(1, 10):\n",
        "    fig.add_subplot(rows, columns, i)\n",
        "    fig.tight_layout()\n",
        "    plt.imshow(trainset.train_data[i].numpy(), cmap='gray')\n",
        "    plt.title('Training Label : %s' % labels_map[trainset.train_labels[i]])\n",
        "plt.show()"
      ],
      "metadata": {
        "id": "n1BN3BUwI6ka",
        "colab": {
          "base_uri": "https://localhost:8080/",
          "height": 526
        },
        "outputId": "e9eb0782-8570-4a83-b767-594aa998fa4e"
      },
      "execution_count": null,
      "outputs": [
        {
          "output_type": "stream",
          "name": "stderr",
          "text": [
            "/usr/local/lib/python3.7/dist-packages/torchvision/datasets/mnist.py:62: UserWarning: train_data has been renamed data\n",
            "  warnings.warn(\"train_data has been renamed data\")\n",
            "/usr/local/lib/python3.7/dist-packages/torchvision/datasets/mnist.py:52: UserWarning: train_labels has been renamed targets\n",
            "  warnings.warn(\"train_labels has been renamed targets\")\n"
          ]
        },
        {
          "output_type": "display_data",
          "data": {
            "image/png": "[encoded data removed]",
            "text/plain": [
              "<Figure size 720x720 with 9 Axes>"
            ]
          },
          "metadata": {
            "needs_background": "light"
          }
        }
      ]
    },
    {
      "cell_type": "markdown",
      "source": [
        "## Part a"
      ],
      "metadata": {
        "id": "aKJDyRWXJnfi"
      }
    },
    {
      "cell_type": "code",
      "source": [
        "input_size = 784\n",
        "out_size = 10\n",
        "hidden_sizes = [256, 128, 64]"
      ],
      "metadata": {
        "id": "LX02zMCeJCfK"
      },
      "execution_count": null,
      "outputs": []
    },
    {
      "cell_type": "code",
      "source": [
        "## Define the model\n",
        "################ Your code ############\n",
        "model = nn.Sequential(nn.Linear(input_size, hidden_sizes[0]),\n",
        "                      nn.ReLU(),\n",
        "                      nn.Linear(hidden_sizes[0], hidden_sizes[1]),\n",
        "                      nn.ReLU(),\n",
        "                      nn.Linear(hidden_sizes[1], hidden_sizes[2]),\n",
        "                      nn.ReLU(),\n",
        "                      nn.Linear(hidden_sizes[2], out_size),\n",
        "                      nn.LogSoftmax(dim=1)\n",
        ")\n",
        "#######################################"
      ],
      "metadata": {
        "id": "7YlP2ve7KBTt"
      },
      "execution_count": null,
      "outputs": []
    },
    {
      "cell_type": "code",
      "source": [
        "################ Your code ############\n",
        "criterion = nn.CrossEntropyLoss()\n",
        "optimizer = optim.Adam(model.parameters(),lr=0.01)\n",
        "#######################################"
      ],
      "metadata": {
        "id": "yTu2Opx4LlkT"
      },
      "execution_count": null,
      "outputs": []
    },
    {
      "cell_type": "code",
      "source": [
        "print(model)"
      ],
      "metadata": {
        "id": "6Ht3JkkjKZ55",
        "colab": {
          "base_uri": "https://localhost:8080/"
        },
        "outputId": "9fca21bc-2c88-4600-885e-a4e9bbde7ad2"
      },
      "execution_count": null,
      "outputs": [
        {
          "output_type": "stream",
          "name": "stdout",
          "text": [
            "Sequential(\n",
            "  (0): Linear(in_features=784, out_features=256, bias=True)\n",
            "  (1): ReLU()\n",
            "  (2): Linear(in_features=256, out_features=128, bias=True)\n",
            "  (3): ReLU()\n",
            "  (4): Linear(in_features=128, out_features=64, bias=True)\n",
            "  (5): ReLU()\n",
            "  (6): Linear(in_features=64, out_features=10, bias=True)\n",
            "  (7): LogSoftmax(dim=1)\n",
            ")\n"
          ]
        }
      ]
    },
    {
      "cell_type": "code",
      "source": [
        "## Train your model\n",
        "epochs = 10\n",
        "\n",
        "for e in range(epochs):\n",
        "  running_loss = 0\n",
        "  correct, total = 0, 0\n",
        "  for images, labels in trainloader:\n",
        "        \n",
        "    images = images.view(images.shape[0],-1) \n",
        "    \n",
        "    #reset the default gradients\n",
        "    optimizer.zero_grad()\n",
        "    \n",
        "    # forward pass\n",
        "    ################ Your code ############\n",
        "    output = model(images)\n",
        "    loss = criterion(output, labels)\n",
        "    #######################################\n",
        "    \n",
        "    loss.backward()\n",
        "    optimizer.step()\n",
        "    \n",
        "    running_loss = running_loss+loss.item()\n",
        "\n",
        "    # additional code (Poorya)\n",
        "    #begin\n",
        "    # calculate accuracy of training\n",
        "    pred = output.max(1, keepdim=True)[1] # get the index of the max logit\n",
        "    correct += pred.eq(labels.view_as(pred)).sum().item()\n",
        "    total += int(labels.shape[0])\n",
        "    #end\n",
        "  else:\n",
        "    print(f\"Training loss: {running_loss/len(trainloader)}, Training accuracy: {correct / total}\")"
      ],
      "metadata": {
        "id": "-G_9wk87KehM",
        "colab": {
          "base_uri": "https://localhost:8080/"
        },
        "outputId": "412f3a0e-68e5-42f7-838e-6904738f303c"
      },
      "execution_count": null,
      "outputs": [
        {
          "output_type": "stream",
          "name": "stdout",
          "text": [
            "Training loss: 0.5403179342844593, Training accuracy: 0.8076833333333333\n",
            "Training loss: 0.4449947454781929, Training accuracy: 0.8457333333333333\n",
            "Training loss: 0.41363031078757506, Training accuracy: 0.85795\n",
            "Training loss: 0.4131920072220282, Training accuracy: 0.8611166666666666\n",
            "Training loss: 0.3802469412146855, Training accuracy: 0.868\n",
            "Training loss: 0.36801219793525075, Training accuracy: 0.8735166666666667\n",
            "Training loss: 0.3598552442975898, Training accuracy: 0.875\n",
            "Training loss: 0.3711693757759737, Training accuracy: 0.8725333333333334\n",
            "Training loss: 0.36169609904829375, Training accuracy: 0.8764166666666666\n",
            "Training loss: 0.3723161057638588, Training accuracy: 0.8752\n"
          ]
        }
      ]
    },
    {
      "cell_type": "code",
      "source": [
        "# funtion from HW2 \n",
        "def get_accuracy(model, data):\n",
        "  loader = torch.utils.data.DataLoader(data, batch_size=500)\n",
        "\n",
        "  correct, total = 0, 0\n",
        "  for xs, ts in loader:\n",
        "      xs = xs.view(-1, 784) # flatten the image\n",
        "      zs = model(xs)\n",
        "      pred = zs.max(1, keepdim=True)[1] # get the index of the max logit\n",
        "      correct += pred.eq(ts.view_as(pred)).sum().item()\n",
        "      total += int(ts.shape[0])\n",
        "      return correct / total"
      ],
      "metadata": {
        "id": "RcUMwKRLSVGc"
      },
      "execution_count": 10,
      "outputs": []
    },
    {
      "cell_type": "code",
      "source": [
        "training_acc = get_accuracy(model,trainset)\n",
        "test_acc = get_accuracy(model,testset)\n",
        "print(f\"accuracy on Trainset: {training_acc}\")\n",
        "print(f\"accuracy on Testset: {test_acc}\")"
      ],
      "metadata": {
        "colab": {
          "base_uri": "https://localhost:8080/"
        },
        "id": "l2rPmMmfSYIU",
        "outputId": "9ed9b8bb-8d12-4446-d045-1e2edade4969"
      },
      "execution_count": null,
      "outputs": [
        {
          "output_type": "stream",
          "name": "stdout",
          "text": [
            "accuracy on Trainset: 0.908\n",
            "accuracy on Testset: 0.878\n"
          ]
        }
      ]
    },
    {
      "cell_type": "code",
      "source": [
        "## Test your model\n",
        "################ Your code ############\n",
        "labels_map = ('T-Shirt', 'Trouser', 'Pullover', 'Dress', 'Coat', 'Sandal', 'Shirt','Sneaker', 'Bag', 'Ankle Boot')\n",
        "fig = plt.figure(figsize=(15,15));\n",
        "columns = 5;\n",
        "rows = 4;\n",
        "\n",
        "# get a batch from test set\n",
        "for images,labels in testloader:\n",
        "    images = images.view(images.shape[0],-1)\n",
        "    prediction = model(images)\n",
        "    prediction = prediction.max(1, keepdim=True)[1]\n",
        "    break\n",
        "\n",
        "# select and print true lable and predicted label for 20 inctances\n",
        "for i in range(1, 21):\n",
        "    idx = random.randint(1,len(images)-1)\n",
        "    fig.add_subplot(rows, columns, i)\n",
        "    fig.tight_layout()\n",
        "    sample_image = images[idx]\n",
        "    plt.imshow(sample_image.reshape(28,28).numpy(), cmap='gray')\n",
        "    plt.title(f\"label : {labels_map[labels[idx]]}\\nprediction: {labels_map[prediction[idx]]}\")\n",
        "plt.show()\n",
        "#######################################"
      ],
      "metadata": {
        "id": "R1TD7mF_KkHP",
        "colab": {
          "base_uri": "https://localhost:8080/",
          "height": 1000
        },
        "outputId": "89477610-4a73-4072-a613-a882f58b1a02"
      },
      "execution_count": null,
      "outputs": [
        {
          "output_type": "display_data",
          "data": {
            "image/png": "[encoded data removed]",
            "text/plain": [
              "<Figure size 1080x1080 with 20 Axes>"
            ]
          },
          "metadata": {
            "needs_background": "light"
          }
        }
      ]
    },
    {
      "cell_type": "markdown",
      "source": [
        "## Part b"
      ],
      "metadata": {
        "id": "BS1HDtG3OpYc"
      }
    },
    {
      "cell_type": "code",
      "source": [
        "input_size = 784\n",
        "out_size = 10\n",
        "hidden_sizes = [128, 128, 128, 64]"
      ],
      "metadata": {
        "id": "yPfXRzZOLHgJ"
      },
      "execution_count": null,
      "outputs": []
    },
    {
      "cell_type": "code",
      "source": [
        "model2 = nn.Sequential(nn.Linear(input_size, hidden_sizes[0]),\n",
        "                       nn.ReLU(),\n",
        "                       nn.Linear(hidden_sizes[0], hidden_sizes[1]),\n",
        "                       nn.ReLU(),\n",
        "                       nn.Linear(hidden_sizes[1], hidden_sizes[2]),\n",
        "                       nn.ReLU(),\n",
        "                       nn.Linear(hidden_sizes[2], hidden_sizes[3]),\n",
        "                       nn.ReLU(),\n",
        "                       nn.Linear(hidden_sizes[3], out_size),\n",
        "                       nn.LogSoftmax(dim=1)\n",
        ")\n",
        "\n",
        "print(model2)"
      ],
      "metadata": {
        "colab": {
          "base_uri": "https://localhost:8080/"
        },
        "id": "N1ci4GHnsrje",
        "outputId": "2a262c50-fc44-4627-d052-89f9e22bb54d"
      },
      "execution_count": null,
      "outputs": [
        {
          "output_type": "stream",
          "name": "stdout",
          "text": [
            "Sequential(\n",
            "  (0): Linear(in_features=784, out_features=128, bias=True)\n",
            "  (1): ReLU()\n",
            "  (2): Linear(in_features=128, out_features=128, bias=True)\n",
            "  (3): ReLU()\n",
            "  (4): Linear(in_features=128, out_features=128, bias=True)\n",
            "  (5): ReLU()\n",
            "  (6): Linear(in_features=128, out_features=64, bias=True)\n",
            "  (7): ReLU()\n",
            "  (8): Linear(in_features=64, out_features=10, bias=True)\n",
            "  (9): LogSoftmax(dim=1)\n",
            ")\n"
          ]
        }
      ]
    },
    {
      "cell_type": "code",
      "source": [
        "criterion = nn.CrossEntropyLoss()\n",
        "optimizer = optim.Adam(model2.parameters(),lr=0.01)"
      ],
      "metadata": {
        "id": "_zxov3WktEce"
      },
      "execution_count": null,
      "outputs": []
    },
    {
      "cell_type": "code",
      "source": [
        "## Train your model\n",
        "epochs = 50\n",
        "\n",
        "train_acc_arr = []\n",
        "test_acc_arr = []\n",
        "train_err_arr =[]\n",
        "\n",
        "for e in range(epochs):\n",
        "  running_loss = 0\n",
        "  correct, total = 0, 0\n",
        "  for images, labels in trainloader:\n",
        "        \n",
        "    images = images.view(images.shape[0],-1) \n",
        "    \n",
        "    #reset the default gradients\n",
        "    optimizer.zero_grad()\n",
        "    \n",
        "    # forward pass\n",
        "    ################ Your code ############\n",
        "    output = model2(images)\n",
        "    loss = criterion(output, labels)\n",
        "    #######################################\n",
        "    \n",
        "    loss.backward()\n",
        "    optimizer.step()\n",
        "    \n",
        "    running_loss = running_loss+loss.item()\n",
        "\n",
        "    # additional code (Poorya)\n",
        "    #begin\n",
        "    # calculate accuracy of training\n",
        "    pred = output.max(1, keepdim=True)[1] # get the index of the max logit\n",
        "    correct += pred.eq(labels.view_as(pred)).sum().item()\n",
        "    total += int(labels.shape[0])\n",
        "    #end\n",
        "  else:\n",
        "    print(f\"Epoch:{e}, Training loss: {running_loss/len(trainloader)}, Training accuracy: {correct / total}\")\n",
        "    train_acc_arr.append(correct / total)\n",
        "    tst_acc_tmp = get_accuracy(model2,testset)\n",
        "    test_acc_arr.append(tst_acc_tmp)\n",
        "    train_err_arr.append(running_loss/len(trainloader))\n"
      ],
      "metadata": {
        "colab": {
          "base_uri": "https://localhost:8080/"
        },
        "id": "xK2dg6yHtI6t",
        "outputId": "3b86c295-de3c-44a9-ed48-fc5ecd39043d"
      },
      "execution_count": null,
      "outputs": [
        {
          "output_type": "stream",
          "name": "stdout",
          "text": [
            "Epoch:0, Training loss: 0.5771420112392033, Training accuracy: 0.7955833333333333\n",
            "Epoch:1, Training loss: 0.46098670471451686, Training accuracy: 0.84285\n",
            "Epoch:2, Training loss: 0.4658304898501205, Training accuracy: 0.84795\n",
            "Epoch:3, Training loss: 0.41427385551271156, Training accuracy: 0.8577\n",
            "Epoch:4, Training loss: 0.4254617472288451, Training accuracy: 0.8572\n",
            "Epoch:5, Training loss: 0.4039960700089235, Training accuracy: 0.86235\n",
            "Epoch:6, Training loss: 0.39554701661313774, Training accuracy: 0.8647666666666667\n",
            "Epoch:7, Training loss: 0.39381734728177725, Training accuracy: 0.8676666666666667\n",
            "Epoch:8, Training loss: 0.4096396114589817, Training accuracy: 0.8636\n",
            "Epoch:9, Training loss: 0.43241498990258426, Training accuracy: 0.85375\n",
            "Epoch:10, Training loss: 0.38118975651639103, Training accuracy: 0.8687666666666667\n",
            "Epoch:11, Training loss: 0.38076296822030914, Training accuracy: 0.8678833333333333\n",
            "Epoch:12, Training loss: 0.4164894164434628, Training accuracy: 0.8611\n",
            "Epoch:13, Training loss: 0.4186361310705701, Training accuracy: 0.8599333333333333\n",
            "Epoch:14, Training loss: 0.43858556298495355, Training accuracy: 0.8537333333333333\n",
            "Epoch:15, Training loss: 0.38517816282951756, Training accuracy: 0.8697333333333334\n",
            "Epoch:16, Training loss: 0.3670634389209595, Training accuracy: 0.8734\n",
            "Epoch:17, Training loss: 0.36980239212163474, Training accuracy: 0.8752666666666666\n",
            "Epoch:18, Training loss: 0.43131446835201687, Training accuracy: 0.8581\n",
            "Epoch:19, Training loss: 0.5578383638787625, Training accuracy: 0.81715\n",
            "Epoch:20, Training loss: 0.46993618474395543, Training accuracy: 0.8476\n",
            "Epoch:21, Training loss: 0.4219415023891148, Training accuracy: 0.8673166666666666\n",
            "Epoch:22, Training loss: 0.4530092049985806, Training accuracy: 0.8594333333333334\n",
            "Epoch:23, Training loss: 0.42989534015721603, Training accuracy: 0.8606166666666667\n",
            "Epoch:24, Training loss: 0.4697012744113199, Training accuracy: 0.8462\n",
            "Epoch:25, Training loss: 0.4047479711012291, Training accuracy: 0.8674333333333333\n",
            "Epoch:26, Training loss: 0.4063240738788139, Training accuracy: 0.8692666666666666\n",
            "Epoch:27, Training loss: 0.4296850677587584, Training accuracy: 0.8619833333333333\n",
            "Epoch:28, Training loss: 0.48905634174723106, Training accuracy: 0.8494166666666667\n",
            "Epoch:29, Training loss: 0.4350730982988374, Training accuracy: 0.8617166666666667\n",
            "Epoch:30, Training loss: 0.4576300790886889, Training accuracy: 0.8579166666666667\n",
            "Epoch:31, Training loss: 0.4739188090252724, Training accuracy: 0.8496\n",
            "Epoch:32, Training loss: 0.448343081419656, Training accuracy: 0.8518833333333333\n",
            "Epoch:33, Training loss: 0.42797708088782294, Training accuracy: 0.8639\n",
            "Epoch:34, Training loss: 0.44253277136827074, Training accuracy: 0.8628666666666667\n",
            "Epoch:35, Training loss: 0.47302297308945707, Training accuracy: 0.8563\n",
            "Epoch:36, Training loss: 0.40395171617838876, Training accuracy: 0.8687666666666667\n",
            "Epoch:37, Training loss: 0.43375625815599966, Training accuracy: 0.8629\n",
            "Epoch:38, Training loss: 0.42816995243146727, Training accuracy: 0.8633666666666666\n",
            "Epoch:39, Training loss: 0.39737302921156387, Training accuracy: 0.8693333333333333\n",
            "Epoch:40, Training loss: 0.38350096533992395, Training accuracy: 0.8754333333333333\n",
            "Epoch:41, Training loss: 0.45945652386844793, Training accuracy: 0.8620833333333333\n",
            "Epoch:42, Training loss: 0.475434406829287, Training accuracy: 0.8448666666666667\n",
            "Epoch:43, Training loss: 0.440578963822012, Training accuracy: 0.8583666666666666\n",
            "Epoch:44, Training loss: 0.43385736542597, Training accuracy: 0.8644166666666667\n",
            "Epoch:45, Training loss: 0.40263576568888704, Training accuracy: 0.86985\n",
            "Epoch:46, Training loss: 0.40575109228396466, Training accuracy: 0.8687833333333334\n",
            "Epoch:47, Training loss: 0.3955230598351849, Training accuracy: 0.8691166666666666\n",
            "Epoch:48, Training loss: 0.3954689984541458, Training accuracy: 0.8676666666666667\n",
            "Epoch:49, Training loss: 0.39225771422706435, Training accuracy: 0.8733833333333333\n"
          ]
        }
      ]
    },
    {
      "cell_type": "code",
      "source": [
        "training_acc = get_accuracy(model2,trainset)\n",
        "test_acc = get_accuracy(model2,testset)\n",
        "print(f\"accuracy on Trainset: {training_acc}\")\n",
        "print(f\"accuracy on Testset: {test_acc}\")"
      ],
      "metadata": {
        "colab": {
          "base_uri": "https://localhost:8080/"
        },
        "id": "zfYY6L7muQ32",
        "outputId": "c8306079-972c-4a0f-9ea4-f25c66204812"
      },
      "execution_count": null,
      "outputs": [
        {
          "output_type": "stream",
          "name": "stdout",
          "text": [
            "accuracy on Trainset: 0.842\n",
            "accuracy on Testset: 0.83\n"
          ]
        }
      ]
    },
    {
      "cell_type": "code",
      "source": [
        "# plotting\n",
        "plt.plot(train_acc_arr, label=\"Train\")\n",
        "plt.plot(test_acc_arr, label=\"Test\")\n",
        "plt.xlabel(\"Iterations\")\n",
        "plt.ylabel(\"Loss\")\n",
        "plt.show()"
      ],
      "metadata": {
        "colab": {
          "base_uri": "https://localhost:8080/",
          "height": 279
        },
        "id": "ArfhpkuzCwbU",
        "outputId": "e393477d-fc04-443b-cd51-050d3644c3eb"
      },
      "execution_count": null,
      "outputs": [
        {
          "output_type": "display_data",
          "data": {
            "image/png": "[encoded data removed]",
            "text/plain": [
              "<Figure size 432x288 with 1 Axes>"
            ]
          },
          "metadata": {
            "needs_background": "light"
          }
        }
      ]
    },
    {
      "cell_type": "code",
      "source": [
        "# plotting\n",
        "plt.plot(train_err_arr,label=\"Train\")\n",
        "plt.xlabel(\"Iterations\")\n",
        "plt.ylabel(\"Loss\")\n",
        "plt.show()"
      ],
      "metadata": {
        "colab": {
          "base_uri": "https://localhost:8080/",
          "height": 279
        },
        "id": "vm-UbvqsDPRb",
        "outputId": "54643a65-7883-4731-88a6-e0d822e7b0bc"
      },
      "execution_count": null,
      "outputs": [
        {
          "output_type": "display_data",
          "data": {
            "image/png": "[encoded data removed]",
            "text/plain": [
              "<Figure size 432x288 with 1 Axes>"
            ]
          },
          "metadata": {
            "needs_background": "light"
          }
        }
      ]
    },
    {
      "cell_type": "markdown",
      "source": [
        "## Part c"
      ],
      "metadata": {
        "id": "koz_Yd8jRFIe"
      }
    },
    {
      "cell_type": "markdown",
      "source": [
        "### Loss: Cross entropy\n",
        "### Activation: LeakyReLU\n",
        "### Optimizer: Adam"
      ],
      "metadata": {
        "id": "Dd9rU74BFf29"
      }
    },
    {
      "cell_type": "code",
      "source": [
        "input_size = 784\n",
        "out_size = 10\n",
        "hidden_sizes = [256, 128, 64]"
      ],
      "metadata": {
        "id": "XcyvS9ncDEVU"
      },
      "execution_count": 3,
      "outputs": []
    },
    {
      "cell_type": "code",
      "source": [
        "model3 = nn.Sequential(nn.Linear(input_size, hidden_sizes[0]),\n",
        "                       nn.LeakyReLU(0.1),\n",
        "                       nn.Linear(hidden_sizes[0], hidden_sizes[1]),\n",
        "                       nn.LeakyReLU(0.1),\n",
        "                       nn.Linear(hidden_sizes[1], hidden_sizes[2]),\n",
        "                       nn.LeakyReLU(0.1),\n",
        "                       nn.Linear(hidden_sizes[2], out_size),\n",
        "                       nn.LogSoftmax(dim=1)\n",
        ")\n",
        "\n",
        "print(model3)"
      ],
      "metadata": {
        "id": "lrCKW9LNRGBM",
        "colab": {
          "base_uri": "https://localhost:8080/"
        },
        "outputId": "32857f59-2261-4a78-a67c-cc3c48c87909"
      },
      "execution_count": 4,
      "outputs": [
        {
          "output_type": "stream",
          "name": "stdout",
          "text": [
            "Sequential(\n",
            "  (0): Linear(in_features=784, out_features=256, bias=True)\n",
            "  (1): LeakyReLU(negative_slope=0.1)\n",
            "  (2): Linear(in_features=256, out_features=128, bias=True)\n",
            "  (3): LeakyReLU(negative_slope=0.1)\n",
            "  (4): Linear(in_features=128, out_features=64, bias=True)\n",
            "  (5): LeakyReLU(negative_slope=0.1)\n",
            "  (6): Linear(in_features=64, out_features=10, bias=True)\n",
            "  (7): LogSoftmax(dim=1)\n",
            ")\n"
          ]
        }
      ]
    },
    {
      "cell_type": "code",
      "source": [
        "criterion = nn.CrossEntropyLoss()\n",
        "optimizer = optim.Adam(model3.parameters(),lr=0.01)"
      ],
      "metadata": {
        "id": "l-y-BdY6DS3k"
      },
      "execution_count": 6,
      "outputs": []
    },
    {
      "cell_type": "code",
      "source": [
        "epochs = 10\n",
        "\n",
        "for e in range(epochs):\n",
        "  running_loss = 0\n",
        "  correct, total = 0, 0\n",
        "  for images, labels in trainloader:\n",
        "        \n",
        "    images = images.view(images.shape[0],-1) \n",
        "    \n",
        "    #reset the default gradients\n",
        "    optimizer.zero_grad()\n",
        "    \n",
        "    # forward pass\n",
        "    ################ Your code ############\n",
        "    output = model3(images)\n",
        "    loss = criterion(output, labels)\n",
        "    #######################################\n",
        "    \n",
        "    loss.backward()\n",
        "    optimizer.step()\n",
        "    \n",
        "    running_loss = running_loss+loss.item()\n",
        "\n",
        "    # additional code (Poorya)\n",
        "    #begin\n",
        "    # calculate accuracy of training\n",
        "    pred = output.max(1, keepdim=True)[1] # get the index of the max logit\n",
        "    correct += pred.eq(labels.view_as(pred)).sum().item()\n",
        "    total += int(labels.shape[0])\n",
        "    #end\n",
        "  else:\n",
        "    print(f\"Training loss: {running_loss/len(trainloader)}, Training accuracy: {correct / total}\")"
      ],
      "metadata": {
        "colab": {
          "base_uri": "https://localhost:8080/"
        },
        "id": "TXnLV7yIDj4V",
        "outputId": "4f5a4be0-88b9-4e84-e633-30f541f037de"
      },
      "execution_count": 8,
      "outputs": [
        {
          "output_type": "stream",
          "name": "stdout",
          "text": [
            "Training loss: 0.5829590880540388, Training accuracy: 0.7967\n",
            "Training loss: 0.5607021851326103, Training accuracy: 0.8234166666666667\n",
            "Training loss: 0.4542582244284626, Training accuracy: 0.8477833333333333\n",
            "Training loss: 1.3434761883671096, Training accuracy: 0.80665\n",
            "Training loss: 0.3990062598162877, Training accuracy: 0.8628\n",
            "Training loss: 0.41732246564554254, Training accuracy: 0.8599166666666667\n",
            "Training loss: 0.4073808641274219, Training accuracy: 0.8626666666666667\n",
            "Training loss: 0.44872400586380123, Training accuracy: 0.8565666666666667\n",
            "Training loss: 2.6423437638577623, Training accuracy: 0.8306833333333333\n",
            "Training loss: 0.46977544629148077, Training accuracy: 0.86085\n"
          ]
        }
      ]
    },
    {
      "cell_type": "code",
      "source": [
        "training_acc = get_accuracy(model3,trainset)\n",
        "test_acc = get_accuracy(model3,testset)\n",
        "print(f\"accuracy on Trainset: {training_acc}\")\n",
        "print(f\"accuracy on Testset: {test_acc}\")"
      ],
      "metadata": {
        "colab": {
          "base_uri": "https://localhost:8080/"
        },
        "id": "Mo3MxSpTEadl",
        "outputId": "2b280d48-7530-4ff0-c4de-db2c4b098d6a"
      },
      "execution_count": 11,
      "outputs": [
        {
          "output_type": "stream",
          "name": "stdout",
          "text": [
            "accuracy on Trainset: 0.894\n",
            "accuracy on Testset: 0.85\n"
          ]
        }
      ]
    },
    {
      "cell_type": "markdown",
      "source": [
        "### Loss: Cross Entropy\n",
        "### Activation: Sigmoid\n",
        "### Optimizer: Adam"
      ],
      "metadata": {
        "id": "NiBSLYQvF-Lk"
      }
    },
    {
      "cell_type": "code",
      "source": [
        "input_size = 784\n",
        "out_size = 10\n",
        "hidden_sizes = [256, 128, 64]"
      ],
      "metadata": {
        "id": "gi2VWcwUGFfs"
      },
      "execution_count": 16,
      "outputs": []
    },
    {
      "cell_type": "code",
      "source": [
        "model4 = nn.Sequential(nn.Linear(input_size, hidden_sizes[0]),\n",
        "                       nn.Sigmoid(),\n",
        "                       nn.Linear(hidden_sizes[0], hidden_sizes[1]),\n",
        "                       nn.Sigmoid(),\n",
        "                       nn.Linear(hidden_sizes[1], hidden_sizes[2]),\n",
        "                       nn.Sigmoid(),\n",
        "                       nn.Linear(hidden_sizes[2], out_size),\n",
        "                       nn.LogSoftmax(dim=1)\n",
        ")\n",
        "\n",
        "print(model4)"
      ],
      "metadata": {
        "colab": {
          "base_uri": "https://localhost:8080/"
        },
        "id": "wxjWqdrCGIsN",
        "outputId": "634ce255-d0c7-47fc-f0f6-48aa4e872420"
      },
      "execution_count": 17,
      "outputs": [
        {
          "output_type": "stream",
          "name": "stdout",
          "text": [
            "Sequential(\n",
            "  (0): Linear(in_features=784, out_features=256, bias=True)\n",
            "  (1): Sigmoid()\n",
            "  (2): Linear(in_features=256, out_features=128, bias=True)\n",
            "  (3): Sigmoid()\n",
            "  (4): Linear(in_features=128, out_features=64, bias=True)\n",
            "  (5): Sigmoid()\n",
            "  (6): Linear(in_features=64, out_features=10, bias=True)\n",
            "  (7): LogSoftmax(dim=1)\n",
            ")\n"
          ]
        }
      ]
    },
    {
      "cell_type": "code",
      "source": [
        "criterion = nn.CrossEntropyLoss()\n",
        "optimizer = optim.Adam(model4.parameters(),lr=0.01)"
      ],
      "metadata": {
        "id": "KlIZLnICGTiF"
      },
      "execution_count": 18,
      "outputs": []
    },
    {
      "cell_type": "code",
      "source": [
        "epochs = 10\n",
        "\n",
        "for e in range(epochs):\n",
        "  running_loss = 0\n",
        "  correct, total = 0, 0\n",
        "  for images, labels in trainloader:\n",
        "        \n",
        "    images = images.view(images.shape[0],-1) \n",
        "    \n",
        "    #reset the default gradients\n",
        "    optimizer.zero_grad()\n",
        "    \n",
        "    # forward pass\n",
        "    ################ Your code ############\n",
        "    output = model4(images)\n",
        "    loss = criterion(output, labels)\n",
        "    #######################################\n",
        "    \n",
        "    loss.backward()\n",
        "    optimizer.step()\n",
        "    \n",
        "    running_loss = running_loss+loss.item()\n",
        "\n",
        "    # additional code (Poorya)\n",
        "    #begin\n",
        "    # calculate accuracy of training\n",
        "    pred = output.max(1, keepdim=True)[1] # get the index of the max logit\n",
        "    correct += pred.eq(labels.view_as(pred)).sum().item()\n",
        "    total += int(labels.shape[0])\n",
        "    #end\n",
        "  else:\n",
        "    print(f\"Training loss: {running_loss/len(trainloader)}, Training accuracy: {correct / total}\")"
      ],
      "metadata": {
        "colab": {
          "base_uri": "https://localhost:8080/"
        },
        "id": "8nYAjmp1GXAb",
        "outputId": "4b59ba8c-fe4f-43d2-8532-f59ceb33b9da"
      },
      "execution_count": 19,
      "outputs": [
        {
          "output_type": "stream",
          "name": "stdout",
          "text": [
            "Training loss: 0.6785288093123101, Training accuracy: 0.7431666666666666\n",
            "Training loss: 0.5273288294895372, Training accuracy: 0.80375\n",
            "Training loss: 0.5029899367391427, Training accuracy: 0.8162\n",
            "Training loss: 0.48585044255833637, Training accuracy: 0.8213666666666667\n",
            "Training loss: 0.47556922667379825, Training accuracy: 0.82535\n",
            "Training loss: 0.4690557900331676, Training accuracy: 0.8286833333333333\n",
            "Training loss: 0.46903218184389284, Training accuracy: 0.8248666666666666\n",
            "Training loss: 0.45862324146637273, Training accuracy: 0.8316\n",
            "Training loss: 0.4674560117886773, Training accuracy: 0.8273166666666667\n",
            "Training loss: 0.4619867510791781, Training accuracy: 0.8321333333333333\n"
          ]
        }
      ]
    },
    {
      "cell_type": "code",
      "source": [
        "training_acc = get_accuracy(model4,trainset)\n",
        "test_acc = get_accuracy(model4,testset)\n",
        "print(f\"accuracy on Trainset: {training_acc}\")\n",
        "print(f\"accuracy on Testset: {test_acc}\")"
      ],
      "metadata": {
        "colab": {
          "base_uri": "https://localhost:8080/"
        },
        "id": "WZ4c9F7PIhCF",
        "outputId": "b650673a-9fb1-447f-c1fa-7771c19f8116"
      },
      "execution_count": 20,
      "outputs": [
        {
          "output_type": "stream",
          "name": "stdout",
          "text": [
            "accuracy on Trainset: 0.85\n",
            "accuracy on Testset: 0.842\n"
          ]
        }
      ]
    },
    {
      "cell_type": "markdown",
      "source": [
        "### Optimizer: SGD\n",
        "### Activation: ReLU\n",
        "### Loss: Cross Entropy"
      ],
      "metadata": {
        "id": "0DspG7GhI4Gb"
      }
    },
    {
      "cell_type": "code",
      "source": [
        "input_size = 784\n",
        "out_size = 10\n",
        "hidden_sizes = [256, 128, 64]"
      ],
      "metadata": {
        "id": "C96OLJpIIjbt"
      },
      "execution_count": 21,
      "outputs": []
    },
    {
      "cell_type": "code",
      "source": [
        "model5 = nn.Sequential(nn.Linear(input_size, hidden_sizes[0]),\n",
        "                       nn.ReLU(),\n",
        "                       nn.Linear(hidden_sizes[0], hidden_sizes[1]),\n",
        "                       nn.ReLU(),\n",
        "                       nn.Linear(hidden_sizes[1], hidden_sizes[2]),\n",
        "                       nn.ReLU(),\n",
        "                       nn.Linear(hidden_sizes[2], out_size),\n",
        "                       nn.LogSoftmax(dim=1)\n",
        ")\n",
        "\n",
        "print(model5)"
      ],
      "metadata": {
        "colab": {
          "base_uri": "https://localhost:8080/"
        },
        "id": "7FA_UO0UI_D0",
        "outputId": "bd6efc10-9b2f-44d1-cda0-892568f82c25"
      },
      "execution_count": 22,
      "outputs": [
        {
          "output_type": "stream",
          "name": "stdout",
          "text": [
            "Sequential(\n",
            "  (0): Linear(in_features=784, out_features=256, bias=True)\n",
            "  (1): ReLU()\n",
            "  (2): Linear(in_features=256, out_features=128, bias=True)\n",
            "  (3): ReLU()\n",
            "  (4): Linear(in_features=128, out_features=64, bias=True)\n",
            "  (5): ReLU()\n",
            "  (6): Linear(in_features=64, out_features=10, bias=True)\n",
            "  (7): LogSoftmax(dim=1)\n",
            ")\n"
          ]
        }
      ]
    },
    {
      "cell_type": "code",
      "source": [
        "criterion = nn.CrossEntropyLoss()\n",
        "optimizer = optim.SGD(model5.parameters(),lr=0.01)"
      ],
      "metadata": {
        "id": "RZXyTaUjJKNl"
      },
      "execution_count": 30,
      "outputs": []
    },
    {
      "cell_type": "code",
      "source": [
        "epochs = 10\n",
        "\n",
        "for e in range(epochs):\n",
        "  running_loss = 0\n",
        "  correct, total = 0, 0\n",
        "  for images, labels in trainloader:\n",
        "        \n",
        "    images = images.view(images.shape[0],-1) \n",
        "    \n",
        "    #reset the default gradients\n",
        "    optimizer.zero_grad()\n",
        "    \n",
        "    # forward pass\n",
        "    ################ Your code ############\n",
        "    output = model5(images)\n",
        "    loss = criterion(output, labels)\n",
        "    #######################################\n",
        "    \n",
        "    loss.backward()\n",
        "    optimizer.step()\n",
        "    \n",
        "    running_loss = running_loss+loss.item()\n",
        "\n",
        "    # additional code (Poorya)\n",
        "    #begin\n",
        "    # calculate accuracy of training\n",
        "    pred = output.max(1, keepdim=True)[1] # get the index of the max logit\n",
        "    correct += pred.eq(labels.view_as(pred)).sum().item()\n",
        "    total += int(labels.shape[0])\n",
        "    #end\n",
        "  else:\n",
        "    print(f\"Training loss: {running_loss/len(trainloader)}, Training accuracy: {correct / total}\")"
      ],
      "metadata": {
        "colab": {
          "base_uri": "https://localhost:8080/"
        },
        "id": "yXk5omX9JUEE",
        "outputId": "1d9a3f4a-53ff-4941-d902-997d1dfaaed8"
      },
      "execution_count": 31,
      "outputs": [
        {
          "output_type": "stream",
          "name": "stdout",
          "text": [
            "Training loss: 1.1207738547309885, Training accuracy: 0.6084833333333334\n",
            "Training loss: 0.5752051005612558, Training accuracy: 0.7966\n",
            "Training loss: 0.4846536783235414, Training accuracy: 0.8267166666666667\n",
            "Training loss: 0.44098311128901013, Training accuracy: 0.8423333333333334\n",
            "Training loss: 0.41154389138986813, Training accuracy: 0.8526166666666667\n",
            "Training loss: 0.3902983582382009, Training accuracy: 0.8599\n",
            "Training loss: 0.37241836169412906, Training accuracy: 0.8667166666666667\n",
            "Training loss: 0.3578407123430706, Training accuracy: 0.8698666666666667\n",
            "Training loss: 0.3461869744254328, Training accuracy: 0.87415\n",
            "Training loss: 0.3335493077585565, Training accuracy: 0.8784666666666666\n"
          ]
        }
      ]
    },
    {
      "cell_type": "code",
      "source": [
        "training_acc = get_accuracy(model5,trainset)\n",
        "test_acc = get_accuracy(model5,testset)\n",
        "print(f\"accuracy on Trainset: {training_acc}\")\n",
        "print(f\"accuracy on Testset: {test_acc}\")"
      ],
      "metadata": {
        "colab": {
          "base_uri": "https://localhost:8080/"
        },
        "id": "EtMKo6YrJY6k",
        "outputId": "d76cdc93-b7e1-456f-ff19-f373a0bf84c7"
      },
      "execution_count": 32,
      "outputs": [
        {
          "output_type": "stream",
          "name": "stdout",
          "text": [
            "accuracy on Trainset: 0.91\n",
            "accuracy on Testset: 0.876\n"
          ]
        }
      ]
    }
  ]
}