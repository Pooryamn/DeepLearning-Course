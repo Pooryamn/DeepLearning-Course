{
  "nbformat": 4,
  "nbformat_minor": 0,
  "metadata": {
    "colab": {
      "name": "CIFAR100_Optuna_PyTorch.ipynb",
      "provenance": [],
      "collapsed_sections": []
    },
    "kernelspec": {
      "name": "python3",
      "display_name": "Python 3"
    },
    "language_info": {
      "name": "python"
    },
    "accelerator": "GPU",
    "gpuClass": "standard"
  },
  "cells": [
    {
      "cell_type": "code",
      "execution_count": 1,
      "metadata": {
        "colab": {
          "base_uri": "https://localhost:8080/"
        },
        "id": "6brG6xRQVBca",
        "outputId": "2b46e977-48c1-4ce8-a0e3-4ecb6545346f"
      },
      "outputs": [
        {
          "output_type": "stream",
          "name": "stdout",
          "text": [
            "Looking in indexes: https://pypi.org/simple, https://us-python.pkg.dev/colab-wheels/public/simple/\n",
            "Collecting optuna\n",
            "  Downloading optuna-2.10.1-py3-none-any.whl (308 kB)\n",
            "\u001b[K     |████████████████████████████████| 308 kB 5.3 MB/s \n",
            "\u001b[?25hRequirement already satisfied: sqlalchemy>=1.1.0 in /usr/local/lib/python3.7/dist-packages (from optuna) (1.4.37)\n",
            "Collecting cliff\n",
            "  Downloading cliff-3.10.1-py3-none-any.whl (81 kB)\n",
            "\u001b[K     |████████████████████████████████| 81 kB 10.1 MB/s \n",
            "\u001b[?25hRequirement already satisfied: numpy in /usr/local/lib/python3.7/dist-packages (from optuna) (1.21.6)\n",
            "Collecting cmaes>=0.8.2\n",
            "  Downloading cmaes-0.8.2-py3-none-any.whl (15 kB)\n",
            "Collecting colorlog\n",
            "  Downloading colorlog-6.6.0-py2.py3-none-any.whl (11 kB)\n",
            "Requirement already satisfied: PyYAML in /usr/local/lib/python3.7/dist-packages (from optuna) (3.13)\n",
            "Requirement already satisfied: packaging>=20.0 in /usr/local/lib/python3.7/dist-packages (from optuna) (21.3)\n",
            "Requirement already satisfied: tqdm in /usr/local/lib/python3.7/dist-packages (from optuna) (4.64.0)\n",
            "Collecting alembic\n",
            "  Downloading alembic-1.8.0-py3-none-any.whl (209 kB)\n",
            "\u001b[K     |████████████████████████████████| 209 kB 72.7 MB/s \n",
            "\u001b[?25hRequirement already satisfied: scipy!=1.4.0 in /usr/local/lib/python3.7/dist-packages (from optuna) (1.4.1)\n",
            "Requirement already satisfied: pyparsing!=3.0.5,>=2.0.2 in /usr/local/lib/python3.7/dist-packages (from packaging>=20.0->optuna) (3.0.9)\n",
            "Requirement already satisfied: greenlet!=0.4.17 in /usr/local/lib/python3.7/dist-packages (from sqlalchemy>=1.1.0->optuna) (1.1.2)\n",
            "Requirement already satisfied: importlib-metadata in /usr/local/lib/python3.7/dist-packages (from sqlalchemy>=1.1.0->optuna) (4.11.4)\n",
            "Requirement already satisfied: importlib-resources in /usr/local/lib/python3.7/dist-packages (from alembic->optuna) (5.7.1)\n",
            "Collecting Mako\n",
            "  Downloading Mako-1.2.0-py3-none-any.whl (78 kB)\n",
            "\u001b[K     |████████████████████████████████| 78 kB 8.7 MB/s \n",
            "\u001b[?25hCollecting autopage>=0.4.0\n",
            "  Downloading autopage-0.5.1-py3-none-any.whl (29 kB)\n",
            "Requirement already satisfied: PrettyTable>=0.7.2 in /usr/local/lib/python3.7/dist-packages (from cliff->optuna) (3.3.0)\n",
            "Collecting stevedore>=2.0.1\n",
            "  Downloading stevedore-3.5.0-py3-none-any.whl (49 kB)\n",
            "\u001b[K     |████████████████████████████████| 49 kB 8.0 MB/s \n",
            "\u001b[?25hCollecting pbr!=2.1.0,>=2.0.0\n",
            "  Downloading pbr-5.9.0-py2.py3-none-any.whl (112 kB)\n",
            "\u001b[K     |████████████████████████████████| 112 kB 70.4 MB/s \n",
            "\u001b[?25hCollecting cmd2>=1.0.0\n",
            "  Downloading cmd2-2.4.1-py3-none-any.whl (146 kB)\n",
            "\u001b[K     |████████████████████████████████| 146 kB 69.1 MB/s \n",
            "\u001b[?25hRequirement already satisfied: attrs>=16.3.0 in /usr/local/lib/python3.7/dist-packages (from cmd2>=1.0.0->cliff->optuna) (21.4.0)\n",
            "Collecting pyperclip>=1.6\n",
            "  Downloading pyperclip-1.8.2.tar.gz (20 kB)\n",
            "Requirement already satisfied: wcwidth>=0.1.7 in /usr/local/lib/python3.7/dist-packages (from cmd2>=1.0.0->cliff->optuna) (0.2.5)\n",
            "Requirement already satisfied: typing-extensions in /usr/local/lib/python3.7/dist-packages (from cmd2>=1.0.0->cliff->optuna) (4.2.0)\n",
            "Requirement already satisfied: zipp>=0.5 in /usr/local/lib/python3.7/dist-packages (from importlib-metadata->sqlalchemy>=1.1.0->optuna) (3.8.0)\n",
            "Requirement already satisfied: MarkupSafe>=0.9.2 in /usr/local/lib/python3.7/dist-packages (from Mako->alembic->optuna) (2.0.1)\n",
            "Building wheels for collected packages: pyperclip\n",
            "  Building wheel for pyperclip (setup.py) ... \u001b[?25l\u001b[?25hdone\n",
            "  Created wheel for pyperclip: filename=pyperclip-1.8.2-py3-none-any.whl size=11137 sha256=ba7c135a4a9cb0dac28019e29d768403b97ccd9a93354c0c707283a2acb7196b\n",
            "  Stored in directory: /root/.cache/pip/wheels/9f/18/84/8f69f8b08169c7bae2dde6bd7daf0c19fca8c8e500ee620a28\n",
            "Successfully built pyperclip\n",
            "Installing collected packages: pyperclip, pbr, stevedore, Mako, cmd2, autopage, colorlog, cmaes, cliff, alembic, optuna\n",
            "Successfully installed Mako-1.2.0 alembic-1.8.0 autopage-0.5.1 cliff-3.10.1 cmaes-0.8.2 cmd2-2.4.1 colorlog-6.6.0 optuna-2.10.1 pbr-5.9.0 pyperclip-1.8.2 stevedore-3.5.0\n"
          ]
        }
      ],
      "source": [
        "!pip install optuna"
      ]
    },
    {
      "cell_type": "code",
      "source": [
        "import os\n",
        "\n",
        "import optuna\n",
        "from optuna.trial import TrialState\n",
        "import torch\n",
        "import torch.nn as nn\n",
        "import torch.nn.functional as F\n",
        "import torch.optim as optim\n",
        "import torch.utils.data\n",
        "from torchvision import datasets\n",
        "from torchvision import transforms\n",
        "from torchsummary import summary\n",
        "import numpy as np"
      ],
      "metadata": {
        "id": "MENVL_e_VQnf"
      },
      "execution_count": 92,
      "outputs": []
    },
    {
      "cell_type": "code",
      "source": [
        "DEVICE = torch.device(\"cuda\")\n",
        "BATCHSIZE = 128\n",
        "CLASSES = 100\n",
        "DIR = os.getcwd()\n",
        "EPOCHS = 10\n",
        "N_TRAIN_EXAMPLES = BATCHSIZE * 300\n",
        "N_VALID_EXAMPLES = BATCHSIZE * 100"
      ],
      "metadata": {
        "id": "vhyYP7f_VTQR"
      },
      "execution_count": 125,
      "outputs": []
    },
    {
      "cell_type": "code",
      "source": [
        "def define_model(trial):\n",
        "    # We optimize the number of layers, hidden units and dropout ratio in each layer.\n",
        "    n_layers_Conv = trial.suggest_int(\"n_layers_conv\", 1, 4)\n",
        "    n_layers_Dense = trial.suggest_int(\"n_layers_dense\", 1, 3)\n",
        "    layers = []\n",
        "\n",
        "    #print(f\"{n_layers_Conv} layers Conv and {n_layers_Dense} Dense\")\n",
        "\n",
        "    in_channel = 3\n",
        "    width_height = 32\n",
        "\n",
        "    # convolution layers\n",
        "    for i in range(n_layers_Conv):\n",
        "      n_filters = trial.suggest_categorical(\"filters_{}\".format(i), [16, 32, 64, 128])\n",
        "      n_kernel_size = trial.suggest_categorical(\"kernel_size_{}\".format(i), [3, 5])\n",
        "      n_stride = trial.suggest_categorical(\"strides_{}\".format(i), [1, 2])\n",
        "\n",
        "      # for kernel > image\n",
        "      if (n_kernel_size > width_height):\n",
        "        continue\n",
        "\n",
        "      layers.append(nn.Conv2d(in_channels = in_channel, out_channels= n_filters, kernel_size= n_kernel_size, stride= n_stride,padding='valid'))\n",
        "      layers.append(nn.ReLU())\n",
        "\n",
        "      # get size of convs\n",
        "      TMP = ((width_height - n_kernel_size) // n_stride) + 1\n",
        "      out_shape = (TMP, TMP, n_filters)\n",
        "\n",
        "      #print(f\"in_channels = {in_channel}\\nout_channels = {n_filters}\\nkernel_size = {n_kernel_size}\\nstride = {n_stride}\\nOutput Shape = {out_shape}\")\n",
        "      #print('----------------------------------------------------------------')\n",
        "\n",
        "      width_height = TMP\n",
        "      in_channel = n_filters\n",
        "\n",
        "    # Flatten layer\n",
        "    layers.append(nn.Flatten())\n",
        "    \n",
        "\n",
        "    in_features = out_shape[0] * out_shape[1] * out_shape[2]\n",
        "    #in_features = out_shape[0]\n",
        "    for i in range(n_layers_Dense):\n",
        "        out_features = trial.suggest_int(\"n_units_{}\".format(i), 64, 128)\n",
        "        layers.append(nn.Linear(in_features, out_features))\n",
        "\n",
        "        #print(f\"in_features = {in_features}\\nout_features = {out_features}\")\n",
        "        #print('----------------------------------------------------------------')\n",
        "\n",
        "        layers.append(nn.ReLU())\n",
        "\n",
        "        in_features = out_features\n",
        "\n",
        "    # last Dense layer    \n",
        "    layers.append(nn.Linear(in_features, CLASSES))\n",
        "    #print(f\"in_features = {in_features}\\nout_features = {CLASSES}\")\n",
        "    #print('----------------------------------------------------------------')\n",
        "\n",
        "    #layers.append(nn.LogSoftmax(dim=1))\n",
        "    layers.append(nn.Softmax(dim = 1))\n",
        "\n",
        "    network = nn.Sequential(*layers)\n",
        "    #print('----------------------------------------------------------------')\n",
        "    #summary(network, (3, 32, 32))\n",
        "    #print('----------------------------------------------------------------')\n",
        "\n",
        "    return network"
      ],
      "metadata": {
        "id": "Dzu9gIwWVbZh"
      },
      "execution_count": 132,
      "outputs": []
    },
    {
      "cell_type": "code",
      "source": [
        "def get_CIFAR100():\n",
        "    # Load FashionMNIST dataset.\n",
        "    train_loader = torch.utils.data.DataLoader(\n",
        "        datasets.CIFAR100(DIR, train=True, download=True, transform=transforms.ToTensor()),\n",
        "        batch_size=BATCHSIZE,\n",
        "        shuffle=True,\n",
        "    )\n",
        "    valid_loader = torch.utils.data.DataLoader(\n",
        "        datasets.CIFAR100(DIR, train=False, transform=transforms.ToTensor()),\n",
        "        batch_size=BATCHSIZE,\n",
        "        shuffle=True,\n",
        "    )\n",
        "\n",
        "    return train_loader, valid_loader"
      ],
      "metadata": {
        "id": "wpmjnd_qarVa"
      },
      "execution_count": 122,
      "outputs": []
    },
    {
      "cell_type": "code",
      "source": [
        "def objective(trial):\n",
        "\n",
        "    # Generate the model.\n",
        "    model = define_model(trial).to(DEVICE)\n",
        "\n",
        "    # Generate the optimizers.\n",
        "    optimizer_name = trial.suggest_categorical(\"optimizer\", [\"Adam\", \"RMSprop\", \"SGD\"])\n",
        "    lr = trial.suggest_float(\"lr\", 1e-5, 1e-1, log=True)\n",
        "    optimizer = getattr(optim, optimizer_name)(model.parameters(), lr=lr)\n",
        "\n",
        "    # Get the CIFAR100 dataset.\n",
        "    train_loader, valid_loader = get_CIFAR100()\n",
        "\n",
        "    # Training of the model.\n",
        "    for epoch in range(EPOCHS):\n",
        "        model.train()\n",
        "        for batch_idx, (data, target) in enumerate(train_loader):\n",
        "\n",
        "            # Limiting training data for faster epochs.\n",
        "            if batch_idx * BATCHSIZE >= N_TRAIN_EXAMPLES:\n",
        "                break\n",
        "            \n",
        "            data, target = data.to(DEVICE), target.to(DEVICE)\n",
        "\n",
        "            optimizer.zero_grad()\n",
        "            output = model(data)\n",
        "            loss = F.nll_loss(output, target)\n",
        "            loss.backward()\n",
        "            optimizer.step()\n",
        "\n",
        "        # Validation of the model.\n",
        "        model.eval()\n",
        "        correct = 0\n",
        "        with torch.no_grad():\n",
        "            for batch_idx, (data, target) in enumerate(valid_loader):\n",
        "                # Limiting validation data.\n",
        "                if batch_idx * BATCHSIZE >= N_VALID_EXAMPLES:\n",
        "                    break\n",
        "                data, target = data.to(DEVICE), target.to(DEVICE)\n",
        "                output = model(data)\n",
        "                # Get the index of the max log-probability.\n",
        "                pred = output.argmax(dim=1, keepdim=True)\n",
        "                correct += pred.eq(target.view_as(pred)).sum().item()\n",
        "\n",
        "        accuracy = correct / min(len(valid_loader.dataset), N_VALID_EXAMPLES)\n",
        "\n",
        "        trial.report(accuracy, epoch)\n",
        "\n",
        "        # Handle pruning based on the intermediate value.\n",
        "        #if trial.should_prune():\n",
        "            #raise optuna.exceptions.TrialPruned()\n",
        "\n",
        "    return accuracy"
      ],
      "metadata": {
        "id": "aJSnRNBna0xA"
      },
      "execution_count": 121,
      "outputs": []
    },
    {
      "cell_type": "markdown",
      "source": [
        "# Q4_B\n",
        "## Run 1"
      ],
      "metadata": {
        "id": "ughG_uj6_fd0"
      }
    },
    {
      "cell_type": "code",
      "source": [
        "if __name__ == \"__main__\":\n",
        "    study = optuna.create_study(direction=\"maximize\")\n",
        "    study.optimize(objective, timeout=600)\n",
        "\n",
        "    #pruned_trials = study.get_trials(deepcopy=False, states=[TrialState.PRUNED])\n",
        "    complete_trials = study.get_trials(deepcopy=False, states=[TrialState.COMPLETE])\n",
        "\n",
        "    print(\"Study statistics: \")\n",
        "    print(\"  Number of finished trials: \", len(study.trials))\n",
        "    #print(\"  Number of pruned trials: \", len(pruned_trials))\n",
        "    print(\"  Number of complete trials: \", len(complete_trials))\n",
        "\n",
        "    print(\"Best trial:\")\n",
        "    trial = study.best_trial\n",
        "\n",
        "    print(\"  Value: \", trial.value)\n",
        "\n",
        "    print(\"  Params: \")\n",
        "    for key, value in trial.params.items():\n",
        "        print(\"    {}: {}\".format(key, value))"
      ],
      "metadata": {
        "colab": {
          "base_uri": "https://localhost:8080/"
        },
        "id": "SbB4viDoa6un",
        "outputId": "95893ace-2b68-4b7b-badd-790be1805fe0"
      },
      "execution_count": 130,
      "outputs": [
        {
          "output_type": "stream",
          "name": "stderr",
          "text": [
            "\u001b[32m[I 2022-06-16 14:37:48,413]\u001b[0m A new study created in memory with name: no-name-2a821240-963c-44da-9a96-487e2adeec2a\u001b[0m\n"
          ]
        },
        {
          "output_type": "stream",
          "name": "stdout",
          "text": [
            "Files already downloaded and verified\n"
          ]
        },
        {
          "output_type": "stream",
          "name": "stderr",
          "text": [
            "\u001b[32m[I 2022-06-16 14:38:54,858]\u001b[0m Trial 0 finished with value: 0.01 and parameters: {'n_layers_conv': 4, 'n_layers_dense': 3, 'filters_0': 16, 'kernel_size_0': 3, 'strides_0': 1, 'filters_1': 16, 'kernel_size_1': 5, 'strides_1': 2, 'filters_2': 128, 'kernel_size_2': 3, 'strides_2': 2, 'filters_3': 32, 'kernel_size_3': 5, 'strides_3': 2, 'n_units_0': 128, 'dropout_0': 0.495118504751762, 'n_units_1': 109, 'dropout_1': 0.49642993965099325, 'n_units_2': 73, 'dropout_2': 0.28303117688504814, 'optimizer': 'RMSprop', 'lr': 0.0026043548118035347}. Best is trial 0 with value: 0.01.\u001b[0m\n"
          ]
        },
        {
          "output_type": "stream",
          "name": "stdout",
          "text": [
            "Files already downloaded and verified\n"
          ]
        },
        {
          "output_type": "stream",
          "name": "stderr",
          "text": [
            "\u001b[32m[I 2022-06-16 14:40:18,511]\u001b[0m Trial 1 finished with value: 0.0657 and parameters: {'n_layers_conv': 3, 'n_layers_dense': 1, 'filters_0': 32, 'kernel_size_0': 3, 'strides_0': 1, 'filters_1': 32, 'kernel_size_1': 3, 'strides_1': 1, 'filters_2': 128, 'kernel_size_2': 5, 'strides_2': 1, 'n_units_0': 82, 'dropout_0': 0.2585625969071337, 'optimizer': 'Adam', 'lr': 0.00010247187950542526}. Best is trial 1 with value: 0.0657.\u001b[0m\n"
          ]
        },
        {
          "output_type": "stream",
          "name": "stdout",
          "text": [
            "Files already downloaded and verified\n"
          ]
        },
        {
          "output_type": "stream",
          "name": "stderr",
          "text": [
            "\u001b[32m[I 2022-06-16 14:41:25,592]\u001b[0m Trial 2 finished with value: 0.0337 and parameters: {'n_layers_conv': 3, 'n_layers_dense': 3, 'filters_0': 128, 'kernel_size_0': 3, 'strides_0': 2, 'filters_1': 128, 'kernel_size_1': 5, 'strides_1': 1, 'filters_2': 16, 'kernel_size_2': 5, 'strides_2': 2, 'n_units_0': 96, 'dropout_0': 0.2662725283166142, 'n_units_1': 121, 'dropout_1': 0.40274488052650437, 'n_units_2': 100, 'dropout_2': 0.3259582988099867, 'optimizer': 'Adam', 'lr': 8.418019482597336e-05}. Best is trial 1 with value: 0.0657.\u001b[0m\n"
          ]
        },
        {
          "output_type": "stream",
          "name": "stdout",
          "text": [
            "Files already downloaded and verified\n"
          ]
        },
        {
          "output_type": "stream",
          "name": "stderr",
          "text": [
            "\u001b[32m[I 2022-06-16 14:42:55,298]\u001b[0m Trial 3 finished with value: 0.0255 and parameters: {'n_layers_conv': 4, 'n_layers_dense': 3, 'filters_0': 64, 'kernel_size_0': 5, 'strides_0': 1, 'filters_1': 64, 'kernel_size_1': 5, 'strides_1': 1, 'filters_2': 128, 'kernel_size_2': 3, 'strides_2': 2, 'filters_3': 128, 'kernel_size_3': 5, 'strides_3': 2, 'n_units_0': 107, 'dropout_0': 0.3965145362528265, 'n_units_1': 80, 'dropout_1': 0.2436693138543643, 'n_units_2': 115, 'dropout_2': 0.34985917101939346, 'optimizer': 'RMSprop', 'lr': 2.1788715337650797e-05}. Best is trial 1 with value: 0.0657.\u001b[0m\n"
          ]
        },
        {
          "output_type": "stream",
          "name": "stdout",
          "text": [
            "Files already downloaded and verified\n"
          ]
        },
        {
          "output_type": "stream",
          "name": "stderr",
          "text": [
            "\u001b[32m[I 2022-06-16 14:44:00,011]\u001b[0m Trial 4 finished with value: 0.01 and parameters: {'n_layers_conv': 2, 'n_layers_dense': 3, 'filters_0': 128, 'kernel_size_0': 5, 'strides_0': 2, 'filters_1': 64, 'kernel_size_1': 3, 'strides_1': 1, 'n_units_0': 112, 'dropout_0': 0.4708023110983472, 'n_units_1': 96, 'dropout_1': 0.38421585596665997, 'n_units_2': 93, 'dropout_2': 0.3490846883793555, 'optimizer': 'RMSprop', 'lr': 0.004429902798600384}. Best is trial 1 with value: 0.0657.\u001b[0m\n"
          ]
        },
        {
          "output_type": "stream",
          "name": "stdout",
          "text": [
            "Files already downloaded and verified\n"
          ]
        },
        {
          "output_type": "stream",
          "name": "stderr",
          "text": [
            "\u001b[32m[I 2022-06-16 14:45:02,161]\u001b[0m Trial 5 finished with value: 0.0086 and parameters: {'n_layers_conv': 1, 'n_layers_dense': 3, 'filters_0': 128, 'kernel_size_0': 5, 'strides_0': 1, 'n_units_0': 73, 'dropout_0': 0.3427675216861815, 'n_units_1': 110, 'dropout_1': 0.4818637024732323, 'n_units_2': 114, 'dropout_2': 0.23470356610544185, 'optimizer': 'SGD', 'lr': 0.00023900550980722728}. Best is trial 1 with value: 0.0657.\u001b[0m\n"
          ]
        },
        {
          "output_type": "stream",
          "name": "stdout",
          "text": [
            "Files already downloaded and verified\n"
          ]
        },
        {
          "output_type": "stream",
          "name": "stderr",
          "text": [
            "\u001b[32m[I 2022-06-16 14:46:06,376]\u001b[0m Trial 6 finished with value: 0.01 and parameters: {'n_layers_conv': 3, 'n_layers_dense': 3, 'filters_0': 32, 'kernel_size_0': 5, 'strides_0': 1, 'filters_1': 64, 'kernel_size_1': 3, 'strides_1': 2, 'filters_2': 64, 'kernel_size_2': 5, 'strides_2': 2, 'n_units_0': 114, 'dropout_0': 0.2816065901880522, 'n_units_1': 103, 'dropout_1': 0.39844979790855606, 'n_units_2': 126, 'dropout_2': 0.24816507304962881, 'optimizer': 'SGD', 'lr': 0.00015879645685651478}. Best is trial 1 with value: 0.0657.\u001b[0m\n"
          ]
        },
        {
          "output_type": "stream",
          "name": "stdout",
          "text": [
            "Files already downloaded and verified\n"
          ]
        },
        {
          "output_type": "stream",
          "name": "stderr",
          "text": [
            "\u001b[32m[I 2022-06-16 14:47:11,630]\u001b[0m Trial 7 finished with value: 0.01 and parameters: {'n_layers_conv': 4, 'n_layers_dense': 3, 'filters_0': 32, 'kernel_size_0': 5, 'strides_0': 1, 'filters_1': 32, 'kernel_size_1': 3, 'strides_1': 1, 'filters_2': 32, 'kernel_size_2': 3, 'strides_2': 2, 'filters_3': 64, 'kernel_size_3': 5, 'strides_3': 2, 'n_units_0': 106, 'dropout_0': 0.28346881620527525, 'n_units_1': 103, 'dropout_1': 0.3783633031867276, 'n_units_2': 68, 'dropout_2': 0.35402994584556824, 'optimizer': 'SGD', 'lr': 0.0074126136260227755}. Best is trial 1 with value: 0.0657.\u001b[0m\n"
          ]
        },
        {
          "output_type": "stream",
          "name": "stdout",
          "text": [
            "Files already downloaded and verified\n"
          ]
        },
        {
          "output_type": "stream",
          "name": "stderr",
          "text": [
            "\u001b[32m[I 2022-06-16 14:48:15,478]\u001b[0m Trial 8 finished with value: 0.01 and parameters: {'n_layers_conv': 3, 'n_layers_dense': 3, 'filters_0': 32, 'kernel_size_0': 3, 'strides_0': 2, 'filters_1': 16, 'kernel_size_1': 3, 'strides_1': 1, 'filters_2': 128, 'kernel_size_2': 3, 'strides_2': 2, 'n_units_0': 90, 'dropout_0': 0.22330471710255667, 'n_units_1': 75, 'dropout_1': 0.21877381597001344, 'n_units_2': 94, 'dropout_2': 0.26963192274000086, 'optimizer': 'SGD', 'lr': 1.918548588463614e-05}. Best is trial 1 with value: 0.0657.\u001b[0m\n"
          ]
        },
        {
          "output_type": "stream",
          "name": "stdout",
          "text": [
            "Study statistics: \n",
            "  Number of finished trials:  9\n",
            "  Number of complete trials:  9\n",
            "Best trial:\n",
            "  Value:  0.0657\n",
            "  Params: \n",
            "    n_layers_conv: 3\n",
            "    n_layers_dense: 1\n",
            "    filters_0: 32\n",
            "    kernel_size_0: 3\n",
            "    strides_0: 1\n",
            "    filters_1: 32\n",
            "    kernel_size_1: 3\n",
            "    strides_1: 1\n",
            "    filters_2: 128\n",
            "    kernel_size_2: 5\n",
            "    strides_2: 1\n",
            "    n_units_0: 82\n",
            "    dropout_0: 0.2585625969071337\n",
            "    optimizer: Adam\n",
            "    lr: 0.00010247187950542526\n"
          ]
        }
      ]
    },
    {
      "cell_type": "markdown",
      "source": [
        "# Q4_B\n",
        "## Run 2 (without TimeOut)"
      ],
      "metadata": {
        "id": "t4x4CNf1_kAM"
      }
    },
    {
      "cell_type": "code",
      "source": [
        "if __name__ == \"__main__\":\n",
        "    study = optuna.create_study(direction=\"maximize\")\n",
        "    study.optimize(objective)\n",
        "\n",
        "    #pruned_trials = study.get_trials(deepcopy=False, states=[TrialState.PRUNED])\n",
        "    complete_trials = study.get_trials(deepcopy=False, states=[TrialState.COMPLETE])\n",
        "\n",
        "    print(\"Study statistics: \")\n",
        "    print(\"  Number of finished trials: \", len(study.trials))\n",
        "    #print(\"  Number of pruned trials: \", len(pruned_trials))\n",
        "    print(\"  Number of complete trials: \", len(complete_trials))\n",
        "\n",
        "    print(\"Best trial:\")\n",
        "    trial = study.best_trial\n",
        "\n",
        "    print(\"  Value: \", trial.value)\n",
        "\n",
        "    print(\"  Params: \")\n",
        "    for key, value in trial.params.items():\n",
        "        print(\"    {}: {}\".format(key, value))"
      ],
      "metadata": {
        "colab": {
          "base_uri": "https://localhost:8080/"
        },
        "id": "0MtoVqD-bCZP",
        "outputId": "c9199895-2cd3-4deb-c83e-068953f21908"
      },
      "execution_count": null,
      "outputs": [
        {
          "output_type": "stream",
          "name": "stderr",
          "text": [
            "\u001b[32m[I 2022-06-16 14:50:26,261]\u001b[0m A new study created in memory with name: no-name-435cf050-910b-41dc-9908-a35998e53900\u001b[0m\n"
          ]
        },
        {
          "output_type": "stream",
          "name": "stdout",
          "text": [
            "Files already downloaded and verified\n"
          ]
        },
        {
          "output_type": "stream",
          "name": "stderr",
          "text": [
            "\u001b[32m[I 2022-06-16 14:51:28,442]\u001b[0m Trial 0 finished with value: 0.01 and parameters: {'n_layers_conv': 3, 'n_layers_dense': 2, 'filters_0': 16, 'kernel_size_0': 5, 'strides_0': 2, 'filters_1': 16, 'kernel_size_1': 3, 'strides_1': 2, 'filters_2': 16, 'kernel_size_2': 5, 'strides_2': 2, 'n_units_0': 99, 'n_units_1': 81, 'optimizer': 'SGD', 'lr': 0.042299509527924294}. Best is trial 0 with value: 0.01.\u001b[0m\n"
          ]
        },
        {
          "output_type": "stream",
          "name": "stdout",
          "text": [
            "Files already downloaded and verified\n"
          ]
        },
        {
          "output_type": "stream",
          "name": "stderr",
          "text": [
            "\u001b[32m[I 2022-06-16 14:52:32,943]\u001b[0m Trial 1 finished with value: 0.0529 and parameters: {'n_layers_conv': 2, 'n_layers_dense': 3, 'filters_0': 64, 'kernel_size_0': 5, 'strides_0': 1, 'filters_1': 16, 'kernel_size_1': 5, 'strides_1': 1, 'n_units_0': 72, 'n_units_1': 128, 'n_units_2': 72, 'optimizer': 'RMSprop', 'lr': 1.9636580084885864e-05}. Best is trial 1 with value: 0.0529.\u001b[0m\n"
          ]
        },
        {
          "output_type": "stream",
          "name": "stdout",
          "text": [
            "Files already downloaded and verified\n"
          ]
        },
        {
          "output_type": "stream",
          "name": "stderr",
          "text": [
            "\u001b[32m[I 2022-06-16 14:53:36,404]\u001b[0m Trial 2 finished with value: 0.01 and parameters: {'n_layers_conv': 4, 'n_layers_dense': 1, 'filters_0': 64, 'kernel_size_0': 5, 'strides_0': 1, 'filters_1': 16, 'kernel_size_1': 5, 'strides_1': 2, 'filters_2': 64, 'kernel_size_2': 3, 'strides_2': 2, 'filters_3': 64, 'kernel_size_3': 3, 'strides_3': 2, 'n_units_0': 73, 'optimizer': 'SGD', 'lr': 0.07450193043868535}. Best is trial 1 with value: 0.0529.\u001b[0m\n"
          ]
        },
        {
          "output_type": "stream",
          "name": "stdout",
          "text": [
            "Files already downloaded and verified\n"
          ]
        },
        {
          "output_type": "stream",
          "name": "stderr",
          "text": [
            "\u001b[32m[I 2022-06-16 14:54:40,774]\u001b[0m Trial 3 finished with value: 0.0285 and parameters: {'n_layers_conv': 4, 'n_layers_dense': 3, 'filters_0': 32, 'kernel_size_0': 5, 'strides_0': 2, 'filters_1': 32, 'kernel_size_1': 5, 'strides_1': 2, 'filters_2': 64, 'kernel_size_2': 5, 'strides_2': 1, 'filters_3': 128, 'kernel_size_3': 3, 'strides_3': 2, 'n_units_0': 79, 'n_units_1': 116, 'n_units_2': 127, 'optimizer': 'RMSprop', 'lr': 1.8549454649806157e-05}. Best is trial 1 with value: 0.0529.\u001b[0m\n"
          ]
        },
        {
          "output_type": "stream",
          "name": "stdout",
          "text": [
            "Files already downloaded and verified\n"
          ]
        },
        {
          "output_type": "stream",
          "name": "stderr",
          "text": [
            "\u001b[32m[I 2022-06-16 14:55:41,671]\u001b[0m Trial 4 finished with value: 0.0581 and parameters: {'n_layers_conv': 1, 'n_layers_dense': 3, 'filters_0': 32, 'kernel_size_0': 5, 'strides_0': 1, 'n_units_0': 92, 'n_units_1': 96, 'n_units_2': 93, 'optimizer': 'RMSprop', 'lr': 6.702496390018957e-05}. Best is trial 4 with value: 0.0581.\u001b[0m\n"
          ]
        },
        {
          "output_type": "stream",
          "name": "stdout",
          "text": [
            "Files already downloaded and verified\n"
          ]
        },
        {
          "output_type": "stream",
          "name": "stderr",
          "text": [
            "\u001b[32m[I 2022-06-16 14:56:46,314]\u001b[0m Trial 5 finished with value: 0.0511 and parameters: {'n_layers_conv': 3, 'n_layers_dense': 3, 'filters_0': 64, 'kernel_size_0': 5, 'strides_0': 1, 'filters_1': 64, 'kernel_size_1': 5, 'strides_1': 2, 'filters_2': 16, 'kernel_size_2': 3, 'strides_2': 2, 'n_units_0': 114, 'n_units_1': 77, 'n_units_2': 86, 'optimizer': 'RMSprop', 'lr': 9.81947197209087e-05}. Best is trial 4 with value: 0.0581.\u001b[0m\n"
          ]
        },
        {
          "output_type": "stream",
          "name": "stdout",
          "text": [
            "Files already downloaded and verified\n"
          ]
        },
        {
          "output_type": "stream",
          "name": "stderr",
          "text": [
            "\u001b[32m[I 2022-06-16 14:57:50,475]\u001b[0m Trial 6 finished with value: 0.0361 and parameters: {'n_layers_conv': 3, 'n_layers_dense': 2, 'filters_0': 16, 'kernel_size_0': 5, 'strides_0': 1, 'filters_1': 16, 'kernel_size_1': 5, 'strides_1': 1, 'filters_2': 32, 'kernel_size_2': 3, 'strides_2': 2, 'n_units_0': 93, 'n_units_1': 115, 'optimizer': 'Adam', 'lr': 0.0006007231997387604}. Best is trial 4 with value: 0.0581.\u001b[0m\n"
          ]
        },
        {
          "output_type": "stream",
          "name": "stdout",
          "text": [
            "Files already downloaded and verified\n"
          ]
        },
        {
          "output_type": "stream",
          "name": "stderr",
          "text": [
            "\u001b[32m[I 2022-06-16 14:58:49,200]\u001b[0m Trial 7 finished with value: 0.0112 and parameters: {'n_layers_conv': 1, 'n_layers_dense': 2, 'filters_0': 64, 'kernel_size_0': 3, 'strides_0': 2, 'n_units_0': 125, 'n_units_1': 120, 'optimizer': 'SGD', 'lr': 0.00745870547830221}. Best is trial 4 with value: 0.0581.\u001b[0m\n"
          ]
        },
        {
          "output_type": "stream",
          "name": "stdout",
          "text": [
            "Files already downloaded and verified\n"
          ]
        },
        {
          "output_type": "stream",
          "name": "stderr",
          "text": [
            "\u001b[32m[I 2022-06-16 14:59:49,426]\u001b[0m Trial 8 finished with value: 0.01 and parameters: {'n_layers_conv': 1, 'n_layers_dense': 3, 'filters_0': 16, 'kernel_size_0': 3, 'strides_0': 2, 'n_units_0': 68, 'n_units_1': 90, 'n_units_2': 81, 'optimizer': 'SGD', 'lr': 0.011873635925120585}. Best is trial 4 with value: 0.0581.\u001b[0m\n"
          ]
        },
        {
          "output_type": "stream",
          "name": "stdout",
          "text": [
            "Files already downloaded and verified\n"
          ]
        },
        {
          "output_type": "stream",
          "name": "stderr",
          "text": [
            "\u001b[32m[I 2022-06-16 15:00:55,269]\u001b[0m Trial 9 finished with value: 0.01 and parameters: {'n_layers_conv': 4, 'n_layers_dense': 3, 'filters_0': 64, 'kernel_size_0': 5, 'strides_0': 1, 'filters_1': 64, 'kernel_size_1': 3, 'strides_1': 2, 'filters_2': 16, 'kernel_size_2': 5, 'strides_2': 2, 'filters_3': 32, 'kernel_size_3': 5, 'strides_3': 2, 'n_units_0': 112, 'n_units_1': 80, 'n_units_2': 119, 'optimizer': 'RMSprop', 'lr': 0.04429755559600879}. Best is trial 4 with value: 0.0581.\u001b[0m\n"
          ]
        },
        {
          "output_type": "stream",
          "name": "stdout",
          "text": [
            "Files already downloaded and verified\n"
          ]
        },
        {
          "output_type": "stream",
          "name": "stderr",
          "text": [
            "\u001b[32m[I 2022-06-16 15:02:21,334]\u001b[0m Trial 10 finished with value: 0.0751 and parameters: {'n_layers_conv': 2, 'n_layers_dense': 1, 'filters_0': 128, 'kernel_size_0': 3, 'strides_0': 1, 'filters_1': 128, 'kernel_size_1': 3, 'strides_1': 1, 'n_units_0': 87, 'optimizer': 'Adam', 'lr': 0.00032832469554638195}. Best is trial 10 with value: 0.0751.\u001b[0m\n"
          ]
        },
        {
          "output_type": "stream",
          "name": "stdout",
          "text": [
            "Files already downloaded and verified\n"
          ]
        },
        {
          "output_type": "stream",
          "name": "stderr",
          "text": [
            "\u001b[32m[I 2022-06-16 15:03:47,726]\u001b[0m Trial 11 finished with value: 0.09 and parameters: {'n_layers_conv': 2, 'n_layers_dense': 1, 'filters_0': 128, 'kernel_size_0': 3, 'strides_0': 1, 'filters_1': 128, 'kernel_size_1': 3, 'strides_1': 1, 'n_units_0': 88, 'optimizer': 'Adam', 'lr': 0.0002869083610604879}. Best is trial 11 with value: 0.09.\u001b[0m\n"
          ]
        },
        {
          "output_type": "stream",
          "name": "stdout",
          "text": [
            "Files already downloaded and verified\n"
          ]
        },
        {
          "output_type": "stream",
          "name": "stderr",
          "text": [
            "\u001b[32m[I 2022-06-16 15:05:12,760]\u001b[0m Trial 12 finished with value: 0.0729 and parameters: {'n_layers_conv': 2, 'n_layers_dense': 1, 'filters_0': 128, 'kernel_size_0': 3, 'strides_0': 1, 'filters_1': 128, 'kernel_size_1': 3, 'strides_1': 1, 'n_units_0': 84, 'optimizer': 'Adam', 'lr': 0.0006272002473854301}. Best is trial 11 with value: 0.09.\u001b[0m\n"
          ]
        },
        {
          "output_type": "stream",
          "name": "stdout",
          "text": [
            "Files already downloaded and verified\n"
          ]
        },
        {
          "output_type": "stream",
          "name": "stderr",
          "text": [
            "\u001b[32m[I 2022-06-16 15:06:41,299]\u001b[0m Trial 13 finished with value: 0.0637 and parameters: {'n_layers_conv': 2, 'n_layers_dense': 1, 'filters_0': 128, 'kernel_size_0': 3, 'strides_0': 1, 'filters_1': 128, 'kernel_size_1': 3, 'strides_1': 1, 'n_units_0': 100, 'optimizer': 'Adam', 'lr': 0.00017267843575874097}. Best is trial 11 with value: 0.09.\u001b[0m\n"
          ]
        },
        {
          "output_type": "stream",
          "name": "stdout",
          "text": [
            "Files already downloaded and verified\n"
          ]
        },
        {
          "output_type": "stream",
          "name": "stderr",
          "text": [
            "\u001b[32m[I 2022-06-16 15:08:04,439]\u001b[0m Trial 14 finished with value: 0.01 and parameters: {'n_layers_conv': 2, 'n_layers_dense': 1, 'filters_0': 128, 'kernel_size_0': 3, 'strides_0': 1, 'filters_1': 128, 'kernel_size_1': 3, 'strides_1': 1, 'n_units_0': 85, 'optimizer': 'Adam', 'lr': 0.0019383083683876575}. Best is trial 11 with value: 0.09.\u001b[0m\n"
          ]
        },
        {
          "output_type": "stream",
          "name": "stdout",
          "text": [
            "Files already downloaded and verified\n"
          ]
        },
        {
          "output_type": "stream",
          "name": "stderr",
          "text": [
            "\u001b[32m[I 2022-06-16 15:09:31,284]\u001b[0m Trial 15 finished with value: 0.01 and parameters: {'n_layers_conv': 2, 'n_layers_dense': 1, 'filters_0': 128, 'kernel_size_0': 3, 'strides_0': 1, 'filters_1': 128, 'kernel_size_1': 3, 'strides_1': 1, 'n_units_0': 109, 'optimizer': 'Adam', 'lr': 0.002279470232861603}. Best is trial 11 with value: 0.09.\u001b[0m\n"
          ]
        },
        {
          "output_type": "stream",
          "name": "stdout",
          "text": [
            "Files already downloaded and verified\n"
          ]
        },
        {
          "output_type": "stream",
          "name": "stderr",
          "text": [
            "\u001b[32m[I 2022-06-16 15:11:43,689]\u001b[0m Trial 16 finished with value: 0.01 and parameters: {'n_layers_conv': 3, 'n_layers_dense': 1, 'filters_0': 128, 'kernel_size_0': 3, 'strides_0': 1, 'filters_1': 128, 'kernel_size_1': 3, 'strides_1': 1, 'filters_2': 128, 'kernel_size_2': 5, 'strides_2': 1, 'n_units_0': 64, 'optimizer': 'Adam', 'lr': 0.0002870703983917263}. Best is trial 11 with value: 0.09.\u001b[0m\n"
          ]
        },
        {
          "output_type": "stream",
          "name": "stdout",
          "text": [
            "Files already downloaded and verified\n"
          ]
        },
        {
          "output_type": "stream",
          "name": "stderr",
          "text": [
            "\u001b[32m[I 2022-06-16 15:12:47,037]\u001b[0m Trial 17 finished with value: 0.0727 and parameters: {'n_layers_conv': 1, 'n_layers_dense': 2, 'filters_0': 128, 'kernel_size_0': 3, 'strides_0': 1, 'n_units_0': 86, 'n_units_1': 65, 'optimizer': 'Adam', 'lr': 6.0873703710910756e-05}. Best is trial 11 with value: 0.09.\u001b[0m\n"
          ]
        },
        {
          "output_type": "stream",
          "name": "stdout",
          "text": [
            "Files already downloaded and verified\n"
          ]
        },
        {
          "output_type": "stream",
          "name": "stderr",
          "text": [
            "\u001b[32m[I 2022-06-16 15:13:50,941]\u001b[0m Trial 18 finished with value: 0.01 and parameters: {'n_layers_conv': 2, 'n_layers_dense': 2, 'filters_0': 128, 'kernel_size_0': 3, 'strides_0': 2, 'filters_1': 32, 'kernel_size_1': 3, 'strides_1': 1, 'n_units_0': 106, 'n_units_1': 105, 'optimizer': 'Adam', 'lr': 0.0016859563994127355}. Best is trial 11 with value: 0.09.\u001b[0m\n"
          ]
        },
        {
          "output_type": "stream",
          "name": "stdout",
          "text": [
            "Files already downloaded and verified\n"
          ]
        },
        {
          "output_type": "stream",
          "name": "stderr",
          "text": [
            "\u001b[32m[I 2022-06-16 15:15:54,770]\u001b[0m Trial 19 finished with value: 0.01 and parameters: {'n_layers_conv': 3, 'n_layers_dense': 1, 'filters_0': 128, 'kernel_size_0': 3, 'strides_0': 1, 'filters_1': 128, 'kernel_size_1': 3, 'strides_1': 1, 'filters_2': 128, 'kernel_size_2': 3, 'strides_2': 1, 'n_units_0': 78, 'optimizer': 'Adam', 'lr': 0.0003020633490706395}. Best is trial 11 with value: 0.09.\u001b[0m\n"
          ]
        },
        {
          "output_type": "stream",
          "name": "stdout",
          "text": [
            "Files already downloaded and verified\n"
          ]
        },
        {
          "output_type": "stream",
          "name": "stderr",
          "text": [
            "\u001b[32m[I 2022-06-16 15:16:55,439]\u001b[0m Trial 20 finished with value: 0.01 and parameters: {'n_layers_conv': 1, 'n_layers_dense': 1, 'filters_0': 32, 'kernel_size_0': 3, 'strides_0': 1, 'n_units_0': 88, 'optimizer': 'Adam', 'lr': 0.008308842653563981}. Best is trial 11 with value: 0.09.\u001b[0m\n"
          ]
        },
        {
          "output_type": "stream",
          "name": "stdout",
          "text": [
            "Files already downloaded and verified\n"
          ]
        },
        {
          "output_type": "stream",
          "name": "stderr",
          "text": [
            "\u001b[32m[I 2022-06-16 15:18:19,111]\u001b[0m Trial 21 finished with value: 0.01 and parameters: {'n_layers_conv': 2, 'n_layers_dense': 1, 'filters_0': 128, 'kernel_size_0': 3, 'strides_0': 1, 'filters_1': 128, 'kernel_size_1': 3, 'strides_1': 1, 'n_units_0': 85, 'optimizer': 'Adam', 'lr': 0.0007021501883177794}. Best is trial 11 with value: 0.09.\u001b[0m\n"
          ]
        },
        {
          "output_type": "stream",
          "name": "stdout",
          "text": [
            "Files already downloaded and verified\n"
          ]
        },
        {
          "output_type": "stream",
          "name": "stderr",
          "text": [
            "\u001b[32m[I 2022-06-16 15:19:42,108]\u001b[0m Trial 22 finished with value: 0.01 and parameters: {'n_layers_conv': 2, 'n_layers_dense': 1, 'filters_0': 128, 'kernel_size_0': 3, 'strides_0': 1, 'filters_1': 128, 'kernel_size_1': 3, 'strides_1': 1, 'n_units_0': 80, 'optimizer': 'Adam', 'lr': 0.00048440341953910165}. Best is trial 11 with value: 0.09.\u001b[0m\n"
          ]
        },
        {
          "output_type": "stream",
          "name": "stdout",
          "text": [
            "Files already downloaded and verified\n"
          ]
        },
        {
          "output_type": "stream",
          "name": "stderr",
          "text": [
            "\u001b[32m[I 2022-06-16 15:21:09,913]\u001b[0m Trial 23 finished with value: 0.0874 and parameters: {'n_layers_conv': 2, 'n_layers_dense': 1, 'filters_0': 128, 'kernel_size_0': 3, 'strides_0': 1, 'filters_1': 128, 'kernel_size_1': 3, 'strides_1': 1, 'n_units_0': 92, 'optimizer': 'Adam', 'lr': 0.0001724135705509861}. Best is trial 11 with value: 0.09.\u001b[0m\n"
          ]
        },
        {
          "output_type": "stream",
          "name": "stdout",
          "text": [
            "Files already downloaded and verified\n"
          ]
        },
        {
          "output_type": "stream",
          "name": "stderr",
          "text": [
            "\u001b[32m[I 2022-06-16 15:22:38,871]\u001b[0m Trial 24 finished with value: 0.0645 and parameters: {'n_layers_conv': 2, 'n_layers_dense': 1, 'filters_0': 128, 'kernel_size_0': 3, 'strides_0': 1, 'filters_1': 128, 'kernel_size_1': 3, 'strides_1': 1, 'n_units_0': 96, 'optimizer': 'Adam', 'lr': 3.60698611272346e-05}. Best is trial 11 with value: 0.09.\u001b[0m\n"
          ]
        },
        {
          "output_type": "stream",
          "name": "stdout",
          "text": [
            "Files already downloaded and verified\n"
          ]
        },
        {
          "output_type": "stream",
          "name": "stderr",
          "text": [
            "\u001b[32m[I 2022-06-16 15:24:15,833]\u001b[0m Trial 25 finished with value: 0.0678 and parameters: {'n_layers_conv': 3, 'n_layers_dense': 2, 'filters_0': 128, 'kernel_size_0': 3, 'strides_0': 1, 'filters_1': 128, 'kernel_size_1': 3, 'strides_1': 1, 'filters_2': 32, 'kernel_size_2': 3, 'strides_2': 1, 'n_units_0': 91, 'n_units_1': 67, 'optimizer': 'Adam', 'lr': 0.00015543723677337196}. Best is trial 11 with value: 0.09.\u001b[0m\n"
          ]
        },
        {
          "output_type": "stream",
          "name": "stdout",
          "text": [
            "Files already downloaded and verified\n"
          ]
        },
        {
          "output_type": "stream",
          "name": "stderr",
          "text": [
            "\u001b[32m[I 2022-06-16 15:25:17,320]\u001b[0m Trial 26 finished with value: 0.0466 and parameters: {'n_layers_conv': 2, 'n_layers_dense': 1, 'filters_0': 128, 'kernel_size_0': 3, 'strides_0': 2, 'filters_1': 32, 'kernel_size_1': 3, 'strides_1': 1, 'n_units_0': 103, 'optimizer': 'Adam', 'lr': 1.0037205661328614e-05}. Best is trial 11 with value: 0.09.\u001b[0m\n"
          ]
        },
        {
          "output_type": "stream",
          "name": "stdout",
          "text": [
            "Files already downloaded and verified\n"
          ]
        },
        {
          "output_type": "stream",
          "name": "stderr",
          "text": [
            "\u001b[32m[I 2022-06-16 15:26:17,931]\u001b[0m Trial 27 finished with value: 0.0507 and parameters: {'n_layers_conv': 1, 'n_layers_dense': 1, 'filters_0': 128, 'kernel_size_0': 3, 'strides_0': 1, 'n_units_0': 97, 'optimizer': 'Adam', 'lr': 0.00021760022249175834}. Best is trial 11 with value: 0.09.\u001b[0m\n"
          ]
        },
        {
          "output_type": "stream",
          "name": "stdout",
          "text": [
            "Files already downloaded and verified\n"
          ]
        },
        {
          "output_type": "stream",
          "name": "stderr",
          "text": [
            "\u001b[32m[I 2022-06-16 15:27:20,333]\u001b[0m Trial 28 finished with value: 0.0266 and parameters: {'n_layers_conv': 2, 'n_layers_dense': 2, 'filters_0': 16, 'kernel_size_0': 3, 'strides_0': 1, 'filters_1': 64, 'kernel_size_1': 3, 'strides_1': 1, 'n_units_0': 90, 'n_units_1': 105, 'optimizer': 'Adam', 'lr': 0.0011177274390081553}. Best is trial 11 with value: 0.09.\u001b[0m\n"
          ]
        },
        {
          "output_type": "stream",
          "name": "stdout",
          "text": [
            "Files already downloaded and verified\n"
          ]
        },
        {
          "output_type": "stream",
          "name": "stderr",
          "text": [
            "\u001b[32m[I 2022-06-16 15:28:21,413]\u001b[0m Trial 29 finished with value: 0.01 and parameters: {'n_layers_conv': 3, 'n_layers_dense': 2, 'filters_0': 32, 'kernel_size_0': 3, 'strides_0': 2, 'filters_1': 128, 'kernel_size_1': 3, 'strides_1': 1, 'filters_2': 32, 'kernel_size_2': 5, 'strides_2': 1, 'n_units_0': 101, 'n_units_1': 105, 'optimizer': 'SGD', 'lr': 0.003766262821884404}. Best is trial 11 with value: 0.09.\u001b[0m\n"
          ]
        },
        {
          "output_type": "stream",
          "name": "stdout",
          "text": [
            "Files already downloaded and verified\n"
          ]
        },
        {
          "output_type": "stream",
          "name": "stderr",
          "text": [
            "\u001b[32m[I 2022-06-16 15:29:18,260]\u001b[0m Trial 30 finished with value: 0.0086 and parameters: {'n_layers_conv': 1, 'n_layers_dense': 1, 'filters_0': 16, 'kernel_size_0': 3, 'strides_0': 1, 'n_units_0': 75, 'optimizer': 'SGD', 'lr': 0.00011907229429719195}. Best is trial 11 with value: 0.09.\u001b[0m\n"
          ]
        },
        {
          "output_type": "stream",
          "name": "stdout",
          "text": [
            "Files already downloaded and verified\n"
          ]
        },
        {
          "output_type": "stream",
          "name": "stderr",
          "text": [
            "\u001b[32m[I 2022-06-16 15:30:41,883]\u001b[0m Trial 31 finished with value: 0.01 and parameters: {'n_layers_conv': 2, 'n_layers_dense': 1, 'filters_0': 128, 'kernel_size_0': 3, 'strides_0': 1, 'filters_1': 128, 'kernel_size_1': 3, 'strides_1': 1, 'n_units_0': 82, 'optimizer': 'Adam', 'lr': 0.00038875407112261973}. Best is trial 11 with value: 0.09.\u001b[0m\n"
          ]
        },
        {
          "output_type": "stream",
          "name": "stdout",
          "text": [
            "Files already downloaded and verified\n"
          ]
        },
        {
          "output_type": "stream",
          "name": "stderr",
          "text": [
            "\u001b[32m[I 2022-06-16 15:32:06,428]\u001b[0m Trial 32 finished with value: 0.01 and parameters: {'n_layers_conv': 2, 'n_layers_dense': 1, 'filters_0': 128, 'kernel_size_0': 3, 'strides_0': 1, 'filters_1': 128, 'kernel_size_1': 3, 'strides_1': 1, 'n_units_0': 95, 'optimizer': 'Adam', 'lr': 0.001000429625032323}. Best is trial 11 with value: 0.09.\u001b[0m\n"
          ]
        },
        {
          "output_type": "stream",
          "name": "stdout",
          "text": [
            "Files already downloaded and verified\n"
          ]
        },
        {
          "output_type": "stream",
          "name": "stderr",
          "text": [
            "\u001b[32m[I 2022-06-16 15:33:33,729]\u001b[0m Trial 33 finished with value: 0.0578 and parameters: {'n_layers_conv': 2, 'n_layers_dense': 1, 'filters_0': 128, 'kernel_size_0': 3, 'strides_0': 1, 'filters_1': 128, 'kernel_size_1': 3, 'strides_1': 1, 'n_units_0': 85, 'optimizer': 'Adam', 'lr': 3.996868286078443e-05}. Best is trial 11 with value: 0.09.\u001b[0m\n"
          ]
        },
        {
          "output_type": "stream",
          "name": "stdout",
          "text": [
            "Files already downloaded and verified\n"
          ]
        },
        {
          "output_type": "stream",
          "name": "stderr",
          "text": [
            "\u001b[32m[I 2022-06-16 15:34:57,111]\u001b[0m Trial 34 finished with value: 0.0501 and parameters: {'n_layers_conv': 2, 'n_layers_dense': 1, 'filters_0': 128, 'kernel_size_0': 3, 'strides_0': 1, 'filters_1': 128, 'kernel_size_1': 3, 'strides_1': 1, 'n_units_0': 75, 'optimizer': 'Adam', 'lr': 0.0003813503155547644}. Best is trial 11 with value: 0.09.\u001b[0m\n"
          ]
        },
        {
          "output_type": "stream",
          "name": "stdout",
          "text": [
            "Files already downloaded and verified\n"
          ]
        },
        {
          "output_type": "stream",
          "name": "stderr",
          "text": [
            "\u001b[32m[I 2022-06-16 15:36:18,273]\u001b[0m Trial 35 finished with value: 0.0687 and parameters: {'n_layers_conv': 2, 'n_layers_dense': 1, 'filters_0': 128, 'kernel_size_0': 5, 'strides_0': 1, 'filters_1': 128, 'kernel_size_1': 3, 'strides_1': 1, 'n_units_0': 83, 'optimizer': 'RMSprop', 'lr': 8.715663644377525e-05}. Best is trial 11 with value: 0.09.\u001b[0m\n"
          ]
        },
        {
          "output_type": "stream",
          "name": "stdout",
          "text": [
            "Files already downloaded and verified\n"
          ]
        },
        {
          "output_type": "stream",
          "name": "stderr",
          "text": [
            "\u001b[32m[I 2022-06-16 15:38:07,560]\u001b[0m Trial 36 finished with value: 0.01 and parameters: {'n_layers_conv': 3, 'n_layers_dense': 1, 'filters_0': 32, 'kernel_size_0': 3, 'strides_0': 1, 'filters_1': 128, 'kernel_size_1': 3, 'strides_1': 1, 'filters_2': 128, 'kernel_size_2': 5, 'strides_2': 1, 'n_units_0': 89, 'optimizer': 'Adam', 'lr': 0.00022624896385338452}. Best is trial 11 with value: 0.09.\u001b[0m\n"
          ]
        },
        {
          "output_type": "stream",
          "name": "stdout",
          "text": [
            "Files already downloaded and verified\n"
          ]
        },
        {
          "output_type": "stream",
          "name": "stderr",
          "text": [
            "\u001b[32m[I 2022-06-16 15:39:12,015]\u001b[0m Trial 37 finished with value: 0.0337 and parameters: {'n_layers_conv': 2, 'n_layers_dense': 1, 'filters_0': 64, 'kernel_size_0': 5, 'strides_0': 1, 'filters_1': 128, 'kernel_size_1': 3, 'strides_1': 2, 'n_units_0': 78, 'optimizer': 'RMSprop', 'lr': 0.000676115711461826}. Best is trial 11 with value: 0.09.\u001b[0m\n"
          ]
        },
        {
          "output_type": "stream",
          "name": "stdout",
          "text": [
            "Files already downloaded and verified\n"
          ]
        },
        {
          "output_type": "stream",
          "name": "stderr",
          "text": [
            "\u001b[32m[I 2022-06-16 15:40:16,752]\u001b[0m Trial 38 finished with value: 0.01 and parameters: {'n_layers_conv': 4, 'n_layers_dense': 2, 'filters_0': 128, 'kernel_size_0': 3, 'strides_0': 2, 'filters_1': 32, 'kernel_size_1': 3, 'strides_1': 1, 'filters_2': 64, 'kernel_size_2': 3, 'strides_2': 2, 'filters_3': 16, 'kernel_size_3': 5, 'strides_3': 1, 'n_units_0': 93, 'n_units_1': 92, 'optimizer': 'SGD', 'lr': 2.846339206983588e-05}. Best is trial 11 with value: 0.09.\u001b[0m\n"
          ]
        },
        {
          "output_type": "stream",
          "name": "stdout",
          "text": [
            "Files already downloaded and verified\n"
          ]
        },
        {
          "output_type": "stream",
          "name": "stderr",
          "text": [
            "\u001b[32m[I 2022-06-16 15:41:17,507]\u001b[0m Trial 39 finished with value: 0.0712 and parameters: {'n_layers_conv': 1, 'n_layers_dense': 1, 'filters_0': 16, 'kernel_size_0': 5, 'strides_0': 1, 'n_units_0': 98, 'optimizer': 'Adam', 'lr': 5.5403911468009356e-05}. Best is trial 11 with value: 0.09.\u001b[0m\n"
          ]
        },
        {
          "output_type": "stream",
          "name": "stdout",
          "text": [
            "Files already downloaded and verified\n"
          ]
        },
        {
          "output_type": "stream",
          "name": "stderr",
          "text": [
            "\u001b[32m[I 2022-06-16 15:42:18,814]\u001b[0m Trial 40 finished with value: 0.0851 and parameters: {'n_layers_conv': 2, 'n_layers_dense': 1, 'filters_0': 64, 'kernel_size_0': 3, 'strides_0': 1, 'filters_1': 16, 'kernel_size_1': 5, 'strides_1': 1, 'n_units_0': 81, 'optimizer': 'RMSprop', 'lr': 0.00012649015103767796}. Best is trial 11 with value: 0.09.\u001b[0m\n"
          ]
        },
        {
          "output_type": "stream",
          "name": "stdout",
          "text": [
            "Files already downloaded and verified\n"
          ]
        },
        {
          "output_type": "stream",
          "name": "stderr",
          "text": [
            "\u001b[32m[I 2022-06-16 15:43:20,795]\u001b[0m Trial 41 finished with value: 0.0462 and parameters: {'n_layers_conv': 2, 'n_layers_dense': 1, 'filters_0': 64, 'kernel_size_0': 3, 'strides_0': 1, 'filters_1': 16, 'kernel_size_1': 5, 'strides_1': 1, 'n_units_0': 70, 'optimizer': 'RMSprop', 'lr': 0.00010700553416143195}. Best is trial 11 with value: 0.09.\u001b[0m\n"
          ]
        },
        {
          "output_type": "stream",
          "name": "stdout",
          "text": [
            "Files already downloaded and verified\n"
          ]
        },
        {
          "output_type": "stream",
          "name": "stderr",
          "text": [
            "\u001b[32m[I 2022-06-16 15:44:22,748]\u001b[0m Trial 42 finished with value: 0.087 and parameters: {'n_layers_conv': 2, 'n_layers_dense': 1, 'filters_0': 64, 'kernel_size_0': 3, 'strides_0': 1, 'filters_1': 16, 'kernel_size_1': 5, 'strides_1': 1, 'n_units_0': 81, 'optimizer': 'RMSprop', 'lr': 0.00015359330595444054}. Best is trial 11 with value: 0.09.\u001b[0m\n"
          ]
        },
        {
          "output_type": "stream",
          "name": "stdout",
          "text": [
            "Files already downloaded and verified\n"
          ]
        },
        {
          "output_type": "stream",
          "name": "stderr",
          "text": [
            "\u001b[32m[I 2022-06-16 15:45:23,828]\u001b[0m Trial 43 finished with value: 0.0768 and parameters: {'n_layers_conv': 2, 'n_layers_dense': 1, 'filters_0': 64, 'kernel_size_0': 3, 'strides_0': 1, 'filters_1': 16, 'kernel_size_1': 5, 'strides_1': 1, 'n_units_0': 81, 'optimizer': 'RMSprop', 'lr': 0.00017426253138000242}. Best is trial 11 with value: 0.09.\u001b[0m\n"
          ]
        },
        {
          "output_type": "stream",
          "name": "stdout",
          "text": [
            "Files already downloaded and verified\n"
          ]
        },
        {
          "output_type": "stream",
          "name": "stderr",
          "text": [
            "\u001b[32m[I 2022-06-16 15:46:24,644]\u001b[0m Trial 44 finished with value: 0.0476 and parameters: {'n_layers_conv': 2, 'n_layers_dense': 1, 'filters_0': 64, 'kernel_size_0': 3, 'strides_0': 1, 'filters_1': 16, 'kernel_size_1': 5, 'strides_1': 2, 'n_units_0': 73, 'optimizer': 'RMSprop', 'lr': 0.00015819012056098774}. Best is trial 11 with value: 0.09.\u001b[0m\n"
          ]
        },
        {
          "output_type": "stream",
          "name": "stdout",
          "text": [
            "Files already downloaded and verified\n"
          ]
        },
        {
          "output_type": "stream",
          "name": "stderr",
          "text": [
            "\u001b[32m[I 2022-06-16 15:47:28,269]\u001b[0m Trial 45 finished with value: 0.0572 and parameters: {'n_layers_conv': 3, 'n_layers_dense': 1, 'filters_0': 64, 'kernel_size_0': 5, 'strides_0': 1, 'filters_1': 16, 'kernel_size_1': 5, 'strides_1': 1, 'filters_2': 128, 'kernel_size_2': 3, 'strides_2': 1, 'n_units_0': 80, 'optimizer': 'RMSprop', 'lr': 7.557093890657903e-05}. Best is trial 11 with value: 0.09.\u001b[0m\n"
          ]
        },
        {
          "output_type": "stream",
          "name": "stdout",
          "text": [
            "Files already downloaded and verified\n"
          ]
        },
        {
          "output_type": "stream",
          "name": "stderr",
          "text": [
            "\u001b[32m[I 2022-06-16 15:48:28,376]\u001b[0m Trial 46 finished with value: 0.0456 and parameters: {'n_layers_conv': 2, 'n_layers_dense': 1, 'filters_0': 64, 'kernel_size_0': 3, 'strides_0': 2, 'filters_1': 16, 'kernel_size_1': 5, 'strides_1': 2, 'n_units_0': 121, 'optimizer': 'RMSprop', 'lr': 2.261299462189664e-05}. Best is trial 11 with value: 0.09.\u001b[0m\n"
          ]
        },
        {
          "output_type": "stream",
          "name": "stdout",
          "text": [
            "Files already downloaded and verified\n"
          ]
        },
        {
          "output_type": "stream",
          "name": "stderr",
          "text": [
            "\u001b[32m[I 2022-06-16 15:49:28,210]\u001b[0m Trial 47 finished with value: 0.0508 and parameters: {'n_layers_conv': 1, 'n_layers_dense': 2, 'filters_0': 64, 'kernel_size_0': 3, 'strides_0': 1, 'n_units_0': 67, 'n_units_1': 127, 'optimizer': 'RMSprop', 'lr': 0.00012976771176338977}. Best is trial 11 with value: 0.09.\u001b[0m\n"
          ]
        },
        {
          "output_type": "stream",
          "name": "stdout",
          "text": [
            "Files already downloaded and verified\n"
          ]
        },
        {
          "output_type": "stream",
          "name": "stderr",
          "text": [
            "\u001b[32m[I 2022-06-16 15:50:30,798]\u001b[0m Trial 48 finished with value: 0.0518 and parameters: {'n_layers_conv': 2, 'n_layers_dense': 3, 'filters_0': 64, 'kernel_size_0': 3, 'strides_0': 1, 'filters_1': 16, 'kernel_size_1': 5, 'strides_1': 1, 'n_units_0': 76, 'n_units_1': 72, 'n_units_2': 105, 'optimizer': 'RMSprop', 'lr': 4.580696534319013e-05}. Best is trial 11 with value: 0.09.\u001b[0m\n"
          ]
        },
        {
          "output_type": "stream",
          "name": "stdout",
          "text": [
            "Files already downloaded and verified\n"
          ]
        },
        {
          "output_type": "stream",
          "name": "stderr",
          "text": [
            "\u001b[32m[I 2022-06-16 15:51:32,064]\u001b[0m Trial 49 finished with value: 0.0657 and parameters: {'n_layers_conv': 2, 'n_layers_dense': 1, 'filters_0': 64, 'kernel_size_0': 3, 'strides_0': 1, 'filters_1': 16, 'kernel_size_1': 5, 'strides_1': 2, 'n_units_0': 82, 'optimizer': 'RMSprop', 'lr': 0.00022080200833809658}. Best is trial 11 with value: 0.09.\u001b[0m\n"
          ]
        },
        {
          "output_type": "stream",
          "name": "stdout",
          "text": [
            "Files already downloaded and verified\n"
          ]
        },
        {
          "output_type": "stream",
          "name": "stderr",
          "text": [
            "\u001b[32m[I 2022-06-16 15:52:33,519]\u001b[0m Trial 50 finished with value: 0.0437 and parameters: {'n_layers_conv': 2, 'n_layers_dense': 1, 'filters_0': 64, 'kernel_size_0': 5, 'strides_0': 1, 'filters_1': 16, 'kernel_size_1': 5, 'strides_1': 1, 'n_units_0': 93, 'optimizer': 'RMSprop', 'lr': 1.317440601562591e-05}. Best is trial 11 with value: 0.09.\u001b[0m\n"
          ]
        },
        {
          "output_type": "stream",
          "name": "stdout",
          "text": [
            "Files already downloaded and verified\n"
          ]
        },
        {
          "output_type": "stream",
          "name": "stderr",
          "text": [
            "\u001b[32m[I 2022-06-16 15:53:35,260]\u001b[0m Trial 51 finished with value: 0.0715 and parameters: {'n_layers_conv': 2, 'n_layers_dense': 1, 'filters_0': 64, 'kernel_size_0': 3, 'strides_0': 1, 'filters_1': 16, 'kernel_size_1': 5, 'strides_1': 1, 'n_units_0': 86, 'optimizer': 'RMSprop', 'lr': 0.0003292557416307871}. Best is trial 11 with value: 0.09.\u001b[0m\n"
          ]
        },
        {
          "output_type": "stream",
          "name": "stdout",
          "text": [
            "Files already downloaded and verified\n"
          ]
        },
        {
          "output_type": "stream",
          "name": "stderr",
          "text": [
            "\u001b[32m[I 2022-06-16 15:54:36,502]\u001b[0m Trial 52 finished with value: 0.01 and parameters: {'n_layers_conv': 2, 'n_layers_dense': 1, 'filters_0': 64, 'kernel_size_0': 3, 'strides_0': 1, 'filters_1': 16, 'kernel_size_1': 5, 'strides_1': 1, 'n_units_0': 88, 'optimizer': 'RMSprop', 'lr': 0.09336995501676433}. Best is trial 11 with value: 0.09.\u001b[0m\n"
          ]
        },
        {
          "output_type": "stream",
          "name": "stdout",
          "text": [
            "Files already downloaded and verified\n"
          ]
        },
        {
          "output_type": "stream",
          "name": "stderr",
          "text": [
            "\u001b[32m[I 2022-06-16 15:55:38,272]\u001b[0m Trial 53 finished with value: 0.0698 and parameters: {'n_layers_conv': 2, 'n_layers_dense': 1, 'filters_0': 64, 'kernel_size_0': 3, 'strides_0': 1, 'filters_1': 64, 'kernel_size_1': 5, 'strides_1': 1, 'n_units_0': 80, 'optimizer': 'RMSprop', 'lr': 8.016216899867066e-05}. Best is trial 11 with value: 0.09.\u001b[0m\n"
          ]
        },
        {
          "output_type": "stream",
          "name": "stdout",
          "text": [
            "Files already downloaded and verified\n"
          ]
        }
      ]
    }
  ]
}